{
 "cells": [
  {
   "cell_type": "markdown",
   "metadata": {},
   "source": [
    "Udacity Student Data Analysis\n",
    "=========================\n",
    "## Preparing data for Analysis  \n",
    "### Load Data from CSVs"
   ]
  },
  {
   "cell_type": "code",
   "execution_count": 1,
   "metadata": {},
   "outputs": [],
   "source": [
    "import unicodecsv"
   ]
  },
  {
   "cell_type": "code",
   "execution_count": 2,
   "metadata": {},
   "outputs": [],
   "source": [
    "def csv_to_list(filename: str) -> list:\n",
    "    # takes a string filename to a csv and returns its data as a list\n",
    "    with open(filename,'rb') as f_in:\n",
    "        reader = unicodecsv.DictReader(f_in)\n",
    "        return list(reader)"
   ]
  },
  {
   "cell_type": "code",
   "execution_count": 3,
   "metadata": {},
   "outputs": [],
   "source": [
    "engagement_filename = 'data/daily_engagement.csv'\n",
    "enrollments_filename = 'data/enrollments.csv'\n",
    "submissions_filename = 'data/project_submissions.csv'\n",
    "\n",
    "engagements = csv_to_list(engagement_filename)\n",
    "enrollments = csv_to_list(enrollments_filename)\n",
    "submissions = csv_to_list(submissions_filename)"
   ]
  },
  {
   "cell_type": "code",
   "execution_count": 4,
   "metadata": {
    "scrolled": true
   },
   "outputs": [
    {
     "name": "stdout",
     "output_type": "stream",
     "text": [
      "Engagements : OrderedDict([('acct', '0'), ('utc_date', '2015-01-09'), ('num_courses_visited', '1.0'), ('total_minutes_visited', '11.6793745'), ('lessons_completed', '0.0'), ('projects_completed', '0.0')])\n",
      "\n",
      "Enrollments : OrderedDict([('account_key', '448'), ('status', 'canceled'), ('join_date', '2014-11-10'), ('cancel_date', '2015-01-14'), ('days_to_cancel', '65'), ('is_udacity', 'True'), ('is_canceled', 'True')])\n",
      "\n",
      "Submissions : OrderedDict([('creation_date', '2015-01-14'), ('completion_date', '2015-01-16'), ('assigned_rating', 'UNGRADED'), ('account_key', '256'), ('lesson_key', '3176718735'), ('processing_state', 'EVALUATED')])\n"
     ]
    }
   ],
   "source": [
    "def print_lists(ele=0):\n",
    "    print(\"Engagements :\",engagements[ele])\n",
    "    print()\n",
    "    print(\"Enrollments :\",enrollments[ele])\n",
    "    print()\n",
    "    print(\"Submissions :\",submissions[ele])\n",
    "print_lists()"
   ]
  },
  {
   "cell_type": "markdown",
   "metadata": {},
   "source": [
    "### Convert Ordered dict to dict"
   ]
  },
  {
   "cell_type": "code",
   "execution_count": 5,
   "metadata": {},
   "outputs": [],
   "source": [
    "def convert_to_dict():\n",
    "    for ele in range(len(engagements)):\n",
    "        engagements[ele] = dict(engagements[ele])\n",
    "    for ele in range(len(enrollments)):\n",
    "        enrollments[ele] = dict(enrollments[ele])\n",
    "    for ele in range(len(submissions)):\n",
    "        submissions[ele] = dict(submissions[ele])\n",
    "convert_to_dict()"
   ]
  },
  {
   "cell_type": "code",
   "execution_count": 6,
   "metadata": {},
   "outputs": [
    {
     "name": "stdout",
     "output_type": "stream",
     "text": [
      "Engagements : {'acct': '0', 'utc_date': '2015-01-09', 'num_courses_visited': '1.0', 'total_minutes_visited': '11.6793745', 'lessons_completed': '0.0', 'projects_completed': '0.0'}\n",
      "\n",
      "Enrollments : {'account_key': '448', 'status': 'canceled', 'join_date': '2014-11-10', 'cancel_date': '2015-01-14', 'days_to_cancel': '65', 'is_udacity': 'True', 'is_canceled': 'True'}\n",
      "\n",
      "Submissions : {'creation_date': '2015-01-14', 'completion_date': '2015-01-16', 'assigned_rating': 'UNGRADED', 'account_key': '256', 'lesson_key': '3176718735', 'processing_state': 'EVALUATED'}\n"
     ]
    }
   ],
   "source": [
    "print_lists()"
   ]
  },
  {
   "cell_type": "markdown",
   "metadata": {},
   "source": [
    "### Fix Datatypes"
   ]
  },
  {
   "cell_type": "code",
   "execution_count": 7,
   "metadata": {},
   "outputs": [],
   "source": [
    "from datetime import datetime as dt"
   ]
  },
  {
   "cell_type": "code",
   "execution_count": 8,
   "metadata": {},
   "outputs": [
    {
     "name": "stdout",
     "output_type": "stream",
     "text": [
      "Parsed\n"
     ]
    }
   ],
   "source": [
    "if(type(enrollments[0]['status']) == str):\n",
    "    for enrollment in enrollments:\n",
    "        enrollment['status'] = enrollment['status']=='current'\n",
    "        enrollment['join_date'] = None if enrollment['join_date']=='' else dt.strptime(enrollment['join_date'], '%Y-%m-%d')\n",
    "        enrollment['cancel_date'] = None if enrollment['cancel_date']=='' else dt.strptime(enrollment['cancel_date'], '%Y-%m-%d')\n",
    "        enrollment['days_to_cancel'] = None if enrollment['days_to_cancel']=='' else int(enrollment['days_to_cancel'])\n",
    "        enrollment['is_udacity'] = enrollment['is_udacity']=='True'\n",
    "        enrollment['is_canceled'] = enrollment['is_canceled']=='True'\n",
    "    print(\"Parsed\")\n",
    "else: print(\"Already Parsed\")"
   ]
  },
  {
   "cell_type": "code",
   "execution_count": 9,
   "metadata": {},
   "outputs": [
    {
     "name": "stdout",
     "output_type": "stream",
     "text": [
      "Parsed\n"
     ]
    }
   ],
   "source": [
    "if(type(engagements[0]['utc_date']) == str):\n",
    "    for engagement in engagements:\n",
    "        engagement['utc_date'] = None if engagement['utc_date']=='' else dt.strptime(engagement['utc_date'], '%Y-%m-%d')\n",
    "        engagement['num_courses_visited'] = int(float(engagement['num_courses_visited']))\n",
    "        engagement['total_minutes_visited'] = float(engagement['total_minutes_visited'])\n",
    "        engagement['lessons_completed'] = int(float(engagement['lessons_completed']))\n",
    "        engagement['projects_completed'] = int(float(engagement['projects_completed']))\n",
    "    print(\"Parsed\")\n",
    "else: print(\"Already Parsed\")"
   ]
  },
  {
   "cell_type": "code",
   "execution_count": 10,
   "metadata": {},
   "outputs": [
    {
     "name": "stdout",
     "output_type": "stream",
     "text": [
      "Parsed\n"
     ]
    }
   ],
   "source": [
    "if(type(submissions[0]['creation_date']) == str):\n",
    "    for submission in submissions:\n",
    "        submission['creation_date'] = None if submission['creation_date']=='' else dt.strptime(submission['creation_date'], '%Y-%m-%d')\n",
    "        submission['completion_date'] = None if submission['completion_date']=='' else dt.strptime(submission['completion_date'], '%Y-%m-%d') \n",
    "    print(\"Parsed\")\n",
    "else: print(\"Already Parsed\")"
   ]
  },
  {
   "cell_type": "code",
   "execution_count": 11,
   "metadata": {
    "scrolled": true
   },
   "outputs": [
    {
     "name": "stdout",
     "output_type": "stream",
     "text": [
      "Engagements : {'acct': '0', 'utc_date': datetime.datetime(2015, 1, 9, 0, 0), 'num_courses_visited': 1, 'total_minutes_visited': 11.6793745, 'lessons_completed': 0, 'projects_completed': 0}\n",
      "\n",
      "Enrollments : {'account_key': '448', 'status': False, 'join_date': datetime.datetime(2014, 11, 10, 0, 0), 'cancel_date': datetime.datetime(2015, 1, 14, 0, 0), 'days_to_cancel': 65, 'is_udacity': True, 'is_canceled': True}\n",
      "\n",
      "Submissions : {'creation_date': datetime.datetime(2015, 1, 14, 0, 0), 'completion_date': datetime.datetime(2015, 1, 16, 0, 0), 'assigned_rating': 'UNGRADED', 'account_key': '256', 'lesson_key': '3176718735', 'processing_state': 'EVALUATED'}\n"
     ]
    }
   ],
   "source": [
    "print_lists(0)"
   ]
  },
  {
   "cell_type": "markdown",
   "metadata": {},
   "source": [
    "## Investigating the  data\n",
    "* Find the total number of rows and the number of unique students (account keys) in each table."
   ]
  },
  {
   "cell_type": "code",
   "execution_count": 12,
   "metadata": {},
   "outputs": [
    {
     "name": "stdout",
     "output_type": "stream",
     "text": [
      "Engagements : 136240\n",
      "Enrollments : 1640\n",
      "Submissions : 3642\n"
     ]
    }
   ],
   "source": [
    "# No of rows\n",
    "print(\"Engagements :\",len(engagements))\n",
    "print(\"Enrollments :\",len(enrollments))\n",
    "print(\"Submissions :\",len(submissions))"
   ]
  },
  {
   "cell_type": "markdown",
   "metadata": {
    "scrolled": true
   },
   "source": [
    "### Problems in the data\n",
    "#### Rename the \"acct\" column in the `daily_engagement` table to \"account_key\"."
   ]
  },
  {
   "cell_type": "code",
   "execution_count": 14,
   "metadata": {},
   "outputs": [],
   "source": [
    "# Rename the \"acct\" column in the daily_engagement table to \"account_key\".\n",
    "if(engagements[0].get('acct')):\n",
    "    for engagement in engagements:\n",
    "        engagement['account_key'] = engagement['acct']\n",
    "        engagement.pop('acct')"
   ]
  },
  {
   "cell_type": "markdown",
   "metadata": {},
   "source": [
    "#### get_unique_students `Function`\n",
    "Takes in data (a list of dicts) and returns a set of unique student's account numbers"
   ]
  },
  {
   "cell_type": "code",
   "execution_count": 15,
   "metadata": {},
   "outputs": [],
   "source": [
    "def get_unique_students(data):\n",
    "    unique_students_set = set()\n",
    "    for ele in data:\n",
    "        unique_students_set.add(ele['account_key'])\n",
    "    return unique_students_set"
   ]
  },
  {
   "cell_type": "markdown",
   "metadata": {},
   "source": [
    "#### get_student_records `Function`\n",
    "Takes in data(a list of dicts), account_key(string) and returns a list of records of that student"
   ]
  },
  {
   "cell_type": "code",
   "execution_count": 16,
   "metadata": {},
   "outputs": [],
   "source": [
    "def get_student_records(data, key, popitms = None, key_type='account_key'):\n",
    "    # assume popitms is a list of strings\n",
    "    student_records = list()\n",
    "    for ele in data:\n",
    "        if ele[key_type]==key:\n",
    "            if not popitms:\n",
    "                student_records.append(ele)\n",
    "            else:\n",
    "                poped_ele = dict()\n",
    "                poped_ele.update(ele)\n",
    "                poped_ele.pop(popitms)\n",
    "                student_records.append(poped_ele)\n",
    "    return student_records"
   ]
  },
  {
   "cell_type": "markdown",
   "metadata": {},
   "source": [
    "#### Find students who are reported in enrollment but not in engagement\n",
    "#### run_unique_test `Function`\n",
    "Takes in two lists. First List is enrollments. Second is Engagements.\n",
    "Each list is a list of dicts."
   ]
  },
  {
   "cell_type": "code",
   "execution_count": 17,
   "metadata": {},
   "outputs": [
    {
     "name": "stdout",
     "output_type": "stream",
     "text": [
      "students who are reported in enrollment but not in engagement\n",
      "{'889', '728', '914', '1125', '902', '819', '997', '799', '926', '1222', '733', '707', '725', '1148', '1129', '817', '1237', '964', '1069', '1044', '1186', '750', '968', '766', '1273', '1120', '1145', '1238', '996', '789', '1025', '1155', '737', '1304', '871', '802', '870', '1241', '841', '1219', '981', '1284', '1291', '739', '1218', '803', '1010', '717', '749', '1190', '1086', '1079', '1270', '884', '1063', '878', '1213', '1191', '711', '727', '664', '654', '1171', '1101', '875'} \n",
      "\n",
      "No of Enrollment records: 1640, No of Engagement records: 136240\n",
      "No of Unique Students in Enrollment records: 1302\n",
      "No of Unique Students in Engagement records: 1237\n",
      "No of non engaging students: 65\n",
      "\n",
      "Check to see if there are any engaging students that are not reported in Enrollment records:\n",
      "None\n"
     ]
    }
   ],
   "source": [
    "def run_unique_test(enrollments,engagements):\n",
    "    enrollment_students = get_unique_students(enrollments)\n",
    "    engagement_students = get_unique_students(engagements)\n",
    "\n",
    "    non_engaging_students = enrollment_students-engagement_students\n",
    "\n",
    "    print(\"students who are reported in enrollment but not in engagement\")\n",
    "    print(non_engaging_students, \"\\n\")\n",
    "    print(\"No of Enrollment records: {}, No of Engagement records: {}\".format(len(enrollments), len(engagements) ) )\n",
    "    print(\"No of Unique Students in Enrollment records: {}\\nNo of Unique Students in Engagement records: {}\".format(len(enrollment_students), len(engagement_students) ) )\n",
    "    print(\"No of non engaging students:\", len(non_engaging_students) )\n",
    "    print(\"\\nCheck to see if there are any engaging students that are not reported in Enrollment records:\")\n",
    "    if not len(engagement_students-enrollment_students):\n",
    "        print(\"None\")\n",
    "    else:\n",
    "        print(\"There are any engaging students that are not reported in Enrollment records\" )\n",
    "    return non_engaging_students\n",
    "non_engaging_students=run_unique_test(enrollments,engagements)"
   ]
  },
  {
   "cell_type": "markdown",
   "metadata": {},
   "source": [
    "#### Observe the data of these students in enrollment data\n",
    "\n",
    "**`Observations :`**\n",
    "* Udacity test accounts were found to be part of problem. Need to remove those accounts from analysis."
   ]
  },
  {
   "cell_type": "code",
   "execution_count": 18,
   "metadata": {},
   "outputs": [
    {
     "name": "stdout",
     "output_type": "stream",
     "text": [
      "{'account_key': '889', 'status': False, 'join_date': datetime.datetime(2015, 8, 11, 0, 0), 'cancel_date': datetime.datetime(2015, 8, 11, 0, 0), 'days_to_cancel': 0, 'is_udacity': False, 'is_canceled': True}\n",
      "{'account_key': '728', 'status': False, 'join_date': datetime.datetime(2014, 12, 5, 0, 0), 'cancel_date': datetime.datetime(2014, 12, 5, 0, 0), 'days_to_cancel': 0, 'is_udacity': False, 'is_canceled': True}\n",
      "{'account_key': '914', 'status': False, 'join_date': datetime.datetime(2015, 4, 2, 0, 0), 'cancel_date': datetime.datetime(2015, 4, 2, 0, 0), 'days_to_cancel': 0, 'is_udacity': False, 'is_canceled': True}\n",
      "{'account_key': '914', 'status': False, 'join_date': datetime.datetime(2015, 7, 17, 0, 0), 'cancel_date': datetime.datetime(2015, 7, 17, 0, 0), 'days_to_cancel': 0, 'is_udacity': False, 'is_canceled': True}\n",
      "{'account_key': '1125', 'status': False, 'join_date': datetime.datetime(2015, 5, 31, 0, 0), 'cancel_date': datetime.datetime(2015, 5, 31, 0, 0), 'days_to_cancel': 0, 'is_udacity': False, 'is_canceled': True}\n",
      "{'account_key': '902', 'status': False, 'join_date': datetime.datetime(2015, 5, 29, 0, 0), 'cancel_date': datetime.datetime(2015, 5, 29, 0, 0), 'days_to_cancel': 0, 'is_udacity': False, 'is_canceled': True}\n",
      "{'account_key': '819', 'status': False, 'join_date': datetime.datetime(2015, 3, 4, 0, 0), 'cancel_date': datetime.datetime(2015, 3, 4, 0, 0), 'days_to_cancel': 0, 'is_udacity': False, 'is_canceled': True}\n",
      "{'account_key': '819', 'status': False, 'join_date': datetime.datetime(2015, 3, 4, 0, 0), 'cancel_date': datetime.datetime(2015, 3, 4, 0, 0), 'days_to_cancel': 0, 'is_udacity': False, 'is_canceled': True}\n",
      "{'account_key': '997', 'status': False, 'join_date': datetime.datetime(2015, 1, 12, 0, 0), 'cancel_date': datetime.datetime(2015, 1, 12, 0, 0), 'days_to_cancel': 0, 'is_udacity': False, 'is_canceled': True}\n",
      "{'account_key': '799', 'status': False, 'join_date': datetime.datetime(2015, 2, 6, 0, 0), 'cancel_date': datetime.datetime(2015, 2, 6, 0, 0), 'days_to_cancel': 0, 'is_udacity': False, 'is_canceled': True}\n",
      "{'account_key': '926', 'status': False, 'join_date': datetime.datetime(2015, 4, 6, 0, 0), 'cancel_date': datetime.datetime(2015, 4, 6, 0, 0), 'days_to_cancel': 0, 'is_udacity': False, 'is_canceled': True}\n",
      "{'account_key': '1222', 'status': False, 'join_date': datetime.datetime(2015, 4, 7, 0, 0), 'cancel_date': datetime.datetime(2015, 4, 7, 0, 0), 'days_to_cancel': 0, 'is_udacity': False, 'is_canceled': True}\n",
      "{'account_key': '733', 'status': False, 'join_date': datetime.datetime(2015, 1, 12, 0, 0), 'cancel_date': datetime.datetime(2015, 1, 12, 0, 0), 'days_to_cancel': 0, 'is_udacity': False, 'is_canceled': True}\n",
      "{'account_key': '707', 'status': False, 'join_date': datetime.datetime(2014, 12, 3, 0, 0), 'cancel_date': datetime.datetime(2014, 12, 3, 0, 0), 'days_to_cancel': 0, 'is_udacity': False, 'is_canceled': True}\n",
      "{'account_key': '725', 'status': False, 'join_date': datetime.datetime(2014, 12, 6, 0, 0), 'cancel_date': datetime.datetime(2014, 12, 6, 0, 0), 'days_to_cancel': 0, 'is_udacity': False, 'is_canceled': True}\n",
      "{'account_key': '1148', 'status': False, 'join_date': datetime.datetime(2015, 3, 9, 0, 0), 'cancel_date': datetime.datetime(2015, 3, 9, 0, 0), 'days_to_cancel': 0, 'is_udacity': False, 'is_canceled': True}\n",
      "{'account_key': '1129', 'status': False, 'join_date': datetime.datetime(2015, 3, 7, 0, 0), 'cancel_date': datetime.datetime(2015, 3, 7, 0, 0), 'days_to_cancel': 0, 'is_udacity': False, 'is_canceled': True}\n",
      "{'account_key': '1129', 'status': False, 'join_date': datetime.datetime(2015, 2, 11, 0, 0), 'cancel_date': datetime.datetime(2015, 2, 11, 0, 0), 'days_to_cancel': 0, 'is_udacity': False, 'is_canceled': True}\n",
      "{'account_key': '817', 'status': False, 'join_date': datetime.datetime(2014, 12, 9, 0, 0), 'cancel_date': datetime.datetime(2014, 12, 9, 0, 0), 'days_to_cancel': 0, 'is_udacity': False, 'is_canceled': True}\n",
      "{'account_key': '1237', 'status': False, 'join_date': datetime.datetime(2015, 5, 28, 0, 0), 'cancel_date': datetime.datetime(2015, 5, 28, 0, 0), 'days_to_cancel': 0, 'is_udacity': False, 'is_canceled': True}\n",
      "{'account_key': '964', 'status': False, 'join_date': datetime.datetime(2014, 12, 4, 0, 0), 'cancel_date': datetime.datetime(2014, 12, 4, 0, 0), 'days_to_cancel': 0, 'is_udacity': False, 'is_canceled': True}\n",
      "{'account_key': '1069', 'status': False, 'join_date': datetime.datetime(2015, 6, 1, 0, 0), 'cancel_date': datetime.datetime(2015, 6, 1, 0, 0), 'days_to_cancel': 0, 'is_udacity': True, 'is_canceled': True}\n",
      "{'account_key': '1044', 'status': False, 'join_date': datetime.datetime(2015, 2, 8, 0, 0), 'cancel_date': datetime.datetime(2015, 2, 8, 0, 0), 'days_to_cancel': 0, 'is_udacity': False, 'is_canceled': True}\n",
      "{'account_key': '1186', 'status': False, 'join_date': datetime.datetime(2015, 3, 11, 0, 0), 'cancel_date': datetime.datetime(2015, 3, 11, 0, 0), 'days_to_cancel': 0, 'is_udacity': False, 'is_canceled': True}\n",
      "{'account_key': '750', 'status': False, 'join_date': datetime.datetime(2015, 6, 6, 0, 0), 'cancel_date': datetime.datetime(2015, 6, 6, 0, 0), 'days_to_cancel': 0, 'is_udacity': False, 'is_canceled': True}\n",
      "{'account_key': '968', 'status': False, 'join_date': datetime.datetime(2015, 7, 17, 0, 0), 'cancel_date': datetime.datetime(2015, 7, 17, 0, 0), 'days_to_cancel': 0, 'is_udacity': False, 'is_canceled': True}\n",
      "{'account_key': '766', 'status': False, 'join_date': datetime.datetime(2015, 5, 10, 0, 0), 'cancel_date': datetime.datetime(2015, 5, 10, 0, 0), 'days_to_cancel': 0, 'is_udacity': False, 'is_canceled': True}\n",
      "{'account_key': '1273', 'status': False, 'join_date': datetime.datetime(2015, 1, 12, 0, 0), 'cancel_date': datetime.datetime(2015, 1, 12, 0, 0), 'days_to_cancel': 0, 'is_udacity': False, 'is_canceled': True}\n",
      "{'account_key': '1120', 'status': False, 'join_date': datetime.datetime(2014, 12, 4, 0, 0), 'cancel_date': datetime.datetime(2014, 12, 4, 0, 0), 'days_to_cancel': 0, 'is_udacity': False, 'is_canceled': True}\n",
      "{'account_key': '1145', 'status': False, 'join_date': datetime.datetime(2015, 4, 4, 0, 0), 'cancel_date': datetime.datetime(2015, 4, 4, 0, 0), 'days_to_cancel': 0, 'is_udacity': False, 'is_canceled': True}\n",
      "{'account_key': '1238', 'status': False, 'join_date': datetime.datetime(2014, 11, 10, 0, 0), 'cancel_date': datetime.datetime(2014, 11, 10, 0, 0), 'days_to_cancel': 0, 'is_udacity': False, 'is_canceled': True}\n",
      "{'account_key': '996', 'status': False, 'join_date': datetime.datetime(2015, 5, 29, 0, 0), 'cancel_date': datetime.datetime(2015, 5, 29, 0, 0), 'days_to_cancel': 0, 'is_udacity': False, 'is_canceled': True}\n",
      "{'account_key': '789', 'status': False, 'join_date': datetime.datetime(2015, 2, 6, 0, 0), 'cancel_date': datetime.datetime(2015, 2, 6, 0, 0), 'days_to_cancel': 0, 'is_udacity': False, 'is_canceled': True}\n",
      "{'account_key': '1025', 'status': False, 'join_date': datetime.datetime(2015, 6, 7, 0, 0), 'cancel_date': datetime.datetime(2015, 6, 7, 0, 0), 'days_to_cancel': 0, 'is_udacity': False, 'is_canceled': True}\n",
      "{'account_key': '1155', 'status': False, 'join_date': datetime.datetime(2015, 7, 17, 0, 0), 'cancel_date': datetime.datetime(2015, 7, 17, 0, 0), 'days_to_cancel': 0, 'is_udacity': False, 'is_canceled': True}\n",
      "{'account_key': '737', 'status': False, 'join_date': datetime.datetime(2014, 11, 10, 0, 0), 'cancel_date': datetime.datetime(2014, 11, 10, 0, 0), 'days_to_cancel': 0, 'is_udacity': False, 'is_canceled': True}\n",
      "{'account_key': '1304', 'status': False, 'join_date': datetime.datetime(2015, 1, 10, 0, 0), 'cancel_date': datetime.datetime(2015, 3, 10, 0, 0), 'days_to_cancel': 59, 'is_udacity': True, 'is_canceled': True}\n",
      "{'account_key': '1304', 'status': False, 'join_date': datetime.datetime(2015, 3, 10, 0, 0), 'cancel_date': datetime.datetime(2015, 6, 17, 0, 0), 'days_to_cancel': 99, 'is_udacity': True, 'is_canceled': True}\n",
      "{'account_key': '871', 'status': False, 'join_date': datetime.datetime(2014, 11, 13, 0, 0), 'cancel_date': datetime.datetime(2014, 11, 13, 0, 0), 'days_to_cancel': 0, 'is_udacity': False, 'is_canceled': True}\n",
      "{'account_key': '802', 'status': False, 'join_date': datetime.datetime(2015, 1, 8, 0, 0), 'cancel_date': datetime.datetime(2015, 1, 8, 0, 0), 'days_to_cancel': 0, 'is_udacity': False, 'is_canceled': True}\n",
      "{'account_key': '870', 'status': False, 'join_date': datetime.datetime(2015, 5, 12, 0, 0), 'cancel_date': datetime.datetime(2015, 5, 12, 0, 0), 'days_to_cancel': 0, 'is_udacity': False, 'is_canceled': True}\n",
      "{'account_key': '1241', 'status': False, 'join_date': datetime.datetime(2015, 6, 9, 0, 0), 'cancel_date': datetime.datetime(2015, 6, 9, 0, 0), 'days_to_cancel': 0, 'is_udacity': False, 'is_canceled': True}\n",
      "{'account_key': '841', 'status': False, 'join_date': datetime.datetime(2014, 11, 12, 0, 0), 'cancel_date': datetime.datetime(2014, 11, 12, 0, 0), 'days_to_cancel': 0, 'is_udacity': False, 'is_canceled': True}\n",
      "{'account_key': '1219', 'status': False, 'join_date': datetime.datetime(2014, 11, 12, 0, 0), 'cancel_date': datetime.datetime(2014, 11, 12, 0, 0), 'days_to_cancel': 0, 'is_udacity': False, 'is_canceled': True}\n",
      "{'account_key': '981', 'status': False, 'join_date': datetime.datetime(2015, 2, 7, 0, 0), 'cancel_date': datetime.datetime(2015, 2, 7, 0, 0), 'days_to_cancel': 0, 'is_udacity': False, 'is_canceled': True}\n",
      "{'account_key': '1284', 'status': False, 'join_date': datetime.datetime(2015, 1, 13, 0, 0), 'cancel_date': datetime.datetime(2015, 1, 13, 0, 0), 'days_to_cancel': 0, 'is_udacity': False, 'is_canceled': True}\n",
      "{'account_key': '1291', 'status': False, 'join_date': datetime.datetime(2015, 6, 3, 0, 0), 'cancel_date': datetime.datetime(2015, 6, 3, 0, 0), 'days_to_cancel': 0, 'is_udacity': False, 'is_canceled': True}\n",
      "{'account_key': '739', 'status': False, 'join_date': datetime.datetime(2015, 4, 5, 0, 0), 'cancel_date': datetime.datetime(2015, 4, 5, 0, 0), 'days_to_cancel': 0, 'is_udacity': False, 'is_canceled': True}\n",
      "{'account_key': '1218', 'status': False, 'join_date': datetime.datetime(2014, 11, 15, 0, 0), 'cancel_date': datetime.datetime(2014, 11, 15, 0, 0), 'days_to_cancel': 0, 'is_udacity': False, 'is_canceled': True}\n",
      "{'account_key': '803', 'status': False, 'join_date': datetime.datetime(2015, 1, 8, 0, 0), 'cancel_date': datetime.datetime(2015, 1, 8, 0, 0), 'days_to_cancel': 0, 'is_udacity': False, 'is_canceled': True}\n",
      "{'account_key': '1010', 'status': False, 'join_date': datetime.datetime(2015, 1, 11, 0, 0), 'cancel_date': datetime.datetime(2015, 1, 11, 0, 0), 'days_to_cancel': 0, 'is_udacity': False, 'is_canceled': True}\n",
      "{'account_key': '717', 'status': False, 'join_date': datetime.datetime(2014, 12, 4, 0, 0), 'cancel_date': datetime.datetime(2014, 12, 4, 0, 0), 'days_to_cancel': 0, 'is_udacity': False, 'is_canceled': True}\n",
      "{'account_key': '749', 'status': False, 'join_date': datetime.datetime(2015, 3, 5, 0, 0), 'cancel_date': datetime.datetime(2015, 3, 5, 0, 0), 'days_to_cancel': 0, 'is_udacity': False, 'is_canceled': True}\n",
      "{'account_key': '1190', 'status': False, 'join_date': datetime.datetime(2015, 3, 6, 0, 0), 'cancel_date': datetime.datetime(2015, 3, 6, 0, 0), 'days_to_cancel': 0, 'is_udacity': False, 'is_canceled': True}\n",
      "{'account_key': '1086', 'status': False, 'join_date': datetime.datetime(2015, 6, 9, 0, 0), 'cancel_date': datetime.datetime(2015, 6, 9, 0, 0), 'days_to_cancel': 0, 'is_udacity': False, 'is_canceled': True}\n",
      "{'account_key': '1079', 'status': False, 'join_date': datetime.datetime(2015, 2, 9, 0, 0), 'cancel_date': datetime.datetime(2015, 2, 9, 0, 0), 'days_to_cancel': 0, 'is_udacity': False, 'is_canceled': True}\n",
      "{'account_key': '1270', 'status': False, 'join_date': datetime.datetime(2015, 7, 20, 0, 0), 'cancel_date': datetime.datetime(2015, 7, 20, 0, 0), 'days_to_cancel': 0, 'is_udacity': False, 'is_canceled': True}\n",
      "{'account_key': '884', 'status': False, 'join_date': datetime.datetime(2015, 1, 8, 0, 0), 'cancel_date': datetime.datetime(2015, 1, 8, 0, 0), 'days_to_cancel': 0, 'is_udacity': False, 'is_canceled': True}\n",
      "{'account_key': '1063', 'status': False, 'join_date': datetime.datetime(2015, 7, 14, 0, 0), 'cancel_date': datetime.datetime(2015, 7, 14, 0, 0), 'days_to_cancel': 0, 'is_udacity': False, 'is_canceled': True}\n",
      "{'account_key': '878', 'status': False, 'join_date': datetime.datetime(2014, 11, 10, 0, 0), 'cancel_date': datetime.datetime(2014, 11, 10, 0, 0), 'days_to_cancel': 0, 'is_udacity': False, 'is_canceled': True}\n",
      "{'account_key': '1213', 'status': False, 'join_date': datetime.datetime(2015, 1, 12, 0, 0), 'cancel_date': datetime.datetime(2015, 1, 12, 0, 0), 'days_to_cancel': 0, 'is_udacity': False, 'is_canceled': True}\n",
      "{'account_key': '1191', 'status': False, 'join_date': datetime.datetime(2015, 1, 11, 0, 0), 'cancel_date': datetime.datetime(2015, 1, 11, 0, 0), 'days_to_cancel': 0, 'is_udacity': False, 'is_canceled': True}\n",
      "{'account_key': '711', 'status': False, 'join_date': datetime.datetime(2015, 5, 8, 0, 0), 'cancel_date': datetime.datetime(2015, 5, 8, 0, 0), 'days_to_cancel': 0, 'is_udacity': False, 'is_canceled': True}\n",
      "{'account_key': '727', 'status': False, 'join_date': datetime.datetime(2014, 12, 7, 0, 0), 'cancel_date': datetime.datetime(2014, 12, 7, 0, 0), 'days_to_cancel': 0, 'is_udacity': False, 'is_canceled': True}\n",
      "{'account_key': '664', 'status': False, 'join_date': datetime.datetime(2015, 1, 8, 0, 0), 'cancel_date': datetime.datetime(2015, 1, 8, 0, 0), 'days_to_cancel': 0, 'is_udacity': False, 'is_canceled': True}\n",
      "{'account_key': '654', 'status': False, 'join_date': datetime.datetime(2014, 12, 4, 0, 0), 'cancel_date': datetime.datetime(2014, 12, 4, 0, 0), 'days_to_cancel': 0, 'is_udacity': False, 'is_canceled': True}\n",
      "{'account_key': '654', 'status': False, 'join_date': datetime.datetime(2014, 12, 4, 0, 0), 'cancel_date': datetime.datetime(2014, 12, 4, 0, 0), 'days_to_cancel': 0, 'is_udacity': False, 'is_canceled': True}\n",
      "{'account_key': '654', 'status': False, 'join_date': datetime.datetime(2014, 12, 3, 0, 0), 'cancel_date': datetime.datetime(2014, 12, 3, 0, 0), 'days_to_cancel': 0, 'is_udacity': False, 'is_canceled': True}\n",
      "{'account_key': '1171', 'status': False, 'join_date': datetime.datetime(2015, 1, 7, 0, 0), 'cancel_date': datetime.datetime(2015, 1, 7, 0, 0), 'days_to_cancel': 0, 'is_udacity': False, 'is_canceled': True}\n",
      "{'account_key': '1101', 'status': True, 'join_date': datetime.datetime(2015, 2, 25, 0, 0), 'cancel_date': None, 'days_to_cancel': None, 'is_udacity': True, 'is_canceled': False}\n",
      "{'account_key': '875', 'status': False, 'join_date': datetime.datetime(2014, 11, 17, 0, 0), 'cancel_date': datetime.datetime(2014, 11, 17, 0, 0), 'days_to_cancel': 0, 'is_udacity': False, 'is_canceled': True}\n"
     ]
    }
   ],
   "source": [
    "# Observe the data of these students in enrollment data\n",
    "# 1010\n",
    "\n",
    "# Step 1: output datapoints of a user by the account_key\n",
    "\n",
    "for student in non_engaging_students:\n",
    "#student = '1219'\n",
    "    for enrollment in enrollments:\n",
    "        if enrollment['account_key'] == student:\n",
    "            print(enrollment)\n"
   ]
  },
  {
   "cell_type": "code",
   "execution_count": 19,
   "metadata": {},
   "outputs": [
    {
     "name": "stdout",
     "output_type": "stream",
     "text": [
      "6\n",
      "1622\n",
      "135656\n",
      "3634\n",
      "students who are reported in enrollment but not in engagement\n",
      "{'889', '728', '914', '1125', '902', '819', '997', '799', '926', '1222', '733', '707', '725', '1148', '1129', '817', '1237', '964', '1186', '1044', '750', '968', '766', '1273', '1120', '1145', '1238', '996', '789', '1025', '1155', '737', '871', '802', '870', '1241', '841', '1219', '981', '1284', '1291', '739', '1218', '803', '1010', '717', '749', '1190', '1086', '1079', '1270', '884', '1063', '878', '1213', '1191', '711', '727', '664', '654', '1171', '875'} \n",
      "\n",
      "No of Enrollment records: 1622, No of Engagement records: 135656\n",
      "No of Unique Students in Enrollment records: 1296\n",
      "No of Unique Students in Engagement records: 1234\n",
      "No of non engaging students: 62\n",
      "\n",
      "Check to see if there are any engaging students that are not reported in Enrollment records:\n",
      "None\n"
     ]
    }
   ],
   "source": [
    "# Step 2: Find a solution to remove Udacity test accounts from further analysis\n",
    "udacity_test_accounts = set()\n",
    "non_udacity_enrollments = list()\n",
    "non_udacity_engagements = list()\n",
    "non_udacity_submissions = list()\n",
    "for enrollment in enrollments:\n",
    "    if enrollment['is_udacity']:\n",
    "        udacity_test_accounts.add(enrollment['account_key'])\n",
    "    else:\n",
    "        temp = dict()\n",
    "        temp.update(enrollment)\n",
    "        temp.pop('is_udacity')\n",
    "        non_udacity_enrollments.append(temp)\n",
    "        \n",
    "for engagement in engagements:\n",
    "    if engagement['account_key'] not in udacity_test_accounts:\n",
    "        non_udacity_engagements.append(engagement)\n",
    "        \n",
    "for submission in submissions:\n",
    "    if submission['account_key'] not in udacity_test_accounts:\n",
    "        non_udacity_submissions.append(submission)\n",
    "        \n",
    "print(len(udacity_test_accounts))\n",
    "print(len(non_udacity_enrollments)) # not number of unique students. This is just number of records\n",
    "print(len(non_udacity_engagements))\n",
    "print(len(non_udacity_submissions))\n",
    "non_engaging_students = run_unique_test(non_udacity_enrollments,non_udacity_engagements)"
   ]
  },
  {
   "cell_type": "markdown",
   "metadata": {},
   "source": [
    "#### Datasets to work on from here\n",
    "These data excludes Udacity test account records.  \n",
    "`Var Names`\n",
    "* non_udacity_enrollments\n",
    "* non_udacity_engagements\n",
    "* non_udacity_submissions  \n",
    "\n",
    "All `keys` are same as the data sets they are derived from except:\n",
    "* `'is_udacity'` is not in non_udacity_enrollments\n",
    "* `'acct'` is renamed to 'account_key'"
   ]
  },
  {
   "cell_type": "markdown",
   "metadata": {},
   "source": [
    "## Analysis 1:\n",
    "Create a dictionary named `paid_students` containing all students who either\n",
    "haven't canceled yet or who remained enrolled for more than 7 days. The keys\n",
    "should be account keys, and the values should be the date the student enrolled."
   ]
  },
  {
   "cell_type": "code",
   "execution_count": 20,
   "metadata": {},
   "outputs": [
    {
     "name": "stdout",
     "output_type": "stream",
     "text": [
      "995\n",
      "584 2015-03-10 00:00:00\n",
      "-------------------------------------------\n",
      "{'account_key': '584', 'status': False, 'join_date': datetime.datetime(2014, 11, 10, 0, 0), 'cancel_date': datetime.datetime(2015, 1, 14, 0, 0), 'days_to_cancel': 65, 'is_canceled': True}\n",
      "{'account_key': '584', 'status': False, 'join_date': datetime.datetime(2015, 1, 14, 0, 0), 'cancel_date': datetime.datetime(2015, 3, 10, 0, 0), 'days_to_cancel': 55, 'is_canceled': True}\n",
      "{'account_key': '584', 'status': True, 'join_date': datetime.datetime(2015, 3, 10, 0, 0), 'cancel_date': None, 'days_to_cancel': None, 'is_canceled': False}\n",
      "\n"
     ]
    }
   ],
   "source": [
    "# paid_students is a dict: key- 'account_key' , value- list of enrollment dates\n",
    "paid_students = dict()\n",
    "unique_keys = get_unique_students(non_udacity_enrollments)\n",
    "\n",
    "# Method 1: slower method but more flexible\n",
    "\"\"\"for key in unique_keys:\n",
    "    records = get_student_records(non_udacity_enrollments, key)\n",
    "    for record in records:\n",
    "        #print(record)\n",
    "        if not record['is_canceled'] or record['days_to_cancel']>7:\n",
    "            paid_students[record['account_key']]=record['join_date']\"\"\"\n",
    "\n",
    "# Method 2: faster method\n",
    "for enrollment in non_udacity_enrollments:\n",
    "    if not enrollment['is_canceled'] or enrollment['days_to_cancel']>7:\n",
    "        if enrollment['account_key'] not in paid_students:\n",
    "            paid_students[enrollment['account_key']] = list()\n",
    "        paid_students[enrollment['account_key']].append(enrollment['join_date'])\n",
    "        \n",
    "print(len(paid_students))\n",
    "\n",
    "#for std in paid_students:\n",
    "print('584', max(paid_students['584']))\n",
    "print(\"-------------------------------------------\")\n",
    "for record in get_student_records(non_udacity_enrollments, '584'):\n",
    "    print(record)\n",
    "print()"
   ]
  },
  {
   "cell_type": "markdown",
   "metadata": {},
   "source": [
    "Create a list of engagement records containing only data for paid students during their first week\n",
    "\n",
    "#### ndays_engagement `Function`"
   ]
  },
  {
   "cell_type": "code",
   "execution_count": 51,
   "metadata": {},
   "outputs": [
    {
     "data": {
      "text/plain": [
       "6919"
      ]
     },
     "execution_count": 51,
     "metadata": {},
     "output_type": "execute_result"
    }
   ],
   "source": [
    "from datetime import timedelta\n",
    "def ndays_engagement(engagement_data, n=7) -> list:\n",
    "    ndays_engagement_records = list()\n",
    "    for data in engagement_data:\n",
    "        working_key = data['account_key']\n",
    "        if working_key in paid_students:\n",
    "            from_date = max(paid_students[working_key])\n",
    "            if data['utc_date'] < from_date + timedelta(days=n) and data['utc_date'] >= from_date:\n",
    "                ndays_engagement_records.append(data)\n",
    "    return ndays_engagement_records\n",
    "# first_week_paid_engagements is a list or dicts(records)\n",
    "first_week_paid_engagements = ndays_engagement(non_udacity_engagements)\n",
    "len(first_week_paid_engagements)"
   ]
  },
  {
   "cell_type": "markdown",
   "metadata": {},
   "source": [
    "#### reorganize `non_udacity_engagements`  \n",
    "reorganize the data in non_udacity_engagements **from**  \n",
    "a list of dicts - each dict is a record of engagement **to**  \n",
    "a dict of dicts - each key of the main dict contains all the records corresponding to that key"
   ]
  },
  {
   "cell_type": "code",
   "execution_count": 52,
   "metadata": {},
   "outputs": [],
   "source": [
    "# create a temp variable to delete later\n",
    "#reorg = first_week_engagements\n",
    "#first_week_engagements = None\n",
    "reorg = dict()\n",
    "for key in paid_students:\n",
    "    #print(key)\n",
    "    reorg[key] = (get_student_records(first_week_paid_engagements, key , popitms = ('account_key') ) )\n",
    "#reorg['429']\n",
    "first_week_paid_engagements = reorg\n",
    "del reorg"
   ]
  },
  {
   "cell_type": "markdown",
   "metadata": {},
   "source": [
    "#### reorg new code"
   ]
  },
  {
   "cell_type": "code",
   "execution_count": 52,
   "metadata": {},
   "outputs": [],
   "source": [
    "# create a temp variable to delete later\n",
    "#reorg = first_week_engagements\n",
    "#first_week_engagements = None\n",
    "def regroup_records_by_key(data, group_by_key):\n",
    "    # step 1 : do a key check. The key must be a valid key of the given data but cant ...\n",
    "    reorg = dict()\n",
    "    for key in paid_students:\n",
    "        #print(key)\n",
    "        reorg[key] = (get_student_records(first_week_paid_engagements, key , popitms = (group_by_key) ) )\n",
    "#reorg['429']\n",
    "first_week_paid_engagements = reorg\n",
    "del reorg"
   ]
  },
  {
   "cell_type": "markdown",
   "metadata": {},
   "source": [
    "## Data Exploration"
   ]
  },
  {
   "cell_type": "code",
   "execution_count": 55,
   "metadata": {
    "collapsed": true
   },
   "outputs": [
    {
     "name": "stdout",
     "output_type": "stream",
     "text": [
      "{'429': 0.0, '60': 0.0, '369': 42.3843405, '322': 0.0, '336': 278.6769970004, '553': 507.1024986672999, '584': 0.0, '458': 0.0, '1058': 0.0, '206': 633.1473566663, '45': 0.0, '315': 657.0126268326, '604': 1890.9937024994, '204': 686.7681608344001, '408': 59.7725306667, '51': 0.0, '323': 397.24734133329997, '568': 28.9028346666, '130': 0.0, '550': 18.9512853333, '44': 0.0, '198': 809.546996001, '368': 817.9997333323399, '440': 45.9874008334, '57': 91.3514995, '1090': 0.0, '541': 20.879544833329998, '756': 0.0, '101': 148.7306783333, '800': 122.87407133333, '702': 0.0, '38': 0.0, '215': 662.64059800003, '744': 374.5761038331, '217': 0.0, '1211': 0.0, '53': 401.97479050029995, '283': 269.194508, '338': 13.2610473333, '579': 298.253430333, '627': 1047.4820013337, '253': 0.0, '178': 783.3383063341, '822': 2.30081433333, '96': 45.3963998333, '123': 0.0, '620': 557.5625511664, '1204': 291.7782771666, '195': 1166.4244791677, '354': 609.2861186673, '114': 186.94018933324, '394': 808.5665558337, '1253': 0.0, '504': 388.7726185, '537': 30.6256575, '72': 704.5521115003299, '268': 314.3331800003, '339': 0.0, '1244': 53.5962256666, '752': 30.5951761667, '194': 315.44705699977, '520': 109.5149769999, '102': 277.0299235, '367': 220.21062866679998, '258': 595.2719906673, '522': 303.55134400000003, '329': 638.196504333, '225': 247.9695998334, '612': 52.9136506667, '150': 414.14088366667, '179': 913.6758890002999, '595': 335.5259626667, '587': 9.64132116667, '439': 847.38115366667, '428': 726.26075933267, '18': 155.1361575, '544': 1421.7436063333, '10': 130.12347833367, '913': 72.9583085, '23': 1591.3228143334, '576': 911.11994133237, '431': 77.9742268333, '223': 151.60938049966, '480': 0.0, '525': 0.0, '1111': 0.0, '1107': 73.6289658334, '577': 120.55847799993, '92': 611.3200641666999, '335': 855.4038108340001, '275': 44.477798999970005, '245': 669.9961104997, '135': 613.2567715002999, '37': 1378.195091668, '186': 601.3632028330001, '389': 131.7464566667, '693': 0.0, '88': 0.0, '983': 0.0, '1118': 89.38367816659999, '499': 367.3854126667, '590': 0.0, '264': 110.09569266679999, '300': 88.12990766662999, '54': 427.764673834, '1130': 137.6759001667, '736': 313.50181033333, '976': 65.0527071667, '278': 0.0, '377': 803.3391453328, '342': 0.0, '358': 71.4977216667, '316': 1735.943607166, '347': 713.3479524992999, '295': 421.6092228329, '343': 83.295313, '502': 504.04492916670006, '221': 178.70479883369998, '631': 237.7646521667, '495': 414.253240333, '1009': 0.0, '364': 0.0, '909': 63.3749175, '524': 0.0, '560': 61.7853381666, '570': 173.9382718334, '581': 122.48917700033, '759': 0.0, '896': 0.0, '346': 248.12435916639998, '411': 0.0, '705': 0.0, '776': 0.0, '557': 1245.8182150003, '634': 223.73943383300002, '1124': 0.0, '932': 0.0, '169': 92.5594045, '350': 107.74437683336001, '345': 246.61175300029998, '530': 1896.7540938320003, '383': 212.1774728337, '229': 131.7264965, '622': 396.82058733329995, '730': 41.7199715, '905': 108.9832133333, '356': 64.7772518334, '170': 586.7042849994001, '467': 207.27739616670002, '780': 0.0, '418': 86.7824926667, '1074': 0.0, '859': 2.54122166667, '91': 84.9883638333, '12': 179.4719088333, '3': 0.0, '157': 8.3032715, '224': 30.647238166630004, '562': 326.448714, '1098': 739.8981633335999, '378': 0.0, '1214': 12.822523, '483': 716.3825241659999, '1094': 464.4721495011001, '882': 0.0, '412': 55.49376599997, '390': 137.9929768333, '366': 23.55166316667, '81': 227.6363853331, '696': 666.3290910003, '1142': 0.0, '234': 931.3838908327, '148': 0.0, '630': 394.5387589999, '1011': 118.71332966671, '161': 531.8882431671, '441': 1065.2951291673999, '712': 253.23675750029997, '273': 70.48434450007001, '76': 186.549237333, '938': 69.45209899999999, '131': 0.0, '231': 9.75699783333, '327': 355.96292199997, '829': 129.762569, '203': 605.7708455, '277': 884.915487, '280': 255.53718516670003, '308': 554.8758693333999, '202': 219.2389440004, '563': 21.972605, '1167': 870.43417899963, '643': 793.6706421670001, '110': 1214.55291799937, '244': 123.5804105, '1289': 5.45628333333, '500': 229.2620115, '209': 4.55604183333, '292': 192.665344, '546': 41.7786686667, '1160': 2.70408483333, '64': 346.5030268336, '637': 89.0572956666, '52': 3.22752383333, '747': 0.0, '450': 1096.72738949933, '111': 169.159592167, '583': 762.169280667, '461': 89.6344988334, '1199': 4.71476416667, '743': 0.0, '474': 285.75573750030003, '667': 144.1243173333, '1095': 30.0975526667, '79': 416.49598383333, '66': 6.95969283333, '197': 931.3076661670001, '67': 856.8375048337, '678': 100.0702155, '873': 30.2541315, '623': 230.70437450010002, '791': 417.953548167, '507': 92.3539813334, '488': 101.401498833, '270': 1020.3306876671, '362': 58.3151085, '263': 417.4064971669, '965': 666.393701501, '761': 100.06368333333, '598': 399.2498304993, '785': 4.78649716667, '989': 0.0, '28': 766.256315667, '166': 0.0, '682': 25.243540000000003, '671': 115.15559099992998, '1121': 20.21580533333, '966': 8.08317416667, '442': 184.162204667, '5': 329.7578566663, '592': 488.40353200030006, '34': 180.413814, '824': 260.47024649996, '0': 494.88049616599994, '527': 256.4187193326, '1060': 1768.5227493319999, '227': 485.78090949999995, '599': 146.89298433300002, '181': 651.9806806667, '639': 416.14186616669997, '126': 33.4956098333, '254': 600.5757328336, '1303': 0.0, '969': 24.9669023333, '972': 96.1137128333, '334': 0.0, '469': 884.7240451653, '33': 253.9870258334, '250': 284.6907063333, '486': 188.8958254999, '567': 321.3727448333, '371': 4.24015233333, '1277': 0.0, '1071': 0.0, '923': 0.0, '640': 0.0, '1174': 76.1418825, '1019': 75.87298200000001, '655': 177.8367486667, '529': 0.0, '222': 241.8322233337, '256': 0.0, '288': 4.58531166667, '523': 61.33310733329999, '24': 943.188117167, '397': 34.50448516667, '265': 371.26458716729996, '650': 114.84451633329999, '1013': 4.3800225, '618': 513.8126981664001, '1236': 0.0, '1181': 42.3039228333, '866': 0.0, '1201': 395.022838667, '193': 121.07599299993, '710': 3.56199133333, '180': 95.4642313333, '722': 29.9067615, '125': 1410.5316330013002, '954': 91.64868466669999, '140': 2050.1156751667004, '1139': 321.75119083367, '388': 1208.05215466633, '147': 0.0, '119': 672.9427816664, '97': 8.46994183333, '984': 68.4192841666, '444': 0.0, '493': 586.7405209996, '435': 433.22729549969995, '386': 0.0, '156': 635.5124964993, '649': 700.4743598327, '145': 893.4411686660001, '420': 96.80278150000001, '582': 2.4822425, '165': 962.5736773336, '580': 712.1588875006701, '919': 663.5424139989, '90': 114.43403466663, '864': 53.1295885, '328': 667.7495933323299, '626': 95.1225038333, '1117': 0.0, '187': 629.3766914993301, '617': 432.987765666, '547': 0.0, '159': 0.0, '561': 52.4319528333, '1226': 0.0, '352': 729.8468485, '374': 30.5476253333, '857': 0.0, '143': 405.0228675003, '138': 90.3995656667, '952': 120.657056167, '416': 722.84210483367, '477': 779.5860966676, '132': 1196.803629999, '624': 1026.8480728333, '50': 491.9087078335, '1247': 79.19556549999999, '607': 547.7397464997, '251': 175.613687167, '709': 88.0103965, '564': 18.4937245, '70': 310.04241416702996, '792': 1369.641421833, '494': 591.1435670003, '833': 2.38093233333, '603': 207.9139188337, '307': 4.19664316667, '337': 0.0, '823': 0.0, '30': 69.6578351667, '82': 537.5285965007, '348': 0.0, '139': 86.4587005, '185': 0.0, '281': 0.0, '855': 92.6896001666, '191': 137.2655706667, '261': 0.0, '415': 0.0, '868': 13.442560666670001, '719': 9.4907925, '836': 29.38455616663, '319': 343.6706583329, '108': 164.27089083347, '285': 109.141489, '71': 53.5545175, '1073': 35.81870033337, '421': 357.275143834, '698': 56.45108966666999, '9': 448.471384167, '144': 384.69492683359994, '427': 413.5420181666, '1212': 0.0, '1140': 129.85920366667, '344': 614.9778563333, '517': 1381.1028195004, '505': 459.3740381662999, '171': 1887.391213833, '586': 77.7392298333, '492': 0.0, '1102': 0.0, '1287': 0.0, '1254': 187.32349033330001, '1259': 0.0, '1128': 53.4711175, '149': 56.835209, '78': 0.0, '558': 0.0, '153': 116.8988095, '473': 0.0, '246': 277.3369746671, '455': 438.50690233336, '106': 29.0687406666, '74': 90.48065633329999, '591': 0.0, '419': 6.72066133333, '31': 0.0, '69': 0.0, '906': 5.75313916667, '601': 0.0, '321': 0.0, '99': 317.10422516660003, '1103': 0.0, '1066': 0.0, '571': 0.0, '426': 0.0, '1267': 0.0, '392': 427.5369333332, '98': 525.6444536663, '578': 28.5667518333, '86': 0.0, '158': 0.0, '757': 354.6223496663, '151': 908.4660900005999, '642': 421.960349833, '534': 609.6590520007001, '214': 30.3670653333, '597': 1047.649452501, '1242': 0.0, '732': 219.926066667, '168': 120.87673000033001, '657': 0.0, '152': 745.1146233329999, '539': 172.5712248333, '831': 51.016355999999995, '1015': 38.87817050003, '1251': 11.2880193333, '613': 545.9623025, '611': 382.93037050067, '453': 514.86060716603, '62': 293.383122167, '380': 51.9296121667, '697': 88.1119545, '43': 88.822038, '451': 79.9306696666, '625': 0.0, '769': 135.6825435, '1123': 12.6563396667, '1154': 0.0, '853': 5.92106983333, '918': 21.086721, '1248': 3.50918183333, '1189': 292.8858635, '1285': 32.4256981667, '844': 817.60166266567, '690': 0.0, '424': 0.0, '379': 391.3939735, '641': 340.70627749999994, '404': 611.4195701674, '105': 312.1800340007, '395': 2.17768916667, '1299': 0.0, '589': 4.56274816667, '793': 0.0, '433': 81.51043433337, '243': 46.605140666699995, '555': 294.34356566670004, '676': 16.5745846667, '127': 334.5606256663, '201': 0.0, '396': 0.0, '267': 211.5840809997, '240': 0.0, '647': 73.5741316667, '1163': 56.4237046666, '948': 94.3237553333, '1202': 48.67926333336, '559': 105.24544450007, '476': 46.6148, '867': 0.0, '516': 454.17951166700004, '1292': 233.20550333356, '77': 231.80801666640002, '56': 106.72208133333001, '93': 751.2236896667, '207': 114.39214366666, '103': 1075.0625133337, '460': 116.03298466660002, '610': 653.1940411656001, '446': 90.90472849993, '232': 1168.2526861667002, '670': 454.273163499, '515': 265.47810483300003, '59': 47.1679638333, '900': 0.0, '1053': 81.4415533333, '357': 105.06483083340001, '934': 5.03956, '746': 706.5435295006, '279': 143.048056833, '136': 34.1685658333, '1042': 45.5670335, '413': 578.9502861663, '306': 0.0, '436': 858.37418699973, '35': 765.6402170004, '463': 633.4301786670001, '284': 302.608719833, '521': 406.0453698336, '1049': 37.853095, '1198': 6.5907805, '720': 401.81893949967, '239': 40.220247, '958': 0.0, '718': 0.0, '475': 164.161086, '276': 429.03252133340004, '608': 248.29428850003, '293': 497.8218254996, '341': 35.531418, '501': 32.8227305, '858': 260.94864483347, '713': 139.060529, '1040': 12.9824898333, '1305': 9.771473833329999, '25': 0.0, '674': 171.593366833, '988': 61.420162, '771': 275.16640700005996, '877': 26.5230981667, '63': 465.58233333400005, '481': 599.325108667, '42': 576.4643026663, '939': 0.0, '11': 0.0, '262': 42.4569508333, '167': 0.0, '302': 165.37368716699999, '551': 0.0, '609': 73.7238143333, '109': 1167.52455983297, '211': 593.1472776666001, '274': 1435.0160603327001, '704': 0.0, '407': 500.9127926667, '360': 677.2790736659999, '540': 440.96130916723, '1173': 55.7923973333, '112': 388.23059683327006, '479': 316.43186650009994, '237': 704.5008775003, '487': 551.1900968329701, '304': 194.7560403337, '330': 187.9226685, '1250': 10.0058803333, '27': 1579.12122666663, '260': 638.934161833, '511': 493.53649199967003, '1029': 3.50885666667, '399': 177.5920131668, '977': 3.35443916667, '556': 187.25140866697, '1265': 0.0, '252': 343.35795733340007, '100': 145.70615016660003, '313': 888.6124170002998, '465': 53.1803671667, '615': 108.47527400000001, '372': 197.066153, '614': 101.1193401667, '208': 356.77551816640005, '652': 479.86306116670005, '1260': 0.0, '1194': 168.1376205, '361': 1053.7764165013, '1185': 51.7192425, '490': 32.447970500029996, '365': 37.6347753333, '220': 467.6978279993, '124': 51.0695815, '496': 1217.1688571673, '405': 741.2804391669999, '452': 36.434234, '318': 196.3044158337, '266': 1420.1479191659998, '219': 272.6840003337, '83': 293.4918854997, '1266': 0.0, '121': 285.36239183329997, '459': 943.8555468324001, '735': 0.0, '1032': 13.899305166700001, '128': 743.1407118340001, '1031': 11.741084, '673': 348.39415716703, '843': 924.060058833, '216': 58.36346116669999, '554': 272.16654083369997, '1183': 258.849289167, '133': 80.2133103333, '887': 62.78241916663, '248': 183.134135333, '629': 374.365616, '478': 4.45095966667, '804': 22.7346656667, '1096': 269.29544283309997, '163': 3564.7332644989997, '1208': 114.066953, '1207': 26.4703245, '602': 615.9597956661, '1153': 565.6616593333, '605': 218.3752333334, '1210': 430.7856678337, '916': 65.7383995, '381': 0.0, '666': 138.052647, '26': 430.801675833, '508': 736.5973803337, '509': 307.0653258337, '753': 116.628876833, '141': 544.992658666, '432': 437.22883383330003, '375': 506.55911883299996, '183': 418.01940599970004, '400': 239.61664966700002, '585': 535.00554450033, '13': 1013.3833969996999, '205': 315.34049566659996, '593': 0.0, '437': 39.4918656667, '468': 224.91582050030001, '729': 0.0, '22': 657.2052335000001, '449': 20.247478, '482': 29.5289625001, '349': 211.3875440003, '1089': 53.190095, '651': 1346.7158483327, '1054': 0.0, '289': 955.78319766497, '796': 0.0, '104': 839.123771167, '286': 195.9300631667, '812': 1764.5367983344001, '462': 749.194206334, '1001': 16.2005246667, '213': 836.3458141666999, '359': 2530.5614099997, '21': 931.1036911666699, '633': 1689.189059835, '1205': 0.0, '1014': 619.9953998326, '40': 478.21952616690004, '1216': 266.32487266671006, '1131': 693.148515833, '1150': 150.810125167, '403': 604.355107166, '773': 0.0, '856': 0.0, '305': 538.88974533303, '485': 411.84511316623, '464': 503.05470083299997, '340': 392.473794834, '75': 20.8106506667, '786': 23.695871500029998, '1072': 0.0, '588': 84.6351145, '291': 0.0, '1264': 2.01734133333, '1088': 0.0, '536': 0.0, '107': 171.2928940001, '353': 122.07255516670001, '146': 11.554518, '466': 131.94636750003, '811': 1138.3177014993998, '825': 27.3957285, '484': 18.786721, '1055': 71.5736406667, '192': 402.42499849989997, '398': 12.05914466667, '1215': 1360.7287001670002, '20': 447.93897783336996, '1030': 218.55650866673005, '955': 240.5959745003, '200': 448.5325424996, '665': 0.0, '1263': 383.99752900006996, '1136': 0.0, '1144': 0.0, '142': 201.21822283370003, '1228': 0.0, '967': 449.6269801663, '754': 413.3262124997, '851': 58.5606146667, '990': 106.08401216677001, '950': 107.3523146666, '1087': 179.4080511666, '940': 0.0, '986': 182.85550433323, '784': 176.3818004999, '893': 0.0, '840': 0.0, '975': 3.7103945, '1038': 0.0, '1170': 0.0, '1268': 11.3308886667, '706': 1329.9598305, '632': 84.558989, '606': 456.3332818333, '117': 129.2449371666, '94': 0.0, '299': 0.0, '574': 0.0, '212': 168.3080953333, '401': 0.0, '387': 0.0, '1113': 37.2096841667, '382': 73.6446115, '8': 989.113641833, '1': 18.576384666670002, '184': 247.9964674996, '61': 496.99219366667, '669': 0.0, '596': 311.07236283327, '7': 104.20388850009999, '41': 511.925391, '513': 626.2345113327, '545': 307.7543378337, '572': 907.111293668, '199': 1452.709982333, '569': 1477.0239483322998, '14': 65.6221875, '646': 264.5287276666, '6': 780.4545511666701, '619': 1482.9020456663002, '912': 0.0, '456': 27.37808133337, '80': 106.2245978334, '116': 886.0703749999001, '89': 63.79716583327, '471': 68.2496686666, '1002': 8.1809285, '154': 736.9791355, '58': 1024.109326834, '406': 57.2638435, '1062': 366.3194163334, '1282': 134.5242838333, '162': 532.6464248333, '242': 554.59261383367, '235': 0.0, '928': 80.6559995, '1151': 113.43918199967, '249': 877.8003651663, '621': 204.02415449966998, '656': 0.0, '497': 448.741092333, '73': 0.0, '290': 442.37721166627, '1290': 78.787234, '294': 405.600248833, '573': 924.2469394994, '1081': 0.0, '956': 6.80688283333, '1036': 0.0, '271': 830.83625116633, '317': 2778.3161446706704, '1257': 30.8061303333, '326': 1426.2515225012999, '748': 324.6302378336, '777': 199.31994916669998, '296': 199.06043566667, '628': 203.3427993337, '1262': 0.0, '531': 594.0435458336, '1209': 247.9447956666, '498': 385.2513571667001, '430': 1024.0636758326, '694': 198.6962631669, '238': 330.1826238337, '48': 1055.6871896667, '47': 854.8288881656, '29': 556.1906033333, '885': 1403.366643835, '164': 765.55279683203, '1080': 5.51051366667, '402': 0.0, '15': 983.375040335, '87': 1035.306503999, '134': 1017.1034851664001, '1033': 959.9534376661, '782': 277.8489021664, '979': 517.8334496674, '1302': 0.0, '687': 18.889756499999997, '924': 209.96127933370002, '946': 131.70276883329998, '805': 84.1050015, '552': 932.3012898327, '1028': 18.8601366667, '122': 530.1415103337, '39': 1001.5888595, '393': 3.3318835, '1147': 28.805244, '325': 370.8747679997, '883': 235.39055499926997, '1224': 61.0835323333, '332': 124.52342500033, '443': 1001.813550333, '309': 150.7999871667, '512': 4.26499566667, '230': 197.41214399993, '301': 669.9500983341, '506': 75.8750386667, '1243': 62.9114363333, '1220': 118.30495933329999, '755': 34.0330873333, '85': 500.4921706667001, '160': 630.1675615003, '1050': 84.5200338333, '834': 21.5715365, '742': 489.7736965, '535': 629.7823334996999, '636': 169.3917738333, '423': 127.15142850000001, '190': 7.94751166667, '692': 16.604203, '259': 736.3565788330001, '653': 736.4371648339999, '1177': 43.0449731666, '233': 197.0435864997, '351': 320.97561616674, '854': 64.29995600000001, '880': 15.5930261667, '839': 13.587055, '1161': 87.8123571667, '672': 32.816891, '282': 570.5658495, '155': 0.0, '257': 39.485681500000005, '311': 59.239222, '188': 6.20617616667, '1146': 105.57724800007, '65': 422.27366000010005, '787': 0.0, '941': 2.99934966667, '457': 547.552952834, '985': 46.494977, '333': 129.087694, '835': 0.0, '549': 32.0522478333, '660': 193.848226, '174': 414.12743866659997, '514': 62.84829066659999, '594': 0.0, '137': 696.2475044997, '778': 48.1974151667, '801': 0.0, '1077': 152.213267167, '808': 106.2993215, '241': 288.9210591667, '46': 26.1189351667, '363': 0.0, '269': 322.475557667, '528': 514.0743979996, '600': 24.87366349997, '1115': 0.0, '920': 156.1449683333, '447': 119.916663667, '370': 0.0, '84': 752.4780518326, '255': 221.72389316627002, '472': 174.4431463334, '272': 1203.2224428333002, '32': 123.2915048333, '115': 167.606683, '434': 696.5725646662999, '532': 422.6295078334, '937': 160.1049253333, '927': 125.44656916667, '1022': 0.0, '320': 859.426280833, '635': 80.5941101667, '182': 310.2486779997, '298': 213.4699951663, '385': 446.4724451667, '175': 2375.7954986677, '120': 266.1378745, '314': 1341.720517667, '331': 501.941580166, '303': 2700.4878774989998, '533': 455.19857933369997, '17': 235.49969150033, '129': 101.387314333, '189': 1251.6466043334, '4': 33.3214046667, '454': 141.19407999967, '715': 307.3006509996, '410': 951.118714666, '1007': 0.0, '16': 119.12030049999998, '297': 338.67828999970004, '373': 532.5829673333, '510': 143.78600349967, '645': 847.3979861667, '36': 809.2138958339, '616': 321.2057135, '55': 589.6171318323301, '538': 7.1116735, '503': 2.8138905, '196': 383.1542506668, '1217': 100.837620167, '762': 85.29257, '565': 518.1875990003, '897': 22.0889656667, '518': 980.5763799994, '384': 925.7537420007, '1075': 90.6038805, '888': 3.3880415, '1227': 0.0, '176': 1051.5771371676, '1231': 621.5755701662999, '391': 0.0, '1188': 200.75333083330003, '1200': 696.57720983267, '113': 83.7769855, '409': 364.480768, '1082': 51.1061375, '872': 129.3303274997, '828': 345.17664533360005, '172': 589.8798286670001, '1276': 62.8929255, '542': 1036.951593167, '526': 670.3438828333, '355': 944.5557876659999, '901': 26.5587726667, '764': 59.340783666700005, '210': 421.2835453327, '1048': 0.0, '543': 183.7893518334, '1149': 876.6454899994, '1175': 2.7094835, '781': 0.0, '425': 975.587918167, '118': 891.8733579995999, '310': 843.170594833, '19': 0.0, '1070': 1309.1846301673, '798': 397.8826263333, '548': 769.207330667, '1143': 299.9208106657, '931': 0.0, '1056': 366.5285674997, '1235': 172.77872349963, '417': 22.14904683337, '794': 146.9410850001, '816': 0.0, '1269': 4.79064933333, '1067': 29.7377383333, '1157': 0.0, '726': 21.1284496667, '177': 570.776941833, '797': 0.0, '49': 0.0, '376': 65.9101326667, '228': 360.4108591662, '173': 12.9807116667, '422': 311.1889536663, '236': 467.5716475007, '779': 4.2604045, '1182': 63.1747861666, '287': 283.36202233326, '648': 129.1323983333, '1249': 9.62371516667, '519': 231.0283105, '1099': 108.8893720001, '566': 133.319127167, '846': 32.6861011667, '1052': 117.195806333, '661': 92.5547231666, '852': 214.54059633330002, '491': 640.0351108333, '445': 46.3023048333, '644': 488.3752611667, '68': 0.0, '489': 829.9734088337, '1206': 76.7225691667, '414': 68.0673978333, '226': 439.05929566669994, '2': 0.0, '1274': 438.5049581666, '218': 2393.5421573319004, '324': 1669.9007213329999, '1000': 180.025886167, '973': 42.35008283337, '806': 49.937148999970006, '1178': 0.0, '832': 0.0, '689': 0.0, '1278': 0.0, '438': 363.94914149996, '992': 39.0104288333, '575': 400.8135763341, '1298': 143.91027249997, '751': 52.1289673334, '1176': 754.5790381659999, '1110': 52.90383883333, '874': 49.7470893333, '686': 9.61211033333}\n"
     ]
    }
   ],
   "source": [
    "total_minutes_by_account_first_week = dict()\n",
    "\n",
    "for account_key, engagement_for_student in first_week_paid_engagements.items():\n",
    "    total_mins = 0\n",
    "    for engagement in engagement_for_student:\n",
    "        total_mins += engagement['total_minutes_visited']\n",
    "    total_minutes_by_account_first_week[account_key] = total_mins\n",
    "    \n",
    "total_mins = list(total_minutes_by_account_first_week.values())\n",
    "print(total_minutes_by_account_first_week)"
   ]
  },
  {
   "cell_type": "code",
   "execution_count": 56,
   "metadata": {},
   "outputs": [
    {
     "name": "stdout",
     "output_type": "stream",
     "text": [
      "Mean 306.70832675342825\n",
      "Standard Deviation 412.99693340852957\n",
      "Max 3564.7332644989997\n",
      "Min 0.0\n",
      "Minutes in a week : 10080\n"
     ]
    }
   ],
   "source": [
    "import numpy as np\n",
    "\n",
    "print('Mean', np.mean(total_mins))\n",
    "print('Standard Deviation', np.std(total_mins))\n",
    "print('Max', np.max(total_mins))\n",
    "print('Min', np.min(total_mins))\n",
    "print('Minutes in a week :',7*24*60)"
   ]
  },
  {
   "cell_type": "code",
   "execution_count": 57,
   "metadata": {
    "collapsed": true
   },
   "outputs": [
    {
     "name": "stdout",
     "output_type": "stream",
     "text": [
      "{'429': 0, '60': 0, '369': 0, '322': 0, '336': 0, '553': 2, '584': 0, '458': 0, '1058': 0, '206': 3, '45': 0, '315': 3, '604': 8, '204': 2, '408': 0, '51': 0, '323': 2, '568': 0, '130': 0, '550': 0, '44': 0, '198': 1, '368': 4, '440': 0, '57': 1, '1090': 0, '541': 0, '756': 0, '101': 0, '800': 1, '702': 0, '38': 0, '215': 1, '744': 1, '217': 0, '1211': 0, '53': 3, '283': 0, '338': 1, '579': 1, '627': 6, '253': 0, '178': 6, '822': 0, '96': 0, '123': 0, '620': 1, '1204': 2, '195': 4, '354': 3, '114': 1, '394': 2, '1253': 0, '504': 3, '537': 0, '72': 7, '268': 5, '339': 0, '1244': 0, '752': 0, '194': 1, '520': 0, '102': 0, '367': 1, '258': 3, '522': 0, '329': 4, '225': 1, '612': 0, '150': 1, '179': 5, '595': 2, '587': 0, '439': 2, '428': 2, '18': 0, '544': 6, '10': 0, '913': 0, '23': 6, '576': 2, '431': 0, '223': 0, '480': 0, '525': 0, '1111': 0, '1107': 0, '577': 0, '92': 3, '335': 2, '275': 0, '245': 2, '135': 2, '37': 5, '186': 2, '389': 0, '693': 0, '88': 0, '983': 0, '1118': 1, '499': 2, '590': 0, '264': 1, '300': 0, '54': 1, '1130': 0, '736': 0, '976': 0, '278': 0, '377': 6, '342': 0, '358': 0, '316': 9, '347': 3, '295': 2, '343': 0, '502': 3, '221': 1, '631': 1, '495': 3, '1009': 0, '364': 0, '909': 0, '524': 0, '560': 0, '570': 0, '581': 1, '759': 0, '896': 0, '346': 1, '411': 0, '705': 0, '776': 0, '557': 2, '634': 2, '1124': 0, '932': 0, '169': 0, '350': 0, '345': 0, '530': 7, '383': 0, '229': 0, '622': 1, '730': 0, '905': 0, '356': 0, '170': 2, '467': 0, '780': 0, '418': 0, '1074': 0, '859': 0, '91': 1, '12': 0, '3': 0, '157': 0, '224': 0, '562': 1, '1098': 1, '378': 0, '1214': 0, '483': 0, '1094': 1, '882': 0, '412': 0, '390': 0, '366': 0, '81': 2, '696': 2, '1142': 0, '234': 4, '148': 0, '630': 2, '1011': 0, '161': 3, '441': 5, '712': 0, '273': 0, '76': 0, '938': 0, '131': 0, '231': 0, '327': 1, '829': 0, '203': 2, '277': 2, '280': 1, '308': 2, '202': 0, '563': 0, '1167': 3, '643': 5, '110': 9, '244': 0, '1289': 0, '500': 1, '209': 0, '292': 0, '546': 0, '1160': 0, '64': 6, '637': 0, '52': 0, '747': 0, '450': 5, '111': 1, '583': 6, '461': 0, '1199': 0, '743': 0, '474': 5, '667': 0, '1095': 0, '79': 1, '66': 0, '197': 9, '67': 2, '678': 0, '873': 0, '623': 0, '791': 1, '507': 0, '488': 0, '270': 9, '362': 0, '263': 2, '965': 2, '761': 0, '598': 2, '785': 0, '989': 0, '28': 2, '166': 0, '682': 0, '671': 0, '1121': 0, '966': 0, '442': 4, '5': 0, '592': 1, '34': 1, '824': 1, '0': 1, '527': 0, '1060': 1, '227': 1, '599': 1, '181': 3, '639': 0, '126': 0, '254': 0, '1303': 0, '969': 0, '972': 0, '334': 0, '469': 5, '33': 0, '250': 2, '486': 0, '567': 1, '371': 0, '1277': 0, '1071': 0, '923': 0, '640': 0, '1174': 0, '1019': 0, '655': 0, '529': 0, '222': 1, '256': 0, '288': 0, '523': 0, '24': 4, '397': 0, '265': 3, '650': 1, '1013': 0, '618': 4, '1236': 0, '1181': 0, '866': 0, '1201': 2, '193': 0, '710': 0, '180': 0, '722': 1, '125': 9, '954': 0, '140': 3, '1139': 1, '388': 5, '147': 0, '119': 0, '97': 0, '984': 1, '444': 0, '493': 4, '435': 3, '386': 0, '156': 2, '649': 8, '145': 4, '420': 2, '582': 0, '165': 2, '580': 1, '919': 5, '90': 1, '864': 0, '328': 2, '626': 1, '1117': 0, '187': 2, '617': 0, '547': 0, '159': 0, '561': 1, '1226': 0, '352': 2, '374': 0, '857': 0, '143': 1, '138': 0, '952': 1, '416': 0, '477': 1, '132': 1, '624': 1, '50': 2, '1247': 0, '607': 1, '251': 1, '709': 1, '564': 0, '70': 2, '792': 11, '494': 2, '833': 0, '603': 1, '307': 0, '337': 0, '823': 0, '30': 1, '82': 1, '348': 0, '139': 1, '185': 0, '281': 0, '855': 0, '191': 0, '261': 0, '415': 0, '868': 0, '719': 0, '836': 1, '319': 5, '108': 0, '285': 0, '71': 0, '1073': 0, '421': 2, '698': 0, '9': 2, '144': 1, '427': 3, '1212': 0, '1140': 1, '344': 4, '517': 3, '505': 2, '171': 5, '586': 1, '492': 0, '1102': 0, '1287': 0, '1254': 0, '1259': 0, '1128': 0, '149': 0, '78': 0, '558': 0, '153': 1, '473': 0, '246': 1, '455': 2, '106': 0, '74': 0, '591': 0, '419': 0, '31': 0, '69': 0, '906': 0, '601': 0, '321': 0, '99': 2, '1103': 0, '1066': 0, '571': 0, '426': 0, '1267': 0, '392': 5, '98': 2, '578': 0, '86': 0, '158': 0, '757': 0, '151': 7, '642': 2, '534': 4, '214': 0, '597': 6, '1242': 0, '732': 0, '168': 0, '657': 0, '152': 4, '539': 0, '831': 0, '1015': 0, '1251': 0, '613': 3, '611': 1, '453': 1, '62': 1, '380': 0, '697': 0, '43': 0, '451': 1, '625': 0, '769': 0, '1123': 0, '1154': 0, '853': 0, '918': 0, '1248': 0, '1189': 0, '1285': 0, '844': 6, '690': 0, '424': 0, '379': 2, '641': 2, '404': 2, '105': 0, '395': 0, '1299': 0, '589': 0, '793': 0, '433': 0, '243': 0, '555': 1, '676': 0, '127': 1, '201': 0, '396': 0, '267': 1, '240': 0, '647': 0, '1163': 0, '948': 1, '1202': 1, '559': 1, '476': 1, '867': 0, '516': 2, '1292': 0, '77': 0, '56': 0, '93': 3, '207': 0, '103': 7, '460': 0, '610': 4, '446': 0, '232': 5, '670': 5, '515': 1, '59': 0, '900': 0, '1053': 0, '357': 0, '934': 0, '746': 3, '279': 0, '136': 0, '1042': 0, '413': 2, '306': 0, '436': 4, '35': 4, '463': 2, '284': 1, '521': 1, '1049': 0, '1198': 0, '720': 1, '239': 0, '958': 0, '718': 0, '475': 1, '276': 3, '608': 1, '293': 4, '341': 0, '501': 0, '858': 1, '713': 0, '1040': 0, '1305': 0, '25': 0, '674': 1, '988': 0, '771': 1, '877': 0, '63': 5, '481': 5, '42': 2, '939': 0, '11': 0, '262': 0, '167': 0, '302': 2, '551': 0, '609': 0, '109': 3, '211': 5, '274': 6, '704': 0, '407': 4, '360': 3, '540': 2, '1173': 0, '112': 2, '479': 3, '237': 2, '487': 4, '304': 1, '330': 0, '1250': 0, '27': 3, '260': 5, '511': 3, '1029': 0, '399': 0, '977': 0, '556': 1, '1265': 0, '252': 2, '100': 1, '313': 5, '465': 1, '615': 0, '372': 1, '614': 1, '208': 1, '652': 1, '1260': 0, '1194': 0, '361': 10, '1185': 1, '490': 0, '365': 0, '220': 4, '124': 0, '496': 8, '405': 4, '452': 0, '318': 0, '266': 10, '219': 2, '83': 3, '1266': 0, '121': 3, '459': 6, '735': 0, '1032': 0, '128': 5, '1031': 0, '673': 0, '843': 5, '216': 1, '554': 2, '1183': 1, '133': 0, '887': 0, '248': 1, '629': 3, '478': 0, '804': 0, '1096': 7, '163': 20, '1208': 1, '1207': 0, '602': 1, '1153': 2, '605': 1, '1210': 1, '916': 1, '381': 0, '666': 0, '26': 2, '508': 1, '509': 1, '753': 0, '141': 2, '432': 1, '375': 1, '183': 2, '400': 1, '585': 3, '13': 10, '205': 1, '593': 0, '437': 0, '468': 1, '729': 0, '22': 5, '449': 0, '482': 1, '349': 1, '1089': 0, '651': 8, '1054': 0, '289': 7, '796': 0, '104': 2, '286': 2, '812': 20, '462': 4, '1001': 0, '213': 6, '359': 9, '21': 12, '633': 36, '1205': 0, '1014': 10, '40': 6, '1216': 1, '1131': 5, '1150': 3, '403': 15, '773': 0, '856': 0, '305': 3, '485': 2, '464': 4, '340': 1, '75': 0, '786': 0, '1072': 0, '588': 0, '291': 0, '1264': 0, '1088': 0, '536': 0, '107': 1, '353': 1, '146': 0, '466': 1, '811': 9, '825': 0, '484': 0, '1055': 0, '192': 4, '398': 0, '1215': 6, '20': 2, '1030': 2, '955': 0, '200': 1, '665': 0, '1263': 1, '1136': 0, '1144': 0, '142': 1, '1228': 0, '967': 2, '754': 2, '851': 1, '990': 0, '950': 1, '1087': 1, '940': 0, '986': 3, '784': 3, '893': 0, '840': 0, '975': 0, '1038': 0, '1170': 0, '1268': 0, '706': 9, '632': 0, '606': 2, '117': 1, '94': 0, '299': 0, '574': 0, '212': 0, '401': 0, '387': 0, '1113': 0, '382': 1, '8': 7, '1': 0, '184': 2, '61': 2, '669': 0, '596': 4, '7': 1, '41': 1, '513': 8, '545': 3, '572': 6, '199': 6, '569': 13, '14': 0, '646': 2, '6': 6, '619': 6, '912': 0, '456': 0, '80': 1, '116': 5, '89': 1, '471': 1, '1002': 0, '154': 4, '58': 3, '406': 1, '1062': 0, '1282': 1, '162': 3, '242': 3, '235': 0, '928': 0, '1151': 0, '249': 5, '621': 1, '656': 0, '497': 1, '73': 0, '290': 3, '1290': 0, '294': 2, '573': 6, '1081': 0, '956': 0, '1036': 0, '271': 5, '317': 17, '1257': 0, '326': 7, '748': 4, '777': 1, '296': 0, '628': 1, '1262': 0, '531': 5, '1209': 2, '498': 5, '430': 9, '694': 2, '238': 2, '48': 12, '47': 13, '29': 5, '885': 27, '164': 15, '1080': 0, '402': 0, '15': 1, '87': 1, '134': 6, '1033': 9, '782': 2, '979': 1, '1302': 0, '687': 0, '924': 4, '946': 1, '805': 0, '552': 5, '1028': 0, '122': 7, '39': 10, '393': 0, '1147': 0, '325': 1, '883': 3, '1224': 0, '332': 1, '443': 4, '309': 0, '512': 0, '230': 0, '301': 6, '506': 0, '1243': 0, '1220': 0, '755': 0, '85': 1, '160': 2, '1050': 1, '834': 0, '742': 1, '535': 4, '636': 0, '423': 2, '190': 0, '692': 0, '259': 3, '653': 8, '1177': 1, '233': 1, '351': 1, '854': 2, '880': 0, '839': 0, '1161': 0, '672': 0, '282': 2, '155': 0, '257': 0, '311': 0, '188': 0, '1146': 0, '65': 3, '787': 0, '941': 0, '457': 2, '985': 0, '333': 0, '835': 0, '549': 0, '660': 0, '174': 1, '514': 0, '594': 0, '137': 3, '778': 0, '801': 0, '1077': 0, '808': 0, '241': 1, '46': 0, '363': 0, '269': 1, '528': 3, '600': 0, '1115': 0, '920': 0, '447': 0, '370': 0, '84': 5, '255': 1, '472': 0, '272': 8, '32': 0, '115': 0, '434': 5, '532': 1, '937': 0, '927': 1, '1022': 0, '320': 3, '635': 1, '182': 1, '298': 1, '385': 2, '175': 10, '120': 3, '314': 9, '331': 2, '303': 4, '533': 3, '17': 1, '129': 1, '189': 7, '4': 0, '454': 1, '715': 1, '410': 2, '1007': 0, '16': 1, '297': 2, '373': 2, '510': 1, '645': 2, '36': 4, '616': 4, '55': 4, '538': 0, '503': 0, '196': 1, '1217': 1, '762': 0, '565': 5, '897': 0, '518': 8, '384': 5, '1075': 0, '888': 0, '1227': 0, '176': 6, '1231': 8, '391': 0, '1188': 2, '1200': 1, '113': 0, '409': 1, '1082': 1, '872': 1, '828': 2, '172': 4, '1276': 0, '542': 6, '526': 18, '355': 10, '901': 0, '764': 0, '210': 1, '1048': 0, '543': 1, '1149': 3, '1175': 0, '781': 0, '425': 8, '118': 5, '310': 9, '19': 0, '1070': 16, '798': 4, '548': 2, '1143': 1, '931': 0, '1056': 5, '1235': 1, '417': 0, '794': 3, '816': 0, '1269': 0, '1067': 0, '1157': 0, '726': 0, '177': 3, '797': 0, '49': 0, '376': 0, '228': 3, '173': 0, '422': 2, '236': 3, '779': 0, '1182': 1, '287': 2, '648': 0, '1249': 0, '519': 4, '1099': 1, '566': 0, '846': 0, '1052': 0, '661': 0, '852': 1, '491': 2, '445': 0, '644': 1, '68': 0, '489': 6, '1206': 0, '414': 0, '226': 3, '2': 0, '1274': 7, '218': 20, '324': 6, '1000': 1, '973': 1, '806': 0, '1178': 0, '832': 0, '689': 0, '1278': 0, '438': 2, '992': 0, '575': 3, '1298': 2, '751': 1, '1176': 4, '1110': 0, '874': 0, '686': 0}\n"
     ]
    }
   ],
   "source": [
    "total_lessons_by_account_first_week = dict()\n",
    "\n",
    "for account_key, engagement_for_student in first_week_paid_engagements.items():\n",
    "    total_lessons = 0\n",
    "    for engagement in engagement_for_student:\n",
    "        total_lessons += engagement['lessons_completed']\n",
    "    total_lessons_by_account_first_week[account_key] = total_lessons\n",
    "    \n",
    "total_lessons = list(total_lessons_by_account_first_week.values())\n",
    "print(total_lessons_by_account_first_week)"
   ]
  },
  {
   "cell_type": "code",
   "execution_count": 58,
   "metadata": {},
   "outputs": [
    {
     "name": "stdout",
     "output_type": "stream",
     "text": [
      "Mean 1.636180904522613\n",
      "Standard Deviation 3.0025612998294227\n",
      "Max 36\n",
      "Min 0\n"
     ]
    }
   ],
   "source": [
    "print('Mean', np.mean(total_lessons))\n",
    "print('Standard Deviation', np.std(total_lessons))\n",
    "print('Max', np.max(total_lessons))\n",
    "print('Min', np.min(total_lessons))"
   ]
  }
 ],
 "metadata": {
  "kernelspec": {
   "display_name": "Python 3",
   "language": "python",
   "name": "python3"
  },
  "language_info": {
   "codemirror_mode": {
    "name": "ipython",
    "version": 3
   },
   "file_extension": ".py",
   "mimetype": "text/x-python",
   "name": "python",
   "nbconvert_exporter": "python",
   "pygments_lexer": "ipython3",
   "version": "3.6.5"
  }
 },
 "nbformat": 4,
 "nbformat_minor": 2
}
