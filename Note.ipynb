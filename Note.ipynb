{
 "cells": [
  {
   "cell_type": "markdown",
   "metadata": {},
   "source": [
    "Udacity Student Data Analysis\n",
    "=========================\n",
    "## Preparing data for Analysis  \n",
    "### Load Data from CSVs"
   ]
  },
  {
   "cell_type": "code",
   "execution_count": 1,
   "metadata": {},
   "outputs": [
    {
     "name": "stdout",
     "output_type": "stream",
     "text": [
      "F:\\JupyterProjects\\Github_repo\\python_data_analysis_exercise\n"
     ]
    },
    {
     "data": {
      "text/plain": [
       "'F:\\\\JupyterProjects\\\\Github_repo\\\\python_data_analysis_exercise'"
      ]
     },
     "execution_count": 1,
     "metadata": {},
     "output_type": "execute_result"
    }
   ],
   "source": [
    "import unicodecsv\n",
    "import os\n",
    "print(os.getcwd())\n",
    "%pwd"
   ]
  },
  {
   "cell_type": "code",
   "execution_count": 2,
   "metadata": {},
   "outputs": [],
   "source": [
    "def csv_to_list(filename: str) -> list:\n",
    "    \"\"\"\n",
    "\n",
    "    :type filename: str\n",
    "    \"\"\"\n",
    "    # takes a string filename to a csv and returns its data as a list\n",
    "    #with open('F:/JupyterProjects/untitled/'+filename, 'rb') as f_in:\n",
    "    with open(filename, 'rb') as f_in:\n",
    "        reader = unicodecsv.DictReader(f_in)\n",
    "        return list(reader)"
   ]
  },
  {
   "cell_type": "code",
   "execution_count": 3,
   "metadata": {},
   "outputs": [
    {
     "name": "stdout",
     "output_type": "stream",
     "text": [
      "1 F:\\JupyterProjects\\Github_repo\\python_data_analysis_exercise\n",
      "2 F:\\JupyterProjects\\Github_repo\\python_data_analysis_exercise\\Note.ipynb\n",
      "3 \n"
     ]
    }
   ],
   "source": [
    "print('1', os.path.abspath(os.path.dirname('')))\n",
    "print('2', os.path.abspath('Note.ipynb'))\n",
    "print('3', os.path.dirname('Note.ipynb'))\n",
    "\n",
    "\n",
    "engagement_filename = 'data/daily_engagement.csv'\n",
    "enrollments_filename = 'data/enrollments.csv'\n",
    "submissions_filename = 'data/project_submissions.csv'\n",
    "\n",
    "engagements = csv_to_list(engagement_filename)\n",
    "enrollments = csv_to_list(enrollments_filename)\n",
    "submissions = csv_to_list(submissions_filename)"
   ]
  },
  {
   "cell_type": "code",
   "execution_count": 4,
   "metadata": {
    "scrolled": true
   },
   "outputs": [
    {
     "name": "stdout",
     "output_type": "stream",
     "text": [
      "Engagements : {'acct': '0', 'projects_completed': '0.0', 'total_minutes_visited': '11.6793745', 'utc_date': '2015-01-09', 'lessons_completed': '0.0', 'num_courses_visited': '1.0'}\n",
      "\n",
      "Enrollments : {'cancel_date': '2015-01-14', 'join_date': '2014-11-10', 'is_udacity': 'True', 'days_to_cancel': '65', 'is_canceled': 'True', 'account_key': '448', 'status': 'canceled'}\n",
      "\n",
      "Submissions : {'creation_date': '2015-01-14', 'completion_date': '2015-01-16', 'account_key': '256', 'assigned_rating': 'UNGRADED', 'lesson_key': '3176718735', 'processing_state': 'EVALUATED'}\n"
     ]
    }
   ],
   "source": [
    "def print_lists(ele=0):\n",
    "    print(\"Engagements :\", engagements[ele])\n",
    "    print()\n",
    "    print(\"Enrollments :\", enrollments[ele])\n",
    "    print()\n",
    "    print(\"Submissions :\", submissions[ele])\n",
    "\n",
    "\n",
    "print_lists()"
   ]
  },
  {
   "cell_type": "markdown",
   "metadata": {},
   "source": [
    "### Convert Ordered dict to dict"
   ]
  },
  {
   "cell_type": "code",
   "execution_count": 5,
   "metadata": {},
   "outputs": [],
   "source": [
    "def convert_to_dict():\n",
    "    for ele in range(len(engagements)):\n",
    "        engagements[ele] = dict(engagements[ele])\n",
    "    for ele in range(len(enrollments)):\n",
    "        enrollments[ele] = dict(enrollments[ele])\n",
    "    for ele in range(len(submissions)):\n",
    "        submissions[ele] = dict(submissions[ele])\n",
    "\n",
    "\n",
    "convert_to_dict()"
   ]
  },
  {
   "cell_type": "code",
   "execution_count": 6,
   "metadata": {},
   "outputs": [
    {
     "name": "stdout",
     "output_type": "stream",
     "text": [
      "Engagements : {'acct': '0', 'projects_completed': '0.0', 'total_minutes_visited': '11.6793745', 'utc_date': '2015-01-09', 'lessons_completed': '0.0', 'num_courses_visited': '1.0'}\n",
      "\n",
      "Enrollments : {'cancel_date': '2015-01-14', 'account_key': '448', 'is_udacity': 'True', 'is_canceled': 'True', 'days_to_cancel': '65', 'status': 'canceled', 'join_date': '2014-11-10'}\n",
      "\n",
      "Submissions : {'creation_date': '2015-01-14', 'completion_date': '2015-01-16', 'account_key': '256', 'assigned_rating': 'UNGRADED', 'lesson_key': '3176718735', 'processing_state': 'EVALUATED'}\n"
     ]
    }
   ],
   "source": [
    "print_lists()"
   ]
  },
  {
   "cell_type": "markdown",
   "metadata": {},
   "source": [
    "### Fix Datatypes"
   ]
  },
  {
   "cell_type": "code",
   "execution_count": 7,
   "metadata": {},
   "outputs": [],
   "source": [
    "from datetime import datetime as dt"
   ]
  },
  {
   "cell_type": "code",
   "execution_count": 8,
   "metadata": {},
   "outputs": [
    {
     "name": "stdout",
     "output_type": "stream",
     "text": [
      "Parsed\n"
     ]
    }
   ],
   "source": [
    "if type(enrollments[0]['status']) == str:\n",
    "    for enrollment in enrollments:\n",
    "        enrollment['status'] = enrollment['status']=='current'\n",
    "        enrollment['join_date'] = None if enrollment['join_date']=='' else dt.strptime(enrollment['join_date'], '%Y-%m-%d')\n",
    "        enrollment['cancel_date'] = None if enrollment['cancel_date']=='' else dt.strptime(enrollment['cancel_date'], '%Y-%m-%d')\n",
    "        enrollment['days_to_cancel'] = None if enrollment['days_to_cancel']=='' else int(enrollment['days_to_cancel'])\n",
    "        enrollment['is_udacity'] = enrollment['is_udacity']=='True'\n",
    "        enrollment['is_canceled'] = enrollment['is_canceled']=='True'\n",
    "    print(\"Parsed\")\n",
    "else:\n",
    "    print(\"Already Parsed\")"
   ]
  },
  {
   "cell_type": "code",
   "execution_count": 9,
   "metadata": {},
   "outputs": [
    {
     "name": "stdout",
     "output_type": "stream",
     "text": [
      "Parsed\n"
     ]
    }
   ],
   "source": [
    "if type(engagements[0]['utc_date']) == str:\n",
    "    for engagement in engagements:\n",
    "        engagement['utc_date'] = None if engagement['utc_date']=='' else dt.strptime(engagement['utc_date'], '%Y-%m-%d')\n",
    "        engagement['num_courses_visited'] = int(float(engagement['num_courses_visited']))\n",
    "        engagement['total_minutes_visited'] = float(engagement['total_minutes_visited'])\n",
    "        engagement['lessons_completed'] = int(float(engagement['lessons_completed']))\n",
    "        engagement['projects_completed'] = int(float(engagement['projects_completed']))\n",
    "    print(\"Parsed\")\n",
    "else:\n",
    "    print(\"Already Parsed\")"
   ]
  },
  {
   "cell_type": "code",
   "execution_count": 10,
   "metadata": {},
   "outputs": [
    {
     "name": "stdout",
     "output_type": "stream",
     "text": [
      "Parsed\n"
     ]
    }
   ],
   "source": [
    "if type(submissions[0]['creation_date']) == str:\n",
    "    for submission in submissions:\n",
    "        submission['creation_date'] = None if submission['creation_date']=='' else dt.strptime(submission['creation_date'], '%Y-%m-%d')\n",
    "        submission['completion_date'] = None if submission['completion_date']=='' else dt.strptime(submission['completion_date'], '%Y-%m-%d') \n",
    "    print(\"Parsed\")\n",
    "else:\n",
    "    print(\"Already Parsed\")"
   ]
  },
  {
   "cell_type": "code",
   "execution_count": 11,
   "metadata": {
    "scrolled": true
   },
   "outputs": [
    {
     "name": "stdout",
     "output_type": "stream",
     "text": [
      "Engagements : {'acct': '0', 'projects_completed': 0, 'total_minutes_visited': 11.6793745, 'utc_date': datetime.datetime(2015, 1, 9, 0, 0), 'lessons_completed': 0, 'num_courses_visited': 1}\n",
      "\n",
      "Enrollments : {'cancel_date': datetime.datetime(2015, 1, 14, 0, 0), 'account_key': '448', 'is_udacity': True, 'is_canceled': True, 'days_to_cancel': 65, 'status': False, 'join_date': datetime.datetime(2014, 11, 10, 0, 0)}\n",
      "\n",
      "Submissions : {'creation_date': datetime.datetime(2015, 1, 14, 0, 0), 'completion_date': datetime.datetime(2015, 1, 16, 0, 0), 'account_key': '256', 'assigned_rating': 'UNGRADED', 'lesson_key': '3176718735', 'processing_state': 'EVALUATED'}\n"
     ]
    }
   ],
   "source": [
    "print_lists(0)"
   ]
  },
  {
   "cell_type": "markdown",
   "metadata": {},
   "source": [
    "## Investigating the  data\n",
    "* Find the total number of rows and the number of unique students (account keys) in each table."
   ]
  },
  {
   "cell_type": "code",
   "execution_count": 12,
   "metadata": {},
   "outputs": [
    {
     "name": "stdout",
     "output_type": "stream",
     "text": [
      "Engagements : 136240\n",
      "Enrollments : 1640\n",
      "Submissions : 3642\n"
     ]
    }
   ],
   "source": [
    "# No of rows\n",
    "print(\"Engagements :\",len(engagements))\n",
    "print(\"Enrollments :\",len(enrollments))\n",
    "print(\"Submissions :\",len(submissions))"
   ]
  },
  {
   "cell_type": "markdown",
   "metadata": {},
   "source": [
    "### Problems in the data\n",
    "#### Rename the \"acct\" column in the `daily_engagement` table to \"account_key\"."
   ]
  },
  {
   "cell_type": "code",
   "execution_count": 13,
   "metadata": {},
   "outputs": [],
   "source": [
    "# Rename the \"acct\" column in the daily_engagement table to \"account_key\".\n",
    "if engagements[0].get('acct'):\n",
    "    for engagement in engagements:\n",
    "        engagement['account_key'] = engagement['acct']\n",
    "        engagement.pop('acct')"
   ]
  },
  {
   "cell_type": "markdown",
   "metadata": {},
   "source": [
    "#### get_unique_students `Function`\n",
    "Takes in data (a list of dicts) and returns a set of unique student's account numbers"
   ]
  },
  {
   "cell_type": "code",
   "execution_count": 14,
   "metadata": {},
   "outputs": [],
   "source": [
    "def get_unique_students(data: list) -> set:\n",
    "    \"\"\"\n",
    "\n",
    "    :type data: list\n",
    "    \"\"\"\n",
    "    unique_students_set = set()\n",
    "    for ele in data:\n",
    "        unique_students_set.add(str(ele['account_key']))\n",
    "    return unique_students_set"
   ]
  },
  {
   "cell_type": "markdown",
   "metadata": {},
   "source": [
    "#### get_student_records `Function`\n",
    "Takes in data(a list of dicts), account_key(string) and returns a list of records of that student"
   ]
  },
  {
   "cell_type": "code",
   "execution_count": 15,
   "metadata": {},
   "outputs": [],
   "source": [
    "def get_student_records(data: list, key: str, key_type: str = 'account_key') -> list:\n",
    "    student_records = list()\n",
    "    for ele in data:\n",
    "        if ele[key_type] == key:\n",
    "            student_records.append(dict(ele))\n",
    "    return student_records"
   ]
  },
  {
   "cell_type": "markdown",
   "metadata": {},
   "source": [
    "#### pop_items_from_dictofdicts `Function`\n",
    "Takes in:  \n",
    "* data(a dict where each value is a list of dicts)\n",
    "* popitms(a set of keys(string) ) \n",
    "\n",
    "returns:  \n",
    "* data( same type as the input data) with "
   ]
  },
  {
   "cell_type": "code",
   "execution_count": 16,
   "metadata": {},
   "outputs": [],
   "source": [
    "def pop_items_from_dictofdicts(data: dict, popitms: set = None):\n",
    "    returnData = dict()\n",
    "    for key in data:\n",
    "        # data[key] here is a list of records corresponding to one key('account_key')\n",
    "        returnData[key] = list()\n",
    "        for record in data[key]:\n",
    "            #print(record)\n",
    "            poped_ele = dict(record)\n",
    "            poped_ele.pop(popitms)\n",
    "            returnData[key].append(poped_ele)\n",
    "    return returnData"
   ]
  },
  {
   "cell_type": "markdown",
   "metadata": {},
   "source": [
    "#### Find students who are reported in enrollment but not in engagement\n",
    "#### run_unique_test `Function`\n",
    "Takes in two lists. First List is enrollments. Second is Engagements.\n",
    "Each list is a list of dicts."
   ]
  },
  {
   "cell_type": "code",
   "execution_count": 17,
   "metadata": {},
   "outputs": [
    {
     "name": "stdout",
     "output_type": "stream",
     "text": [
      "students who are reported in enrollment but not in engagement\n",
      "{'1304', '878', '964', '789', '1291', '711', '739', '1145', '1213', '733', '841', '1069', '884', '799', '1120', '1148', '1155', '1190', '728', '1079', '1222', '1171', '1237', '1101', '981', '819', '737', '1125', '727', '1284', '1186', '749', '803', '889', '1238', '707', '968', '875', '914', '926', '750', '1063', '654', '725', '766', '996', '1129', '902', '802', '1219', '817', '871', '664', '717', '1086', '1270', '1241', '1044', '1191', '870', '1218', '1273', '1010', '1025', '997'} \n",
      "\n",
      "No of Enrollment records: 1640, No of Engagement records: 136240\n",
      "No of Unique Students in Enrollment records: 1302\n",
      "No of Unique Students in Engagement records: 1237\n",
      "No of non engaging students: 65\n",
      "\n",
      "Check to see if there are any engaging students that are not reported in Enrollment records:\n",
      "None\n",
      "\n",
      "Check to see if there are any project submission that are not reported in Enrollment records or engagement records:\n",
      "There are submitting students that are not reported in Enrollment records {'638', '470', '247', '95'}\n",
      "There are engaging students that are not reported in Engagement records {'638', '470', '247', '95'}\n"
     ]
    }
   ],
   "source": [
    "def run_unique_test(enrollments, engagements, submissions):\n",
    "    enrollment_students = get_unique_students(enrollments)\n",
    "    engagement_students = get_unique_students(engagements)\n",
    "    submission_students = get_unique_students(submissions)\n",
    "    \n",
    "    non_engaging_stds = enrollment_students - engagement_students\n",
    "\n",
    "    print(\"students who are reported in enrollment but not in engagement\")\n",
    "    print(non_engaging_stds, \"\\n\")\n",
    "    print(\"No of Enrollment records: {}, No of Engagement records: {}\".format(len(enrollments), len(engagements)))\n",
    "    print(\"No of Unique Students in Enrollment records: {}\\nNo of Unique Students in Engagement records: {}\".\n",
    "          format(len(enrollment_students), len(engagement_students)))\n",
    "    print(\"No of non engaging students:\", len(non_engaging_stds))\n",
    "    print(\"\\nCheck to see if there are any engaging students that are not reported in Enrollment records:\")\n",
    "    if not len(engagement_students - enrollment_students):\n",
    "        print(\"None\")\n",
    "    else:\n",
    "        print(\"There are any engaging students that are not reported in Enrollment records\")\n",
    "    print(\"\\nCheck to see if there are any project submission that are not reported in Enrollment records or engagement records:\")\n",
    "    if len(submission_students - enrollment_students):\n",
    "        print(\"There are submitting students that are not reported in Enrollment records\", (submission_students - enrollment_students))\n",
    "    if len(submission_students - engagement_students):\n",
    "        print(\"There are engaging students that are not reported in Engagement records\", (submission_students - engagement_students))\n",
    "        \n",
    "    return non_engaging_stds\n",
    "\n",
    "\n",
    "non_engaging_students = run_unique_test(enrollments, engagements, submissions)\n"
   ]
  },
  {
   "cell_type": "markdown",
   "metadata": {},
   "source": [
    "#### Observe the data of these students in enrollment data\n",
    "\n",
    "**`Observations :`**\n",
    "* Udacity test accounts were found to be part of problem. Need to remove those accounts from analysis."
   ]
  },
  {
   "cell_type": "code",
   "execution_count": 18,
   "metadata": {},
   "outputs": [
    {
     "name": "stdout",
     "output_type": "stream",
     "text": [
      "{'cancel_date': datetime.datetime(2015, 3, 10, 0, 0), 'account_key': '1304', 'is_udacity': True, 'is_canceled': True, 'days_to_cancel': 59, 'status': False, 'join_date': datetime.datetime(2015, 1, 10, 0, 0)}\n",
      "{'cancel_date': datetime.datetime(2015, 6, 17, 0, 0), 'account_key': '1304', 'is_udacity': True, 'is_canceled': True, 'days_to_cancel': 99, 'status': False, 'join_date': datetime.datetime(2015, 3, 10, 0, 0)}\n",
      "{'cancel_date': datetime.datetime(2014, 11, 10, 0, 0), 'account_key': '878', 'is_udacity': False, 'is_canceled': True, 'days_to_cancel': 0, 'status': False, 'join_date': datetime.datetime(2014, 11, 10, 0, 0)}\n",
      "{'cancel_date': datetime.datetime(2014, 12, 4, 0, 0), 'account_key': '964', 'is_udacity': False, 'is_canceled': True, 'days_to_cancel': 0, 'status': False, 'join_date': datetime.datetime(2014, 12, 4, 0, 0)}\n",
      "{'cancel_date': datetime.datetime(2015, 2, 6, 0, 0), 'account_key': '789', 'is_udacity': False, 'is_canceled': True, 'days_to_cancel': 0, 'status': False, 'join_date': datetime.datetime(2015, 2, 6, 0, 0)}\n",
      "{'cancel_date': datetime.datetime(2015, 6, 3, 0, 0), 'account_key': '1291', 'is_udacity': False, 'is_canceled': True, 'days_to_cancel': 0, 'status': False, 'join_date': datetime.datetime(2015, 6, 3, 0, 0)}\n",
      "{'cancel_date': datetime.datetime(2015, 5, 8, 0, 0), 'account_key': '711', 'is_udacity': False, 'is_canceled': True, 'days_to_cancel': 0, 'status': False, 'join_date': datetime.datetime(2015, 5, 8, 0, 0)}\n",
      "{'cancel_date': datetime.datetime(2015, 4, 5, 0, 0), 'account_key': '739', 'is_udacity': False, 'is_canceled': True, 'days_to_cancel': 0, 'status': False, 'join_date': datetime.datetime(2015, 4, 5, 0, 0)}\n",
      "{'cancel_date': datetime.datetime(2015, 4, 4, 0, 0), 'account_key': '1145', 'is_udacity': False, 'is_canceled': True, 'days_to_cancel': 0, 'status': False, 'join_date': datetime.datetime(2015, 4, 4, 0, 0)}\n",
      "{'cancel_date': datetime.datetime(2015, 1, 12, 0, 0), 'account_key': '1213', 'is_udacity': False, 'is_canceled': True, 'days_to_cancel': 0, 'status': False, 'join_date': datetime.datetime(2015, 1, 12, 0, 0)}\n",
      "{'cancel_date': datetime.datetime(2015, 1, 12, 0, 0), 'account_key': '733', 'is_udacity': False, 'is_canceled': True, 'days_to_cancel': 0, 'status': False, 'join_date': datetime.datetime(2015, 1, 12, 0, 0)}\n",
      "{'cancel_date': datetime.datetime(2014, 11, 12, 0, 0), 'account_key': '841', 'is_udacity': False, 'is_canceled': True, 'days_to_cancel': 0, 'status': False, 'join_date': datetime.datetime(2014, 11, 12, 0, 0)}\n",
      "{'cancel_date': datetime.datetime(2015, 6, 1, 0, 0), 'account_key': '1069', 'is_udacity': True, 'is_canceled': True, 'days_to_cancel': 0, 'status': False, 'join_date': datetime.datetime(2015, 6, 1, 0, 0)}\n",
      "{'cancel_date': datetime.datetime(2015, 1, 8, 0, 0), 'account_key': '884', 'is_udacity': False, 'is_canceled': True, 'days_to_cancel': 0, 'status': False, 'join_date': datetime.datetime(2015, 1, 8, 0, 0)}\n",
      "{'cancel_date': datetime.datetime(2015, 2, 6, 0, 0), 'account_key': '799', 'is_udacity': False, 'is_canceled': True, 'days_to_cancel': 0, 'status': False, 'join_date': datetime.datetime(2015, 2, 6, 0, 0)}\n",
      "{'cancel_date': datetime.datetime(2014, 12, 4, 0, 0), 'account_key': '1120', 'is_udacity': False, 'is_canceled': True, 'days_to_cancel': 0, 'status': False, 'join_date': datetime.datetime(2014, 12, 4, 0, 0)}\n",
      "{'cancel_date': datetime.datetime(2015, 3, 9, 0, 0), 'account_key': '1148', 'is_udacity': False, 'is_canceled': True, 'days_to_cancel': 0, 'status': False, 'join_date': datetime.datetime(2015, 3, 9, 0, 0)}\n",
      "{'cancel_date': datetime.datetime(2015, 7, 17, 0, 0), 'account_key': '1155', 'is_udacity': False, 'is_canceled': True, 'days_to_cancel': 0, 'status': False, 'join_date': datetime.datetime(2015, 7, 17, 0, 0)}\n",
      "{'cancel_date': datetime.datetime(2015, 3, 6, 0, 0), 'account_key': '1190', 'is_udacity': False, 'is_canceled': True, 'days_to_cancel': 0, 'status': False, 'join_date': datetime.datetime(2015, 3, 6, 0, 0)}\n",
      "{'cancel_date': datetime.datetime(2014, 12, 5, 0, 0), 'account_key': '728', 'is_udacity': False, 'is_canceled': True, 'days_to_cancel': 0, 'status': False, 'join_date': datetime.datetime(2014, 12, 5, 0, 0)}\n",
      "{'cancel_date': datetime.datetime(2015, 2, 9, 0, 0), 'account_key': '1079', 'is_udacity': False, 'is_canceled': True, 'days_to_cancel': 0, 'status': False, 'join_date': datetime.datetime(2015, 2, 9, 0, 0)}\n",
      "{'cancel_date': datetime.datetime(2015, 4, 7, 0, 0), 'account_key': '1222', 'is_udacity': False, 'is_canceled': True, 'days_to_cancel': 0, 'status': False, 'join_date': datetime.datetime(2015, 4, 7, 0, 0)}\n",
      "{'cancel_date': datetime.datetime(2015, 1, 7, 0, 0), 'account_key': '1171', 'is_udacity': False, 'is_canceled': True, 'days_to_cancel': 0, 'status': False, 'join_date': datetime.datetime(2015, 1, 7, 0, 0)}\n",
      "{'cancel_date': datetime.datetime(2015, 5, 28, 0, 0), 'account_key': '1237', 'is_udacity': False, 'is_canceled': True, 'days_to_cancel': 0, 'status': False, 'join_date': datetime.datetime(2015, 5, 28, 0, 0)}\n",
      "{'cancel_date': None, 'account_key': '1101', 'is_udacity': True, 'is_canceled': False, 'days_to_cancel': None, 'status': True, 'join_date': datetime.datetime(2015, 2, 25, 0, 0)}\n",
      "{'cancel_date': datetime.datetime(2015, 2, 7, 0, 0), 'account_key': '981', 'is_udacity': False, 'is_canceled': True, 'days_to_cancel': 0, 'status': False, 'join_date': datetime.datetime(2015, 2, 7, 0, 0)}\n",
      "{'cancel_date': datetime.datetime(2015, 3, 4, 0, 0), 'account_key': '819', 'is_udacity': False, 'is_canceled': True, 'days_to_cancel': 0, 'status': False, 'join_date': datetime.datetime(2015, 3, 4, 0, 0)}\n",
      "{'cancel_date': datetime.datetime(2015, 3, 4, 0, 0), 'account_key': '819', 'is_udacity': False, 'is_canceled': True, 'days_to_cancel': 0, 'status': False, 'join_date': datetime.datetime(2015, 3, 4, 0, 0)}\n",
      "{'cancel_date': datetime.datetime(2014, 11, 10, 0, 0), 'account_key': '737', 'is_udacity': False, 'is_canceled': True, 'days_to_cancel': 0, 'status': False, 'join_date': datetime.datetime(2014, 11, 10, 0, 0)}\n",
      "{'cancel_date': datetime.datetime(2015, 5, 31, 0, 0), 'account_key': '1125', 'is_udacity': False, 'is_canceled': True, 'days_to_cancel': 0, 'status': False, 'join_date': datetime.datetime(2015, 5, 31, 0, 0)}\n",
      "{'cancel_date': datetime.datetime(2014, 12, 7, 0, 0), 'account_key': '727', 'is_udacity': False, 'is_canceled': True, 'days_to_cancel': 0, 'status': False, 'join_date': datetime.datetime(2014, 12, 7, 0, 0)}\n",
      "{'cancel_date': datetime.datetime(2015, 1, 13, 0, 0), 'account_key': '1284', 'is_udacity': False, 'is_canceled': True, 'days_to_cancel': 0, 'status': False, 'join_date': datetime.datetime(2015, 1, 13, 0, 0)}\n",
      "{'cancel_date': datetime.datetime(2015, 3, 11, 0, 0), 'account_key': '1186', 'is_udacity': False, 'is_canceled': True, 'days_to_cancel': 0, 'status': False, 'join_date': datetime.datetime(2015, 3, 11, 0, 0)}\n",
      "{'cancel_date': datetime.datetime(2015, 3, 5, 0, 0), 'account_key': '749', 'is_udacity': False, 'is_canceled': True, 'days_to_cancel': 0, 'status': False, 'join_date': datetime.datetime(2015, 3, 5, 0, 0)}\n",
      "{'cancel_date': datetime.datetime(2015, 1, 8, 0, 0), 'account_key': '803', 'is_udacity': False, 'is_canceled': True, 'days_to_cancel': 0, 'status': False, 'join_date': datetime.datetime(2015, 1, 8, 0, 0)}\n",
      "{'cancel_date': datetime.datetime(2015, 8, 11, 0, 0), 'account_key': '889', 'is_udacity': False, 'is_canceled': True, 'days_to_cancel': 0, 'status': False, 'join_date': datetime.datetime(2015, 8, 11, 0, 0)}\n",
      "{'cancel_date': datetime.datetime(2014, 11, 10, 0, 0), 'account_key': '1238', 'is_udacity': False, 'is_canceled': True, 'days_to_cancel': 0, 'status': False, 'join_date': datetime.datetime(2014, 11, 10, 0, 0)}\n",
      "{'cancel_date': datetime.datetime(2014, 12, 3, 0, 0), 'account_key': '707', 'is_udacity': False, 'is_canceled': True, 'days_to_cancel': 0, 'status': False, 'join_date': datetime.datetime(2014, 12, 3, 0, 0)}\n",
      "{'cancel_date': datetime.datetime(2015, 7, 17, 0, 0), 'account_key': '968', 'is_udacity': False, 'is_canceled': True, 'days_to_cancel': 0, 'status': False, 'join_date': datetime.datetime(2015, 7, 17, 0, 0)}\n",
      "{'cancel_date': datetime.datetime(2014, 11, 17, 0, 0), 'account_key': '875', 'is_udacity': False, 'is_canceled': True, 'days_to_cancel': 0, 'status': False, 'join_date': datetime.datetime(2014, 11, 17, 0, 0)}\n",
      "{'cancel_date': datetime.datetime(2015, 4, 2, 0, 0), 'account_key': '914', 'is_udacity': False, 'is_canceled': True, 'days_to_cancel': 0, 'status': False, 'join_date': datetime.datetime(2015, 4, 2, 0, 0)}\n",
      "{'cancel_date': datetime.datetime(2015, 7, 17, 0, 0), 'account_key': '914', 'is_udacity': False, 'is_canceled': True, 'days_to_cancel': 0, 'status': False, 'join_date': datetime.datetime(2015, 7, 17, 0, 0)}\n",
      "{'cancel_date': datetime.datetime(2015, 4, 6, 0, 0), 'account_key': '926', 'is_udacity': False, 'is_canceled': True, 'days_to_cancel': 0, 'status': False, 'join_date': datetime.datetime(2015, 4, 6, 0, 0)}\n",
      "{'cancel_date': datetime.datetime(2015, 6, 6, 0, 0), 'account_key': '750', 'is_udacity': False, 'is_canceled': True, 'days_to_cancel': 0, 'status': False, 'join_date': datetime.datetime(2015, 6, 6, 0, 0)}\n",
      "{'cancel_date': datetime.datetime(2015, 7, 14, 0, 0), 'account_key': '1063', 'is_udacity': False, 'is_canceled': True, 'days_to_cancel': 0, 'status': False, 'join_date': datetime.datetime(2015, 7, 14, 0, 0)}\n",
      "{'cancel_date': datetime.datetime(2014, 12, 4, 0, 0), 'account_key': '654', 'is_udacity': False, 'is_canceled': True, 'days_to_cancel': 0, 'status': False, 'join_date': datetime.datetime(2014, 12, 4, 0, 0)}\n",
      "{'cancel_date': datetime.datetime(2014, 12, 4, 0, 0), 'account_key': '654', 'is_udacity': False, 'is_canceled': True, 'days_to_cancel': 0, 'status': False, 'join_date': datetime.datetime(2014, 12, 4, 0, 0)}\n",
      "{'cancel_date': datetime.datetime(2014, 12, 3, 0, 0), 'account_key': '654', 'is_udacity': False, 'is_canceled': True, 'days_to_cancel': 0, 'status': False, 'join_date': datetime.datetime(2014, 12, 3, 0, 0)}\n",
      "{'cancel_date': datetime.datetime(2014, 12, 6, 0, 0), 'account_key': '725', 'is_udacity': False, 'is_canceled': True, 'days_to_cancel': 0, 'status': False, 'join_date': datetime.datetime(2014, 12, 6, 0, 0)}\n",
      "{'cancel_date': datetime.datetime(2015, 5, 10, 0, 0), 'account_key': '766', 'is_udacity': False, 'is_canceled': True, 'days_to_cancel': 0, 'status': False, 'join_date': datetime.datetime(2015, 5, 10, 0, 0)}\n",
      "{'cancel_date': datetime.datetime(2015, 5, 29, 0, 0), 'account_key': '996', 'is_udacity': False, 'is_canceled': True, 'days_to_cancel': 0, 'status': False, 'join_date': datetime.datetime(2015, 5, 29, 0, 0)}\n",
      "{'cancel_date': datetime.datetime(2015, 3, 7, 0, 0), 'account_key': '1129', 'is_udacity': False, 'is_canceled': True, 'days_to_cancel': 0, 'status': False, 'join_date': datetime.datetime(2015, 3, 7, 0, 0)}\n",
      "{'cancel_date': datetime.datetime(2015, 2, 11, 0, 0), 'account_key': '1129', 'is_udacity': False, 'is_canceled': True, 'days_to_cancel': 0, 'status': False, 'join_date': datetime.datetime(2015, 2, 11, 0, 0)}\n",
      "{'cancel_date': datetime.datetime(2015, 5, 29, 0, 0), 'account_key': '902', 'is_udacity': False, 'is_canceled': True, 'days_to_cancel': 0, 'status': False, 'join_date': datetime.datetime(2015, 5, 29, 0, 0)}\n",
      "{'cancel_date': datetime.datetime(2015, 1, 8, 0, 0), 'account_key': '802', 'is_udacity': False, 'is_canceled': True, 'days_to_cancel': 0, 'status': False, 'join_date': datetime.datetime(2015, 1, 8, 0, 0)}\n",
      "{'cancel_date': datetime.datetime(2014, 11, 12, 0, 0), 'account_key': '1219', 'is_udacity': False, 'is_canceled': True, 'days_to_cancel': 0, 'status': False, 'join_date': datetime.datetime(2014, 11, 12, 0, 0)}\n",
      "{'cancel_date': datetime.datetime(2014, 12, 9, 0, 0), 'account_key': '817', 'is_udacity': False, 'is_canceled': True, 'days_to_cancel': 0, 'status': False, 'join_date': datetime.datetime(2014, 12, 9, 0, 0)}\n",
      "{'cancel_date': datetime.datetime(2014, 11, 13, 0, 0), 'account_key': '871', 'is_udacity': False, 'is_canceled': True, 'days_to_cancel': 0, 'status': False, 'join_date': datetime.datetime(2014, 11, 13, 0, 0)}\n",
      "{'cancel_date': datetime.datetime(2015, 1, 8, 0, 0), 'account_key': '664', 'is_udacity': False, 'is_canceled': True, 'days_to_cancel': 0, 'status': False, 'join_date': datetime.datetime(2015, 1, 8, 0, 0)}\n",
      "{'cancel_date': datetime.datetime(2014, 12, 4, 0, 0), 'account_key': '717', 'is_udacity': False, 'is_canceled': True, 'days_to_cancel': 0, 'status': False, 'join_date': datetime.datetime(2014, 12, 4, 0, 0)}\n",
      "{'cancel_date': datetime.datetime(2015, 6, 9, 0, 0), 'account_key': '1086', 'is_udacity': False, 'is_canceled': True, 'days_to_cancel': 0, 'status': False, 'join_date': datetime.datetime(2015, 6, 9, 0, 0)}\n",
      "{'cancel_date': datetime.datetime(2015, 7, 20, 0, 0), 'account_key': '1270', 'is_udacity': False, 'is_canceled': True, 'days_to_cancel': 0, 'status': False, 'join_date': datetime.datetime(2015, 7, 20, 0, 0)}\n",
      "{'cancel_date': datetime.datetime(2015, 6, 9, 0, 0), 'account_key': '1241', 'is_udacity': False, 'is_canceled': True, 'days_to_cancel': 0, 'status': False, 'join_date': datetime.datetime(2015, 6, 9, 0, 0)}\n",
      "{'cancel_date': datetime.datetime(2015, 2, 8, 0, 0), 'account_key': '1044', 'is_udacity': False, 'is_canceled': True, 'days_to_cancel': 0, 'status': False, 'join_date': datetime.datetime(2015, 2, 8, 0, 0)}\n",
      "{'cancel_date': datetime.datetime(2015, 1, 11, 0, 0), 'account_key': '1191', 'is_udacity': False, 'is_canceled': True, 'days_to_cancel': 0, 'status': False, 'join_date': datetime.datetime(2015, 1, 11, 0, 0)}\n",
      "{'cancel_date': datetime.datetime(2015, 5, 12, 0, 0), 'account_key': '870', 'is_udacity': False, 'is_canceled': True, 'days_to_cancel': 0, 'status': False, 'join_date': datetime.datetime(2015, 5, 12, 0, 0)}\n",
      "{'cancel_date': datetime.datetime(2014, 11, 15, 0, 0), 'account_key': '1218', 'is_udacity': False, 'is_canceled': True, 'days_to_cancel': 0, 'status': False, 'join_date': datetime.datetime(2014, 11, 15, 0, 0)}\n",
      "{'cancel_date': datetime.datetime(2015, 1, 12, 0, 0), 'account_key': '1273', 'is_udacity': False, 'is_canceled': True, 'days_to_cancel': 0, 'status': False, 'join_date': datetime.datetime(2015, 1, 12, 0, 0)}\n",
      "{'cancel_date': datetime.datetime(2015, 1, 11, 0, 0), 'account_key': '1010', 'is_udacity': False, 'is_canceled': True, 'days_to_cancel': 0, 'status': False, 'join_date': datetime.datetime(2015, 1, 11, 0, 0)}\n",
      "{'cancel_date': datetime.datetime(2015, 6, 7, 0, 0), 'account_key': '1025', 'is_udacity': False, 'is_canceled': True, 'days_to_cancel': 0, 'status': False, 'join_date': datetime.datetime(2015, 6, 7, 0, 0)}\n",
      "{'cancel_date': datetime.datetime(2015, 1, 12, 0, 0), 'account_key': '997', 'is_udacity': False, 'is_canceled': True, 'days_to_cancel': 0, 'status': False, 'join_date': datetime.datetime(2015, 1, 12, 0, 0)}\n"
     ]
    }
   ],
   "source": [
    "# Observe the data of these students in enrollment data\n",
    "# 1010\n",
    "\n",
    "# Step 1: output datapoints of a user by the account_key\n",
    "\n",
    "for student in non_engaging_students:\n",
    "#student = '1219'\n",
    "    for enrollment in enrollments:\n",
    "        if enrollment['account_key'] == student:\n",
    "            print(enrollment)\n"
   ]
  },
  {
   "cell_type": "code",
   "execution_count": 19,
   "metadata": {},
   "outputs": [],
   "source": [
    "# Step 2: Find a solution to remove Udacity test accounts from further analysis\n",
    "udacity_test_accounts = set()\n",
    "non_udacity_enrollments = list()\n",
    "non_udacity_engagements = list()\n",
    "non_udacity_submissions = list()\n",
    "for enrollment in enrollments:\n",
    "    if enrollment['is_udacity']:\n",
    "        udacity_test_accounts.add(enrollment['account_key'])\n",
    "    else:\n",
    "        temp = dict()\n",
    "        temp.update(enrollment)\n",
    "        temp.pop('is_udacity')\n",
    "        non_udacity_enrollments.append(temp)\n",
    "        \n",
    "for engagement in engagements:\n",
    "    if engagement['account_key'] not in udacity_test_accounts:\n",
    "        non_udacity_engagements.append(engagement)\n",
    "        \n",
    "for submission in submissions:\n",
    "    if submission['account_key'] not in udacity_test_accounts:\n",
    "        non_udacity_submissions.append(submission)"
   ]
  },
  {
   "cell_type": "code",
   "execution_count": 20,
   "metadata": {},
   "outputs": [
    {
     "name": "stdout",
     "output_type": "stream",
     "text": [
      "1 6\n",
      "2 1622\n",
      "3 135656\n",
      "4 3634\n",
      "5 1296\n",
      "6 1234\n",
      "7 741\n",
      "8 {'638', '470', '247', '95'}\n",
      "students who are reported in enrollment but not in engagement\n",
      "{'878', '964', '789', '1291', '711', '739', '1145', '1213', '733', '841', '884', '799', '1120', '1148', '1155', '1190', '728', '1079', '1222', '1171', '1237', '981', '819', '737', '1125', '727', '1284', '1186', '749', '803', '889', '1238', '707', '968', '875', '914', '926', '750', '1063', '654', '725', '766', '996', '1129', '902', '802', '1219', '817', '871', '664', '717', '1086', '1270', '1241', '1044', '1191', '870', '1218', '1273', '1010', '1025', '997'} \n",
      "\n",
      "No of Enrollment records: 1622, No of Engagement records: 135656\n",
      "No of Unique Students in Enrollment records: 1296\n",
      "No of Unique Students in Engagement records: 1234\n",
      "No of non engaging students: 62\n",
      "\n",
      "Check to see if there are any engaging students that are not reported in Enrollment records:\n",
      "None\n",
      "\n",
      "Check to see if there are any project submission that are not reported in Enrollment records or engagement records:\n",
      "There are submitting students that are not reported in Enrollment records {'638', '470', '247', '95'}\n",
      "There are engaging students that are not reported in Engagement records {'638', '470', '247', '95'}\n"
     ]
    }
   ],
   "source": [
    "print('1', len(udacity_test_accounts))\n",
    "print('2', len(non_udacity_enrollments)) # not number of unique students. This is just number of records\n",
    "print('3', len(non_udacity_engagements))\n",
    "print('4', len(non_udacity_submissions))\n",
    "print('5', len(get_unique_students(non_udacity_enrollments)))\n",
    "print('6', len(get_unique_students(non_udacity_engagements)))\n",
    "print('7', len(get_unique_students(non_udacity_submissions)))\n",
    "print('8', get_unique_students(non_udacity_submissions) - get_unique_students(non_udacity_engagements))\n",
    "non_engaging_students = run_unique_test(non_udacity_enrollments,non_udacity_engagements, non_udacity_submissions)"
   ]
  },
  {
   "cell_type": "code",
   "execution_count": 21,
   "metadata": {},
   "outputs": [],
   "source": [
    "def remove_item_from_list(lis: list, keys: set):\n",
    "    length = len(lis)\n",
    "    for index in range(length):\n",
    "        if lis[index]['account_key'] in keys:\n",
    "            del lis[index]\n",
    "            break\n",
    "    if(length != len(lis)):\n",
    "        remove_item_from_list(lis, keys)"
   ]
  },
  {
   "cell_type": "code",
   "execution_count": 22,
   "metadata": {},
   "outputs": [],
   "source": [
    "# function that remove acc from data(list of dicts)\n",
    "def remove_accs_from_data(data: list, keys: set) -> None:\n",
    "    for index in range(len(data)):\n",
    "        if data[index]['account_key'] in keys:\n",
    "            del data[index]\n",
    "            break\n",
    "    remove_item_from_list(data, keys)\n",
    "    for index in range(len(data)):\n",
    "        if data[index]['account_key'] in keys:\n",
    "            print('not deleted?')"
   ]
  },
  {
   "cell_type": "code",
   "execution_count": 23,
   "metadata": {},
   "outputs": [],
   "source": [
    "# function that check for faulty account datas and removes those accounts for further analysis\n",
    "def remove_faulty_accounts(data_1: list, data_2: list, data_3: list) -> tuple:\n",
    "    unique_students_1 = get_unique_students(data_1)\n",
    "    unique_students_2 = get_unique_students(data_2)\n",
    "    unique_students_3 = get_unique_students(data_3)\n",
    "    faults = dict()\n",
    "    faults['in_3_but_not_in_2'] = list()\n",
    "    for key in unique_students_3:\n",
    "        if key not in unique_students_2:\n",
    "            print('in_3_but_not_in_2 :fault found :', key)\n",
    "            faults['in_3_but_not_in_2'].append(key)\n",
    "    faults['in_3_but_not_in_1'] = list()\n",
    "    for key in unique_students_3:\n",
    "        if key not in unique_students_1:\n",
    "            print('in_3_but_not_in_1 :fault found :', key)\n",
    "            faults['in_3_but_not_in_1'].append(key)\n",
    "    faults['in_2_but_not_in_1'] = list()\n",
    "    for key in unique_students_2:\n",
    "        if key not in unique_students_1:\n",
    "            print('in_2_but_not_in_1 : fault found :', key)\n",
    "            faults['in_2_but_not_in_1'].append(key)\n",
    "            \n",
    "    data_1_loc = data_1.copy()\n",
    "    data_2_loc = data_2.copy()\n",
    "    data_3_loc = data_3.copy()\n",
    "    \n",
    "    #faults = set(list(faults['in_3_but_not_in_2']).extend(list(faults['in_3_but_not_in_1']).extend(list(faults['in_2_but_not_in_1']))))\n",
    "    f = faults['in_3_but_not_in_2'].copy()\n",
    "    f.extend(faults['in_3_but_not_in_1'].copy())\n",
    "    f.extend(faults['in_2_but_not_in_1'].copy())\n",
    "    print('f', f)\n",
    "    f = set(f)\n",
    "    print('f', f)\n",
    "    remove_accs_from_data(data_1_loc, f)\n",
    "    remove_accs_from_data(data_2_loc, f)\n",
    "    remove_accs_from_data(data_3_loc, f)\n",
    "    \n",
    "    return (data_1_loc, data_2_loc, data_3_loc)"
   ]
  },
  {
   "cell_type": "code",
   "execution_count": 24,
   "metadata": {},
   "outputs": [
    {
     "name": "stdout",
     "output_type": "stream",
     "text": [
      "in_3_but_not_in_2 :fault found : 95\n",
      "in_3_but_not_in_2 :fault found : 638\n",
      "in_3_but_not_in_2 :fault found : 470\n",
      "in_3_but_not_in_2 :fault found : 247\n",
      "in_3_but_not_in_1 :fault found : 95\n",
      "in_3_but_not_in_1 :fault found : 638\n",
      "in_3_but_not_in_1 :fault found : 470\n",
      "in_3_but_not_in_1 :fault found : 247\n",
      "f ['95', '638', '470', '247', '95', '638', '470', '247']\n",
      "f {'638', '470', '247', '95'}\n"
     ]
    }
   ],
   "source": [
    "non_udacity_enrollments, non_udacity_engagements, non_udacity_submissions = remove_faulty_accounts(non_udacity_enrollments, non_udacity_engagements, non_udacity_submissions)"
   ]
  },
  {
   "cell_type": "code",
   "execution_count": 25,
   "metadata": {},
   "outputs": [
    {
     "name": "stdout",
     "output_type": "stream",
     "text": [
      "1 6\n",
      "2 1622\n",
      "3 135656\n",
      "4 3626\n",
      "5 1296\n",
      "6 1234\n",
      "7 737\n",
      "8 set()\n",
      "students who are reported in enrollment but not in engagement\n",
      "{'878', '964', '789', '1291', '711', '739', '1145', '1213', '733', '841', '884', '799', '1120', '1148', '1155', '1190', '728', '1079', '1222', '1171', '1237', '981', '819', '737', '1125', '727', '1284', '1186', '749', '803', '889', '1238', '707', '968', '875', '914', '926', '750', '1063', '654', '725', '766', '996', '1129', '902', '802', '1219', '817', '871', '664', '717', '1086', '1270', '1241', '1044', '1191', '870', '1218', '1273', '1010', '1025', '997'} \n",
      "\n",
      "No of Enrollment records: 1622, No of Engagement records: 135656\n",
      "No of Unique Students in Enrollment records: 1296\n",
      "No of Unique Students in Engagement records: 1234\n",
      "No of non engaging students: 62\n",
      "\n",
      "Check to see if there are any engaging students that are not reported in Enrollment records:\n",
      "None\n",
      "\n",
      "Check to see if there are any project submission that are not reported in Enrollment records or engagement records:\n"
     ]
    }
   ],
   "source": [
    "print('1', len(udacity_test_accounts))\n",
    "print('2', len(non_udacity_enrollments)) # not number of unique students. This is just number of records\n",
    "print('3', len(non_udacity_engagements))\n",
    "print('4', len(non_udacity_submissions))\n",
    "print('5', len(get_unique_students(non_udacity_enrollments)))\n",
    "print('6', len(get_unique_students(non_udacity_engagements)))\n",
    "print('7', len(get_unique_students(non_udacity_submissions)))\n",
    "print('8', get_unique_students(non_udacity_submissions) - get_unique_students(non_udacity_engagements))\n",
    "non_engaging_students = run_unique_test(non_udacity_enrollments,non_udacity_engagements, non_udacity_submissions)"
   ]
  },
  {
   "cell_type": "markdown",
   "metadata": {},
   "source": [
    "#### Datasets to work on from here\n",
    "These data excludes Udacity test account records.  \n",
    "`Var Names`\n",
    "* non_udacity_enrollments\n",
    "* non_udacity_engagements\n",
    "* non_udacity_submissions  \n",
    "\n",
    "All `keys` are same as the data sets they are derived from except:\n",
    "* `'is_udacity'` is not in non_udacity_enrollments\n",
    "* `'acct'` is renamed to 'account_key'"
   ]
  },
  {
   "cell_type": "markdown",
   "metadata": {},
   "source": [
    "## Analysis 1:\n",
    "Create a dictionary named `paid_students` containing all students who either\n",
    "haven't canceled yet or who remained enrolled for more than 7 days. The keys\n",
    "should be account keys, and the values should be the date the student enrolled."
   ]
  },
  {
   "cell_type": "code",
   "execution_count": 26,
   "metadata": {},
   "outputs": [
    {
     "name": "stdout",
     "output_type": "stream",
     "text": [
      "995\n",
      "584 2015-03-10 00:00:00\n",
      "-------------------------------------------\n",
      "{'cancel_date': datetime.datetime(2015, 1, 14, 0, 0), 'status': False, 'is_canceled': True, 'account_key': '584', 'days_to_cancel': 65, 'join_date': datetime.datetime(2014, 11, 10, 0, 0)}\n",
      "{'cancel_date': datetime.datetime(2015, 3, 10, 0, 0), 'status': False, 'is_canceled': True, 'account_key': '584', 'days_to_cancel': 55, 'join_date': datetime.datetime(2015, 1, 14, 0, 0)}\n",
      "{'cancel_date': None, 'status': True, 'is_canceled': False, 'account_key': '584', 'days_to_cancel': None, 'join_date': datetime.datetime(2015, 3, 10, 0, 0)}\n",
      "\n"
     ]
    }
   ],
   "source": [
    "# paid_students is a dict: key- 'account_key' , value- list of enrollment dates\n",
    "paid_students = dict()\n",
    "for enrollment in non_udacity_enrollments:\n",
    "    if not enrollment['is_canceled'] or enrollment['days_to_cancel']>7:\n",
    "        if enrollment['account_key'] not in paid_students:\n",
    "            paid_students[enrollment['account_key']] = list()\n",
    "        paid_students[enrollment['account_key']].append(enrollment['join_date'])\n",
    "        \n",
    "print(len(paid_students))\n",
    "\n",
    "#for std in paid_students:\n",
    "print('584', max(paid_students['584']))\n",
    "print(\"-------------------------------------------\")\n",
    "for record in get_student_records(non_udacity_enrollments, '584'):#584,1116\n",
    "    print(record)\n",
    "print()"
   ]
  },
  {
   "cell_type": "markdown",
   "metadata": {},
   "source": [
    "Create a list of engagement records containing only data for paid students during their first week\n",
    "\n",
    "#### ndays_engagement `Function`"
   ]
  },
  {
   "cell_type": "code",
   "execution_count": 27,
   "metadata": {},
   "outputs": [],
   "source": [
    "from datetime import timedelta\n",
    "\n",
    "\n",
    "def ndays_engagement(engagement_data, n=7) -> list:\n",
    "    ndays_engagement_records = list()\n",
    "    for data in engagement_data:\n",
    "        working_key = data['account_key']\n",
    "        if working_key in paid_students:\n",
    "            from_date = max(paid_students[working_key])\n",
    "            if from_date + timedelta(days=n) > data['utc_date'] >= from_date:\n",
    "                ndays_engagement_records.append(data)\n",
    "    return ndays_engagement_records\n",
    "# first_week_paid_engagements is a list or dicts(records)\n",
    "\n",
    "\n",
    "first_week_paid_engagements = ndays_engagement(non_udacity_engagements)"
   ]
  },
  {
   "cell_type": "code",
   "execution_count": 28,
   "metadata": {},
   "outputs": [
    {
     "data": {
      "text/plain": [
       "995"
      ]
     },
     "execution_count": 28,
     "metadata": {},
     "output_type": "execute_result"
    }
   ],
   "source": [
    "len(get_unique_students(first_week_paid_engagements))"
   ]
  },
  {
   "cell_type": "markdown",
   "metadata": {},
   "source": [
    "#### reorganize `first_week_paid_engagements`  \n",
    "reorganize the data in first_week_paid_engagements **from**  \n",
    "a list of dicts - each dict is a record of engagement **to**  \n",
    "a dict of dicts - each key of the main dict contains all the records corresponding to that key"
   ]
  },
  {
   "cell_type": "code",
   "execution_count": 29,
   "metadata": {},
   "outputs": [],
   "source": [
    "def regroup_records_by_key(data: list, group_by_key: str = 'account_key'):\n",
    "    # step 1 : do a key check. The key must be a valid key of the given data but cant ...\n",
    "    reorg = dict()\n",
    "    \n",
    "    keys = set([record[group_by_key] for record in data])\n",
    "    print('Debug', len(keys)==len(paid_students))\n",
    "    for key in keys:\n",
    "        reorg[key] = list(get_student_records(data, key, key_type=group_by_key))\n",
    "    reorg = dict(pop_items_from_dictofdicts(reorg, popitms=group_by_key))\n",
    "    return dict(reorg)\n",
    "\n",
    "# '429'\n"
   ]
  },
  {
   "cell_type": "code",
   "execution_count": 30,
   "metadata": {},
   "outputs": [
    {
     "name": "stdout",
     "output_type": "stream",
     "text": [
      "Debug True\n",
      "995\n",
      "[{'num_courses_visited': 0, 'projects_completed': 0, 'total_minutes_visited': 0.0, 'utc_date': datetime.datetime(2015, 3, 10, 0, 0), 'lessons_completed': 0}, {'num_courses_visited': 0, 'projects_completed': 0, 'total_minutes_visited': 0.0, 'utc_date': datetime.datetime(2015, 3, 11, 0, 0), 'lessons_completed': 0}, {'num_courses_visited': 0, 'projects_completed': 0, 'total_minutes_visited': 0.0, 'utc_date': datetime.datetime(2015, 3, 12, 0, 0), 'lessons_completed': 0}, {'num_courses_visited': 0, 'projects_completed': 0, 'total_minutes_visited': 0.0, 'utc_date': datetime.datetime(2015, 3, 13, 0, 0), 'lessons_completed': 0}, {'num_courses_visited': 0, 'projects_completed': 0, 'total_minutes_visited': 0.0, 'utc_date': datetime.datetime(2015, 3, 14, 0, 0), 'lessons_completed': 0}, {'num_courses_visited': 0, 'projects_completed': 0, 'total_minutes_visited': 0.0, 'utc_date': datetime.datetime(2015, 3, 15, 0, 0), 'lessons_completed': 0}, {'num_courses_visited': 0, 'projects_completed': 0, 'total_minutes_visited': 0.0, 'utc_date': datetime.datetime(2015, 3, 16, 0, 0), 'lessons_completed': 0}]\n"
     ]
    }
   ],
   "source": [
    "first_week_engagements_by_account = regroup_records_by_key(first_week_paid_engagements, group_by_key='account_key')\n",
    "print(len(first_week_engagements_by_account.keys()))\n",
    "print(first_week_engagements_by_account['429'])"
   ]
  },
  {
   "cell_type": "code",
   "execution_count": 31,
   "metadata": {},
   "outputs": [
    {
     "name": "stdout",
     "output_type": "stream",
     "text": [
      "Debug False\n",
      "5844\n"
     ]
    }
   ],
   "source": [
    "# test for regroup_records_by_key\n",
    "# testing if it works with group_by_key='lessons_completed'\n",
    "print(len(regroup_records_by_key(first_week_paid_engagements, group_by_key='lessons_completed')[0]))"
   ]
  },
  {
   "cell_type": "markdown",
   "metadata": {},
   "source": [
    "## Data Exploration"
   ]
  },
  {
   "cell_type": "code",
   "execution_count": 32,
   "metadata": {},
   "outputs": [],
   "source": [
    "def sum_grouped_data(data: dict, key_type) -> dict:\n",
    "    tot_by_account = dict()\n",
    "    for account_key, engagement_for_student in first_week_engagements_by_account.items():\n",
    "        tot = 0\n",
    "        for engagement in engagement_for_student:\n",
    "            tot += engagement[key_type]\n",
    "        tot_by_account[account_key] = tot\n",
    "    return tot_by_account"
   ]
  },
  {
   "cell_type": "code",
   "execution_count": 33,
   "metadata": {},
   "outputs": [
    {
     "name": "stdout",
     "output_type": "stream",
     "text": [
      "995\n"
     ]
    }
   ],
   "source": [
    "total_minutes_by_account_first_week = dict(sum_grouped_data(first_week_engagements_by_account, 'total_minutes_visited'))\n",
    "\n",
    "\"\"\"for account_key, engagement_for_student in engagements_by_account.items():\n",
    "    total_mins = 0\n",
    "    for engagement in engagement_for_student:\n",
    "        total_mins += engagement['total_minutes_visited']\n",
    "    total_minutes_by_account_first_week[account_key] = total_mins\"\"\"\n",
    "    \n",
    "total_mins = list(total_minutes_by_account_first_week.values())\n",
    "print(len(total_minutes_by_account_first_week))"
   ]
  },
  {
   "cell_type": "code",
   "execution_count": 34,
   "metadata": {},
   "outputs": [],
   "source": [
    "import numpy as np\n",
    "\n",
    "def describe_data_stats(data):\n",
    "    print('Mean', np.mean(data))\n",
    "    print('Standard Deviation', np.std(data))\n",
    "    print('Max', np.max(data))\n",
    "    print('Min', np.min(data))"
   ]
  },
  {
   "cell_type": "code",
   "execution_count": 35,
   "metadata": {},
   "outputs": [
    {
     "name": "stdout",
     "output_type": "stream",
     "text": [
      "Mean 306.708326753\n",
      "Standard Deviation 412.996933409\n",
      "Max 3564.7332645\n",
      "Min 0.0\n",
      "Minutes in a week : 10080\n"
     ]
    }
   ],
   "source": [
    "describe_data_stats(total_mins)\n",
    "print('Minutes in a week :',7*24*60)"
   ]
  },
  {
   "cell_type": "code",
   "execution_count": 36,
   "metadata": {
    "scrolled": true
   },
   "outputs": [],
   "source": [
    "total_lessons_by_account_first_week = dict(sum_grouped_data(first_week_engagements_by_account, 'lessons_completed'))\n",
    "\n",
    "\"\"\"for account_key, engagement_for_student in first_week_engagements_by_account.items():\n",
    "    total_lessons = 0\n",
    "    for engagement in engagement_for_student:\n",
    "        total_lessons += engagement['lessons_completed']\n",
    "    total_lessons_by_account_first_week[account_key] = total_lessons\"\"\"\n",
    "    \n",
    "total_lessons = list(total_lessons_by_account_first_week.values())"
   ]
  },
  {
   "cell_type": "code",
   "execution_count": 37,
   "metadata": {},
   "outputs": [
    {
     "name": "stdout",
     "output_type": "stream",
     "text": [
      "Mean 1.63618090452\n",
      "Standard Deviation 3.00256129983\n",
      "Max 36\n",
      "Min 0\n",
      "995\n",
      "[('593', 0), ('445', 0), ('301', 6), ('317', 17), ('1036', 0), ('223', 0), ('1151', 0), ('780', 0), ('441', 5), ('179', 5), ('1287', 0), ('928', 0), ('471', 1), ('104', 2), ('632', 0), ('562', 1), ('255', 1), ('113', 0), ('55', 4), ('348', 0), ('1117', 0), ('1215', 6), ('103', 7), ('702', 0), ('885', 27), ('121', 3), ('636', 0), ('33', 0), ('405', 4), ('1199', 0), ('966', 0), ('613', 3), ('233', 1), ('571', 0), ('608', 1), ('916', 1), ('313', 5), ('245', 2), ('610', 4), ('357', 0), ('620', 1), ('743', 0), ('118', 5), ('754', 2), ('258', 3), ('735', 0), ('751', 1), ('637', 0), ('462', 4), ('1042', 0)]\n"
     ]
    }
   ],
   "source": [
    "describe_data_stats(total_lessons)\n",
    "print(len(total_lessons_by_account_first_week))\n",
    "print(list(total_lessons_by_account_first_week.items())[:50])"
   ]
  },
  {
   "cell_type": "code",
   "execution_count": 38,
   "metadata": {},
   "outputs": [],
   "source": [
    "for key, records in first_week_engagements_by_account.items():\n",
    "    for record in records:\n",
    "        record['has_visited'] = 1 if record['num_courses_visited'] else 0"
   ]
  },
  {
   "cell_type": "code",
   "execution_count": 39,
   "metadata": {},
   "outputs": [],
   "source": [
    "total_days_visited_by_account_first_week = dict(sum_grouped_data(first_week_engagements_by_account, 'has_visited'))\n",
    "\n",
    "total_days = list(total_days_visited_by_account_first_week.values())"
   ]
  },
  {
   "cell_type": "code",
   "execution_count": 40,
   "metadata": {
    "scrolled": true
   },
   "outputs": [
    {
     "name": "stdout",
     "output_type": "stream",
     "text": [
      "Mean 2.86733668342\n",
      "Standard Deviation 2.25519800292\n",
      "Max 7\n",
      "Min 0\n",
      "995\n",
      "[('593', 0), ('445', 2), ('301', 5), ('317', 7), ('1036', 0), ('223', 3), ('1151', 2), ('780', 0), ('441', 7), ('179', 7), ('1287', 0), ('928', 3), ('471', 2), ('104', 6), ('632', 1), ('562', 2), ('255', 4), ('113', 2), ('55', 4), ('348', 0), ('1117', 0), ('1215', 7), ('103', 6), ('702', 0), ('885', 5), ('121', 6), ('636', 4), ('33', 5), ('405', 5), ('1199', 1), ('966', 1), ('613', 5), ('233', 2), ('571', 0), ('608', 4), ('916', 1), ('313', 7), ('245', 4), ('610', 5), ('357', 2), ('620', 4), ('743', 0), ('118', 7), ('754', 4), ('258', 6), ('735', 0), ('751', 2), ('637', 2), ('462', 3), ('1042', 2)]\n"
     ]
    }
   ],
   "source": [
    "describe_data_stats(total_days)\n",
    "print(len(total_days_visited_by_account_first_week))\n",
    "print(list(total_days_visited_by_account_first_week.items())[:50])"
   ]
  },
  {
   "cell_type": "markdown",
   "metadata": {},
   "source": [
    "## Analyse *`Submissions`*\n",
    "______\n",
    "data set to anaylse:   \n",
    "   **non_udacity_submissions**: *a list of dicts - each dict is a record *\n",
    "*`non_udacity_submissions* is *paid_submissions`*. There cant be any submissions from non paid students."
   ]
  },
  {
   "cell_type": "code",
   "execution_count": 41,
   "metadata": {},
   "outputs": [
    {
     "name": "stdout",
     "output_type": "stream",
     "text": [
      "{'creation_date': datetime.datetime(2015, 1, 14, 0, 0), 'completion_date': datetime.datetime(2015, 1, 16, 0, 0), 'account_key': '256', 'assigned_rating': 'UNGRADED', 'lesson_key': '3176718735', 'processing_state': 'EVALUATED'}\n"
     ]
    }
   ],
   "source": [
    "subway_project_lesson_keys = ['746169184', '3176718735']\n",
    "\n",
    "#list of Records\n",
    "passing_engagements = list()\n",
    "non_passing_engagements = list()\n",
    "print(non_udacity_submissions[0])"
   ]
  },
  {
   "cell_type": "code",
   "execution_count": 42,
   "metadata": {},
   "outputs": [
    {
     "name": "stdout",
     "output_type": "stream",
     "text": [
      "Debug False\n"
     ]
    }
   ],
   "source": [
    "non_udacity_submissions_by_account = regroup_records_by_key(non_udacity_submissions, group_by_key= 'account_key')"
   ]
  },
  {
   "cell_type": "code",
   "execution_count": 43,
   "metadata": {},
   "outputs": [],
   "source": [
    "non_udacity_paid_engagements_by_account = dict()\n",
    "for key in paid_students:\n",
    "    #print(get_student_records(non_udacity_engagements, key))\n",
    "    non_udacity_paid_engagements_by_account[key] = list(get_student_records(non_udacity_engagements, key))\n",
    "non_udacity_paid_engagements_by_account = \\\n",
    "    pop_items_from_dictofdicts(non_udacity_paid_engagements_by_account, popitms='account_key')"
   ]
  },
  {
   "cell_type": "code",
   "execution_count": 44,
   "metadata": {},
   "outputs": [],
   "source": [
    "non_udacity_paid_submissions_by_account = dict()\n",
    "for key in paid_students:\n",
    "    #print(get_student_records(non_udacity_engagements, key))\n",
    "    non_udacity_paid_submissions_by_account[key] = list(get_student_records(non_udacity_submissions, key))\n",
    "non_udacity_paid_submissions_by_account = \\\n",
    "    pop_items_from_dictofdicts(non_udacity_paid_submissions_by_account, popitms='account_key')"
   ]
  },
  {
   "cell_type": "code",
   "execution_count": 45,
   "metadata": {},
   "outputs": [
    {
     "name": "stdout",
     "output_type": "stream",
     "text": [
      "True\n",
      "737\n",
      "995\n",
      "Free students submitting project within a week {'1116', '1169', '1279', '947', '1133', '701'}\n",
      "{'1036', '1151', '780', '874', '1287', '1117', '702', '666', '1199', '1157', '743', '1042', '1208', '793', '800', '877', '896', '952', '900', '1305', '1278', '1088', '1248', '1251', '1038', '669', '913', '872', '958', '1220', '1211', '1144', '1212', '1009', '1072', '1082', '730', '1289', '747', '1170', '1040', '975', '1259', '1262', '1276', '781', '1074', '713', '753', '1055', '868', '823', '787', '672', '697', '806', '676', '912', '873', '923', '853', '776', '1207', '1254', '785', '1198', '655', '674', '822', '797', '825', '698', '1028', '686', '1140', '1031', '1136', '687', '835', '1147', '1299', '1205', '1227', '1257', '1128', '1290', '1090', '916', '660', '762', '796', '764', '1243', '866', '773', '829', '1052', '909', '705', '657', '833', '1160', '1062', '1181', '948', '1049', '744', '804', '661', '985', '1118', '692', '1249', '939', '1250', '1244', '1146', '1115', '778', '656', '1030', '801', '846', '1201', '839', '834', '1153', '1303', '1149', '969', '1163', '934', '988', '855', '1123', '1142', '1121', '992', '1103', '854', '1178', '1260', '1099', '710', '1302', '832', '1189', '673', '1214', '1200', '1071', '859', '920', '864', '761', '1228', '989', '941', '918', '956', '946', '811', '977', '729', '665', '857', '840', '1253', '682', '972', '966', '735', '1266', '1161', '1268', '756', '1029', '719', '1075', '1130', '1113', '808', '1182', '704', '880', '726', '1285', '693', '983', '828', '836', '667', '1054', '1015', '718', '1124', '720', '856', '1096', '1077', '1174', '1282', '779', '1067', '897', '1194', '786', '1102', '844', '937', '1050', '1226', '678', '1107', '1007', '1001', '954', '671', '893', '752', '759', '1188', '757', '1175', '1032', '1011', '1236', '976', '754', '867', '1094', '769', '689', '1080', '1204', '1202', '1177', '882', '816', '709', '1264', '1066', '927', '1089', '887', '831', '931', '1210', '746', '1242', '932', '1095', '888', '1053', '1022', '824', '1167', '1265', '1277', '696', '1269', '1019', '1060', '1267'}\n"
     ]
    }
   ],
   "source": [
    "print(non_udacity_submissions_by_account.keys()==get_unique_students(non_udacity_submissions))\n",
    "\n",
    "print(len(non_udacity_submissions_by_account))\n",
    "print(len(non_udacity_paid_engagements_by_account))\n",
    "\n",
    "print('Free students submitting project within a week', \\\n",
    "      (non_udacity_submissions_by_account.keys()-non_udacity_paid_engagements_by_account.keys()))\n",
    "print(non_udacity_paid_engagements_by_account.keys()-non_udacity_submissions_by_account.keys())"
   ]
  },
  {
   "cell_type": "code",
   "execution_count": 46,
   "metadata": {},
   "outputs": [
    {
     "name": "stdout",
     "output_type": "stream",
     "text": [
      "{'1133', '1279', '947', '1116', '1169', '701'}\n"
     ]
    }
   ],
   "source": [
    "free_era_students = set(non_udacity_submissions_by_account.keys()-non_udacity_paid_engagements_by_account.keys())\n",
    "print(free_era_students)"
   ]
  },
  {
   "cell_type": "code",
   "execution_count": 50,
   "metadata": {},
   "outputs": [
    {
     "name": "stdout",
     "output_type": "stream",
     "text": [
      "264\n",
      "737\n"
     ]
    }
   ],
   "source": [
    "print(len(set(non_udacity_paid_submissions_by_account.keys())-set(non_udacity_submissions_by_account.keys())))\n",
    "# How many accounts are in non_udacity_submissions\n",
    "print(len(get_unique_students(non_udacity_submissions)))\n",
    "# How can there be more paid submissions than unpaid and paid together\n",
    "# Observations: the fault might be in non_udacity_submissions which is reflected in non_udacity_submissions_by_account"
   ]
  },
  {
   "cell_type": "code",
   "execution_count": 48,
   "metadata": {
    "scrolled": true
   },
   "outputs": [
    {
     "name": "stdout",
     "output_type": "stream",
     "text": [
      "False\n",
      "True\n",
      "['593', '445', '317', '1036', '223', '1151', '780', '441', '179', '874', '928', '471', '104', '632', '255', '113', '55', '348', '1117', '1215', '103', '702', '1040', '477', '121', '636', '33', '405', '65', '1199', '966', '613', '233', '571', '608', '916', '313', '245', '610', '357', '620', '743', '118', '258', '751', '637', '234', '1042', '203', '435']\n"
     ]
    }
   ],
   "source": [
    "#print(non_udacity_paid_engagements_by_account['1116'][0])\n",
    "# TODO find y this key is not in paid students but in non_udacity_submissions\n",
    "print('1116' in paid_students)\n",
    "# hows is a student '1116' not in 'paid_students' but still in non_udacity_submissions\n",
    "print('1116' in get_unique_students(non_udacity_submissions))\n",
    "print(list(non_udacity_paid_engagements_by_account.keys())[:50])"
   ]
  },
  {
   "cell_type": "code",
   "execution_count": 49,
   "metadata": {},
   "outputs": [
    {
     "name": "stdout",
     "output_type": "stream",
     "text": [
      "737\n",
      "6\n",
      "1116 False\n",
      "{'1116', '1169', '1279', '947', '1133', '701'}\n"
     ]
    },
    {
     "ename": "KeyError",
     "evalue": "'1169'",
     "output_type": "error",
     "traceback": [
      "\u001b[1;31m---------------------------------------------------------------------------\u001b[0m",
      "\u001b[1;31mKeyError\u001b[0m                                  Traceback (most recent call last)",
      "\u001b[1;32m<ipython-input-49-0a54ac8e3119>\u001b[0m in \u001b[0;36m<module>\u001b[1;34m()\u001b[0m\n\u001b[0;32m     27\u001b[0m             \u001b[1;32mif\u001b[0m \u001b[0mrecord\u001b[0m\u001b[1;33m[\u001b[0m\u001b[1;34m'assigned_rating'\u001b[0m\u001b[1;33m]\u001b[0m \u001b[1;33m!=\u001b[0m \u001b[1;34m'PASSED'\u001b[0m\u001b[1;33m:\u001b[0m\u001b[1;33m\u001b[0m\u001b[0m\n\u001b[0;32m     28\u001b[0m                 \u001b[1;31m# TODO : Create non_udacity_paid_engagements a list of records\u001b[0m\u001b[1;33m\u001b[0m\u001b[1;33m\u001b[0m\u001b[0m\n\u001b[1;32m---> 29\u001b[1;33m                 \u001b[0mpassing_engagements\u001b[0m\u001b[1;33m.\u001b[0m\u001b[0mextend\u001b[0m\u001b[1;33m(\u001b[0m\u001b[0mnon_udacity_paid_engagements_by_account\u001b[0m\u001b[1;33m[\u001b[0m\u001b[0mkey\u001b[0m\u001b[1;33m]\u001b[0m\u001b[1;33m.\u001b[0m\u001b[0mcopy\u001b[0m\u001b[1;33m(\u001b[0m\u001b[1;33m)\u001b[0m\u001b[1;33m)\u001b[0m\u001b[1;33m\u001b[0m\u001b[0m\n\u001b[0m\u001b[0;32m     30\u001b[0m \u001b[0mpassing_engagements\u001b[0m\u001b[1;33m[\u001b[0m\u001b[1;33m:\u001b[0m\u001b[1;36m5\u001b[0m\u001b[1;33m]\u001b[0m\u001b[1;33m\u001b[0m\u001b[0m\n",
      "\u001b[1;31mKeyError\u001b[0m: '1169'"
     ]
    }
   ],
   "source": [
    "passing_engagements = list()\n",
    "non_passing_engagements = list()\n",
    "# issue: there are some account that are not paid students but have completed the project with 7 days.\n",
    "# i.e., these 6 accounts {'701', '1279', '1133', '947', '1169', '1116'} are not paid accounts \n",
    "# Observation: These accounts are of old students when courses were free unless u need support.\n",
    "# ---------------------------------------------------------------------------------------------------\n",
    "# solutions: One solution could be to remove these 6 accounts and procceed (preffered way)\n",
    "# Another way could be include those accounts as free_era_students\n",
    "print(len(get_unique_students(non_udacity_submissions)))\n",
    "print(len(free_era_students))\n",
    "print('1116', '1116' in paid_students)\n",
    "print(free_era_students.intersection(get_unique_students(non_udacity_submissions)))\n",
    "for key in get_unique_students(non_udacity_submissions):\n",
    "    #print(non_udacity_submissions_by_account[key][0]['lesson_key'])\n",
    "    if non_udacity_submissions_by_account[key][0]['lesson_key'] in subway_project_lesson_keys:\n",
    "        records = non_udacity_submissions_by_account[key]\n",
    "        # find if this student has passed or not\n",
    "        add_this_account = False\n",
    "        for record in records:\n",
    "            if record['assigned_rating'] == 'PASSED':\n",
    "                # TODO : Create non_udacity_paid_engagements a list of records\n",
    "                passing_engagements.extend(non_udacity_paid_engagements_by_account[key].copy())\n",
    "    else:\n",
    "        records = non_udacity_submissions_by_account[key]\n",
    "        # find if this student has passed or not\n",
    "        for record in records:\n",
    "            if record['assigned_rating'] != 'PASSED':\n",
    "                # TODO : Create non_udacity_paid_engagements a list of records\n",
    "                passing_engagements.extend(non_udacity_paid_engagements_by_account[key].copy())\n",
    "passing_engagements[:5]"
   ]
  },
  {
   "cell_type": "code",
   "execution_count": 48,
   "metadata": {},
   "outputs": [
    {
     "ename": "KeyError",
     "evalue": "'account_key'",
     "output_type": "error",
     "traceback": [
      "\u001b[1;31m---------------------------------------------------------------------------\u001b[0m",
      "\u001b[1;31mKeyError\u001b[0m                                  Traceback (most recent call last)",
      "\u001b[1;32m<ipython-input-48-ede56bc4205b>\u001b[0m in \u001b[0;36m<module>\u001b[1;34m()\u001b[0m\n\u001b[0;32m      1\u001b[0m \u001b[1;31m# check if any account from passing_engagements has records in non_passing_engagements\u001b[0m\u001b[1;33m\u001b[0m\u001b[1;33m\u001b[0m\u001b[0m\n\u001b[1;32m----> 2\u001b[1;33m \u001b[1;32mfor\u001b[0m \u001b[0mkey\u001b[0m \u001b[1;32min\u001b[0m \u001b[0mget_unique_students\u001b[0m\u001b[1;33m(\u001b[0m\u001b[0mpassing_engagements\u001b[0m\u001b[1;33m)\u001b[0m\u001b[1;33m:\u001b[0m\u001b[1;33m\u001b[0m\u001b[0m\n\u001b[0m\u001b[0;32m      3\u001b[0m     \u001b[1;32mif\u001b[0m \u001b[0mkey\u001b[0m \u001b[1;32min\u001b[0m \u001b[0mget_unique_students\u001b[0m\u001b[1;33m(\u001b[0m\u001b[0mnon_passing_engagements\u001b[0m\u001b[1;33m)\u001b[0m\u001b[1;33m:\u001b[0m\u001b[1;33m\u001b[0m\u001b[0m\n\u001b[0;32m      4\u001b[0m         \u001b[0mprint\u001b[0m\u001b[1;33m(\u001b[0m\u001b[1;34m'Check code'\u001b[0m\u001b[1;33m)\u001b[0m\u001b[1;33m\u001b[0m\u001b[0m\n",
      "\u001b[1;32m<ipython-input-14-d4bd6baf5ebc>\u001b[0m in \u001b[0;36mget_unique_students\u001b[1;34m(data)\u001b[0m\n\u001b[0;32m      6\u001b[0m     \u001b[0munique_students_set\u001b[0m \u001b[1;33m=\u001b[0m \u001b[0mset\u001b[0m\u001b[1;33m(\u001b[0m\u001b[1;33m)\u001b[0m\u001b[1;33m\u001b[0m\u001b[0m\n\u001b[0;32m      7\u001b[0m     \u001b[1;32mfor\u001b[0m \u001b[0mele\u001b[0m \u001b[1;32min\u001b[0m \u001b[0mdata\u001b[0m\u001b[1;33m:\u001b[0m\u001b[1;33m\u001b[0m\u001b[0m\n\u001b[1;32m----> 8\u001b[1;33m         \u001b[0munique_students_set\u001b[0m\u001b[1;33m.\u001b[0m\u001b[0madd\u001b[0m\u001b[1;33m(\u001b[0m\u001b[0mstr\u001b[0m\u001b[1;33m(\u001b[0m\u001b[0mele\u001b[0m\u001b[1;33m[\u001b[0m\u001b[1;34m'account_key'\u001b[0m\u001b[1;33m]\u001b[0m\u001b[1;33m)\u001b[0m\u001b[1;33m)\u001b[0m\u001b[1;33m\u001b[0m\u001b[0m\n\u001b[0m\u001b[0;32m      9\u001b[0m     \u001b[1;32mreturn\u001b[0m \u001b[0munique_students_set\u001b[0m\u001b[1;33m\u001b[0m\u001b[0m\n",
      "\u001b[1;31mKeyError\u001b[0m: 'account_key'"
     ]
    }
   ],
   "source": [
    "# check if any account from passing_engagements has records in non_passing_engagements\n",
    "for key in get_unique_students(passing_engagements):\n",
    "    if key in get_unique_students(non_passing_engagements):\n",
    "        print('Check code')"
   ]
  }
 ],
 "metadata": {
  "kernelspec": {
   "display_name": "Python 3",
   "language": "python",
   "name": "python3"
  },
  "language_info": {
   "codemirror_mode": {
    "name": "ipython",
    "version": 3
   },
   "file_extension": ".py",
   "mimetype": "text/x-python",
   "name": "python",
   "nbconvert_exporter": "python",
   "pygments_lexer": "ipython3",
   "version": "3.5.5"
  }
 },
 "nbformat": 4,
 "nbformat_minor": 2
}
