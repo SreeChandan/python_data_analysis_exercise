{
 "cells": [
  {
   "cell_type": "markdown",
   "metadata": {},
   "source": [
    "Udacity Student Data Analysis\n",
    "=========================\n",
    "## Preparing data for Analysis  \n",
    "### Load Data from CSVs"
   ]
  },
  {
   "cell_type": "code",
   "execution_count": 88,
   "metadata": {},
   "outputs": [
    {
     "name": "stdout",
     "output_type": "stream",
     "text": [
      "F:\\JupyterProjects\\Github_repo\\python_data_analysis_exercise\n"
     ]
    },
    {
     "data": {
      "text/plain": [
       "'F:\\\\JupyterProjects\\\\Github_repo\\\\python_data_analysis_exercise'"
      ]
     },
     "execution_count": 88,
     "metadata": {},
     "output_type": "execute_result"
    }
   ],
   "source": [
    "import unicodecsv\n",
    "import os\n",
    "import copy\n",
    "print(os.getcwd())\n",
    "%pwd"
   ]
  },
  {
   "cell_type": "code",
   "execution_count": 2,
   "metadata": {},
   "outputs": [],
   "source": [
    "def csv_to_list(filename: str) -> list:\n",
    "    \"\"\"\n",
    "\n",
    "    :type filename: str\n",
    "    \"\"\"\n",
    "    # takes a string filename to a csv and returns its data as a list\n",
    "    #with open('F:/JupyterProjects/untitled/'+filename, 'rb') as f_in:\n",
    "    with open(filename, 'rb') as f_in:\n",
    "        reader = unicodecsv.DictReader(f_in)\n",
    "        return list(reader)"
   ]
  },
  {
   "cell_type": "code",
   "execution_count": 3,
   "metadata": {},
   "outputs": [
    {
     "name": "stdout",
     "output_type": "stream",
     "text": [
      "1 F:\\JupyterProjects\\Github_repo\\python_data_analysis_exercise\n",
      "2 F:\\JupyterProjects\\Github_repo\\python_data_analysis_exercise\\Note.ipynb\n",
      "3 \n"
     ]
    }
   ],
   "source": [
    "print('1', os.path.abspath(os.path.dirname('')))\n",
    "print('2', os.path.abspath('Note.ipynb'))\n",
    "print('3', os.path.dirname('Note.ipynb'))\n",
    "\n",
    "\n",
    "engagement_filename = 'data/daily_engagement.csv'\n",
    "enrollments_filename = 'data/enrollments.csv'\n",
    "submissions_filename = 'data/project_submissions.csv'\n",
    "\n",
    "engagements = csv_to_list(engagement_filename)\n",
    "enrollments = csv_to_list(enrollments_filename)\n",
    "submissions = csv_to_list(submissions_filename)"
   ]
  },
  {
   "cell_type": "code",
   "execution_count": 4,
   "metadata": {
    "scrolled": true
   },
   "outputs": [
    {
     "name": "stdout",
     "output_type": "stream",
     "text": [
      "Engagements : {'projects_completed': '0.0', 'total_minutes_visited': '11.6793745', 'acct': '0', 'lessons_completed': '0.0', 'num_courses_visited': '1.0', 'utc_date': '2015-01-09'}\n",
      "\n",
      "Enrollments : {'is_udacity': 'True', 'is_canceled': 'True', 'join_date': '2014-11-10', 'status': 'canceled', 'cancel_date': '2015-01-14', 'account_key': '448', 'days_to_cancel': '65'}\n",
      "\n",
      "Submissions : {'creation_date': '2015-01-14', 'processing_state': 'EVALUATED', 'completion_date': '2015-01-16', 'account_key': '256', 'assigned_rating': 'UNGRADED', 'lesson_key': '3176718735'}\n"
     ]
    }
   ],
   "source": [
    "def print_lists(ele=0):\n",
    "    print(\"Engagements :\", engagements[ele])\n",
    "    print()\n",
    "    print(\"Enrollments :\", enrollments[ele])\n",
    "    print()\n",
    "    print(\"Submissions :\", submissions[ele])\n",
    "\n",
    "\n",
    "print_lists()"
   ]
  },
  {
   "cell_type": "markdown",
   "metadata": {},
   "source": [
    "### Convert Ordered dict to dict"
   ]
  },
  {
   "cell_type": "code",
   "execution_count": 5,
   "metadata": {},
   "outputs": [],
   "source": [
    "def convert_to_dict():\n",
    "    for ele in range(len(engagements)):\n",
    "        engagements[ele] = dict(engagements[ele])\n",
    "    for ele in range(len(enrollments)):\n",
    "        enrollments[ele] = dict(enrollments[ele])\n",
    "    for ele in range(len(submissions)):\n",
    "        submissions[ele] = dict(submissions[ele])\n",
    "\n",
    "\n",
    "convert_to_dict()"
   ]
  },
  {
   "cell_type": "code",
   "execution_count": 6,
   "metadata": {},
   "outputs": [
    {
     "name": "stdout",
     "output_type": "stream",
     "text": [
      "Engagements : {'projects_completed': '0.0', 'acct': '0', 'lessons_completed': '0.0', 'num_courses_visited': '1.0', 'utc_date': '2015-01-09', 'total_minutes_visited': '11.6793745'}\n",
      "\n",
      "Enrollments : {'is_udacity': 'True', 'cancel_date': '2015-01-14', 'join_date': '2014-11-10', 'status': 'canceled', 'is_canceled': 'True', 'account_key': '448', 'days_to_cancel': '65'}\n",
      "\n",
      "Submissions : {'creation_date': '2015-01-14', 'processing_state': 'EVALUATED', 'completion_date': '2015-01-16', 'account_key': '256', 'assigned_rating': 'UNGRADED', 'lesson_key': '3176718735'}\n"
     ]
    }
   ],
   "source": [
    "print_lists()"
   ]
  },
  {
   "cell_type": "markdown",
   "metadata": {},
   "source": [
    "### Fix Datatypes"
   ]
  },
  {
   "cell_type": "code",
   "execution_count": 7,
   "metadata": {},
   "outputs": [],
   "source": [
    "from datetime import datetime as dt"
   ]
  },
  {
   "cell_type": "code",
   "execution_count": 8,
   "metadata": {},
   "outputs": [
    {
     "name": "stdout",
     "output_type": "stream",
     "text": [
      "Parsed\n"
     ]
    }
   ],
   "source": [
    "if type(enrollments[0]['status']) == str:\n",
    "    for enrollment in enrollments:\n",
    "        enrollment['status'] = enrollment['status']=='current'\n",
    "        enrollment['join_date'] = None if enrollment['join_date']=='' else dt.strptime(enrollment['join_date'], '%Y-%m-%d')\n",
    "        enrollment['cancel_date'] = None if enrollment['cancel_date']=='' else dt.strptime(enrollment['cancel_date'], '%Y-%m-%d')\n",
    "        enrollment['days_to_cancel'] = None if enrollment['days_to_cancel']=='' else int(enrollment['days_to_cancel'])\n",
    "        enrollment['is_udacity'] = enrollment['is_udacity']=='True'\n",
    "        enrollment['is_canceled'] = enrollment['is_canceled']=='True'\n",
    "    print(\"Parsed\")\n",
    "else:\n",
    "    print(\"Already Parsed\")"
   ]
  },
  {
   "cell_type": "code",
   "execution_count": 9,
   "metadata": {},
   "outputs": [
    {
     "name": "stdout",
     "output_type": "stream",
     "text": [
      "Parsed\n"
     ]
    }
   ],
   "source": [
    "if type(engagements[0]['utc_date']) == str:\n",
    "    for engagement in engagements:\n",
    "        engagement['utc_date'] = None if engagement['utc_date']=='' else dt.strptime(engagement['utc_date'], '%Y-%m-%d')\n",
    "        engagement['num_courses_visited'] = int(float(engagement['num_courses_visited']))\n",
    "        engagement['total_minutes_visited'] = float(engagement['total_minutes_visited'])\n",
    "        engagement['lessons_completed'] = int(float(engagement['lessons_completed']))\n",
    "        engagement['projects_completed'] = int(float(engagement['projects_completed']))\n",
    "    print(\"Parsed\")\n",
    "else:\n",
    "    print(\"Already Parsed\")"
   ]
  },
  {
   "cell_type": "code",
   "execution_count": 10,
   "metadata": {},
   "outputs": [
    {
     "name": "stdout",
     "output_type": "stream",
     "text": [
      "Parsed\n"
     ]
    }
   ],
   "source": [
    "if type(submissions[0]['creation_date']) == str:\n",
    "    for submission in submissions:\n",
    "        submission['creation_date'] = None if submission['creation_date']=='' else dt.strptime(submission['creation_date'], '%Y-%m-%d')\n",
    "        submission['completion_date'] = None if submission['completion_date']=='' else dt.strptime(submission['completion_date'], '%Y-%m-%d') \n",
    "    print(\"Parsed\")\n",
    "else:\n",
    "    print(\"Already Parsed\")"
   ]
  },
  {
   "cell_type": "code",
   "execution_count": 11,
   "metadata": {
    "scrolled": true
   },
   "outputs": [
    {
     "name": "stdout",
     "output_type": "stream",
     "text": [
      "Engagements : {'projects_completed': 0, 'acct': '0', 'lessons_completed': 0, 'num_courses_visited': 1, 'utc_date': datetime.datetime(2015, 1, 9, 0, 0), 'total_minutes_visited': 11.6793745}\n",
      "\n",
      "Enrollments : {'is_udacity': True, 'cancel_date': datetime.datetime(2015, 1, 14, 0, 0), 'join_date': datetime.datetime(2014, 11, 10, 0, 0), 'status': False, 'is_canceled': True, 'account_key': '448', 'days_to_cancel': 65}\n",
      "\n",
      "Submissions : {'creation_date': datetime.datetime(2015, 1, 14, 0, 0), 'processing_state': 'EVALUATED', 'completion_date': datetime.datetime(2015, 1, 16, 0, 0), 'account_key': '256', 'assigned_rating': 'UNGRADED', 'lesson_key': '3176718735'}\n"
     ]
    }
   ],
   "source": [
    "print_lists(0)"
   ]
  },
  {
   "cell_type": "markdown",
   "metadata": {},
   "source": [
    "## Investigating the  data\n",
    "* Find the total number of rows and the number of unique students (account keys) in each table."
   ]
  },
  {
   "cell_type": "code",
   "execution_count": 12,
   "metadata": {},
   "outputs": [
    {
     "name": "stdout",
     "output_type": "stream",
     "text": [
      "Engagements : 136240\n",
      "Enrollments : 1640\n",
      "Submissions : 3642\n"
     ]
    }
   ],
   "source": [
    "# No of rows\n",
    "print(\"Engagements :\",len(engagements))\n",
    "print(\"Enrollments :\",len(enrollments))\n",
    "print(\"Submissions :\",len(submissions))"
   ]
  },
  {
   "cell_type": "markdown",
   "metadata": {},
   "source": [
    "### Problems in the data\n",
    "#### Rename the \"acct\" column in the `daily_engagement` table to \"account_key\"."
   ]
  },
  {
   "cell_type": "code",
   "execution_count": 13,
   "metadata": {},
   "outputs": [],
   "source": [
    "# Rename the \"acct\" column in the daily_engagement table to \"account_key\".\n",
    "if engagements[0].get('acct'):\n",
    "    for engagement in engagements:\n",
    "        engagement['account_key'] = engagement['acct']\n",
    "        engagement.pop('acct')"
   ]
  },
  {
   "cell_type": "markdown",
   "metadata": {},
   "source": [
    "#### get_unique_students `Function`\n",
    "Takes in data (a list of dicts) and returns a set of unique student's account numbers"
   ]
  },
  {
   "cell_type": "code",
   "execution_count": 14,
   "metadata": {},
   "outputs": [],
   "source": [
    "def get_unique_students(data: list) -> set:\n",
    "    \"\"\"\n",
    "\n",
    "    :type data: list\n",
    "    \"\"\"\n",
    "    unique_students_set = set()\n",
    "    for ele in data:\n",
    "        unique_students_set.add(ele['account_key'])\n",
    "    return unique_students_set"
   ]
  },
  {
   "cell_type": "markdown",
   "metadata": {},
   "source": [
    "#### get_student_records `Function`\n",
    "Takes in data(a list of dicts), account_key(string) and returns a list of records of that student"
   ]
  },
  {
   "cell_type": "code",
   "execution_count": 15,
   "metadata": {},
   "outputs": [],
   "source": [
    "def get_student_records(data: list, key: str, key_type: str = 'account_key') -> list:\n",
    "    student_records = list()\n",
    "    fishy = True # if ele[key_type] == key is false there is some problem\n",
    "    for ele in data:\n",
    "        if ele[key_type] == key:\n",
    "            student_records.append(dict(ele))\n",
    "            fishy = False\n",
    "        else:\n",
    "            pass\n",
    "    ## Debug\n",
    "    if fishy:\n",
    "        print(\"@get_student_records\")\n",
    "        print(\"Key\", key, \"not found in data\")\n",
    "    return student_records"
   ]
  },
  {
   "cell_type": "markdown",
   "metadata": {},
   "source": [
    "#### pop_items_from_dictofdicts `Function`\n",
    "Takes in:  \n",
    "* data(a dict where each value is a list of dicts)\n",
    "* popitms(a set of keys(string) ) \n",
    "\n",
    "returns:  \n",
    "* data( same type as the input data) with "
   ]
  },
  {
   "cell_type": "code",
   "execution_count": 16,
   "metadata": {},
   "outputs": [],
   "source": [
    "def pop_items_from_dictofdicts(data: dict, popitms: set = None):\n",
    "    returnData = dict()\n",
    "    for key in data:\n",
    "        # data[key] here is a list of records corresponding to one key('account_key')\n",
    "        returnData[key] = list()\n",
    "        for record in data[key]:\n",
    "            #print(record)\n",
    "            poped_ele = dict(record)\n",
    "            poped_ele.pop(popitms)\n",
    "            returnData[key].append(poped_ele)\n",
    "    return returnData"
   ]
  },
  {
   "cell_type": "markdown",
   "metadata": {},
   "source": [
    "#### Find students who are reported in enrollment but not in engagement\n",
    "#### run_unique_test `Function`\n",
    "Takes in two lists. First List is enrollments. Second is Engagements.\n",
    "Each list is a list of dicts."
   ]
  },
  {
   "cell_type": "code",
   "execution_count": 17,
   "metadata": {},
   "outputs": [
    {
     "name": "stdout",
     "output_type": "stream",
     "text": [
      "students who are reported in enrollment but not in engagement\n",
      "{'871', '1171', '1304', '926', '727', '1237', '981', '1101', '817', '803', '728', '841', '711', '802', '749', '1273', '1284', '799', '1125', '1145', '1238', '1086', '739', '870', '707', '914', '1148', '733', '766', '1291', '996', '889', '1191', '1069', '1025', '789', '1120', '964', '819', '1010', '1219', '1213', '1155', '1222', '717', '725', '1270', '884', '1129', '664', '875', '750', '654', '1079', '968', '878', '1190', '902', '997', '1063', '737', '1218', '1186', '1044', '1241'} \n",
      "\n",
      "No of Enrollment records: 1640, No of Engagement records: 136240\n",
      "No of Unique Students in Enrollment records: 1302\n",
      "No of Unique Students in Engagement records: 1237\n",
      "No of non engaging students: 65\n",
      "\n",
      "Check to see if there are any engaging students that are not reported in Enrollment records:\n",
      "None\n",
      "\n",
      "Check to see if there are any project submission that are not reported in Enrollment records or engagement records:\n",
      "There are submitting students that are not reported in Enrollment records {'470', '638', '247', '95'}\n",
      "There are engaging students that are not reported in Engagement records {'470', '638', '247', '95'}\n"
     ]
    }
   ],
   "source": [
    "def run_unique_test(enrollments, engagements, submissions):\n",
    "    enrollment_students = get_unique_students(enrollments)\n",
    "    engagement_students = get_unique_students(engagements)\n",
    "    submission_students = get_unique_students(submissions)\n",
    "    \n",
    "    non_engaging_stds = enrollment_students - engagement_students\n",
    "\n",
    "    print(\"students who are reported in enrollment but not in engagement\")\n",
    "    print(non_engaging_stds, \"\\n\")\n",
    "    print(\"No of Enrollment records: {}, No of Engagement records: {}\".format(len(enrollments), len(engagements)))\n",
    "    print(\"No of Unique Students in Enrollment records: {}\\nNo of Unique Students in Engagement records: {}\".\n",
    "          format(len(enrollment_students), len(engagement_students)))\n",
    "    print(\"No of non engaging students:\", len(non_engaging_stds))\n",
    "    print(\"\\nCheck to see if there are any engaging students that are not reported in Enrollment records:\")\n",
    "    if not len(engagement_students - enrollment_students):\n",
    "        print(\"None\")\n",
    "    else:\n",
    "        print(\"There are any engaging students that are not reported in Enrollment records\")\n",
    "    print(\"\\nCheck to see if there are any project submission that are not reported in Enrollment records or engagement records:\")\n",
    "    if len(submission_students - enrollment_students):\n",
    "        print(\"There are submitting students that are not reported in Enrollment records\", (submission_students - enrollment_students))\n",
    "    if len(submission_students - engagement_students):\n",
    "        print(\"There are engaging students that are not reported in Engagement records\", (submission_students - engagement_students))\n",
    "        \n",
    "    return non_engaging_stds\n",
    "\n",
    "\n",
    "non_engaging_students = run_unique_test(enrollments, engagements, submissions)\n"
   ]
  },
  {
   "cell_type": "markdown",
   "metadata": {},
   "source": [
    "#### Observe the data of these students in enrollment data\n",
    "\n",
    "**`Observations :`**\n",
    "* Udacity test accounts were found to be part of problem. Need to remove those accounts from analysis."
   ]
  },
  {
   "cell_type": "code",
   "execution_count": 18,
   "metadata": {},
   "outputs": [
    {
     "name": "stdout",
     "output_type": "stream",
     "text": [
      "{'is_udacity': False, 'cancel_date': datetime.datetime(2014, 11, 13, 0, 0), 'join_date': datetime.datetime(2014, 11, 13, 0, 0), 'status': False, 'is_canceled': True, 'account_key': '871', 'days_to_cancel': 0}\n",
      "{'is_udacity': False, 'cancel_date': datetime.datetime(2015, 1, 7, 0, 0), 'join_date': datetime.datetime(2015, 1, 7, 0, 0), 'status': False, 'is_canceled': True, 'account_key': '1171', 'days_to_cancel': 0}\n",
      "{'is_udacity': True, 'cancel_date': datetime.datetime(2015, 3, 10, 0, 0), 'join_date': datetime.datetime(2015, 1, 10, 0, 0), 'status': False, 'is_canceled': True, 'account_key': '1304', 'days_to_cancel': 59}\n",
      "{'is_udacity': True, 'cancel_date': datetime.datetime(2015, 6, 17, 0, 0), 'join_date': datetime.datetime(2015, 3, 10, 0, 0), 'status': False, 'is_canceled': True, 'account_key': '1304', 'days_to_cancel': 99}\n",
      "{'is_udacity': False, 'cancel_date': datetime.datetime(2015, 4, 6, 0, 0), 'join_date': datetime.datetime(2015, 4, 6, 0, 0), 'status': False, 'is_canceled': True, 'account_key': '926', 'days_to_cancel': 0}\n",
      "{'is_udacity': False, 'cancel_date': datetime.datetime(2014, 12, 7, 0, 0), 'join_date': datetime.datetime(2014, 12, 7, 0, 0), 'status': False, 'is_canceled': True, 'account_key': '727', 'days_to_cancel': 0}\n",
      "{'is_udacity': False, 'cancel_date': datetime.datetime(2015, 5, 28, 0, 0), 'join_date': datetime.datetime(2015, 5, 28, 0, 0), 'status': False, 'is_canceled': True, 'account_key': '1237', 'days_to_cancel': 0}\n",
      "{'is_udacity': False, 'cancel_date': datetime.datetime(2015, 2, 7, 0, 0), 'join_date': datetime.datetime(2015, 2, 7, 0, 0), 'status': False, 'is_canceled': True, 'account_key': '981', 'days_to_cancel': 0}\n",
      "{'is_udacity': True, 'cancel_date': None, 'join_date': datetime.datetime(2015, 2, 25, 0, 0), 'status': True, 'is_canceled': False, 'account_key': '1101', 'days_to_cancel': None}\n",
      "{'is_udacity': False, 'cancel_date': datetime.datetime(2014, 12, 9, 0, 0), 'join_date': datetime.datetime(2014, 12, 9, 0, 0), 'status': False, 'is_canceled': True, 'account_key': '817', 'days_to_cancel': 0}\n",
      "{'is_udacity': False, 'cancel_date': datetime.datetime(2015, 1, 8, 0, 0), 'join_date': datetime.datetime(2015, 1, 8, 0, 0), 'status': False, 'is_canceled': True, 'account_key': '803', 'days_to_cancel': 0}\n",
      "{'is_udacity': False, 'cancel_date': datetime.datetime(2014, 12, 5, 0, 0), 'join_date': datetime.datetime(2014, 12, 5, 0, 0), 'status': False, 'is_canceled': True, 'account_key': '728', 'days_to_cancel': 0}\n",
      "{'is_udacity': False, 'cancel_date': datetime.datetime(2014, 11, 12, 0, 0), 'join_date': datetime.datetime(2014, 11, 12, 0, 0), 'status': False, 'is_canceled': True, 'account_key': '841', 'days_to_cancel': 0}\n",
      "{'is_udacity': False, 'cancel_date': datetime.datetime(2015, 5, 8, 0, 0), 'join_date': datetime.datetime(2015, 5, 8, 0, 0), 'status': False, 'is_canceled': True, 'account_key': '711', 'days_to_cancel': 0}\n",
      "{'is_udacity': False, 'cancel_date': datetime.datetime(2015, 1, 8, 0, 0), 'join_date': datetime.datetime(2015, 1, 8, 0, 0), 'status': False, 'is_canceled': True, 'account_key': '802', 'days_to_cancel': 0}\n",
      "{'is_udacity': False, 'cancel_date': datetime.datetime(2015, 3, 5, 0, 0), 'join_date': datetime.datetime(2015, 3, 5, 0, 0), 'status': False, 'is_canceled': True, 'account_key': '749', 'days_to_cancel': 0}\n",
      "{'is_udacity': False, 'cancel_date': datetime.datetime(2015, 1, 12, 0, 0), 'join_date': datetime.datetime(2015, 1, 12, 0, 0), 'status': False, 'is_canceled': True, 'account_key': '1273', 'days_to_cancel': 0}\n",
      "{'is_udacity': False, 'cancel_date': datetime.datetime(2015, 1, 13, 0, 0), 'join_date': datetime.datetime(2015, 1, 13, 0, 0), 'status': False, 'is_canceled': True, 'account_key': '1284', 'days_to_cancel': 0}\n",
      "{'is_udacity': False, 'cancel_date': datetime.datetime(2015, 2, 6, 0, 0), 'join_date': datetime.datetime(2015, 2, 6, 0, 0), 'status': False, 'is_canceled': True, 'account_key': '799', 'days_to_cancel': 0}\n",
      "{'is_udacity': False, 'cancel_date': datetime.datetime(2015, 5, 31, 0, 0), 'join_date': datetime.datetime(2015, 5, 31, 0, 0), 'status': False, 'is_canceled': True, 'account_key': '1125', 'days_to_cancel': 0}\n",
      "{'is_udacity': False, 'cancel_date': datetime.datetime(2015, 4, 4, 0, 0), 'join_date': datetime.datetime(2015, 4, 4, 0, 0), 'status': False, 'is_canceled': True, 'account_key': '1145', 'days_to_cancel': 0}\n",
      "{'is_udacity': False, 'cancel_date': datetime.datetime(2014, 11, 10, 0, 0), 'join_date': datetime.datetime(2014, 11, 10, 0, 0), 'status': False, 'is_canceled': True, 'account_key': '1238', 'days_to_cancel': 0}\n",
      "{'is_udacity': False, 'cancel_date': datetime.datetime(2015, 6, 9, 0, 0), 'join_date': datetime.datetime(2015, 6, 9, 0, 0), 'status': False, 'is_canceled': True, 'account_key': '1086', 'days_to_cancel': 0}\n",
      "{'is_udacity': False, 'cancel_date': datetime.datetime(2015, 4, 5, 0, 0), 'join_date': datetime.datetime(2015, 4, 5, 0, 0), 'status': False, 'is_canceled': True, 'account_key': '739', 'days_to_cancel': 0}\n",
      "{'is_udacity': False, 'cancel_date': datetime.datetime(2015, 5, 12, 0, 0), 'join_date': datetime.datetime(2015, 5, 12, 0, 0), 'status': False, 'is_canceled': True, 'account_key': '870', 'days_to_cancel': 0}\n",
      "{'is_udacity': False, 'cancel_date': datetime.datetime(2014, 12, 3, 0, 0), 'join_date': datetime.datetime(2014, 12, 3, 0, 0), 'status': False, 'is_canceled': True, 'account_key': '707', 'days_to_cancel': 0}\n",
      "{'is_udacity': False, 'cancel_date': datetime.datetime(2015, 4, 2, 0, 0), 'join_date': datetime.datetime(2015, 4, 2, 0, 0), 'status': False, 'is_canceled': True, 'account_key': '914', 'days_to_cancel': 0}\n",
      "{'is_udacity': False, 'cancel_date': datetime.datetime(2015, 7, 17, 0, 0), 'join_date': datetime.datetime(2015, 7, 17, 0, 0), 'status': False, 'is_canceled': True, 'account_key': '914', 'days_to_cancel': 0}\n",
      "{'is_udacity': False, 'cancel_date': datetime.datetime(2015, 3, 9, 0, 0), 'join_date': datetime.datetime(2015, 3, 9, 0, 0), 'status': False, 'is_canceled': True, 'account_key': '1148', 'days_to_cancel': 0}\n",
      "{'is_udacity': False, 'cancel_date': datetime.datetime(2015, 1, 12, 0, 0), 'join_date': datetime.datetime(2015, 1, 12, 0, 0), 'status': False, 'is_canceled': True, 'account_key': '733', 'days_to_cancel': 0}\n",
      "{'is_udacity': False, 'cancel_date': datetime.datetime(2015, 5, 10, 0, 0), 'join_date': datetime.datetime(2015, 5, 10, 0, 0), 'status': False, 'is_canceled': True, 'account_key': '766', 'days_to_cancel': 0}\n",
      "{'is_udacity': False, 'cancel_date': datetime.datetime(2015, 6, 3, 0, 0), 'join_date': datetime.datetime(2015, 6, 3, 0, 0), 'status': False, 'is_canceled': True, 'account_key': '1291', 'days_to_cancel': 0}\n",
      "{'is_udacity': False, 'cancel_date': datetime.datetime(2015, 5, 29, 0, 0), 'join_date': datetime.datetime(2015, 5, 29, 0, 0), 'status': False, 'is_canceled': True, 'account_key': '996', 'days_to_cancel': 0}\n",
      "{'is_udacity': False, 'cancel_date': datetime.datetime(2015, 8, 11, 0, 0), 'join_date': datetime.datetime(2015, 8, 11, 0, 0), 'status': False, 'is_canceled': True, 'account_key': '889', 'days_to_cancel': 0}\n",
      "{'is_udacity': False, 'cancel_date': datetime.datetime(2015, 1, 11, 0, 0), 'join_date': datetime.datetime(2015, 1, 11, 0, 0), 'status': False, 'is_canceled': True, 'account_key': '1191', 'days_to_cancel': 0}\n",
      "{'is_udacity': True, 'cancel_date': datetime.datetime(2015, 6, 1, 0, 0), 'join_date': datetime.datetime(2015, 6, 1, 0, 0), 'status': False, 'is_canceled': True, 'account_key': '1069', 'days_to_cancel': 0}\n",
      "{'is_udacity': False, 'cancel_date': datetime.datetime(2015, 6, 7, 0, 0), 'join_date': datetime.datetime(2015, 6, 7, 0, 0), 'status': False, 'is_canceled': True, 'account_key': '1025', 'days_to_cancel': 0}\n",
      "{'is_udacity': False, 'cancel_date': datetime.datetime(2015, 2, 6, 0, 0), 'join_date': datetime.datetime(2015, 2, 6, 0, 0), 'status': False, 'is_canceled': True, 'account_key': '789', 'days_to_cancel': 0}\n",
      "{'is_udacity': False, 'cancel_date': datetime.datetime(2014, 12, 4, 0, 0), 'join_date': datetime.datetime(2014, 12, 4, 0, 0), 'status': False, 'is_canceled': True, 'account_key': '1120', 'days_to_cancel': 0}\n",
      "{'is_udacity': False, 'cancel_date': datetime.datetime(2014, 12, 4, 0, 0), 'join_date': datetime.datetime(2014, 12, 4, 0, 0), 'status': False, 'is_canceled': True, 'account_key': '964', 'days_to_cancel': 0}\n",
      "{'is_udacity': False, 'cancel_date': datetime.datetime(2015, 3, 4, 0, 0), 'join_date': datetime.datetime(2015, 3, 4, 0, 0), 'status': False, 'is_canceled': True, 'account_key': '819', 'days_to_cancel': 0}\n",
      "{'is_udacity': False, 'cancel_date': datetime.datetime(2015, 3, 4, 0, 0), 'join_date': datetime.datetime(2015, 3, 4, 0, 0), 'status': False, 'is_canceled': True, 'account_key': '819', 'days_to_cancel': 0}\n",
      "{'is_udacity': False, 'cancel_date': datetime.datetime(2015, 1, 11, 0, 0), 'join_date': datetime.datetime(2015, 1, 11, 0, 0), 'status': False, 'is_canceled': True, 'account_key': '1010', 'days_to_cancel': 0}\n",
      "{'is_udacity': False, 'cancel_date': datetime.datetime(2014, 11, 12, 0, 0), 'join_date': datetime.datetime(2014, 11, 12, 0, 0), 'status': False, 'is_canceled': True, 'account_key': '1219', 'days_to_cancel': 0}\n",
      "{'is_udacity': False, 'cancel_date': datetime.datetime(2015, 1, 12, 0, 0), 'join_date': datetime.datetime(2015, 1, 12, 0, 0), 'status': False, 'is_canceled': True, 'account_key': '1213', 'days_to_cancel': 0}\n",
      "{'is_udacity': False, 'cancel_date': datetime.datetime(2015, 7, 17, 0, 0), 'join_date': datetime.datetime(2015, 7, 17, 0, 0), 'status': False, 'is_canceled': True, 'account_key': '1155', 'days_to_cancel': 0}\n",
      "{'is_udacity': False, 'cancel_date': datetime.datetime(2015, 4, 7, 0, 0), 'join_date': datetime.datetime(2015, 4, 7, 0, 0), 'status': False, 'is_canceled': True, 'account_key': '1222', 'days_to_cancel': 0}\n",
      "{'is_udacity': False, 'cancel_date': datetime.datetime(2014, 12, 4, 0, 0), 'join_date': datetime.datetime(2014, 12, 4, 0, 0), 'status': False, 'is_canceled': True, 'account_key': '717', 'days_to_cancel': 0}\n",
      "{'is_udacity': False, 'cancel_date': datetime.datetime(2014, 12, 6, 0, 0), 'join_date': datetime.datetime(2014, 12, 6, 0, 0), 'status': False, 'is_canceled': True, 'account_key': '725', 'days_to_cancel': 0}\n",
      "{'is_udacity': False, 'cancel_date': datetime.datetime(2015, 7, 20, 0, 0), 'join_date': datetime.datetime(2015, 7, 20, 0, 0), 'status': False, 'is_canceled': True, 'account_key': '1270', 'days_to_cancel': 0}\n",
      "{'is_udacity': False, 'cancel_date': datetime.datetime(2015, 1, 8, 0, 0), 'join_date': datetime.datetime(2015, 1, 8, 0, 0), 'status': False, 'is_canceled': True, 'account_key': '884', 'days_to_cancel': 0}\n",
      "{'is_udacity': False, 'cancel_date': datetime.datetime(2015, 3, 7, 0, 0), 'join_date': datetime.datetime(2015, 3, 7, 0, 0), 'status': False, 'is_canceled': True, 'account_key': '1129', 'days_to_cancel': 0}\n",
      "{'is_udacity': False, 'cancel_date': datetime.datetime(2015, 2, 11, 0, 0), 'join_date': datetime.datetime(2015, 2, 11, 0, 0), 'status': False, 'is_canceled': True, 'account_key': '1129', 'days_to_cancel': 0}\n",
      "{'is_udacity': False, 'cancel_date': datetime.datetime(2015, 1, 8, 0, 0), 'join_date': datetime.datetime(2015, 1, 8, 0, 0), 'status': False, 'is_canceled': True, 'account_key': '664', 'days_to_cancel': 0}\n",
      "{'is_udacity': False, 'cancel_date': datetime.datetime(2014, 11, 17, 0, 0), 'join_date': datetime.datetime(2014, 11, 17, 0, 0), 'status': False, 'is_canceled': True, 'account_key': '875', 'days_to_cancel': 0}\n",
      "{'is_udacity': False, 'cancel_date': datetime.datetime(2015, 6, 6, 0, 0), 'join_date': datetime.datetime(2015, 6, 6, 0, 0), 'status': False, 'is_canceled': True, 'account_key': '750', 'days_to_cancel': 0}\n",
      "{'is_udacity': False, 'cancel_date': datetime.datetime(2014, 12, 4, 0, 0), 'join_date': datetime.datetime(2014, 12, 4, 0, 0), 'status': False, 'is_canceled': True, 'account_key': '654', 'days_to_cancel': 0}\n",
      "{'is_udacity': False, 'cancel_date': datetime.datetime(2014, 12, 4, 0, 0), 'join_date': datetime.datetime(2014, 12, 4, 0, 0), 'status': False, 'is_canceled': True, 'account_key': '654', 'days_to_cancel': 0}\n",
      "{'is_udacity': False, 'cancel_date': datetime.datetime(2014, 12, 3, 0, 0), 'join_date': datetime.datetime(2014, 12, 3, 0, 0), 'status': False, 'is_canceled': True, 'account_key': '654', 'days_to_cancel': 0}\n",
      "{'is_udacity': False, 'cancel_date': datetime.datetime(2015, 2, 9, 0, 0), 'join_date': datetime.datetime(2015, 2, 9, 0, 0), 'status': False, 'is_canceled': True, 'account_key': '1079', 'days_to_cancel': 0}\n",
      "{'is_udacity': False, 'cancel_date': datetime.datetime(2015, 7, 17, 0, 0), 'join_date': datetime.datetime(2015, 7, 17, 0, 0), 'status': False, 'is_canceled': True, 'account_key': '968', 'days_to_cancel': 0}\n",
      "{'is_udacity': False, 'cancel_date': datetime.datetime(2014, 11, 10, 0, 0), 'join_date': datetime.datetime(2014, 11, 10, 0, 0), 'status': False, 'is_canceled': True, 'account_key': '878', 'days_to_cancel': 0}\n",
      "{'is_udacity': False, 'cancel_date': datetime.datetime(2015, 3, 6, 0, 0), 'join_date': datetime.datetime(2015, 3, 6, 0, 0), 'status': False, 'is_canceled': True, 'account_key': '1190', 'days_to_cancel': 0}\n",
      "{'is_udacity': False, 'cancel_date': datetime.datetime(2015, 5, 29, 0, 0), 'join_date': datetime.datetime(2015, 5, 29, 0, 0), 'status': False, 'is_canceled': True, 'account_key': '902', 'days_to_cancel': 0}\n",
      "{'is_udacity': False, 'cancel_date': datetime.datetime(2015, 1, 12, 0, 0), 'join_date': datetime.datetime(2015, 1, 12, 0, 0), 'status': False, 'is_canceled': True, 'account_key': '997', 'days_to_cancel': 0}\n",
      "{'is_udacity': False, 'cancel_date': datetime.datetime(2015, 7, 14, 0, 0), 'join_date': datetime.datetime(2015, 7, 14, 0, 0), 'status': False, 'is_canceled': True, 'account_key': '1063', 'days_to_cancel': 0}\n",
      "{'is_udacity': False, 'cancel_date': datetime.datetime(2014, 11, 10, 0, 0), 'join_date': datetime.datetime(2014, 11, 10, 0, 0), 'status': False, 'is_canceled': True, 'account_key': '737', 'days_to_cancel': 0}\n",
      "{'is_udacity': False, 'cancel_date': datetime.datetime(2014, 11, 15, 0, 0), 'join_date': datetime.datetime(2014, 11, 15, 0, 0), 'status': False, 'is_canceled': True, 'account_key': '1218', 'days_to_cancel': 0}\n",
      "{'is_udacity': False, 'cancel_date': datetime.datetime(2015, 3, 11, 0, 0), 'join_date': datetime.datetime(2015, 3, 11, 0, 0), 'status': False, 'is_canceled': True, 'account_key': '1186', 'days_to_cancel': 0}\n",
      "{'is_udacity': False, 'cancel_date': datetime.datetime(2015, 2, 8, 0, 0), 'join_date': datetime.datetime(2015, 2, 8, 0, 0), 'status': False, 'is_canceled': True, 'account_key': '1044', 'days_to_cancel': 0}\n",
      "{'is_udacity': False, 'cancel_date': datetime.datetime(2015, 6, 9, 0, 0), 'join_date': datetime.datetime(2015, 6, 9, 0, 0), 'status': False, 'is_canceled': True, 'account_key': '1241', 'days_to_cancel': 0}\n"
     ]
    }
   ],
   "source": [
    "# Observe the data of these students in enrollment data\n",
    "# 1010\n",
    "\n",
    "# Step 1: output datapoints of a user by the account_key\n",
    "\n",
    "for student in non_engaging_students:\n",
    "#student = '1219'\n",
    "    for enrollment in enrollments:\n",
    "        if enrollment['account_key'] == student:\n",
    "            print(enrollment)\n"
   ]
  },
  {
   "cell_type": "code",
   "execution_count": 80,
   "metadata": {},
   "outputs": [],
   "source": [
    "# Step 2: Find a solution to remove Udacity test accounts from further analysis\n",
    "udacity_test_accounts = set()\n",
    "non_udacity_enrollments = list()\n",
    "non_udacity_engagements = list()\n",
    "non_udacity_submissions = list()\n",
    "for enrollment in enrollments:\n",
    "    if enrollment['is_udacity']:\n",
    "        udacity_test_accounts.add(enrollment['account_key'])\n",
    "    else:\n",
    "        temp = dict()\n",
    "        temp.update(enrollment)\n",
    "        temp.pop('is_udacity')\n",
    "        non_udacity_enrollments.append(temp)\n",
    "        \n",
    "for engagement in engagements:\n",
    "    if engagement['account_key'] not in udacity_test_accounts:\n",
    "        non_udacity_engagements.append(engagement)\n",
    "        \n",
    "for submission in submissions:\n",
    "    if submission['account_key'] not in udacity_test_accounts:\n",
    "        non_udacity_submissions.append(submission)"
   ]
  },
  {
   "cell_type": "code",
   "execution_count": 81,
   "metadata": {},
   "outputs": [
    {
     "name": "stdout",
     "output_type": "stream",
     "text": [
      "1 6\n",
      "2 1622\n",
      "3 135656\n",
      "4 3634\n",
      "5 1296\n",
      "6 1234\n",
      "7 741\n",
      "8 {'470', '638', '247', '95'}\n",
      "students who are reported in enrollment but not in engagement\n",
      "{'871', '1171', '727', '926', '1237', '981', '817', '803', '728', '841', '711', '802', '749', '1273', '1284', '799', '1125', '1145', '1238', '1086', '739', '870', '707', '914', '1148', '733', '766', '1291', '996', '889', '1191', '1025', '789', '1120', '964', '819', '1010', '1219', '1213', '1155', '1222', '717', '725', '1270', '884', '1129', '664', '875', '750', '654', '1079', '968', '878', '1190', '902', '997', '1063', '737', '1218', '1186', '1044', '1241'} \n",
      "\n",
      "No of Enrollment records: 1622, No of Engagement records: 135656\n",
      "No of Unique Students in Enrollment records: 1296\n",
      "No of Unique Students in Engagement records: 1234\n",
      "No of non engaging students: 62\n",
      "\n",
      "Check to see if there are any engaging students that are not reported in Enrollment records:\n",
      "None\n",
      "\n",
      "Check to see if there are any project submission that are not reported in Enrollment records or engagement records:\n",
      "There are submitting students that are not reported in Enrollment records {'470', '638', '247', '95'}\n",
      "There are engaging students that are not reported in Engagement records {'470', '638', '247', '95'}\n"
     ]
    }
   ],
   "source": [
    "print('1', len(udacity_test_accounts))\n",
    "print('2', len(non_udacity_enrollments)) # not number of unique students. This is just number of records\n",
    "print('3', len(non_udacity_engagements))\n",
    "print('4', len(non_udacity_submissions))\n",
    "print('5', len(get_unique_students(non_udacity_enrollments)))\n",
    "print('6', len(get_unique_students(non_udacity_engagements)))\n",
    "print('7', len(get_unique_students(non_udacity_submissions)))\n",
    "print('8', get_unique_students(non_udacity_submissions) - get_unique_students(non_udacity_engagements))\n",
    "non_engaging_students = run_unique_test(non_udacity_enrollments,non_udacity_engagements, non_udacity_submissions)"
   ]
  },
  {
   "cell_type": "code",
   "execution_count": 82,
   "metadata": {},
   "outputs": [],
   "source": [
    "def remove_items_from_list(lis: list, keys: set=None, indices: list=None):\n",
    "    if (keys is not None) and (indices is None):\n",
    "        # length stores the length before deleting a item from list. needed at the end of the function\n",
    "        length = len(lis)\n",
    "        for index in range(length):\n",
    "            if lis[index]['account_key'] in keys:\n",
    "                del lis[index]\n",
    "                break\n",
    "        if(length != len(lis)):\n",
    "            remove_items_from_list(lis, keys=keys)\n",
    "    elif (keys is None) and (indices is not None):\n",
    "        indices.sort()\n",
    "        for index in range(len(lis)):\n",
    "            if index==indices[0]:\n",
    "                del lis[index]\n",
    "                #TODO update indices to work within next recursion\n",
    "                # step 1 remove the index from indices\n",
    "                del indices[0]\n",
    "                # step 2 \n",
    "                for i in range(len(indices)):\n",
    "                    indices[i] -= 1\n",
    "                break\n",
    "        if len(indices)>0:\n",
    "            if indices[0] == None:\n",
    "                pass\n",
    "            else:\n",
    "                remove_items_from_list(lis, indices=indices)"
   ]
  },
  {
   "cell_type": "code",
   "execution_count": 83,
   "metadata": {},
   "outputs": [],
   "source": [
    "# function that remove acc from data(list of dicts)\n",
    "def remove_accs_from_data(data: list, keys: set) -> None:\n",
    "    for index in range(len(data)):\n",
    "        if data[index]['account_key'] in keys:\n",
    "            del data[index]\n",
    "            break\n",
    "    remove_items_from_list(data, keys=keys)\n",
    "    for index in range(len(data)):\n",
    "        if data[index]['account_key'] in keys:\n",
    "            print('not deleted?')"
   ]
  },
  {
   "cell_type": "code",
   "execution_count": 84,
   "metadata": {},
   "outputs": [],
   "source": [
    "# function that check for faulty account datas and removes those accounts for further analysis\n",
    "def remove_faulty_accounts(data_1: list, data_2: list, data_3: list) -> tuple:\n",
    "    unique_students_1 = get_unique_students(data_1)\n",
    "    unique_students_2 = get_unique_students(data_2)\n",
    "    unique_students_3 = get_unique_students(data_3)\n",
    "    faults = dict()\n",
    "    faults['in_3_but_not_in_2'] = list()\n",
    "    for key in unique_students_3:\n",
    "        if key not in unique_students_2:\n",
    "            print('in_3_but_not_in_2 :fault found :', key)\n",
    "            faults['in_3_but_not_in_2'].append(key)\n",
    "    faults['in_3_but_not_in_1'] = list()\n",
    "    for key in unique_students_3:\n",
    "        if key not in unique_students_1:\n",
    "            print('in_3_but_not_in_1 :fault found :', key)\n",
    "            faults['in_3_but_not_in_1'].append(key)\n",
    "    faults['in_2_but_not_in_1'] = list()\n",
    "    for key in unique_students_2:\n",
    "        if key not in unique_students_1:\n",
    "            print('in_2_but_not_in_1 : fault found :', key)\n",
    "            faults['in_2_but_not_in_1'].append(key)\n",
    "            \n",
    "    data_1_loc = data_1.copy()\n",
    "    data_2_loc = data_2.copy()\n",
    "    data_3_loc = data_3.copy()\n",
    "    \n",
    "    #faults = set(list(faults['in_3_but_not_in_2']).extend(list(faults['in_3_but_not_in_1']).extend(list(faults['in_2_but_not_in_1']))))\n",
    "    f = faults['in_3_but_not_in_2'].copy()\n",
    "    f.extend(faults['in_3_but_not_in_1'].copy())\n",
    "    f.extend(faults['in_2_but_not_in_1'].copy())\n",
    "    print('f', f)\n",
    "    f = set(f)\n",
    "    print('f', f)\n",
    "    remove_accs_from_data(data_1_loc, f)\n",
    "    remove_accs_from_data(data_2_loc, f)\n",
    "    remove_accs_from_data(data_3_loc, f)\n",
    "    \n",
    "    return (data_1_loc, data_2_loc, data_3_loc)"
   ]
  },
  {
   "cell_type": "code",
   "execution_count": 85,
   "metadata": {},
   "outputs": [
    {
     "name": "stdout",
     "output_type": "stream",
     "text": [
      "in_3_but_not_in_2 :fault found : 470\n",
      "in_3_but_not_in_2 :fault found : 247\n",
      "in_3_but_not_in_2 :fault found : 638\n",
      "in_3_but_not_in_2 :fault found : 95\n",
      "in_3_but_not_in_1 :fault found : 470\n",
      "in_3_but_not_in_1 :fault found : 247\n",
      "in_3_but_not_in_1 :fault found : 638\n",
      "in_3_but_not_in_1 :fault found : 95\n",
      "f ['470', '247', '638', '95', '470', '247', '638', '95']\n",
      "f {'470', '638', '247', '95'}\n"
     ]
    }
   ],
   "source": [
    "non_udacity_enrollments, non_udacity_engagements, non_udacity_submissions = remove_faulty_accounts(non_udacity_enrollments, non_udacity_engagements, non_udacity_submissions)"
   ]
  },
  {
   "cell_type": "code",
   "execution_count": 86,
   "metadata": {},
   "outputs": [
    {
     "name": "stdout",
     "output_type": "stream",
     "text": [
      "1 6\n",
      "2 1622\n",
      "3 135656\n",
      "4 3626\n",
      "5 1296\n",
      "6 1234\n",
      "7 737\n",
      "8 set()\n",
      "students who are reported in enrollment but not in engagement\n",
      "{'871', '1171', '727', '926', '1237', '981', '817', '803', '728', '841', '711', '802', '749', '1273', '1284', '799', '1125', '1145', '1238', '1086', '739', '870', '707', '914', '1148', '733', '766', '1291', '996', '889', '1191', '1025', '789', '1120', '964', '819', '1010', '1219', '1213', '1155', '1222', '717', '725', '1270', '884', '1129', '664', '875', '750', '654', '1079', '968', '878', '1190', '902', '997', '1063', '737', '1218', '1186', '1044', '1241'} \n",
      "\n",
      "No of Enrollment records: 1622, No of Engagement records: 135656\n",
      "No of Unique Students in Enrollment records: 1296\n",
      "No of Unique Students in Engagement records: 1234\n",
      "No of non engaging students: 62\n",
      "\n",
      "Check to see if there are any engaging students that are not reported in Enrollment records:\n",
      "None\n",
      "\n",
      "Check to see if there are any project submission that are not reported in Enrollment records or engagement records:\n"
     ]
    }
   ],
   "source": [
    "print('1', len(udacity_test_accounts))\n",
    "print('2', len(non_udacity_enrollments)) # not number of unique students. This is just number of records\n",
    "print('3', len(non_udacity_engagements))\n",
    "print('4', len(non_udacity_submissions))\n",
    "print('5', len(get_unique_students(non_udacity_enrollments)))\n",
    "print('6', len(get_unique_students(non_udacity_engagements)))\n",
    "print('7', len(get_unique_students(non_udacity_submissions)))\n",
    "print('8', get_unique_students(non_udacity_submissions) - get_unique_students(non_udacity_engagements))\n",
    "non_engaging_students = run_unique_test(non_udacity_enrollments,non_udacity_engagements, non_udacity_submissions)"
   ]
  },
  {
   "cell_type": "markdown",
   "metadata": {},
   "source": [
    "#### Datasets to work on from here\n",
    "These data excludes Udacity test account records.  \n",
    "`Var Names`\n",
    "* non_udacity_enrollments\n",
    "* non_udacity_engagements\n",
    "* non_udacity_submissions  \n",
    "\n",
    "All `keys` are same as the data sets they are derived from except:\n",
    "* `'is_udacity'` is not in non_udacity_enrollments\n",
    "* `'acct'` is renamed to 'account_key'\n",
    "\n",
    "Data_sets to create further.\n",
    "* non_udacity_paid_enrollments\n",
    "* non_udacity_paid_engagements\n",
    "* non_udacity_paid_submissions"
   ]
  },
  {
   "cell_type": "markdown",
   "metadata": {},
   "source": [
    "## Analysis 1:\n",
    "Create a dictionary named `paid_students` containing all students who either\n",
    "haven't canceled yet or who remained enrolled for more than 7 days. The keys\n",
    "should be account keys, and the values should be the date the student enrolled."
   ]
  },
  {
   "cell_type": "code",
   "execution_count": 100,
   "metadata": {},
   "outputs": [
    {
     "name": "stdout",
     "output_type": "stream",
     "text": [
      "995\n",
      "-------------------------------------------\n",
      "\n"
     ]
    }
   ],
   "source": [
    "# paid_students is a set of 'account_key's\n",
    "# FYI paid_students was a dict with key as 'account_key' and value as a list of join dates. \n",
    "# That functionality is seperated to get_latest_enrollment_date(enrollment_data, engagement_data_keys:set=None)\n",
    "paid_students = set()\n",
    "for enrollment in non_udacity_enrollments:\n",
    "    if (not enrollment['is_canceled']) or enrollment['days_to_cancel']>7:\n",
    "        paid_students.add(enrollment['account_key'])\n",
    "        \n",
    "print(len(paid_students))\n",
    "\n",
    "print(\"-------------------------------------------\")\n",
    "#print(paid_students)\n",
    "print()"
   ]
  },
  {
   "cell_type": "code",
   "execution_count": 27,
   "metadata": {},
   "outputs": [],
   "source": [
    "def get_latest_enrollment_dates(enrollment_data, engagement_data_keys:set=None):\n",
    "    latest_join_dates = dict()\n",
    "    if type(enrollment_data)==list:\n",
    "        for record in enrollment_data:\n",
    "            if engagement_data_keys!=None:\n",
    "                if record['account_key'] in engagement_data_keys:\n",
    "                    if record['account_key'] not in latest_join_dates:\n",
    "                        latest_join_dates[enrollment['account_key']] = list()\n",
    "                    latest_join_dates[enrollment['account_key']].append(record['join_date'])\n",
    "            else:\n",
    "                if record['account_key'] not in latest_join_dates:\n",
    "                    latest_join_dates[enrollment['account_key']] = list()\n",
    "                latest_join_dates[enrollment['account_key']].append(record['join_date'])\n",
    "    elif type(enrollment_data)==dict:\n",
    "        for key, records in enrollment_data.items():\n",
    "            for record in records:\n",
    "                if engagement_data_keys!=None:\n",
    "                    if key in engagement_data_keys:\n",
    "                        if key not in latest_join_dates:\n",
    "                            latest_join_dates[key] = list()\n",
    "                        latest_join_dates[key].append(record['join_date'])\n",
    "                else:\n",
    "                    if key not in latest_join_dates:\n",
    "                        latest_join_dates[key] = list()\n",
    "                    latest_join_dates[key].append(record['join_date'])\n",
    "                \n",
    "    # max_join_dates is a dict of list of datetime. Convert it to a (dict: datetime)\n",
    "    for key, dates in latest_join_dates.items():\n",
    "        latest_join_dates[key] = max(dates)\n",
    "        \n",
    "        \n",
    "    # check functions credibilty\n",
    "    # if engagement_data_keys is provided then the output dict should only contain the same keys\n",
    "    if engagement_data_keys!=None:\n",
    "        if(set(latest_join_dates.keys()) == set(engagement_data_keys)):\n",
    "            print('@ get_latest_enrollment_dates')\n",
    "            print('output is credible')\n",
    "            if(type(enrollment_data) == dict):\n",
    "                if(set(enrollment_data.keys()) == set(engagement_data_keys)):\n",
    "                    print('but HOW?')\n",
    "        else:\n",
    "            print('@ get_latest_enrollment_dates')\n",
    "            print('output is NOT credible')\n",
    "    \n",
    "    return latest_join_dates\n",
    "            "
   ]
  },
  {
   "cell_type": "markdown",
   "metadata": {},
   "source": [
    "Create a list of engagement records containing only data for paid students during their first week\n",
    "\n",
    "#### ndays_engagements `Function`"
   ]
  },
  {
   "cell_type": "code",
   "execution_count": 108,
   "metadata": {},
   "outputs": [],
   "source": [
    "from datetime import timedelta\n",
    "# TODO(Done) dont make ndays_engagement to check for paid students. Expect the given data to be of paid students if needed\n",
    "# paid_students has a list of dates. check it(Fixed)\n",
    "# provide the max join_dates to this function for the all the keys in engagement_data(Fixed)\n",
    "def ndays_engagements(engagement_data, latest_join_dates: dict, n=7):\n",
    "    ndays_engagement_records = None\n",
    "    ndays_engagement_records = list()\n",
    "    # max_join_dates is a dict of account_keys with corresponding max_join_date\n",
    "    # code for if engagement_data is given as a list of records\n",
    "    if type(engagement_data)==list:\n",
    "        ndays_engagement_records = list()\n",
    "        for record in engagement_data:\n",
    "\n",
    "            working_key = record['account_key']\n",
    "            from_date = latest_join_dates[working_key]\n",
    "\n",
    "            if from_date + timedelta(days=n) > record['utc_date'] >= from_date:\n",
    "                ndays_engagement_records.append(record.copy())\n",
    "    # code for if engagement_data is given as dict with value as list of records for each account_key\n",
    "    elif type(engagement_data)==dict:\n",
    "        #ndays_engagement_records = dict()\n",
    "        length = 0\n",
    "        for key, records in engagement_data.items():\n",
    "            length += len(records)\n",
    "            for record in add_key_to_list_of_records(records,key = key):\n",
    "                from_date = latest_join_dates[key]\n",
    "                if from_date + timedelta(days=n) > record['utc_date'] >= from_date:\n",
    "                    ndays_engagement_records.append(record.copy())\n",
    "        print('@ndays_engagements')\n",
    "        print(len(ndays_engagement_records), 'records belong to first week from the given join_dates')\n",
    "        print(len(get_unique_students(ndays_engagement_records)), ' no. of students in output')\n",
    "        print(length, 'records are in the given engagement data')\n",
    "        print(len(engagement_data), ' no. of students in input')\n",
    "        print('~@ndays_engagements')\n",
    "    return ndays_engagement_records\n",
    "# first_week_paid_engagements is a list of dicts(records)"
   ]
  },
  {
   "cell_type": "code",
   "execution_count": 29,
   "metadata": {},
   "outputs": [],
   "source": [
    "# function to add the account key to the records in a list of records\n",
    "def add_key_to_list_of_records(lis: list,key: str= 'account_key') -> list:\n",
    "    return_list = list()\n",
    "    for record in lis:\n",
    "        return_record = record.copy()\n",
    "        return_record['account_key'] = key\n",
    "        return_list.append(return_record)\n",
    "    assert len(lis) == len(return_list)\n",
    "    return return_list"
   ]
  },
  {
   "cell_type": "code",
   "execution_count": 30,
   "metadata": {},
   "outputs": [],
   "source": [
    "def regroup_records_by_key(data: list, group_by_key: str = 'account_key'):\n",
    "    # step 1 : do a key check. The key must be a valid key of the given data but cant ...\n",
    "    reorg = dict()\n",
    "    \n",
    "    keys = set([record[group_by_key] for record in data])\n",
    "    print('Debug', len(keys)==len(paid_students))\n",
    "    for key in keys:\n",
    "        reorg[key] = list(get_student_records(data, key, key_type=group_by_key))\n",
    "    reorg = dict(pop_items_from_dictofdicts(reorg, popitms=group_by_key))\n",
    "    return dict(reorg)\n",
    "\n",
    "# '429'\n"
   ]
  },
  {
   "cell_type": "code",
   "execution_count": 31,
   "metadata": {},
   "outputs": [],
   "source": [
    "# y is first_week_paid_engagements_by_account hard coded in this function?\n",
    "def sum_grouped_data(data: dict, key_type) -> dict:\n",
    "    tot_by_account = dict()\n",
    "    for account_key, engagement_for_student in first_week_paid_engagements_by_account.items():\n",
    "        tot = 0\n",
    "        for engagement in engagement_for_student:\n",
    "            tot += engagement[key_type]\n",
    "        tot_by_account[account_key] = tot\n",
    "    return tot_by_account"
   ]
  },
  {
   "cell_type": "code",
   "execution_count": 32,
   "metadata": {},
   "outputs": [
    {
     "name": "stdout",
     "output_type": "stream",
     "text": [
      "Debug False\n",
      "Debug False\n",
      "Debug False\n"
     ]
    }
   ],
   "source": [
    "non_udacity_enrollments_by_account = regroup_records_by_key(non_udacity_enrollments, group_by_key= 'account_key')\n",
    "non_udacity_engagements_by_account = regroup_records_by_key(non_udacity_engagements, group_by_key= 'account_key')\n",
    "non_udacity_submissions_by_account = regroup_records_by_key(non_udacity_submissions, group_by_key= 'account_key')"
   ]
  },
  {
   "cell_type": "code",
   "execution_count": 36,
   "metadata": {},
   "outputs": [],
   "source": [
    "non_udacity_paid_enrollments_by_account = dict()\n",
    "for key in set(non_udacity_enrollments_by_account.keys()):\n",
    "#for key in paid_students:\n",
    "    #print(get_student_records(non_udacity_engagements, key))\n",
    "    if key in paid_students:\n",
    "        #non_udacity_paid_enrollments_by_account[key] = get_student_records(non_udacity_enrollments, key).copy()\n",
    "        non_udacity_paid_enrollments_by_account[key] = non_udacity_enrollments_by_account[key].copy()\n",
    "#non_udacity_paid_enrollments_by_account = \\\n",
    "#    pop_items_from_dictofdicts(non_udacity_paid_enrollments_by_account, popitms='account_key')"
   ]
  },
  {
   "cell_type": "code",
   "execution_count": 37,
   "metadata": {
    "scrolled": true
   },
   "outputs": [],
   "source": [
    "non_udacity_paid_engagements_by_account = dict()\n",
    "for key in set(non_udacity_engagements_by_account.keys()):\n",
    "#for key in paid_students:\n",
    "    #print(get_student_records(non_udacity_engagements, key))\n",
    "    if key in paid_students:\n",
    "        #non_udacity_paid_engagements_by_account[key] = get_student_records(non_udacity_engagements, key).copy()\n",
    "        non_udacity_paid_engagements_by_account[key] = non_udacity_engagements_by_account[key].copy()\n",
    "    else:\n",
    "        pass\n",
    "        #print('free student')\n",
    "#non_udacity_paid_engagements_by_account = \\\n",
    "#    pop_items_from_dictofdicts(non_udacity_paid_engagements_by_account, popitms='account_key')"
   ]
  },
  {
   "cell_type": "code",
   "execution_count": 38,
   "metadata": {},
   "outputs": [],
   "source": [
    "non_udacity_paid_submissions_by_account = dict()\n",
    "for key in set(non_udacity_submissions_by_account.keys()):\n",
    "#for key in paid_students:\n",
    "    #print(get_student_records(non_udacity_engagements, key))\n",
    "    if key in paid_students:\n",
    "        #non_udacity_paid_submissions_by_account[key] = get_student_records(non_udacity_submissions, key).copy()\n",
    "        non_udacity_paid_submissions_by_account[key] = non_udacity_submissions_by_account[key].copy()\n",
    "#non_udacity_paid_submissions_by_account = \\\n",
    "#    pop_items_from_dictofdicts(non_udacity_paid_submissions_by_account, popitms='account_key')"
   ]
  },
  {
   "cell_type": "code",
   "execution_count": 39,
   "metadata": {},
   "outputs": [
    {
     "name": "stdout",
     "output_type": "stream",
     "text": [
      "1 995\n",
      "2 995\n",
      "3 731\n"
     ]
    }
   ],
   "source": [
    "print('1', len(non_udacity_paid_enrollments_by_account))\n",
    "print('2', len(non_udacity_paid_engagements_by_account))\n",
    "# Lot of free enrollments did not engage but all paid student have engaged but every paid student submitted project\n",
    "print('3', len(non_udacity_paid_submissions_by_account))\n"
   ]
  },
  {
   "cell_type": "code",
   "execution_count": 97,
   "metadata": {},
   "outputs": [
    {
     "name": "stdout",
     "output_type": "stream",
     "text": [
      "135656\n",
      "134549\n"
     ]
    }
   ],
   "source": [
    "print(len(non_udacity_engagements))\n",
    "# how many engagements are in non_udacity_paid_engagements_by_account\n",
    "length = 0\n",
    "for key, records in non_udacity_paid_engagements_by_account.items():\n",
    "    length+=len(records)\n",
    "print(length)\n",
    "del length"
   ]
  },
  {
   "cell_type": "code",
   "execution_count": 114,
   "metadata": {
    "scrolled": true
   },
   "outputs": [
    {
     "name": "stdout",
     "output_type": "stream",
     "text": [
      "995\n",
      "242 2015-05-11 00:00:00\n",
      "True\n",
      "\n",
      "@ndays_engagements\n",
      "6903 records belong to first week from the given join_dates\n",
      "995  no. of students in output\n",
      "134549 records are in the given engagement data\n",
      "995  no. of students in input\n",
      "~@ndays_engagements\n",
      "995\n",
      "135656\n",
      "6903\n",
      "995\n",
      "<class 'list'>\n"
     ]
    },
    {
     "data": {
      "text/plain": [
       "[{'account_key': '242',\n",
       "  'lessons_completed': 0,\n",
       "  'num_courses_visited': 1,\n",
       "  'projects_completed': 0,\n",
       "  'total_minutes_visited': 18.7921958333,\n",
       "  'utc_date': datetime.datetime(2015, 5, 11, 0, 0)},\n",
       " {'account_key': '242',\n",
       "  'lessons_completed': 1,\n",
       "  'num_courses_visited': 1,\n",
       "  'projects_completed': 0,\n",
       "  'total_minutes_visited': 5.92685416667,\n",
       "  'utc_date': datetime.datetime(2015, 5, 12, 0, 0)},\n",
       " {'account_key': '242',\n",
       "  'lessons_completed': 0,\n",
       "  'num_courses_visited': 1,\n",
       "  'projects_completed': 0,\n",
       "  'total_minutes_visited': 116.256568167,\n",
       "  'utc_date': datetime.datetime(2015, 5, 13, 0, 0)},\n",
       " {'account_key': '242',\n",
       "  'lessons_completed': 0,\n",
       "  'num_courses_visited': 1,\n",
       "  'projects_completed': 0,\n",
       "  'total_minutes_visited': 121.6687495,\n",
       "  'utc_date': datetime.datetime(2015, 5, 14, 0, 0)},\n",
       " {'account_key': '242',\n",
       "  'lessons_completed': 1,\n",
       "  'num_courses_visited': 1,\n",
       "  'projects_completed': 0,\n",
       "  'total_minutes_visited': 86.7323611667,\n",
       "  'utc_date': datetime.datetime(2015, 5, 15, 0, 0)},\n",
       " {'account_key': '242',\n",
       "  'lessons_completed': 0,\n",
       "  'num_courses_visited': 1,\n",
       "  'projects_completed': 0,\n",
       "  'total_minutes_visited': 112.5961965,\n",
       "  'utc_date': datetime.datetime(2015, 5, 16, 0, 0)},\n",
       " {'account_key': '242',\n",
       "  'lessons_completed': 1,\n",
       "  'num_courses_visited': 1,\n",
       "  'projects_completed': 0,\n",
       "  'total_minutes_visited': 92.6196885,\n",
       "  'utc_date': datetime.datetime(2015, 5, 17, 0, 0)}]"
      ]
     },
     "execution_count": 114,
     "metadata": {},
     "output_type": "execute_result"
    }
   ],
   "source": [
    "# latest_join_dates is dict with 'account_key' as its keys and latest enrollment date of that account as its value(datetime)\n",
    "#latest_join_dates = get_latest_enrollment_dates(non_udacity_paid_enrollments_by_account, \\\n",
    "#                                               engagement_data_keys=set(non_udacity_paid_engagements_by_account.keys()))\n",
    "latest_join_dates = get_latest_enrollment_dates(non_udacity_paid_enrollments_by_account)\n",
    "\n",
    "print(len(latest_join_dates))\n",
    "print('242', latest_join_dates['242'])\n",
    "print(set(non_udacity_paid_engagements_by_account.keys())==set(non_udacity_paid_enrollments_by_account.keys()))\n",
    "print()\n",
    "# it is first week paid engagements. not latest week paid engagements\n",
    "first_week_paid_engagements = ndays_engagements(non_udacity_paid_engagements_by_account, latest_join_dates)\n",
    "\n",
    "# there are 995 paid enrollment. but there should have been lesser number of accounts engaging. how are they same?\n",
    "# because people who pay do engage. the people who didnt engage are all from free students\n",
    "print(len(paid_students))\n",
    "print(len(non_udacity_engagements))\n",
    "print(len(first_week_paid_engagements))\n",
    "print(len(get_unique_students(first_week_paid_engagements)))\n",
    "print(type(first_week_paid_engagements))\n",
    "get_student_records(first_week_paid_engagements, '242')"
   ]
  },
  {
   "cell_type": "markdown",
   "metadata": {},
   "source": [
    "#### reorganize `first_week_paid_engagements`  \n",
    "reorganize the data in first_week_paid_engagements **from**  \n",
    "a list of dicts - each dict is a record of engagement **to**  \n",
    "a dict of dicts - each key of the main dict contains all the records corresponding to that key"
   ]
  },
  {
   "cell_type": "code",
   "execution_count": 41,
   "metadata": {},
   "outputs": [
    {
     "name": "stdout",
     "output_type": "stream",
     "text": [
      "995\n",
      "6903\n"
     ]
    }
   ],
   "source": [
    "print(len(get_unique_students(first_week_paid_engagements)))\n",
    "print(len(first_week_paid_engagements))"
   ]
  },
  {
   "cell_type": "code",
   "execution_count": 116,
   "metadata": {},
   "outputs": [
    {
     "name": "stdout",
     "output_type": "stream",
     "text": [
      "Debug True\n",
      "995\n",
      "[{'projects_completed': 0, 'utc_date': datetime.datetime(2015, 3, 10, 0, 0), 'total_minutes_visited': 0.0, 'lessons_completed': 0, 'num_courses_visited': 0}, {'projects_completed': 0, 'utc_date': datetime.datetime(2015, 3, 11, 0, 0), 'total_minutes_visited': 0.0, 'lessons_completed': 0, 'num_courses_visited': 0}, {'projects_completed': 0, 'utc_date': datetime.datetime(2015, 3, 12, 0, 0), 'total_minutes_visited': 0.0, 'lessons_completed': 0, 'num_courses_visited': 0}, {'projects_completed': 0, 'utc_date': datetime.datetime(2015, 3, 13, 0, 0), 'total_minutes_visited': 0.0, 'lessons_completed': 0, 'num_courses_visited': 0}, {'projects_completed': 0, 'utc_date': datetime.datetime(2015, 3, 14, 0, 0), 'total_minutes_visited': 0.0, 'lessons_completed': 0, 'num_courses_visited': 0}, {'projects_completed': 0, 'utc_date': datetime.datetime(2015, 3, 15, 0, 0), 'total_minutes_visited': 0.0, 'lessons_completed': 0, 'num_courses_visited': 0}, {'projects_completed': 0, 'utc_date': datetime.datetime(2015, 3, 16, 0, 0), 'total_minutes_visited': 0.0, 'lessons_completed': 0, 'num_courses_visited': 0}]\n"
     ]
    }
   ],
   "source": [
    "first_week_paid_engagements_by_account = regroup_records_by_key(first_week_paid_engagements, group_by_key='account_key')\n",
    "print(len(first_week_paid_engagements_by_account.keys()))\n",
    "print(first_week_paid_engagements_by_account['429'])"
   ]
  },
  {
   "cell_type": "code",
   "execution_count": 43,
   "metadata": {},
   "outputs": [
    {
     "name": "stdout",
     "output_type": "stream",
     "text": [
      "Debug False\n",
      "5830\n"
     ]
    }
   ],
   "source": [
    "# test for regroup_records_by_key\n",
    "# testing if it works with group_by_key='lessons_completed'\n",
    "print(len(regroup_records_by_key(first_week_paid_engagements, group_by_key='lessons_completed')[0]))"
   ]
  },
  {
   "cell_type": "markdown",
   "metadata": {},
   "source": [
    "## Data Exploration"
   ]
  },
  {
   "cell_type": "code",
   "execution_count": 44,
   "metadata": {},
   "outputs": [
    {
     "name": "stdout",
     "output_type": "stream",
     "text": [
      "995\n"
     ]
    }
   ],
   "source": [
    "total_minutes_by_account_first_week = dict(sum_grouped_data(first_week_paid_engagements_by_account, 'total_minutes_visited'))\n",
    "\n",
    "\"\"\"for account_key, engagement_for_student in engagements_by_account.items():\n",
    "    total_mins = 0\n",
    "    for engagement in engagement_for_student:\n",
    "        total_mins += engagement['total_minutes_visited']\n",
    "    total_minutes_by_account_first_week[account_key] = total_mins\"\"\"\n",
    "    \n",
    "total_mins = list(total_minutes_by_account_first_week.values())\n",
    "print(len(total_minutes_by_account_first_week))"
   ]
  },
  {
   "cell_type": "code",
   "execution_count": 45,
   "metadata": {},
   "outputs": [],
   "source": [
    "import numpy as np\n",
    "\n",
    "def describe_data_stats(data):\n",
    "    print('Mean', np.mean(data))\n",
    "    print('Standard Deviation', np.std(data))\n",
    "    print('Max', np.max(data))\n",
    "    print('Min', np.min(data))"
   ]
  },
  {
   "cell_type": "code",
   "execution_count": 46,
   "metadata": {},
   "outputs": [
    {
     "name": "stdout",
     "output_type": "stream",
     "text": [
      "Mean 304.7717985797271\n",
      "Standard Deviation 412.9883326516586\n",
      "Max 3564.7332644989997\n",
      "Min 0.0\n",
      "Minutes in a week : 10080\n"
     ]
    }
   ],
   "source": [
    "describe_data_stats(total_mins)\n",
    "print('Minutes in a week :',7*24*60)"
   ]
  },
  {
   "cell_type": "code",
   "execution_count": 47,
   "metadata": {
    "scrolled": true
   },
   "outputs": [],
   "source": [
    "total_lessons_by_account_first_week = dict(sum_grouped_data(first_week_paid_engagements_by_account, 'lessons_completed'))\n",
    "\n",
    "\"\"\"for account_key, engagement_for_student in first_week_paid_engagements_by_account.items():\n",
    "    total_lessons = 0\n",
    "    for engagement in engagement_for_student:\n",
    "        total_lessons += engagement['lessons_completed']\n",
    "    total_lessons_by_account_first_week[account_key] = total_lessons\"\"\"\n",
    "    \n",
    "total_lessons = list(total_lessons_by_account_first_week.values())"
   ]
  },
  {
   "cell_type": "code",
   "execution_count": 48,
   "metadata": {},
   "outputs": [
    {
     "name": "stdout",
     "output_type": "stream",
     "text": [
      "Mean 1.629145728643216\n",
      "Standard Deviation 2.99985841774272\n",
      "Max 36\n",
      "Min 0\n",
      "995\n",
      "[('132', 1), ('158', 0), ('99', 2), ('735', 0), ('267', 1), ('1111', 0), ('508', 1), ('469', 5), ('1054', 0), ('585', 3), ('118', 5), ('666', 0), ('784', 3), ('1263', 1), ('527', 0), ('834', 0), ('309', 0), ('1033', 9), ('9', 2), ('360', 3), ('692', 0), ('219', 2), ('42', 2), ('304', 1), ('900', 0), ('383', 0), ('8', 7), ('185', 0), ('520', 0), ('1227', 0), ('410', 2), ('51', 0), ('1204', 2), ('306', 0), ('209', 0), ('844', 0), ('846', 0), ('780', 0), ('620', 1), ('648', 0), ('308', 2), ('1071', 0), ('676', 0), ('269', 1), ('421', 2), ('686', 0), ('972', 0), ('916', 1), ('205', 1), ('651', 8)]\n"
     ]
    }
   ],
   "source": [
    "describe_data_stats(total_lessons)\n",
    "print(len(total_lessons_by_account_first_week))\n",
    "print(list(total_lessons_by_account_first_week.items())[:50])"
   ]
  },
  {
   "cell_type": "code",
   "execution_count": 119,
   "metadata": {},
   "outputs": [],
   "source": [
    "for key, records in first_week_paid_engagements_by_account.items():\n",
    "    for record in records:\n",
    "        record['has_visited'] = 1 if record['num_courses_visited'] else 0"
   ]
  },
  {
   "cell_type": "code",
   "execution_count": 120,
   "metadata": {},
   "outputs": [],
   "source": [
    "total_days_visited_by_account_first_week = dict(sum_grouped_data(first_week_paid_engagements_by_account, 'has_visited'))\n",
    "\n",
    "total_days = list(total_days_visited_by_account_first_week.values())"
   ]
  },
  {
   "cell_type": "code",
   "execution_count": 117,
   "metadata": {
    "scrolled": true
   },
   "outputs": [
    {
     "name": "stdout",
     "output_type": "stream",
     "text": [
      "Mean 2.8472361809045226\n",
      "Standard Deviation 2.262826066789091\n",
      "Max 7\n",
      "Min 0\n",
      "995\n",
      "[('132', 6), ('158', 0), ('99', 4), ('735', 0), ('267', 3), ('1111', 0), ('508', 5), ('469', 6), ('1054', 0), ('585', 5), ('118', 7), ('666', 4), ('784', 4), ('1263', 6), ('527', 3), ('834', 1), ('309', 4), ('1033', 7), ('9', 4), ('360', 7), ('692', 1), ('219', 5), ('42', 6), ('304', 2), ('900', 0), ('383', 3), ('8', 7), ('185', 0), ('520', 2), ('1227', 0), ('410', 5), ('51', 0), ('1204', 7), ('306', 0), ('209', 1), ('844', 0), ('846', 2), ('780', 0), ('620', 4), ('648', 2), ('308', 5), ('1071', 0), ('676', 1), ('269', 2), ('421', 1), ('686', 1), ('972', 2), ('916', 1), ('205', 4), ('651', 7)]\n"
     ]
    }
   ],
   "source": [
    "describe_data_stats(total_days)\n",
    "print(len(total_days_visited_by_account_first_week))\n",
    "print(list(total_days_visited_by_account_first_week.items())[:50])"
   ]
  },
  {
   "cell_type": "code",
   "execution_count": 52,
   "metadata": {},
   "outputs": [
    {
     "name": "stdout",
     "output_type": "stream",
     "text": [
      "True\n",
      "1 737\n",
      "2 737\n",
      "3 731\n",
      "4 995\n",
      "5 True\n",
      "Free students submitting project within a week {'701', '1279', '947', '1133', '1116', '1169'}\n",
      "{'735', '666', '834', '692', '900', '1227', '1204', '1080', '844', '846', '780', '676', '686', '972', '779', '1228', '916', '1060', '1019', '1269', '693', '1254', '1290', '1077', '822', '1028', '797', '872', '1214', '744', '1278', '710', '1102', '1202', '696', '1153', '985', '730', '836', '977', '1163', '1075', '671', '866', '824', '787', '1113', '1248', '1115', '726', '1038', '854', '1009', '665', '796', '1103', '1124', '757', '697', '1066', '931', '1067', '667', '1011', '1268', '874', '1299', '1303', '896', '1095', '678', '673', '661', '1212', '835', '864', '687', '1029', '1094', '1151', '859', '1226', '674', '927', '1174', '752', '932', '801', '1050', '992', '1181', '1244', '689', '1136', '966', '806', '1305', '756', '656', '1160', '1147', '764', '1265', '1142', '1140', '1287', '857', '1001', '1031', '1182', '1157', '831', '1107', '1062', '954', '1118', '1040', '753', '952', '823', '1096', '1032', '825', '983', '948', '1053', '956', '833', '1161', '705', '804', '1264', '1123', '1128', '781', '1177', '669', '1170', '1262', '672', '1055', '1036', '989', '909', '1282', '832', '1121', '877', '1242', '868', '1205', '754', '1201', '702', '1266', '1236', '1257', '746', '704', '1117', '1207', '743', '1052', '1167', '1260', '720', '1049', '1089', '761', '873', '867', '1198', '1178', '1285', '946', '759', '776', '1146', '1289', '880', '828', '773', '1194', '941', '1199', '747', '853', '1175', '1149', '1302', '1250', '937', '1099', '657', '939', '856', '913', '988', '1189', '958', '1074', '1253', '882', '1267', '1090', '975', '769', '976', '709', '1276', '1088', '808', '786', '920', '1188', '969', '660', '1042', '923', '1054', '893', '1071', '816', '829', '1211', '718', '719', '1220', '1249', '1015', '682', '1130', '1072', '698', '729', '1251', '1208', '800', '778', '793', '1277', '1200', '897', '1259', '1030', '1022', '888', '918', '855', '934', '912', '785', '839', '655', '762', '1082', '713', '1210', '1007', '840', '1243', '887', '811', '1144'}\n"
     ]
    }
   ],
   "source": [
    "print(non_udacity_submissions_by_account.keys()==get_unique_students(non_udacity_submissions))\n",
    "\n",
    "print('1', len(get_unique_students(non_udacity_submissions)))\n",
    "print('2', len(non_udacity_submissions_by_account))\n",
    "print('3', len(non_udacity_paid_submissions_by_account))\n",
    "print('4', len(non_udacity_paid_engagements_by_account))\n",
    "## where did the free era students go now? {'701', '1279', '1133', '947', '1169', '1116'}\n",
    "print('5', '701' in get_unique_students(non_udacity_submissions))\n",
    "print('Free students submitting project within a week', \\\n",
    "      (non_udacity_submissions_by_account.keys()-non_udacity_paid_engagements_by_account.keys()))\n",
    "print(non_udacity_paid_engagements_by_account.keys()-non_udacity_submissions_by_account.keys())"
   ]
  },
  {
   "cell_type": "markdown",
   "metadata": {},
   "source": [
    "## Analyse *`Submissions`*\n",
    "______\n",
    "data set to anaylse:   \n",
    "   **non_udacity_submissions**: *a list of dicts - each dict is a record *\n",
    "*`non_udacity_submissions* is *paid_submissions`*. There cant be any submissions from non paid students."
   ]
  },
  {
   "cell_type": "code",
   "execution_count": 53,
   "metadata": {},
   "outputs": [
    {
     "name": "stdout",
     "output_type": "stream",
     "text": [
      "{'creation_date': datetime.datetime(2015, 1, 14, 0, 0), 'processing_state': 'EVALUATED', 'completion_date': datetime.datetime(2015, 1, 16, 0, 0), 'account_key': '256', 'assigned_rating': 'UNGRADED', 'lesson_key': '3176718735'}\n"
     ]
    }
   ],
   "source": [
    "subway_project_lesson_keys = set({'746169184', '3176718735'})\n",
    "\n",
    "#list of Records\n",
    "passing_engagements = list()\n",
    "non_passing_engagements = list()\n",
    "print(non_udacity_submissions[0])"
   ]
  },
  {
   "cell_type": "code",
   "execution_count": 54,
   "metadata": {},
   "outputs": [
    {
     "name": "stdout",
     "output_type": "stream",
     "text": [
      "{'701', '1169', '1279', '947', '1133', '1116'}\n"
     ]
    }
   ],
   "source": [
    "free_era_students = set(non_udacity_submissions_by_account.keys()-non_udacity_paid_engagements_by_account.keys())\n",
    "print(free_era_students)"
   ]
  },
  {
   "cell_type": "code",
   "execution_count": 55,
   "metadata": {},
   "outputs": [
    {
     "name": "stdout",
     "output_type": "stream",
     "text": [
      "6\n",
      "737\n"
     ]
    }
   ],
   "source": [
    "print(len(set(non_udacity_submissions_by_account.keys())-set(non_udacity_paid_submissions_by_account.keys())))\n",
    "# How many accounts are in non_udacity_submissions\n",
    "print(len(get_unique_students(non_udacity_submissions)))\n"
   ]
  },
  {
   "cell_type": "code",
   "execution_count": 56,
   "metadata": {
    "scrolled": true
   },
   "outputs": [
    {
     "name": "stdout",
     "output_type": "stream",
     "text": [
      "False\n",
      "True\n",
      "['132', '158', '735', '267', '1111', '508', '469', '1054', '585', '118', '666', '784', '1263', '527', '834', '309', '1033', '9', '360', '692', '182', '304', '900', '383', '8', '185', '520', '1227', '410', '51', '1204', '306', '209', '844', '846', '780', '620', '648', '308', '1071', '676', '269', '686', '972', '916', '205', '511', '578', '1060', '332']\n"
     ]
    }
   ],
   "source": [
    "#print(non_udacity_paid_engagements_by_account['1116'][0])\n",
    "# TODO find y this key is not in paid students but in non_udacity_submissions\n",
    "print('1116' in paid_students)\n",
    "# hows is a student '1116' not in 'paid_students' but still in non_udacity_submissions\n",
    "print('1116' in get_unique_students(non_udacity_submissions))\n",
    "print(list(non_udacity_paid_engagements_by_account.keys())[:50])"
   ]
  },
  {
   "cell_type": "code",
   "execution_count": 57,
   "metadata": {},
   "outputs": [
    {
     "name": "stdout",
     "output_type": "stream",
     "text": [
      "1 737\n",
      "2 731\n",
      "3 6\n",
      "4 {'701', '1279', '947', '1133', '1116', '1169'}\n",
      "5 737\n",
      "6 731\n",
      "[{'account_key': '158', 'projects_completed': 0, 'total_minutes_visited': 0.0, 'lessons_completed': 0, 'num_courses_visited': 0, 'utc_date': datetime.datetime(2015, 4, 4, 0, 0)}, {'account_key': '158', 'projects_completed': 0, 'total_minutes_visited': 0.0, 'lessons_completed': 0, 'num_courses_visited': 0, 'utc_date': datetime.datetime(2015, 4, 5, 0, 0)}] \n",
      " [{'account_key': '1111', 'projects_completed': 0, 'total_minutes_visited': 14.1300806667, 'lessons_completed': 0, 'num_courses_visited': 1, 'utc_date': datetime.datetime(2014, 11, 11, 0, 0)}, {'account_key': '1111', 'projects_completed': 0, 'total_minutes_visited': 0.0, 'lessons_completed': 0, 'num_courses_visited': 0, 'utc_date': datetime.datetime(2014, 11, 12, 0, 0)}]\n"
     ]
    }
   ],
   "source": [
    "passing_engagements = list()\n",
    "non_passing_engagements = list()\n",
    "# issue: there are some account that are not paid students but have completed the project with 7 days.\n",
    "# i.e., these 6 accounts {'701', '1279', '1133', '947', '1169', '1116'} are not paid accounts \n",
    "# Observation: These accounts are of old students when courses were free unless u need support.\n",
    "# ---------------------------------------------------------------------------------------------------\n",
    "# solutions: One solution could be to remove these 6 accounts and procceed (preffered way)\n",
    "# Another way could be include those accounts as free_era_students (executing this way)\n",
    "print('1', len(get_unique_students(non_udacity_submissions)))\n",
    "print('2', len(non_udacity_paid_submissions_by_account))\n",
    "print('3', len(free_era_students))\n",
    "print('4', free_era_students.intersection(get_unique_students(non_udacity_submissions)))\n",
    "print('5', len(set(non_udacity_paid_submissions_by_account.keys()).union(free_era_students)))\n",
    "print('6', len(set(non_udacity_paid_submissions_by_account.keys())))\n",
    "\n",
    "for key in set(non_udacity_paid_submissions_by_account.keys()).union(free_era_students):\n",
    "    #print(non_udacity_paid_submissions_by_account[key][0]['lesson_key'])\n",
    "    \n",
    "    lesson_key = non_udacity_submissions_by_account[key][0]['lesson_key']\n",
    "    \n",
    "    if lesson_key in subway_project_lesson_keys:\n",
    "        #print(non_udacity_submissions_by_account[key][0])\n",
    "        records = non_udacity_submissions_by_account[key]\n",
    "        # find if this student has passed or not\n",
    "        passing_account = False\n",
    "        for record in records:\n",
    "            \n",
    "            rating = record['assigned_rating']\n",
    "            \n",
    "            if rating in {'PASSED','DISTINCTION'}:\n",
    "                passing_account = True\n",
    "            else:\n",
    "                pass\n",
    "        if passing_account:\n",
    "            passing_engagements.extend(add_key_to_list_of_records(non_udacity_engagements_by_account[key].copy(), key))\n",
    "        else:\n",
    "            non_passing_engagements.extend(add_key_to_list_of_records(non_udacity_engagements_by_account[key].copy(), key))\n",
    "print(passing_engagements[:2], '\\n', non_passing_engagements[:2])"
   ]
  },
  {
   "cell_type": "code",
   "execution_count": 58,
   "metadata": {},
   "outputs": [
    {
     "name": "stdout",
     "output_type": "stream",
     "text": [
      "No of records: 134549\n",
      "1a 743\n",
      "1b 737\n",
      "1c 731\n",
      "2 6\n",
      "3a {'701', '1279', '947', '1133', '1116', '1169'}\n",
      "3b set()\n",
      "4 737\n",
      "5 731\n",
      "6 995\n",
      "7 False\n"
     ]
    }
   ],
   "source": [
    "length = 0\n",
    "for key, records in non_udacity_paid_engagements_by_account.items():\n",
    "    length += len(records)\n",
    "print('No of records:',length)\n",
    "del length\n",
    "print('1a', len(get_unique_students(submissions)))\n",
    "print('1b', len(get_unique_students(non_udacity_submissions)))\n",
    "print('1c', len(non_udacity_paid_submissions_by_account))\n",
    "print('2', len(free_era_students))\n",
    "\n",
    "print('3a', free_era_students.intersection(get_unique_students(non_udacity_submissions)))\n",
    "print('3b', set(non_udacity_paid_submissions_by_account.keys()).intersection(free_era_students))\n",
    "\n",
    "print('4', len(set(non_udacity_paid_submissions_by_account.keys()).union(free_era_students)))\n",
    "print('5', len(set(non_udacity_paid_submissions_by_account.keys())))\n",
    "# Y is the length of below same as the length of paid_students?\n",
    "print('6', len(first_week_paid_engagements_by_account))\n",
    "print('7', len(first_week_paid_engagements_by_account)==len(non_udacity_paid_submissions_by_account))"
   ]
  },
  {
   "cell_type": "code",
   "execution_count": 59,
   "metadata": {},
   "outputs": [
    {
     "name": "stdout",
     "output_type": "stream",
     "text": [
      "731\n",
      "before length: 3618\n",
      "6\n",
      "items_to_remove [0, 1, 2, 4, 6, 7, 8, 9, 10] 132\n",
      "items_to_remove [] 158\n",
      "items_to_remove [] 267\n",
      "items_to_remove [] 1111\n",
      "items_to_remove [2, 4, 5, 6, 9] 508\n",
      "items_to_remove [0] 469\n",
      "items_to_remove [] 505\n",
      "items_to_remove [0, 1, 3, 4, 5, 6] 585\n",
      "items_to_remove [] 118\n",
      "items_to_remove [0, 1, 2, 3, 4, 5] 784\n",
      "items_to_remove [1] 527\n",
      "items_to_remove [0, 1, 2, 3] 309\n",
      "items_to_remove [1] 1033\n",
      "items_to_remove [0, 2, 3, 4, 5] 9\n",
      "items_to_remove [1] 360\n",
      "items_to_remove [0, 1, 3] 42\n",
      "items_to_remove [2] 304\n",
      "items_to_remove [0, 1, 3, 4] 383\n",
      "items_to_remove [0, 2] 8\n",
      "items_to_remove [1, 2, 3, 4, 5, 6, 7] 185\n",
      "items_to_remove [] 520\n",
      "items_to_remove [] 410\n",
      "items_to_remove [] 51\n",
      "items_to_remove [2, 5, 8] 306\n",
      "items_to_remove [0, 1, 2, 3, 5] 209\n",
      "items_to_remove [1, 2] 620\n",
      "items_to_remove [] 648\n",
      "items_to_remove [0, 2, 3, 4, 6, 7, 8] 308\n",
      "items_to_remove [] 640\n",
      "items_to_remove [2, 3] 269\n",
      "items_to_remove [1, 2, 3] 558\n",
      "items_to_remove [4, 5] 205\n",
      "items_to_remove [] 511\n",
      "items_to_remove [2, 3, 4] 578\n",
      "items_to_remove [] 165\n",
      "items_to_remove [1, 3, 4, 6, 7, 8] 332\n",
      "items_to_remove [0, 1, 2, 3, 5] 428\n",
      "items_to_remove [0] 417\n",
      "items_to_remove [0, 1, 2, 3, 4, 8, 9] 186\n",
      "items_to_remove [0, 2, 3] 100\n",
      "items_to_remove [0, 1, 2, 3, 4, 5, 6] 24\n",
      "items_to_remove [0, 1, 2] 72\n",
      "items_to_remove [0, 1, 5] 77\n",
      "items_to_remove [] 631\n",
      "items_to_remove [] 36\n",
      "items_to_remove [1, 3, 4, 5, 6] 206\n",
      "items_to_remove [1] 414\n",
      "items_to_remove [0, 1, 4, 5] 214\n",
      "items_to_remove [1, 2, 3, 4, 6, 7, 8] 277\n",
      "items_to_remove [0] 54\n",
      "items_to_remove [] 472\n",
      "items_to_remove [0, 1, 2, 3, 6] 6\n",
      "items_to_remove [1, 3] 235\n",
      "items_to_remove [1] 432\n",
      "items_to_remove [1, 2, 3, 4, 5, 6, 7, 8, 9] 326\n",
      "items_to_remove [0, 2] 162\n",
      "items_to_remove [0, 3, 4, 5] 63\n",
      "items_to_remove [0, 3, 4, 5, 6] 79\n",
      "items_to_remove [0] 851\n",
      "items_to_remove [] 384\n",
      "items_to_remove [0, 1, 2, 3] 1150\n",
      "items_to_remove [] 256\n",
      "items_to_remove [] 444\n",
      "items_to_remove [] 167\n",
      "items_to_remove [0] 928\n",
      "items_to_remove [0, 1] 355\n",
      "items_to_remove [] 480\n",
      "items_to_remove [] 180\n",
      "items_to_remove [0, 1, 3, 5] 124\n",
      "items_to_remove [0] 593\n",
      "items_to_remove [0, 2, 3, 5] 182\n",
      "items_to_remove [0] 1110\n",
      "items_to_remove [0, 2, 4, 5] 541\n",
      "items_to_remove [2, 3, 4, 6, 7, 8, 9, 10, 11] 489\n",
      "items_to_remove [1] 387\n",
      "items_to_remove [] 84\n",
      "items_to_remove [0, 1, 2] 575\n",
      "items_to_remove [] 454\n",
      "items_to_remove [0] 858\n",
      "items_to_remove [] 114\n",
      "items_to_remove [0, 1, 3, 4] 61\n",
      "items_to_remove [0, 2, 4] 552\n",
      "items_to_remove [0, 1, 3, 4] 598\n",
      "items_to_remove [] 447\n",
      "items_to_remove [2, 3, 4] 238\n",
      "items_to_remove [0, 1, 2, 3, 4, 5, 7, 8, 10, 11] 171\n",
      "items_to_remove [] 467\n",
      "items_to_remove [0, 1, 2, 3, 4, 6, 7] 562\n",
      "items_to_remove [] 34\n",
      "items_to_remove [2, 4, 5, 6, 7] 376\n",
      "items_to_remove [0, 1, 2, 3] 288\n",
      "items_to_remove [1, 2, 6] 32\n",
      "items_to_remove [0, 1, 2, 4, 5, 6, 7, 8, 9, 10, 11, 12] 328\n",
      "items_to_remove [] 215\n",
      "items_to_remove [] 1185\n",
      "items_to_remove [] 485\n",
      "items_to_remove [0, 1, 2, 3, 4] 1087\n",
      "items_to_remove [] 524\n",
      "items_to_remove [1] 71\n",
      "items_to_remove [0, 2] 107\n",
      "items_to_remove [0, 2, 3, 4, 5, 6, 7] 204\n",
      "items_to_remove [] 236\n",
      "items_to_remove [0, 3, 5, 6] 560\n",
      "items_to_remove [1, 2, 3, 4] 179\n",
      "items_to_remove [] 473\n",
      "items_to_remove [] 49\n",
      "items_to_remove [] 479\n",
      "items_to_remove [1] 755\n",
      "items_to_remove [0, 1, 2] 50\n",
      "items_to_remove [0, 4] 305\n",
      "items_to_remove [3, 4, 8, 9] 622\n",
      "items_to_remove [1] 196\n",
      "items_to_remove [] 293\n",
      "items_to_remove [] 543\n",
      "items_to_remove [0] 782\n",
      "items_to_remove [] 294\n",
      "items_to_remove [0] 583\n",
      "items_to_remove [0, 1, 2, 4, 5, 8] 481\n",
      "items_to_remove [0, 1] 653\n",
      "items_to_remove [0, 1] 53\n",
      "items_to_remove [0, 1, 4, 5, 6, 7, 8, 10] 37\n",
      "items_to_remove [0, 1, 2, 4, 5] 83\n",
      "items_to_remove [0, 2, 3, 4] 146\n",
      "items_to_remove [0, 1, 4, 5] 476\n",
      "items_to_remove [1, 3] 385\n",
      "items_to_remove [0, 1, 2] 1014\n",
      "items_to_remove [0, 1, 3] 364\n",
      "items_to_remove [0, 1, 2, 6] 242\n",
      "items_to_remove [0, 1] 403\n",
      "items_to_remove [0, 2, 3] 86\n",
      "items_to_remove [0, 1, 2, 3, 5, 6, 7, 8, 9] 195\n",
      "items_to_remove [2, 3, 4, 5, 6] 430\n",
      "items_to_remove [] 1002\n",
      "items_to_remove [0, 2, 3, 4] 390\n",
      "items_to_remove [] 413\n",
      "items_to_remove [1, 2, 4, 5] 211\n",
      "items_to_remove [] 644\n",
      "items_to_remove [0, 1, 2, 3, 4, 5, 7, 9] 13\n",
      "items_to_remove [0, 1, 2, 3, 4, 5, 6, 7] 150\n",
      "items_to_remove [0, 1, 2, 3, 4] 500\n",
      "items_to_remove [0, 1, 2, 4, 5, 7] 592\n",
      "items_to_remove [0, 1, 3, 5, 6] 446\n",
      "items_to_remove [0, 1, 4, 6] 136\n",
      "items_to_remove [1, 2, 3, 4, 5, 6] 626\n",
      "items_to_remove [0, 2] 228\n",
      "items_to_remove [] 647\n",
      "items_to_remove [] 262\n",
      "items_to_remove [] 151\n",
      "items_to_remove [0, 1, 2, 3, 6] 491\n",
      "items_to_remove [0, 2, 3] 628\n",
      "items_to_remove [] 265\n",
      "items_to_remove [0, 1, 2, 3] 646\n",
      "items_to_remove [0, 1, 2, 3, 4, 7, 8, 9, 10, 11, 12, 13] 443\n",
      "items_to_remove [0, 1, 2, 4] 286\n",
      "items_to_remove [] 1206\n",
      "items_to_remove [1, 2, 3, 4] 117\n",
      "items_to_remove [0, 1, 2] 47\n",
      "items_to_remove [] 2\n",
      "items_to_remove [0, 2, 3, 4] 463\n",
      "items_to_remove [] 419\n",
      "items_to_remove [] 732\n",
      "items_to_remove [1, 2] 325\n",
      "items_to_remove [2, 5] 4\n",
      "items_to_remove [0, 1, 3, 4] 515\n",
      "items_to_remove [] 138\n",
      "items_to_remove [1] 223\n",
      "items_to_remove [0, 1, 2, 3, 4, 6, 7, 9] 163\n",
      "items_to_remove [0, 1, 2, 3, 4, 5] 194\n",
      "items_to_remove [0, 1] 153\n",
      "items_to_remove [0, 1, 2, 5, 6, 7, 8] 546\n",
      "items_to_remove [2] 75\n",
      "items_to_remove [3] 367\n",
      "items_to_remove [0, 1, 2, 3, 4, 8, 9, 10, 11, 12] 389\n",
      "items_to_remove [] 601\n",
      "items_to_remove [] 129\n",
      "items_to_remove [0, 2, 3, 4, 5] 457\n",
      "items_to_remove [0, 1, 2, 3, 4, 6] 369\n",
      "items_to_remove [1] 56\n",
      "items_to_remove [] 482\n",
      "items_to_remove [1, 2] 176\n",
      "items_to_remove [0, 1, 3, 4, 5, 7, 8, 9] 563\n",
      "items_to_remove [] 398\n",
      "items_to_remove [0, 1, 2, 3, 5] 140\n",
      "items_to_remove [0, 1, 2, 3, 4, 7] 643\n",
      "items_to_remove [] 148\n",
      "items_to_remove [0, 2] 17\n",
      "items_to_remove [1, 3, 5, 6, 7] 39\n",
      "items_to_remove [0, 1, 2, 5, 6, 7, 8, 9, 10] 278\n",
      "items_to_remove [] 382\n",
      "items_to_remove [0, 1, 2, 3, 4, 7, 9] 282\n",
      "items_to_remove [0, 2, 3, 4, 5] 318\n",
      "items_to_remove [1, 2, 4, 5] 115\n",
      "items_to_remove [0, 1, 2, 4, 7, 8] 172\n",
      "items_to_remove [] 507\n",
      "items_to_remove [0, 1, 2, 4, 6, 7] 522\n",
      "items_to_remove [0, 1, 2, 3, 4, 5] 207\n",
      "items_to_remove [0, 3, 4, 5, 6] 357\n",
      "items_to_remove [] 109\n",
      "items_to_remove [] 406\n",
      "items_to_remove [] 792\n",
      "items_to_remove [1, 2, 4, 5, 7, 8] 539\n",
      "items_to_remove [0, 2, 3, 4, 6] 38\n",
      "items_to_remove [0, 1, 2] 44\n",
      "items_to_remove [1, 2, 5, 6, 7] 14\n",
      "items_to_remove [0, 1, 2, 5, 6, 7] 245\n",
      "items_to_remove [0, 1] 274\n",
      "items_to_remove [0, 1] 46\n",
      "items_to_remove [0] 1\n",
      "items_to_remove [] 567\n",
      "items_to_remove [] 134\n",
      "items_to_remove [] 69\n",
      "items_to_remove [] 251\n",
      "items_to_remove [] 7\n",
      "items_to_remove [0, 1, 2, 3, 5, 6, 7, 8, 9, 10, 12, 13] 616\n",
      "items_to_remove [0, 2, 3, 4, 5, 8, 10] 510\n",
      "items_to_remove [0, 1, 2] 517\n",
      "items_to_remove [] 395\n",
      "items_to_remove [0, 1, 2, 4, 5, 6] 609\n",
      "items_to_remove [3, 4] 25\n",
      "items_to_remove [] 529\n",
      "items_to_remove [0, 3, 4] 241\n",
      "items_to_remove [] 590\n",
      "items_to_remove [1, 3, 4] 31\n",
      "items_to_remove [0, 1, 3] 70\n",
      "items_to_remove [] 327\n",
      "items_to_remove [1, 2, 3] 0\n",
      "items_to_remove [] 348\n",
      "items_to_remove [2, 3, 4, 7] 462\n",
      "items_to_remove [] 11\n",
      "items_to_remove [1, 2, 3] 240\n",
      "items_to_remove [0, 1, 3, 4, 5, 6, 7, 8, 9, 10, 11, 12, 13, 14, 15] 557\n",
      "items_to_remove [0, 1, 5] 345\n",
      "items_to_remove [0, 2, 5] 363\n",
      "items_to_remove [0] 547\n",
      "items_to_remove [1, 2, 3] 22\n",
      "items_to_remove [] 424\n",
      "items_to_remove [0, 2, 3, 4, 5, 6, 7, 8] 244\n",
      "items_to_remove [1, 3] 538\n",
      "items_to_remove [0, 1, 2, 3, 5, 7] 263\n",
      "items_to_remove [] 400\n",
      "items_to_remove [0, 1, 2, 3, 5] 373\n",
      "items_to_remove [0, 1, 2, 3] 10\n",
      "items_to_remove [] 174\n",
      "items_to_remove [1, 2, 3, 4, 5] 393\n",
      "items_to_remove [] 98\n",
      "items_to_remove [0] 93\n",
      "items_to_remove [] 26\n",
      "items_to_remove [0, 3, 5, 6] 464\n",
      "items_to_remove [] 20\n",
      "items_to_remove [0, 1, 2, 3, 4, 5, 7, 8, 11] 110\n",
      "items_to_remove [0, 2] 537\n",
      "items_to_remove [1, 2] 441\n",
      "items_to_remove [0, 1, 2, 3] 3\n",
      "items_to_remove [] 349\n",
      "items_to_remove [0, 2] 415\n",
      "items_to_remove [0, 2, 4, 5] 252\n",
      "items_to_remove [0, 3, 4, 5, 6, 7] 501\n",
      "items_to_remove [] 670\n",
      "items_to_remove [0, 4] 273\n",
      "items_to_remove [3] 431\n",
      "items_to_remove [] 405\n",
      "items_to_remove [0, 2, 3, 4, 6] 559\n",
      "items_to_remove [] 330\n",
      "items_to_remove [0, 1] 1235\n",
      "items_to_remove [0, 1] 458\n",
      "items_to_remove [0, 1, 2, 4, 5, 6, 7, 8, 9, 10, 11, 12] 452\n",
      "items_to_remove [1, 2, 3, 4, 5, 6, 7, 8, 9, 10] 394\n",
      "items_to_remove [0, 2, 3, 4, 5, 6] 456\n",
      "items_to_remove [0, 1, 2, 4, 5, 6, 7, 8, 9, 10, 11] 570\n",
      "items_to_remove [0, 1, 2, 3] 371\n",
      "items_to_remove [] 605\n",
      "items_to_remove [1, 2, 4] 581\n",
      "items_to_remove [0] 748\n",
      "items_to_remove [0, 1, 2, 3] 178\n",
      "items_to_remove [0, 3] 365\n",
      "items_to_remove [0, 1, 2, 3, 4, 5, 7, 9, 10, 11, 12, 13, 14, 15, 16, 17, 18, 19, 20, 21, 22, 23, 24, 25, 26] 569\n",
      "items_to_remove [] 65\n",
      "items_to_remove [] 221\n",
      "items_to_remove [] 635\n",
      "items_to_remove [] 610\n",
      "items_to_remove [0, 1] 76\n",
      "items_to_remove [] 201\n",
      "items_to_remove [2] 276\n",
      "items_to_remove [0, 1, 2] 159\n",
      "items_to_remove [2, 3] 540\n",
      "items_to_remove [1, 2, 3] 495\n",
      "items_to_remove [] 329\n",
      "items_to_remove [] 320\n",
      "items_to_remove [0, 2] 78\n",
      "items_to_remove [] 478\n",
      "items_to_remove [1] 337\n",
      "items_to_remove [0, 1, 2, 4, 5, 6] 530\n",
      "items_to_remove [0, 1, 3, 4, 8, 9] 460\n",
      "items_to_remove [] 623\n",
      "items_to_remove [1, 5, 6, 7] 380\n",
      "items_to_remove [0, 1, 2, 4, 5, 6, 7] 525\n",
      "items_to_remove [0, 2, 3, 4] 604\n",
      "items_to_remove [0, 1, 3, 4, 5] 596\n",
      "items_to_remove [0, 2] 512\n",
      "items_to_remove [] 574\n",
      "items_to_remove [] 1292\n",
      "items_to_remove [3, 5] 97\n",
      "items_to_remove [] 434\n",
      "items_to_remove [0, 1] 87\n",
      "items_to_remove [0, 1, 3, 4] 301\n",
      "items_to_remove [] 243\n",
      "items_to_remove [0] 112\n",
      "items_to_remove [0, 1, 2, 4, 6] 314\n",
      "items_to_remove [0] 105\n",
      "items_to_remove [] 497\n",
      "items_to_remove [0, 1, 2, 4, 6] 199\n",
      "items_to_remove [0, 1, 2, 3, 5] 652\n",
      "items_to_remove [0, 3] 438\n",
      "items_to_remove [] 445\n",
      "items_to_remove [1, 3, 4] 526\n",
      "items_to_remove [1, 2, 3] 28\n",
      "items_to_remove [] 451\n",
      "items_to_remove [] 358\n",
      "items_to_remove [0, 1, 2, 5, 7, 8, 10] 316\n",
      "items_to_remove [] 123\n",
      "items_to_remove [] 353\n",
      "items_to_remove [] 429\n",
      "items_to_remove [0, 2, 3, 4, 5, 6, 7] 137\n",
      "items_to_remove [0, 1, 2, 3, 5, 6, 9, 10, 11, 12] 315\n",
      "items_to_remove [0, 1, 3, 6] 96\n",
      "items_to_remove [0, 1, 3, 4, 5] 352\n",
      "items_to_remove [] 612\n",
      "items_to_remove [] 771\n",
      "items_to_remove [] 706\n",
      "items_to_remove [] 127\n",
      "items_to_remove [0, 1, 4] 188\n",
      "items_to_remove [] 396\n",
      "items_to_remove [0, 2, 3, 4] 155\n",
      "items_to_remove [2, 3, 4] 48\n",
      "items_to_remove [] 528\n",
      "items_to_remove [0, 1, 2] 852\n",
      "items_to_remove [1, 2, 3, 5, 6] 350\n",
      "items_to_remove [1, 2, 3, 4, 7, 8, 9] 619\n",
      "items_to_remove [0] 1209\n",
      "items_to_remove [] 411\n",
      "items_to_remove [0, 1, 3, 4] 333\n",
      "items_to_remove [] 402\n",
      "items_to_remove [0, 1, 3, 5, 6, 7, 8, 9, 11, 12] 139\n",
      "items_to_remove [] 1048\n",
      "items_to_remove [] 88\n",
      "items_to_remove [] 378\n",
      "items_to_remove [0, 2, 3, 4] 217\n",
      "items_to_remove [0, 3, 4, 6] 144\n",
      "items_to_remove [0, 1, 2, 4, 5] 323\n",
      "items_to_remove [0, 2, 3, 4, 5, 7, 8, 9, 10, 11, 12] 135\n",
      "items_to_remove [1, 2, 7, 9] 254\n",
      "items_to_remove [] 190\n",
      "items_to_remove [0, 1, 2] 967\n",
      "items_to_remove [] 261\n",
      "items_to_remove [] 181\n",
      "items_to_remove [0, 1, 2, 3, 5] 161\n",
      "items_to_remove [] 43\n",
      "items_to_remove [0, 2] 157\n",
      "items_to_remove [1] 632\n",
      "items_to_remove [] 130\n",
      "items_to_remove [] 412\n",
      "items_to_remove [0, 2] 791\n",
      "items_to_remove [] 591\n",
      "items_to_remove [1] 52\n",
      "items_to_remove [0] 160\n",
      "items_to_remove [] 121\n",
      "items_to_remove [] 296\n",
      "items_to_remove [] 965\n",
      "items_to_remove [0, 1, 2] 548\n",
      "items_to_remove [2, 3, 5, 6] 523\n",
      "items_to_remove [0, 2, 3, 4, 5, 6, 9, 10, 12, 13, 14, 15] 641\n",
      "items_to_remove [0, 1, 2, 3] 1183\n",
      "items_to_remove [2] 116\n",
      "items_to_remove [] 27\n",
      "items_to_remove [0] 535\n",
      "items_to_remove [0, 1, 2] 940\n",
      "items_to_remove [1, 2, 3, 4, 5, 6, 7, 8] 311\n",
      "items_to_remove [0, 2, 4, 5, 7] 475\n",
      "items_to_remove [0, 1] 1217\n",
      "items_to_remove [0, 1, 2] 1231\n",
      "items_to_remove [0, 1] 1058\n",
      "items_to_remove [] 416\n",
      "items_to_remove [4] 600\n",
      "items_to_remove [1, 2, 3, 4] 381\n",
      "items_to_remove [0, 1, 4, 6] 461\n",
      "items_to_remove [1, 2, 3] 198\n",
      "items_to_remove [0, 2, 3, 4, 5] 81\n",
      "items_to_remove [] 212\n",
      "items_to_remove [] 599\n",
      "items_to_remove [0, 1, 2, 3] 1143\n",
      "items_to_remove [4, 6] 521\n",
      "items_to_remove [0, 1, 2, 3, 4, 7, 8, 9, 11] 346\n",
      "items_to_remove [0] 602\n",
      "items_to_remove [0, 1, 3, 4, 5, 6, 7] 597\n",
      "items_to_remove [0, 3, 4, 5, 6, 9] 66\n",
      "items_to_remove [] 89\n",
      "items_to_remove [] 423\n",
      "items_to_remove [0, 1, 2, 3] 164\n",
      "items_to_remove [3] 154\n",
      "items_to_remove [] 534\n",
      "items_to_remove [0, 1, 2, 3, 4] 474\n",
      "items_to_remove [] 584\n",
      "items_to_remove [0, 1, 3, 4] 509\n",
      "items_to_remove [0, 2, 5, 6, 7] 23\n",
      "items_to_remove [0, 1, 4, 5, 6, 7, 8] 128\n",
      "items_to_remove [0, 2] 216\n",
      "items_to_remove [0, 1, 3, 4, 5] 420\n",
      "items_to_remove [] 94\n",
      "items_to_remove [] 572\n",
      "items_to_remove [] 203\n",
      "items_to_remove [0, 1, 3, 4, 5, 7] 633\n",
      "items_to_remove [0, 1, 2, 3] 362\n",
      "items_to_remove [0, 2, 3] 232\n",
      "items_to_remove [0, 1, 4, 5] 449\n",
      "items_to_remove [0, 1, 2] 984\n",
      "items_to_remove [] 736\n",
      "items_to_remove [0, 1] 375\n",
      "items_to_remove [2, 4, 6] 594\n",
      "items_to_remove [] 938\n",
      "items_to_remove [0, 3, 4, 5, 6] 250\n",
      "items_to_remove [2, 3, 6] 90\n",
      "items_to_remove [0, 1, 2] 302\n",
      "items_to_remove [] 338\n",
      "items_to_remove [0, 1, 2, 3, 5, 6, 7, 8] 550\n",
      "items_to_remove [1, 2, 3, 4] 582\n",
      "items_to_remove [1] 152\n",
      "items_to_remove [] 1173\n",
      "items_to_remove [] 16\n",
      "items_to_remove [0, 2, 4, 5] 310\n",
      "items_to_remove [0, 1, 2] 319\n",
      "items_to_remove [0, 1, 2, 4, 6, 7, 8, 9] 103\n",
      "items_to_remove [0, 1, 4, 5, 6, 7, 9, 10, 11, 12, 13] 222\n",
      "items_to_remove [0, 1] 1081\n",
      "items_to_remove [] 404\n",
      "items_to_remove [0] 950\n",
      "items_to_remove [0, 1, 2, 3, 5, 6, 7, 8, 9] 283\n",
      "items_to_remove [0, 3, 4] 297\n",
      "items_to_remove [1] 284\n",
      "items_to_remove [] 111\n",
      "items_to_remove [] 298\n",
      "items_to_remove [1, 2] 611\n",
      "items_to_remove [2, 3] 459\n",
      "items_to_remove [0, 1, 2, 4, 6, 7, 8, 12, 13] 170\n",
      "items_to_remove [1] 494\n",
      "items_to_remove [0, 1, 2, 3, 5, 6, 7, 8, 9, 10, 11] 368\n",
      "items_to_remove [0] 986\n",
      "items_to_remove [0, 1, 3] 30\n",
      "items_to_remove [] 259\n",
      "items_to_remove [1, 3, 4, 6] 356\n",
      "items_to_remove [0, 3, 4, 5] 271\n",
      "items_to_remove [0] 973\n",
      "items_to_remove [0, 1, 3, 4] 156\n",
      "items_to_remove [] 573\n",
      "items_to_remove [0, 1, 3, 5] 477\n",
      "items_to_remove [1, 3] 321\n",
      "items_to_remove [0, 2, 3, 4] 73\n",
      "items_to_remove [1, 2] 19\n",
      "items_to_remove [0, 3, 4, 5, 6, 7, 8, 9, 10, 11, 12] 425\n",
      "items_to_remove [] 264\n",
      "items_to_remove [0, 1, 4] 397\n",
      "items_to_remove [0, 1] 101\n",
      "items_to_remove [0] 453\n",
      "items_to_remove [0, 1, 3, 5, 6, 7, 8, 9, 10, 11, 12] 218\n",
      "items_to_remove [2, 3, 4, 5, 6, 7, 8, 9, 10, 12, 13, 14, 15, 16] 427\n",
      "items_to_remove [0, 1, 2, 4, 5, 6, 7, 8] 439\n",
      "items_to_remove [0, 3, 4, 5, 6, 7, 9] 359\n",
      "items_to_remove [3, 6, 7, 8] 542\n",
      "items_to_remove [1] 586\n",
      "items_to_remove [0] 335\n",
      "items_to_remove [] 1013\n",
      "items_to_remove [0, 1, 2, 3, 5] 595\n",
      "items_to_remove [0, 2] 149\n",
      "items_to_remove [] 608\n",
      "items_to_remove [0, 1, 4, 5, 6, 7, 8, 9, 11, 12, 13, 14] 125\n",
      "items_to_remove [1, 2, 6, 7, 8] 292\n",
      "items_to_remove [0, 1, 2, 3, 6, 7, 8, 9, 10, 11, 13] 650\n",
      "items_to_remove [1] 422\n",
      "items_to_remove [0, 2, 3, 4, 5] 374\n",
      "items_to_remove [0, 1, 2] 1176\n",
      "items_to_remove [0, 1, 2, 3, 4, 7, 8, 9, 10, 11, 12, 13, 14, 15, 16, 17, 18] 281\n",
      "items_to_remove [2, 3, 5, 6, 7] 191\n",
      "items_to_remove [0, 2, 5, 6, 7, 8, 9, 11, 12] 257\n",
      "items_to_remove [] 268\n",
      "items_to_remove [0, 1, 2] 68\n",
      "items_to_remove [0, 1, 2, 3, 6] 280\n",
      "items_to_remove [0, 2] 377\n",
      "items_to_remove [] 279\n",
      "items_to_remove [0] 504\n",
      "items_to_remove [] 386\n",
      "items_to_remove [1, 2] 122\n",
      "items_to_remove [0] 1274\n",
      "items_to_remove [0, 1, 4, 5, 6, 7] 92\n",
      "items_to_remove [] 322\n",
      "items_to_remove [0, 2, 3, 4, 6, 7] 57\n",
      "items_to_remove [0, 1, 2, 3, 4, 5, 6, 7, 8, 9, 11, 13, 14, 15] 426\n",
      "items_to_remove [] 60\n",
      "items_to_remove [0] 91\n",
      "items_to_remove [0, 3] 514\n",
      "items_to_remove [0, 1, 2, 3] 409\n",
      "items_to_remove [0, 1] 812\n",
      "items_to_remove [] 41\n",
      "items_to_remove [] 408\n",
      "items_to_remove [] 18\n",
      "items_to_remove [0, 2] 220\n",
      "items_to_remove [1, 3] 291\n",
      "items_to_remove [1, 2, 3, 5, 6, 7, 8] 568\n",
      "items_to_remove [] 606\n",
      "items_to_remove [1, 2, 3, 4, 5] 579\n",
      "items_to_remove [] 246\n",
      "items_to_remove [0, 1, 2, 5] 502\n",
      "items_to_remove [0] 905\n",
      "items_to_remove [0, 1, 3, 4] 45\n",
      "items_to_remove [1, 5, 7] 300\n",
      "items_to_remove [0, 1, 2, 3] 342\n",
      "items_to_remove [1] 496\n",
      "items_to_remove [0, 1, 2, 3] 450\n",
      "items_to_remove [0, 1] 388\n",
      "items_to_remove [1, 2, 3, 5, 6, 7, 8, 9, 10] 175\n",
      "items_to_remove [] 133\n",
      "items_to_remove [1, 3] 533\n",
      "items_to_remove [0] 901\n",
      "items_to_remove [] 624\n",
      "items_to_remove [0, 1, 4] 372\n",
      "items_to_remove [0, 2, 3, 4, 5, 6, 7] 15\n",
      "items_to_remove [] 334\n",
      "items_to_remove [0] 516\n",
      "items_to_remove [] 295\n",
      "items_to_remove [2] 503\n",
      "items_to_remove [0, 1, 2, 4, 5, 7, 8] 544\n",
      "items_to_remove [0] 208\n",
      "items_to_remove [] 67\n",
      "items_to_remove [1] 168\n",
      "items_to_remove [0, 1, 4, 5, 6, 7, 8, 9] 266\n",
      "items_to_remove [1, 5, 8] 147\n",
      "items_to_remove [] 536\n",
      "items_to_remove [0, 1, 3, 4, 5] 401\n",
      "items_to_remove [] 906\n",
      "items_to_remove [0] 549\n",
      "items_to_remove [1, 2, 3] 486\n",
      "items_to_remove [2, 4, 6, 7, 8] 202\n",
      "items_to_remove [0, 1, 2, 4] 614\n",
      "items_to_remove [] 407\n",
      "items_to_remove [1, 2] 531\n",
      "items_to_remove [0, 1, 2, 3] 483\n",
      "items_to_remove [0, 4] 625\n",
      "items_to_remove [0, 1, 2, 3, 4, 5, 6, 7, 8, 9] 229\n",
      "items_to_remove [0, 1, 2, 3, 4] 230\n",
      "items_to_remove [2, 4, 5] 313\n",
      "items_to_remove [] 722\n",
      "items_to_remove [0, 1, 3, 4, 5] 506\n",
      "items_to_remove [0, 1] 465\n",
      "items_to_remove [2, 3] 231\n",
      "items_to_remove [] 1139\n",
      "items_to_remove [1, 2] 499\n",
      "items_to_remove [0, 1, 2, 3] 33\n",
      "items_to_remove [2, 3] 418\n",
      "items_to_remove [0, 1, 2, 3, 5] 225\n",
      "items_to_remove [] 589\n",
      "items_to_remove [1, 3, 4, 5, 6, 7, 8] 169\n",
      "items_to_remove [0, 1] 255\n",
      "items_to_remove [] 233\n",
      "items_to_remove [0, 1] 1298\n",
      "items_to_remove [0, 1, 2, 5, 8, 9, 10] 275\n",
      "items_to_remove [0, 2] 187\n",
      "items_to_remove [0, 1] 29\n",
      "items_to_remove [0, 1, 2, 4, 5, 6, 7, 8, 9] 553\n",
      "items_to_remove [0, 2, 3, 4, 9] 287\n",
      "items_to_remove [0, 1, 2, 3, 4] 1131\n",
      "items_to_remove [] 141\n",
      "items_to_remove [0] 184\n",
      "items_to_remove [0, 1] 615\n",
      "items_to_remove [0, 1] 104\n",
      "items_to_remove [0] 1216\n",
      "items_to_remove [0, 2, 3, 5] 213\n",
      "items_to_remove [0] 1224\n",
      "items_to_remove [0, 1, 2] 435\n",
      "items_to_remove [1, 2, 3] 192\n",
      "items_to_remove [] 545\n",
      "items_to_remove [0, 1, 2, 3, 4, 5, 6, 8] 1098\n",
      "items_to_remove [2, 3] 442\n",
      "items_to_remove [0] 883\n",
      "items_to_remove [3, 4, 5] 58\n",
      "items_to_remove [0, 2] 40\n",
      "items_to_remove [0, 1, 2, 3, 4] 80\n",
      "items_to_remove [0, 1, 2, 4, 5] 645\n",
      "items_to_remove [0, 1] 751\n",
      "items_to_remove [] 1215\n",
      "items_to_remove [0] 1070\n",
      "items_to_remove [1] 577\n",
      "items_to_remove [0, 1] 433\n",
      "items_to_remove [] 440\n",
      "items_to_remove [] 343\n",
      "items_to_remove [0, 1] 694\n",
      "items_to_remove [1] 183\n",
      "items_to_remove [] 177\n",
      "items_to_remove [0, 2, 3] 253\n",
      "items_to_remove [] 571\n",
      "items_to_remove [2] 513\n",
      "items_to_remove [1] 197\n",
      "items_to_remove [] 219\n",
      "items_to_remove [0, 1, 2, 3, 5, 6, 7, 8, 9, 10, 11] 35\n",
      "items_to_remove [1, 2, 4, 5, 6] 166\n",
      "items_to_remove [] 351\n",
      "items_to_remove [] 576\n",
      "items_to_remove [] 519\n",
      "items_to_remove [0] 490\n",
      "items_to_remove [] 200\n"
     ]
    },
    {
     "name": "stdout",
     "output_type": "stream",
     "text": [
      "items_to_remove [0, 1, 2, 4] 642\n",
      "items_to_remove [2, 3] 627\n",
      "items_to_remove [0, 1, 2, 3, 5, 6, 7, 8] 272\n",
      "items_to_remove [] 629\n",
      "items_to_remove [0] 742\n",
      "items_to_remove [0, 1, 3, 4] 344\n",
      "items_to_remove [] 248\n",
      "items_to_remove [0, 1, 2, 4, 5, 6] 561\n",
      "items_to_remove [0, 1, 2, 3, 4, 5, 6] 331\n",
      "items_to_remove [1, 2, 3, 4, 5] 142\n",
      "items_to_remove [0, 1, 2, 4, 5, 6, 7, 8, 9, 10, 11, 12, 13] 85\n",
      "items_to_remove [] 1073\n",
      "items_to_remove [] 712\n",
      "items_to_remove [0] 690\n",
      "items_to_remove [] 119\n",
      "items_to_remove [0, 1, 2, 3, 4, 6] 354\n",
      "items_to_remove [1] 639\n",
      "items_to_remove [1, 4] 21\n",
      "items_to_remove [0, 1] 189\n",
      "items_to_remove [1, 2] 493\n",
      "items_to_remove [0, 2, 4, 5, 6, 7] 471\n",
      "items_to_remove [] 226\n",
      "items_to_remove [0, 1, 2] 924\n",
      "items_to_remove [] 566\n",
      "items_to_remove [] 173\n",
      "items_to_remove [0] 794\n",
      "items_to_remove [] 120\n",
      "items_to_remove [0, 2, 3, 5, 6, 7, 9, 10] 99\n",
      "items_to_remove [0] 798\n",
      "items_to_remove [] 637\n",
      "items_to_remove [0] 990\n",
      "items_to_remove [] 399\n",
      "items_to_remove [0] 805\n",
      "items_to_remove [] 113\n",
      "items_to_remove [] 64\n",
      "items_to_remove [0, 1, 2] 979\n",
      "items_to_remove [0, 1, 3] 551\n",
      "items_to_remove [0] 1056\n",
      "items_to_remove [] 777\n",
      "items_to_remove [0, 2, 3] 555\n",
      "items_to_remove [1, 2, 3, 4, 5, 6] 919\n",
      "items_to_remove [0] 303\n",
      "items_to_remove [0, 1] 339\n",
      "items_to_remove [1, 2] 630\n",
      "items_to_remove [] 55\n",
      "items_to_remove [] 588\n",
      "items_to_remove [0, 2, 3, 4, 5, 6, 7, 8] 108\n",
      "items_to_remove [0] 1000\n",
      "items_to_remove [0, 1, 2, 3, 4, 5, 8, 11, 13, 14] 193\n",
      "items_to_remove [0, 1, 3] 715\n",
      "items_to_remove [] 237\n",
      "items_to_remove [0, 2, 3, 5, 6, 7] 239\n",
      "items_to_remove [] 621\n",
      "items_to_remove [] 82\n",
      "items_to_remove [3] 285\n",
      "items_to_remove [0, 1] 1247\n",
      "items_to_remove [0, 1, 3, 4, 5, 6, 7] 636\n",
      "items_to_remove [] 289\n",
      "items_to_remove [] 59\n",
      "items_to_remove [2, 3] 556\n",
      "items_to_remove [] 290\n",
      "items_to_remove [0, 4] 391\n",
      "items_to_remove [] 74\n",
      "items_to_remove [] 260\n",
      "items_to_remove [0, 1] 341\n",
      "items_to_remove [0, 1, 3, 4, 5, 6] 613\n",
      "items_to_remove [0, 1, 3] 106\n",
      "items_to_remove [1, 2, 3, 4, 5, 6] 234\n",
      "items_to_remove [0, 1] 210\n",
      "items_to_remove [0, 2, 3, 4, 5, 6, 7] 392\n",
      "items_to_remove [1, 2, 4, 5, 6, 7] 607\n",
      "items_to_remove [] 466\n",
      "items_to_remove [] 340\n",
      "items_to_remove [0, 1, 3, 4] 843\n",
      "items_to_remove [1, 3] 62\n",
      "items_to_remove [0, 3] 455\n",
      "items_to_remove [0, 2, 4, 5] 436\n",
      "items_to_remove [] 554\n",
      "items_to_remove [1, 2, 3, 4, 5, 6] 617\n",
      "items_to_remove [0, 1, 2] 487\n",
      "items_to_remove [2] 227\n",
      "items_to_remove [0, 2, 4] 361\n",
      "items_to_remove [1, 2] 324\n",
      "items_to_remove [] 468\n",
      "items_to_remove [0, 1, 2, 3, 5, 6] 224\n",
      "items_to_remove [0, 1, 2, 3, 4, 5, 6, 7, 8] 649\n",
      "items_to_remove [0, 1, 2] 885\n",
      "items_to_remove [0, 1, 2, 3, 4, 5, 7, 8, 9] 258\n",
      "items_to_remove [] 618\n",
      "items_to_remove [0, 1, 2, 4, 5, 6, 7, 9] 379\n",
      "items_to_remove [0, 1, 2, 3, 4, 5, 7, 8, 9, 11] 336\n",
      "items_to_remove [0, 2, 6] 131\n",
      "items_to_remove [0, 1, 3, 4, 5, 6, 7, 8, 9] 12\n",
      "items_to_remove [0, 1, 3, 4, 5, 8, 9, 11, 12, 13, 14] 532\n",
      "items_to_remove [1, 2, 3, 5, 7, 8, 9] 565\n",
      "items_to_remove [0, 2, 6] 126\n",
      "items_to_remove [] 5\n",
      "items_to_remove [0, 1, 2, 3, 4, 5, 7, 8, 9] 102\n",
      "items_to_remove [3, 5] 488\n",
      "items_to_remove [0, 1, 2, 3, 5, 6, 7, 8, 10] 270\n",
      "items_to_remove [0, 1, 2, 3, 5, 6, 7] 145\n",
      "items_to_remove [] 249\n",
      "items_to_remove [] 366\n",
      "items_to_remove [] 143\n",
      "items_to_remove [] 587\n",
      "items_to_remove [3] 347\n",
      "items_to_remove [1, 6] 634\n",
      "items_to_remove [0, 1, 4, 5, 7] 498\n",
      "items_to_remove [0] 1154\n",
      "items_to_remove [0, 1] 955\n",
      "items_to_remove [0, 1, 3, 4, 8, 9, 12] 484\n",
      "items_to_remove [] 564\n",
      "items_to_remove [] 299\n",
      "items_to_remove [] 518\n",
      "items_to_remove [0, 1, 2, 6, 7, 8] 603\n",
      "items_to_remove [0, 1, 2, 3, 4, 5, 6, 9, 10, 11, 12, 13] 317\n",
      "items_to_remove [0, 1, 2, 3, 4, 6, 8] 421\n",
      "items_to_remove [0] 1263\n",
      "items_to_remove [0, 4, 5] 437\n",
      "items_to_remove [] 370\n",
      "items_to_remove [] 651\n",
      "items_to_remove [1, 3, 5] 580\n",
      "items_to_remove [1, 2, 4] 492\n",
      "items_to_remove [0, 2] 307\n",
      "after length: 1497\n",
      "3\n"
     ]
    }
   ],
   "source": [
    "# Only for first week\n",
    "# issue: there are some account that are not paid students but have completed the project with 7 days.\n",
    "# i.e., these 6 accounts {'701', '1279', '1133', '947', '1169', '1116'} are not paid accounts \n",
    "# Observation: These accounts are of old students when courses were free unless u need support.\n",
    "# ---------------------------------------------------------------------------------------------------\n",
    "# solutions: One solution could be to remove these 6 accounts and procceed (preffered way)\n",
    "# Another way could be include those accounts as free_era_students (executing this way)\n",
    "\n",
    "passing_engagements = list()\n",
    "non_passing_engagements = list()\n",
    "\n",
    "# '256'\n",
    "#for record in non_udacity_paid_submissions_by_account['23']:\n",
    "#    print(record['lesson_key'] in subway_project_lesson_keys)\n",
    "print(len(non_udacity_paid_submissions_by_account))\n",
    "working_data_by_account = dict()\n",
    "working_data_by_account = non_udacity_paid_submissions_by_account.copy()\n",
    "wrk_data_cpy = dict()\n",
    "#wrk_data_cpy = working_data_by_account.copy()\n",
    "\n",
    "length = 0\n",
    "for key, records in working_data_by_account.items():\n",
    "    length += len(records)\n",
    "print('before length:',length)\n",
    "del length\n",
    "print(len(working_data_by_account['345']))\n",
    "\n",
    "\n",
    "for key, records in non_udacity_paid_submissions_by_account.items():\n",
    "    #lesson_keys = non_udacity_submissions_by_account[key][0]['lesson_key']\n",
    "    items_to_remove = list()\n",
    "    for i in range(len(records)):\n",
    "        lesson_key = records[i]['lesson_key']\n",
    "        if lesson_key not in subway_project_lesson_keys:\n",
    "            items_to_remove.append(i)\n",
    "    # check what happens when items_to_remove is empty\n",
    "    print('items_to_remove', items_to_remove, key)\n",
    "    if(len(items_to_remove)==0):\n",
    "        items_to_remove.append(None)\n",
    "    records_copy = records.copy()\n",
    "    remove_items_from_list(records_copy, indices=items_to_remove)\n",
    "    wrk_data_cpy[key] = records_copy\n",
    "    \n",
    "    \n",
    "working_data_by_account = wrk_data_cpy.copy()\n",
    "#del wrk_data_cpy\n",
    "\n",
    "length = 0\n",
    "for key, records in wrk_data_cpy.items():\n",
    "    length += len(records)\n",
    "print('after length:',length)\n",
    "del length\n",
    "print(len(working_data_by_account['345']))"
   ]
  },
  {
   "cell_type": "code",
   "execution_count": 94,
   "metadata": {},
   "outputs": [],
   "source": [
    "passing_engagements = list()\n",
    "non_passing_engagements = list()\n",
    "#working_data_by_account\n",
    "passing_accounts = set()\n",
    "#non_udacity_paid_submissions_by_account\n",
    "#first_week_paid_engagements_by_account\n",
    "for key, records in non_udacity_paid_submissions_by_account.items():\n",
    "    for record in records:\n",
    "        rating = record['assigned_rating']\n",
    "        lesson_key = record['lesson_key']\n",
    "        if lesson_key in subway_project_lesson_keys:\n",
    "            if rating in {'PASSED','DISTINCTION'}:\n",
    "                passing_accounts.add(key)\n",
    "            else:\n",
    "                pass\n",
    "for key, records in first_week_paid_engagements_by_account.items():\n",
    "    if key in passing_accounts:\n",
    "        #assert(len(records) == len(add_key_to_list_of_records(records.copy(), key)))\n",
    "        passing_engagements.extend(add_key_to_list_of_records(records.copy(), key))\n",
    "    else:\n",
    "        non_passing_engagements.extend(add_key_to_list_of_records(records.copy(), key))"
   ]
  },
  {
   "cell_type": "code",
   "execution_count": null,
   "metadata": {},
   "outputs": [],
   "source": []
  },
  {
   "cell_type": "code",
   "execution_count": 95,
   "metadata": {},
   "outputs": [
    {
     "name": "stdout",
     "output_type": "stream",
     "text": [
      "4526 2377\n",
      "647 348\n",
      "4526 2377\n"
     ]
    }
   ],
   "source": [
    "# check if any account from passing_engagements has records in non_passing_engagements\n",
    "if get_unique_students(passing_engagements).intersection(get_unique_students(non_passing_engagements)):\n",
    "    print('Check code')\n",
    "# TEST PASS\n",
    "# 4527 2392 = 6919\n",
    "print(len(passing_engagements), len(non_passing_engagements))\n",
    "print(len(get_unique_students(passing_engagements)), len(get_unique_students(non_passing_engagements)))\n",
    "# problem in latest_join_dates . its not the latest enrollment_date that im supposed to provide.\n",
    "print(len(ndays_engagements(passing_engagements, latest_join_dates)), len(ndays_engagements(non_passing_engagements, latest_join_dates)))"
   ]
  },
  {
   "cell_type": "code",
   "execution_count": 87,
   "metadata": {},
   "outputs": [
    {
     "name": "stdout",
     "output_type": "stream",
     "text": [
      "109943\n"
     ]
    }
   ],
   "source": [
    "length = 0\n",
    "for key in get_unique_students(passing_engagements):\n",
    "    length += len(get_student_records(engagements, key))\n",
    "print(length)\n"
   ]
  }
 ],
 "metadata": {
  "kernelspec": {
   "display_name": "Python 3",
   "language": "python",
   "name": "python3"
  },
  "language_info": {
   "codemirror_mode": {
    "name": "ipython",
    "version": 3
   },
   "file_extension": ".py",
   "mimetype": "text/x-python",
   "name": "python",
   "nbconvert_exporter": "python",
   "pygments_lexer": "ipython3",
   "version": "3.5.5"
  }
 },
 "nbformat": 4,
 "nbformat_minor": 2
}
