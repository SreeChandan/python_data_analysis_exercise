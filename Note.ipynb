{
 "cells": [
  {
   "cell_type": "markdown",
   "metadata": {},
   "source": [
    "Udacity Student Data Analysis\n",
    "=========================\n",
    "## Preparing data for Analysis  \n",
    "### Load Data from CSVs"
   ]
  },
  {
   "cell_type": "code",
   "execution_count": 1,
   "metadata": {},
   "outputs": [
    {
     "name": "stdout",
     "output_type": "stream",
     "text": [
      "F:\\JupyterProjects\\data analysis tutorial\n"
     ]
    },
    {
     "data": {
      "text/plain": [
       "'F:\\\\JupyterProjects\\\\data analysis tutorial'"
      ]
     },
     "execution_count": 1,
     "metadata": {},
     "output_type": "execute_result"
    }
   ],
   "source": [
    "import unicodecsv\n",
    "import os\n",
    "print(os.getcwd())\n",
    "%pwd"
   ]
  },
  {
   "cell_type": "code",
   "execution_count": 2,
   "metadata": {},
   "outputs": [],
   "source": [
    "def csv_to_list(filename: str) -> list:\n",
    "    \"\"\"\n",
    "\n",
    "    :type filename: str\n",
    "    \"\"\"\n",
    "    # takes a string filename to a csv and returns its data as a list\n",
    "    #with open('F:/JupyterProjects/untitled/'+filename, 'rb') as f_in:\n",
    "    with open(filename, 'rb') as f_in:\n",
    "        reader = unicodecsv.DictReader(f_in)\n",
    "        return list(reader)"
   ]
  },
  {
   "cell_type": "code",
   "execution_count": 3,
   "metadata": {},
   "outputs": [
    {
     "name": "stdout",
     "output_type": "stream",
     "text": [
      "1 F:\\JupyterProjects\\data analysis tutorial\n",
      "2 F:\\JupyterProjects\\data analysis tutorial\\Note.ipynb\n",
      "3 \n"
     ]
    }
   ],
   "source": [
    "print('1', os.path.abspath(os.path.dirname('')))\n",
    "print('2', os.path.abspath('Note.ipynb'))\n",
    "print('3', os.path.dirname('Note.ipynb'))\n",
    "\n",
    "\n",
    "engagement_filename = 'data/daily_engagement.csv'\n",
    "enrollments_filename = 'data/enrollments.csv'\n",
    "submissions_filename = 'data/project_submissions.csv'\n",
    "\n",
    "engagements = csv_to_list(engagement_filename)\n",
    "enrollments = csv_to_list(enrollments_filename)\n",
    "submissions = csv_to_list(submissions_filename)"
   ]
  },
  {
   "cell_type": "code",
   "execution_count": 4,
   "metadata": {
    "scrolled": true
   },
   "outputs": [
    {
     "name": "stdout",
     "output_type": "stream",
     "text": [
      "Engagements : {'acct': '0', 'total_minutes_visited': '11.6793745', 'num_courses_visited': '1.0', 'utc_date': '2015-01-09', 'projects_completed': '0.0', 'lessons_completed': '0.0'}\n",
      "\n",
      "Enrollments : {'join_date': '2014-11-10', 'is_canceled': 'True', 'account_key': '448', 'status': 'canceled', 'days_to_cancel': '65', 'is_udacity': 'True', 'cancel_date': '2015-01-14'}\n",
      "\n",
      "Submissions : {'creation_date': '2015-01-14', 'processing_state': 'EVALUATED', 'assigned_rating': 'UNGRADED', 'completion_date': '2015-01-16', 'lesson_key': '3176718735', 'account_key': '256'}\n"
     ]
    }
   ],
   "source": [
    "def print_lists(ele=0):\n",
    "    print(\"Engagements :\", engagements[ele])\n",
    "    print()\n",
    "    print(\"Enrollments :\", enrollments[ele])\n",
    "    print()\n",
    "    print(\"Submissions :\", submissions[ele])\n",
    "\n",
    "\n",
    "print_lists()"
   ]
  },
  {
   "cell_type": "markdown",
   "metadata": {},
   "source": [
    "### Convert Ordered dict to dict"
   ]
  },
  {
   "cell_type": "code",
   "execution_count": 5,
   "metadata": {},
   "outputs": [],
   "source": [
    "def convert_to_dict():\n",
    "    for ele in range(len(engagements)):\n",
    "        engagements[ele] = dict(engagements[ele])\n",
    "    for ele in range(len(enrollments)):\n",
    "        enrollments[ele] = dict(enrollments[ele])\n",
    "    for ele in range(len(submissions)):\n",
    "        submissions[ele] = dict(submissions[ele])\n",
    "\n",
    "\n",
    "convert_to_dict()"
   ]
  },
  {
   "cell_type": "code",
   "execution_count": 6,
   "metadata": {},
   "outputs": [
    {
     "name": "stdout",
     "output_type": "stream",
     "text": [
      "Engagements : {'projects_completed': '0.0', 'total_minutes_visited': '11.6793745', 'acct': '0', 'utc_date': '2015-01-09', 'num_courses_visited': '1.0', 'lessons_completed': '0.0'}\n",
      "\n",
      "Enrollments : {'join_date': '2014-11-10', 'is_canceled': 'True', 'cancel_date': '2015-01-14', 'status': 'canceled', 'days_to_cancel': '65', 'is_udacity': 'True', 'account_key': '448'}\n",
      "\n",
      "Submissions : {'processing_state': 'EVALUATED', 'assigned_rating': 'UNGRADED', 'completion_date': '2015-01-16', 'creation_date': '2015-01-14', 'lesson_key': '3176718735', 'account_key': '256'}\n"
     ]
    }
   ],
   "source": [
    "print_lists()"
   ]
  },
  {
   "cell_type": "markdown",
   "metadata": {},
   "source": [
    "### Fix Datatypes"
   ]
  },
  {
   "cell_type": "code",
   "execution_count": 7,
   "metadata": {},
   "outputs": [],
   "source": [
    "from datetime import datetime as dt"
   ]
  },
  {
   "cell_type": "code",
   "execution_count": 8,
   "metadata": {},
   "outputs": [
    {
     "name": "stdout",
     "output_type": "stream",
     "text": [
      "Parsed\n"
     ]
    }
   ],
   "source": [
    "if type(enrollments[0]['status']) == str:\n",
    "    for enrollment in enrollments:\n",
    "        enrollment['status'] = enrollment['status']=='current'\n",
    "        enrollment['join_date'] = None if enrollment['join_date']=='' else dt.strptime(enrollment['join_date'], '%Y-%m-%d')\n",
    "        enrollment['cancel_date'] = None if enrollment['cancel_date']=='' else dt.strptime(enrollment['cancel_date'], '%Y-%m-%d')\n",
    "        enrollment['days_to_cancel'] = None if enrollment['days_to_cancel']=='' else int(enrollment['days_to_cancel'])\n",
    "        enrollment['is_udacity'] = enrollment['is_udacity']=='True'\n",
    "        enrollment['is_canceled'] = enrollment['is_canceled']=='True'\n",
    "    print(\"Parsed\")\n",
    "else:\n",
    "    print(\"Already Parsed\")"
   ]
  },
  {
   "cell_type": "code",
   "execution_count": 9,
   "metadata": {},
   "outputs": [
    {
     "name": "stdout",
     "output_type": "stream",
     "text": [
      "Parsed\n"
     ]
    }
   ],
   "source": [
    "if type(engagements[0]['utc_date']) == str:\n",
    "    for engagement in engagements:\n",
    "        engagement['utc_date'] = None if engagement['utc_date']=='' else dt.strptime(engagement['utc_date'], '%Y-%m-%d')\n",
    "        engagement['num_courses_visited'] = int(float(engagement['num_courses_visited']))\n",
    "        engagement['total_minutes_visited'] = float(engagement['total_minutes_visited'])\n",
    "        engagement['lessons_completed'] = int(float(engagement['lessons_completed']))\n",
    "        engagement['projects_completed'] = int(float(engagement['projects_completed']))\n",
    "    print(\"Parsed\")\n",
    "else:\n",
    "    print(\"Already Parsed\")"
   ]
  },
  {
   "cell_type": "code",
   "execution_count": 10,
   "metadata": {},
   "outputs": [
    {
     "name": "stdout",
     "output_type": "stream",
     "text": [
      "Parsed\n"
     ]
    }
   ],
   "source": [
    "if type(submissions[0]['creation_date']) == str:\n",
    "    for submission in submissions:\n",
    "        submission['creation_date'] = None if submission['creation_date']=='' else dt.strptime(submission['creation_date'], '%Y-%m-%d')\n",
    "        submission['completion_date'] = None if submission['completion_date']=='' else dt.strptime(submission['completion_date'], '%Y-%m-%d') \n",
    "    print(\"Parsed\")\n",
    "else:\n",
    "    print(\"Already Parsed\")"
   ]
  },
  {
   "cell_type": "code",
   "execution_count": 11,
   "metadata": {
    "scrolled": true
   },
   "outputs": [
    {
     "name": "stdout",
     "output_type": "stream",
     "text": [
      "Engagements : {'projects_completed': 0, 'total_minutes_visited': 11.6793745, 'acct': '0', 'utc_date': datetime.datetime(2015, 1, 9, 0, 0), 'num_courses_visited': 1, 'lessons_completed': 0}\n",
      "\n",
      "Enrollments : {'join_date': datetime.datetime(2014, 11, 10, 0, 0), 'is_canceled': True, 'cancel_date': datetime.datetime(2015, 1, 14, 0, 0), 'status': False, 'days_to_cancel': 65, 'is_udacity': True, 'account_key': '448'}\n",
      "\n",
      "Submissions : {'processing_state': 'EVALUATED', 'assigned_rating': 'UNGRADED', 'completion_date': datetime.datetime(2015, 1, 16, 0, 0), 'creation_date': datetime.datetime(2015, 1, 14, 0, 0), 'lesson_key': '3176718735', 'account_key': '256'}\n"
     ]
    }
   ],
   "source": [
    "print_lists(0)"
   ]
  },
  {
   "cell_type": "markdown",
   "metadata": {},
   "source": [
    "## Investigating the  data\n",
    "* Find the total number of rows and the number of unique students (account keys) in each table."
   ]
  },
  {
   "cell_type": "code",
   "execution_count": 12,
   "metadata": {},
   "outputs": [
    {
     "name": "stdout",
     "output_type": "stream",
     "text": [
      "Engagements : 136240\n",
      "Enrollments : 1640\n",
      "Submissions : 3642\n"
     ]
    }
   ],
   "source": [
    "# No of rows\n",
    "print(\"Engagements :\",len(engagements))\n",
    "print(\"Enrollments :\",len(enrollments))\n",
    "print(\"Submissions :\",len(submissions))"
   ]
  },
  {
   "cell_type": "markdown",
   "metadata": {},
   "source": [
    "### Problems in the data\n",
    "#### Rename the \"acct\" column in the `daily_engagement` table to \"account_key\"."
   ]
  },
  {
   "cell_type": "code",
   "execution_count": 13,
   "metadata": {},
   "outputs": [],
   "source": [
    "# Rename the \"acct\" column in the daily_engagement table to \"account_key\".\n",
    "if engagements[0].get('acct'):\n",
    "    for engagement in engagements:\n",
    "        engagement['account_key'] = engagement['acct']\n",
    "        engagement.pop('acct')"
   ]
  },
  {
   "cell_type": "markdown",
   "metadata": {},
   "source": [
    "#### get_unique_students `Function`\n",
    "Takes in data (a list of dicts) and returns a set of unique student's account numbers"
   ]
  },
  {
   "cell_type": "code",
   "execution_count": 14,
   "metadata": {},
   "outputs": [],
   "source": [
    "def get_unique_students(data: list) -> set:\n",
    "    \"\"\"\n",
    "\n",
    "    :type data: list\n",
    "    \"\"\"\n",
    "    unique_students_set = set()\n",
    "    for ele in data:\n",
    "        unique_students_set.add(str(ele['account_key']))\n",
    "    return unique_students_set"
   ]
  },
  {
   "cell_type": "markdown",
   "metadata": {},
   "source": [
    "#### get_student_records `Function`\n",
    "Takes in data(a list of dicts), account_key(string) and returns a list of records of that student"
   ]
  },
  {
   "cell_type": "code",
   "execution_count": 15,
   "metadata": {},
   "outputs": [],
   "source": [
    "def get_student_records(data: list, key: str, key_type: str = 'account_key') -> list:\n",
    "    \"\"\"\n",
    "    :param key: \n",
    "    :param popitms: \n",
    "    :param key_type: \n",
    "    :return: student_records\n",
    "    :type data: list\n",
    "    :type key_type: str\n",
    "    :type popitms: list\n",
    "    :type key: str\n",
    "    \"\"\"\n",
    "    # assume popitms is a list of strings\n",
    "    student_records = list()\n",
    "    for ele in data:\n",
    "        if ele[key_type] == key:\n",
    "            student_records.append(ele)\n",
    "    return student_records"
   ]
  },
  {
   "cell_type": "markdown",
   "metadata": {},
   "source": [
    "#### pop_items_from_dictofdicts `Function`\n",
    "Takes in:  \n",
    "* data(a dict where each value is a list of dicts)\n",
    "* popitms(a set of keys(string) ) \n",
    "\n",
    "returns:  \n",
    "* data( same type as the input data) with "
   ]
  },
  {
   "cell_type": "code",
   "execution_count": 16,
   "metadata": {},
   "outputs": [],
   "source": [
    "def pop_items_from_dictofdicts(data: dict, popitms: set = None):\n",
    "    returnData = dict()\n",
    "    for key in data:\n",
    "        # data[key] here is a list of records corresponding to one key('account_key')\n",
    "        returnData[key] = list()\n",
    "        for record in data[key]:\n",
    "            #print(record)\n",
    "            poped_ele = dict(record)\n",
    "            poped_ele.pop(popitms)\n",
    "            returnData[key].append(poped_ele)\n",
    "    return returnData"
   ]
  },
  {
   "cell_type": "markdown",
   "metadata": {},
   "source": [
    "#### Find students who are reported in enrollment but not in engagement\n",
    "#### run_unique_test `Function`\n",
    "Takes in two lists. First List is enrollments. Second is Engagements.\n",
    "Each list is a list of dicts."
   ]
  },
  {
   "cell_type": "code",
   "execution_count": 17,
   "metadata": {},
   "outputs": [
    {
     "name": "stdout",
     "output_type": "stream",
     "text": [
      "students who are reported in enrollment but not in engagement\n",
      "{'1129', '1190', '1191', '1025', '1044', '1213', '1270', '1086', '841', '733', '1273', '1145', '870', '1010', '654', '707', '789', '1237', '1079', '799', '803', '889', '727', '968', '664', '766', '1171', '750', '1222', '1304', '875', '902', '717', '711', '1120', '819', '871', '1155', '981', '996', '817', '964', '1291', '737', '1069', '914', '728', '1063', '1101', '1238', '749', '725', '878', '1219', '739', '997', '926', '1284', '1241', '1186', '802', '1218', '1125', '1148', '884'} \n",
      "\n",
      "No of Enrollment records: 1640, No of Engagement records: 136240\n",
      "No of Unique Students in Enrollment records: 1302\n",
      "No of Unique Students in Engagement records: 1237\n",
      "No of non engaging students: 65\n",
      "\n",
      "Check to see if there are any engaging students that are not reported in Enrollment records:\n",
      "None\n"
     ]
    }
   ],
   "source": [
    "def run_unique_test(enrollments, engagements):\n",
    "    enrollment_students = get_unique_students(enrollments)\n",
    "    engagement_students = get_unique_students(engagements)\n",
    "\n",
    "    non_engaging_stds = enrollment_students - engagement_students\n",
    "\n",
    "    print(\"students who are reported in enrollment but not in engagement\")\n",
    "    print(non_engaging_stds, \"\\n\")\n",
    "    print(\"No of Enrollment records: {}, No of Engagement records: {}\".format(len(enrollments), len(engagements)))\n",
    "    print(\"No of Unique Students in Enrollment records: {}\\nNo of Unique Students in Engagement records: {}\".\n",
    "          format(len(enrollment_students), len(engagement_students)))\n",
    "    print(\"No of non engaging students:\", len(non_engaging_stds))\n",
    "    print(\"\\nCheck to see if there are any engaging students that are not reported in Enrollment records:\")\n",
    "    if not len(engagement_students - enrollment_students):\n",
    "        print(\"None\")\n",
    "    else:\n",
    "        print(\"There are any engaging students that are not reported in Enrollment records\")\n",
    "    return non_engaging_stds\n",
    "\n",
    "\n",
    "non_engaging_students = run_unique_test(enrollments, engagements)\n"
   ]
  },
  {
   "cell_type": "markdown",
   "metadata": {},
   "source": [
    "#### Observe the data of these students in enrollment data\n",
    "\n",
    "**`Observations :`**\n",
    "* Udacity test accounts were found to be part of problem. Need to remove those accounts from analysis."
   ]
  },
  {
   "cell_type": "code",
   "execution_count": 18,
   "metadata": {},
   "outputs": [
    {
     "name": "stdout",
     "output_type": "stream",
     "text": [
      "{'join_date': datetime.datetime(2015, 3, 7, 0, 0), 'is_canceled': True, 'cancel_date': datetime.datetime(2015, 3, 7, 0, 0), 'status': False, 'days_to_cancel': 0, 'is_udacity': False, 'account_key': '1129'}\n",
      "{'join_date': datetime.datetime(2015, 2, 11, 0, 0), 'is_canceled': True, 'cancel_date': datetime.datetime(2015, 2, 11, 0, 0), 'status': False, 'days_to_cancel': 0, 'is_udacity': False, 'account_key': '1129'}\n",
      "{'join_date': datetime.datetime(2015, 3, 6, 0, 0), 'is_canceled': True, 'cancel_date': datetime.datetime(2015, 3, 6, 0, 0), 'status': False, 'days_to_cancel': 0, 'is_udacity': False, 'account_key': '1190'}\n",
      "{'join_date': datetime.datetime(2015, 1, 11, 0, 0), 'is_canceled': True, 'cancel_date': datetime.datetime(2015, 1, 11, 0, 0), 'status': False, 'days_to_cancel': 0, 'is_udacity': False, 'account_key': '1191'}\n",
      "{'join_date': datetime.datetime(2015, 6, 7, 0, 0), 'is_canceled': True, 'cancel_date': datetime.datetime(2015, 6, 7, 0, 0), 'status': False, 'days_to_cancel': 0, 'is_udacity': False, 'account_key': '1025'}\n",
      "{'join_date': datetime.datetime(2015, 2, 8, 0, 0), 'is_canceled': True, 'cancel_date': datetime.datetime(2015, 2, 8, 0, 0), 'status': False, 'days_to_cancel': 0, 'is_udacity': False, 'account_key': '1044'}\n",
      "{'join_date': datetime.datetime(2015, 1, 12, 0, 0), 'is_canceled': True, 'cancel_date': datetime.datetime(2015, 1, 12, 0, 0), 'status': False, 'days_to_cancel': 0, 'is_udacity': False, 'account_key': '1213'}\n",
      "{'join_date': datetime.datetime(2015, 7, 20, 0, 0), 'is_canceled': True, 'cancel_date': datetime.datetime(2015, 7, 20, 0, 0), 'status': False, 'days_to_cancel': 0, 'is_udacity': False, 'account_key': '1270'}\n",
      "{'join_date': datetime.datetime(2015, 6, 9, 0, 0), 'is_canceled': True, 'cancel_date': datetime.datetime(2015, 6, 9, 0, 0), 'status': False, 'days_to_cancel': 0, 'is_udacity': False, 'account_key': '1086'}\n",
      "{'join_date': datetime.datetime(2014, 11, 12, 0, 0), 'is_canceled': True, 'cancel_date': datetime.datetime(2014, 11, 12, 0, 0), 'status': False, 'days_to_cancel': 0, 'is_udacity': False, 'account_key': '841'}\n",
      "{'join_date': datetime.datetime(2015, 1, 12, 0, 0), 'is_canceled': True, 'cancel_date': datetime.datetime(2015, 1, 12, 0, 0), 'status': False, 'days_to_cancel': 0, 'is_udacity': False, 'account_key': '733'}\n",
      "{'join_date': datetime.datetime(2015, 1, 12, 0, 0), 'is_canceled': True, 'cancel_date': datetime.datetime(2015, 1, 12, 0, 0), 'status': False, 'days_to_cancel': 0, 'is_udacity': False, 'account_key': '1273'}\n",
      "{'join_date': datetime.datetime(2015, 4, 4, 0, 0), 'is_canceled': True, 'cancel_date': datetime.datetime(2015, 4, 4, 0, 0), 'status': False, 'days_to_cancel': 0, 'is_udacity': False, 'account_key': '1145'}\n",
      "{'join_date': datetime.datetime(2015, 5, 12, 0, 0), 'is_canceled': True, 'cancel_date': datetime.datetime(2015, 5, 12, 0, 0), 'status': False, 'days_to_cancel': 0, 'is_udacity': False, 'account_key': '870'}\n",
      "{'join_date': datetime.datetime(2015, 1, 11, 0, 0), 'is_canceled': True, 'cancel_date': datetime.datetime(2015, 1, 11, 0, 0), 'status': False, 'days_to_cancel': 0, 'is_udacity': False, 'account_key': '1010'}\n",
      "{'join_date': datetime.datetime(2014, 12, 4, 0, 0), 'is_canceled': True, 'cancel_date': datetime.datetime(2014, 12, 4, 0, 0), 'status': False, 'days_to_cancel': 0, 'is_udacity': False, 'account_key': '654'}\n",
      "{'join_date': datetime.datetime(2014, 12, 4, 0, 0), 'is_canceled': True, 'cancel_date': datetime.datetime(2014, 12, 4, 0, 0), 'status': False, 'days_to_cancel': 0, 'is_udacity': False, 'account_key': '654'}\n",
      "{'join_date': datetime.datetime(2014, 12, 3, 0, 0), 'is_canceled': True, 'cancel_date': datetime.datetime(2014, 12, 3, 0, 0), 'status': False, 'days_to_cancel': 0, 'is_udacity': False, 'account_key': '654'}\n",
      "{'join_date': datetime.datetime(2014, 12, 3, 0, 0), 'is_canceled': True, 'cancel_date': datetime.datetime(2014, 12, 3, 0, 0), 'status': False, 'days_to_cancel': 0, 'is_udacity': False, 'account_key': '707'}\n",
      "{'join_date': datetime.datetime(2015, 2, 6, 0, 0), 'is_canceled': True, 'cancel_date': datetime.datetime(2015, 2, 6, 0, 0), 'status': False, 'days_to_cancel': 0, 'is_udacity': False, 'account_key': '789'}\n",
      "{'join_date': datetime.datetime(2015, 5, 28, 0, 0), 'is_canceled': True, 'cancel_date': datetime.datetime(2015, 5, 28, 0, 0), 'status': False, 'days_to_cancel': 0, 'is_udacity': False, 'account_key': '1237'}\n",
      "{'join_date': datetime.datetime(2015, 2, 9, 0, 0), 'is_canceled': True, 'cancel_date': datetime.datetime(2015, 2, 9, 0, 0), 'status': False, 'days_to_cancel': 0, 'is_udacity': False, 'account_key': '1079'}\n",
      "{'join_date': datetime.datetime(2015, 2, 6, 0, 0), 'is_canceled': True, 'cancel_date': datetime.datetime(2015, 2, 6, 0, 0), 'status': False, 'days_to_cancel': 0, 'is_udacity': False, 'account_key': '799'}\n",
      "{'join_date': datetime.datetime(2015, 1, 8, 0, 0), 'is_canceled': True, 'cancel_date': datetime.datetime(2015, 1, 8, 0, 0), 'status': False, 'days_to_cancel': 0, 'is_udacity': False, 'account_key': '803'}\n",
      "{'join_date': datetime.datetime(2015, 8, 11, 0, 0), 'is_canceled': True, 'cancel_date': datetime.datetime(2015, 8, 11, 0, 0), 'status': False, 'days_to_cancel': 0, 'is_udacity': False, 'account_key': '889'}\n",
      "{'join_date': datetime.datetime(2014, 12, 7, 0, 0), 'is_canceled': True, 'cancel_date': datetime.datetime(2014, 12, 7, 0, 0), 'status': False, 'days_to_cancel': 0, 'is_udacity': False, 'account_key': '727'}\n",
      "{'join_date': datetime.datetime(2015, 7, 17, 0, 0), 'is_canceled': True, 'cancel_date': datetime.datetime(2015, 7, 17, 0, 0), 'status': False, 'days_to_cancel': 0, 'is_udacity': False, 'account_key': '968'}\n",
      "{'join_date': datetime.datetime(2015, 1, 8, 0, 0), 'is_canceled': True, 'cancel_date': datetime.datetime(2015, 1, 8, 0, 0), 'status': False, 'days_to_cancel': 0, 'is_udacity': False, 'account_key': '664'}\n",
      "{'join_date': datetime.datetime(2015, 5, 10, 0, 0), 'is_canceled': True, 'cancel_date': datetime.datetime(2015, 5, 10, 0, 0), 'status': False, 'days_to_cancel': 0, 'is_udacity': False, 'account_key': '766'}\n",
      "{'join_date': datetime.datetime(2015, 1, 7, 0, 0), 'is_canceled': True, 'cancel_date': datetime.datetime(2015, 1, 7, 0, 0), 'status': False, 'days_to_cancel': 0, 'is_udacity': False, 'account_key': '1171'}\n",
      "{'join_date': datetime.datetime(2015, 6, 6, 0, 0), 'is_canceled': True, 'cancel_date': datetime.datetime(2015, 6, 6, 0, 0), 'status': False, 'days_to_cancel': 0, 'is_udacity': False, 'account_key': '750'}\n",
      "{'join_date': datetime.datetime(2015, 4, 7, 0, 0), 'is_canceled': True, 'cancel_date': datetime.datetime(2015, 4, 7, 0, 0), 'status': False, 'days_to_cancel': 0, 'is_udacity': False, 'account_key': '1222'}\n",
      "{'join_date': datetime.datetime(2015, 1, 10, 0, 0), 'is_canceled': True, 'cancel_date': datetime.datetime(2015, 3, 10, 0, 0), 'status': False, 'days_to_cancel': 59, 'is_udacity': True, 'account_key': '1304'}\n",
      "{'join_date': datetime.datetime(2015, 3, 10, 0, 0), 'is_canceled': True, 'cancel_date': datetime.datetime(2015, 6, 17, 0, 0), 'status': False, 'days_to_cancel': 99, 'is_udacity': True, 'account_key': '1304'}\n",
      "{'join_date': datetime.datetime(2014, 11, 17, 0, 0), 'is_canceled': True, 'cancel_date': datetime.datetime(2014, 11, 17, 0, 0), 'status': False, 'days_to_cancel': 0, 'is_udacity': False, 'account_key': '875'}\n",
      "{'join_date': datetime.datetime(2015, 5, 29, 0, 0), 'is_canceled': True, 'cancel_date': datetime.datetime(2015, 5, 29, 0, 0), 'status': False, 'days_to_cancel': 0, 'is_udacity': False, 'account_key': '902'}\n",
      "{'join_date': datetime.datetime(2014, 12, 4, 0, 0), 'is_canceled': True, 'cancel_date': datetime.datetime(2014, 12, 4, 0, 0), 'status': False, 'days_to_cancel': 0, 'is_udacity': False, 'account_key': '717'}\n",
      "{'join_date': datetime.datetime(2015, 5, 8, 0, 0), 'is_canceled': True, 'cancel_date': datetime.datetime(2015, 5, 8, 0, 0), 'status': False, 'days_to_cancel': 0, 'is_udacity': False, 'account_key': '711'}\n",
      "{'join_date': datetime.datetime(2014, 12, 4, 0, 0), 'is_canceled': True, 'cancel_date': datetime.datetime(2014, 12, 4, 0, 0), 'status': False, 'days_to_cancel': 0, 'is_udacity': False, 'account_key': '1120'}\n",
      "{'join_date': datetime.datetime(2015, 3, 4, 0, 0), 'is_canceled': True, 'cancel_date': datetime.datetime(2015, 3, 4, 0, 0), 'status': False, 'days_to_cancel': 0, 'is_udacity': False, 'account_key': '819'}\n",
      "{'join_date': datetime.datetime(2015, 3, 4, 0, 0), 'is_canceled': True, 'cancel_date': datetime.datetime(2015, 3, 4, 0, 0), 'status': False, 'days_to_cancel': 0, 'is_udacity': False, 'account_key': '819'}\n",
      "{'join_date': datetime.datetime(2014, 11, 13, 0, 0), 'is_canceled': True, 'cancel_date': datetime.datetime(2014, 11, 13, 0, 0), 'status': False, 'days_to_cancel': 0, 'is_udacity': False, 'account_key': '871'}\n",
      "{'join_date': datetime.datetime(2015, 7, 17, 0, 0), 'is_canceled': True, 'cancel_date': datetime.datetime(2015, 7, 17, 0, 0), 'status': False, 'days_to_cancel': 0, 'is_udacity': False, 'account_key': '1155'}\n",
      "{'join_date': datetime.datetime(2015, 2, 7, 0, 0), 'is_canceled': True, 'cancel_date': datetime.datetime(2015, 2, 7, 0, 0), 'status': False, 'days_to_cancel': 0, 'is_udacity': False, 'account_key': '981'}\n",
      "{'join_date': datetime.datetime(2015, 5, 29, 0, 0), 'is_canceled': True, 'cancel_date': datetime.datetime(2015, 5, 29, 0, 0), 'status': False, 'days_to_cancel': 0, 'is_udacity': False, 'account_key': '996'}\n",
      "{'join_date': datetime.datetime(2014, 12, 9, 0, 0), 'is_canceled': True, 'cancel_date': datetime.datetime(2014, 12, 9, 0, 0), 'status': False, 'days_to_cancel': 0, 'is_udacity': False, 'account_key': '817'}\n",
      "{'join_date': datetime.datetime(2014, 12, 4, 0, 0), 'is_canceled': True, 'cancel_date': datetime.datetime(2014, 12, 4, 0, 0), 'status': False, 'days_to_cancel': 0, 'is_udacity': False, 'account_key': '964'}\n",
      "{'join_date': datetime.datetime(2015, 6, 3, 0, 0), 'is_canceled': True, 'cancel_date': datetime.datetime(2015, 6, 3, 0, 0), 'status': False, 'days_to_cancel': 0, 'is_udacity': False, 'account_key': '1291'}\n",
      "{'join_date': datetime.datetime(2014, 11, 10, 0, 0), 'is_canceled': True, 'cancel_date': datetime.datetime(2014, 11, 10, 0, 0), 'status': False, 'days_to_cancel': 0, 'is_udacity': False, 'account_key': '737'}\n",
      "{'join_date': datetime.datetime(2015, 6, 1, 0, 0), 'is_canceled': True, 'cancel_date': datetime.datetime(2015, 6, 1, 0, 0), 'status': False, 'days_to_cancel': 0, 'is_udacity': True, 'account_key': '1069'}\n",
      "{'join_date': datetime.datetime(2015, 4, 2, 0, 0), 'is_canceled': True, 'cancel_date': datetime.datetime(2015, 4, 2, 0, 0), 'status': False, 'days_to_cancel': 0, 'is_udacity': False, 'account_key': '914'}\n",
      "{'join_date': datetime.datetime(2015, 7, 17, 0, 0), 'is_canceled': True, 'cancel_date': datetime.datetime(2015, 7, 17, 0, 0), 'status': False, 'days_to_cancel': 0, 'is_udacity': False, 'account_key': '914'}\n",
      "{'join_date': datetime.datetime(2014, 12, 5, 0, 0), 'is_canceled': True, 'cancel_date': datetime.datetime(2014, 12, 5, 0, 0), 'status': False, 'days_to_cancel': 0, 'is_udacity': False, 'account_key': '728'}\n",
      "{'join_date': datetime.datetime(2015, 7, 14, 0, 0), 'is_canceled': True, 'cancel_date': datetime.datetime(2015, 7, 14, 0, 0), 'status': False, 'days_to_cancel': 0, 'is_udacity': False, 'account_key': '1063'}\n",
      "{'join_date': datetime.datetime(2015, 2, 25, 0, 0), 'is_canceled': False, 'cancel_date': None, 'status': True, 'days_to_cancel': None, 'is_udacity': True, 'account_key': '1101'}\n",
      "{'join_date': datetime.datetime(2014, 11, 10, 0, 0), 'is_canceled': True, 'cancel_date': datetime.datetime(2014, 11, 10, 0, 0), 'status': False, 'days_to_cancel': 0, 'is_udacity': False, 'account_key': '1238'}\n",
      "{'join_date': datetime.datetime(2015, 3, 5, 0, 0), 'is_canceled': True, 'cancel_date': datetime.datetime(2015, 3, 5, 0, 0), 'status': False, 'days_to_cancel': 0, 'is_udacity': False, 'account_key': '749'}\n",
      "{'join_date': datetime.datetime(2014, 12, 6, 0, 0), 'is_canceled': True, 'cancel_date': datetime.datetime(2014, 12, 6, 0, 0), 'status': False, 'days_to_cancel': 0, 'is_udacity': False, 'account_key': '725'}\n",
      "{'join_date': datetime.datetime(2014, 11, 10, 0, 0), 'is_canceled': True, 'cancel_date': datetime.datetime(2014, 11, 10, 0, 0), 'status': False, 'days_to_cancel': 0, 'is_udacity': False, 'account_key': '878'}\n",
      "{'join_date': datetime.datetime(2014, 11, 12, 0, 0), 'is_canceled': True, 'cancel_date': datetime.datetime(2014, 11, 12, 0, 0), 'status': False, 'days_to_cancel': 0, 'is_udacity': False, 'account_key': '1219'}\n",
      "{'join_date': datetime.datetime(2015, 4, 5, 0, 0), 'is_canceled': True, 'cancel_date': datetime.datetime(2015, 4, 5, 0, 0), 'status': False, 'days_to_cancel': 0, 'is_udacity': False, 'account_key': '739'}\n",
      "{'join_date': datetime.datetime(2015, 1, 12, 0, 0), 'is_canceled': True, 'cancel_date': datetime.datetime(2015, 1, 12, 0, 0), 'status': False, 'days_to_cancel': 0, 'is_udacity': False, 'account_key': '997'}\n",
      "{'join_date': datetime.datetime(2015, 4, 6, 0, 0), 'is_canceled': True, 'cancel_date': datetime.datetime(2015, 4, 6, 0, 0), 'status': False, 'days_to_cancel': 0, 'is_udacity': False, 'account_key': '926'}\n",
      "{'join_date': datetime.datetime(2015, 1, 13, 0, 0), 'is_canceled': True, 'cancel_date': datetime.datetime(2015, 1, 13, 0, 0), 'status': False, 'days_to_cancel': 0, 'is_udacity': False, 'account_key': '1284'}\n",
      "{'join_date': datetime.datetime(2015, 6, 9, 0, 0), 'is_canceled': True, 'cancel_date': datetime.datetime(2015, 6, 9, 0, 0), 'status': False, 'days_to_cancel': 0, 'is_udacity': False, 'account_key': '1241'}\n",
      "{'join_date': datetime.datetime(2015, 3, 11, 0, 0), 'is_canceled': True, 'cancel_date': datetime.datetime(2015, 3, 11, 0, 0), 'status': False, 'days_to_cancel': 0, 'is_udacity': False, 'account_key': '1186'}\n",
      "{'join_date': datetime.datetime(2015, 1, 8, 0, 0), 'is_canceled': True, 'cancel_date': datetime.datetime(2015, 1, 8, 0, 0), 'status': False, 'days_to_cancel': 0, 'is_udacity': False, 'account_key': '802'}\n",
      "{'join_date': datetime.datetime(2014, 11, 15, 0, 0), 'is_canceled': True, 'cancel_date': datetime.datetime(2014, 11, 15, 0, 0), 'status': False, 'days_to_cancel': 0, 'is_udacity': False, 'account_key': '1218'}\n",
      "{'join_date': datetime.datetime(2015, 5, 31, 0, 0), 'is_canceled': True, 'cancel_date': datetime.datetime(2015, 5, 31, 0, 0), 'status': False, 'days_to_cancel': 0, 'is_udacity': False, 'account_key': '1125'}\n",
      "{'join_date': datetime.datetime(2015, 3, 9, 0, 0), 'is_canceled': True, 'cancel_date': datetime.datetime(2015, 3, 9, 0, 0), 'status': False, 'days_to_cancel': 0, 'is_udacity': False, 'account_key': '1148'}\n",
      "{'join_date': datetime.datetime(2015, 1, 8, 0, 0), 'is_canceled': True, 'cancel_date': datetime.datetime(2015, 1, 8, 0, 0), 'status': False, 'days_to_cancel': 0, 'is_udacity': False, 'account_key': '884'}\n"
     ]
    }
   ],
   "source": [
    "# Observe the data of these students in enrollment data\n",
    "# 1010\n",
    "\n",
    "# Step 1: output datapoints of a user by the account_key\n",
    "\n",
    "for student in non_engaging_students:\n",
    "#student = '1219'\n",
    "    for enrollment in enrollments:\n",
    "        if enrollment['account_key'] == student:\n",
    "            print(enrollment)\n"
   ]
  },
  {
   "cell_type": "code",
   "execution_count": 19,
   "metadata": {},
   "outputs": [
    {
     "name": "stdout",
     "output_type": "stream",
     "text": [
      "6\n",
      "1622\n",
      "135656\n",
      "3634\n",
      "students who are reported in enrollment but not in engagement\n",
      "{'1129', '1190', '1191', '1025', '1044', '1213', '1270', '1086', '841', '733', '1273', '1145', '870', '1010', '707', '654', '789', '1237', '1079', '799', '803', '889', '727', '968', '664', '766', '1171', '750', '1222', '875', '902', '981', '717', '711', '1120', '819', '871', '1155', '996', '817', '964', '1291', '737', '914', '728', '1063', '1238', '749', '725', '878', '1219', '739', '997', '926', '1284', '1241', '1186', '802', '1218', '1125', '1148', '884'} \n",
      "\n",
      "No of Enrollment records: 1622, No of Engagement records: 135656\n",
      "No of Unique Students in Enrollment records: 1296\n",
      "No of Unique Students in Engagement records: 1234\n",
      "No of non engaging students: 62\n",
      "\n",
      "Check to see if there are any engaging students that are not reported in Enrollment records:\n",
      "None\n"
     ]
    }
   ],
   "source": [
    "# Step 2: Find a solution to remove Udacity test accounts from further analysis\n",
    "udacity_test_accounts = set()\n",
    "non_udacity_enrollments = list()\n",
    "non_udacity_engagements = list()\n",
    "non_udacity_submissions = list()\n",
    "for enrollment in enrollments:\n",
    "    if enrollment['is_udacity']:\n",
    "        udacity_test_accounts.add(enrollment['account_key'])\n",
    "    else:\n",
    "        temp = dict()\n",
    "        temp.update(enrollment)\n",
    "        temp.pop('is_udacity')\n",
    "        non_udacity_enrollments.append(temp)\n",
    "        \n",
    "for engagement in engagements:\n",
    "    if engagement['account_key'] not in udacity_test_accounts:\n",
    "        non_udacity_engagements.append(engagement)\n",
    "        \n",
    "for submission in submissions:\n",
    "    if submission['account_key'] not in udacity_test_accounts:\n",
    "        non_udacity_submissions.append(submission)\n",
    "        \n",
    "print(len(udacity_test_accounts))\n",
    "print(len(non_udacity_enrollments)) # not number of unique students. This is just number of records\n",
    "print(len(non_udacity_engagements))\n",
    "print(len(non_udacity_submissions))\n",
    "non_engaging_students = run_unique_test(non_udacity_enrollments,non_udacity_engagements)"
   ]
  },
  {
   "cell_type": "markdown",
   "metadata": {},
   "source": [
    "#### Datasets to work on from here\n",
    "These data excludes Udacity test account records.  \n",
    "`Var Names`\n",
    "* non_udacity_enrollments\n",
    "* non_udacity_engagements\n",
    "* non_udacity_submissions  \n",
    "\n",
    "All `keys` are same as the data sets they are derived from except:\n",
    "* `'is_udacity'` is not in non_udacity_enrollments\n",
    "* `'acct'` is renamed to 'account_key'"
   ]
  },
  {
   "cell_type": "markdown",
   "metadata": {},
   "source": [
    "## Analysis 1:\n",
    "Create a dictionary named `paid_students` containing all students who either\n",
    "haven't canceled yet or who remained enrolled for more than 7 days. The keys\n",
    "should be account keys, and the values should be the date the student enrolled."
   ]
  },
  {
   "cell_type": "code",
   "execution_count": 20,
   "metadata": {},
   "outputs": [
    {
     "name": "stdout",
     "output_type": "stream",
     "text": [
      "995\n",
      "584 2015-03-10 00:00:00\n",
      "-------------------------------------------\n",
      "{'join_date': datetime.datetime(2014, 11, 10, 0, 0), 'is_canceled': True, 'account_key': '584', 'status': False, 'days_to_cancel': 65, 'cancel_date': datetime.datetime(2015, 1, 14, 0, 0)}\n",
      "{'join_date': datetime.datetime(2015, 1, 14, 0, 0), 'is_canceled': True, 'account_key': '584', 'status': False, 'days_to_cancel': 55, 'cancel_date': datetime.datetime(2015, 3, 10, 0, 0)}\n",
      "{'join_date': datetime.datetime(2015, 3, 10, 0, 0), 'is_canceled': False, 'account_key': '584', 'status': True, 'days_to_cancel': None, 'cancel_date': None}\n",
      "\n"
     ]
    }
   ],
   "source": [
    "# paid_students is a dict: key- 'account_key' , value- list of enrollment dates\n",
    "paid_students = dict()\n",
    "unique_keys = get_unique_students(non_udacity_enrollments)\n",
    "\n",
    "# Method 1: slower method but more flexible\n",
    "\"\"\"for key in unique_keys:\n",
    "    records = get_student_records(non_udacity_enrollments, key)\n",
    "    for record in records:\n",
    "        #print(record)\n",
    "        if not record['is_canceled'] or record['days_to_cancel']>7:\n",
    "            paid_students[record['account_key']]=record['join_date']\"\"\"\n",
    "\n",
    "# Method 2: faster method\n",
    "for enrollment in non_udacity_enrollments:\n",
    "    if not enrollment['is_canceled'] or enrollment['days_to_cancel']>7:\n",
    "        if enrollment['account_key'] not in paid_students:\n",
    "            paid_students[enrollment['account_key']] = list()\n",
    "        paid_students[enrollment['account_key']].append(enrollment['join_date'])\n",
    "        \n",
    "print(len(paid_students))\n",
    "\n",
    "#for std in paid_students:\n",
    "print('584', max(paid_students['584']))\n",
    "print(\"-------------------------------------------\")\n",
    "for record in get_student_records(non_udacity_enrollments, '584'):\n",
    "    print(record)\n",
    "print()"
   ]
  },
  {
   "cell_type": "markdown",
   "metadata": {},
   "source": [
    "Create a list of engagement records containing only data for paid students during their first week\n",
    "\n",
    "#### ndays_engagement `Function`"
   ]
  },
  {
   "cell_type": "code",
   "execution_count": 21,
   "metadata": {},
   "outputs": [],
   "source": [
    "from datetime import timedelta\n",
    "\n",
    "\n",
    "def ndays_engagement(engagement_data, n=7) -> list:\n",
    "    ndays_engagement_records = list()\n",
    "    for data in engagement_data:\n",
    "        working_key = data['account_key']\n",
    "        if working_key in paid_students:\n",
    "            from_date = max(paid_students[working_key])\n",
    "            if from_date + timedelta(days=n) > data['utc_date'] >= from_date:\n",
    "                ndays_engagement_records.append(data)\n",
    "    return ndays_engagement_records\n",
    "# first_week_paid_engagements is a list or dicts(records)\n",
    "\n",
    "\n",
    "first_week_paid_engagements = ndays_engagement(non_udacity_engagements)"
   ]
  },
  {
   "cell_type": "code",
   "execution_count": 22,
   "metadata": {},
   "outputs": [
    {
     "data": {
      "text/plain": [
       "995"
      ]
     },
     "execution_count": 22,
     "metadata": {},
     "output_type": "execute_result"
    }
   ],
   "source": [
    "len(get_unique_students(first_week_paid_engagements))"
   ]
  },
  {
   "cell_type": "markdown",
   "metadata": {},
   "source": [
    "#### reorganize `non_udacity_engagements`  \n",
    "reorganize the data in non_udacity_engagements **from**  \n",
    "a list of dicts - each dict is a record of engagement **to**  \n",
    "a dict of dicts - each key of the main dict contains all the records corresponding to that key"
   ]
  },
  {
   "cell_type": "code",
   "execution_count": 23,
   "metadata": {},
   "outputs": [
    {
     "data": {
      "text/plain": [
       "\"reorg = dict()\\nfor key in paid_students:\\n    #print(key)\\n    reorg[key] = (get_student_records(first_week_paid_engagements, key, popitms=['account_key']))\\n#reorg['429']\\nfirst_week_paid_engagements = reorg\\ndel reorg\""
      ]
     },
     "execution_count": 23,
     "metadata": {},
     "output_type": "execute_result"
    }
   ],
   "source": [
    "# create a temp variable to delete later\n",
    "#reorg = first_week_engagements\n",
    "#first_week_engagements = None\n",
    "\"\"\"reorg = dict()\n",
    "for key in paid_students:\n",
    "    #print(key)\n",
    "    reorg[key] = (get_student_records(first_week_paid_engagements, key, popitms=['account_key']))\n",
    "#reorg['429']\n",
    "first_week_paid_engagements = reorg\n",
    "del reorg\"\"\""
   ]
  },
  {
   "cell_type": "markdown",
   "metadata": {},
   "source": [
    "#### reorg new code"
   ]
  },
  {
   "cell_type": "code",
   "execution_count": 24,
   "metadata": {},
   "outputs": [],
   "source": [
    "def regroup_records_by_key(data: list, group_by_key: str = 'account_key'):\n",
    "    # step 1 : do a key check. The key must be a valid key of the given data but cant ...\n",
    "    reorg = dict()\n",
    "    \n",
    "    keys = set([record[group_by_key] for record in data])\n",
    "    print('Debug', len(keys)==len(paid_students))\n",
    "    for key in keys:\n",
    "        reorg[key] = list(get_student_records(data, key, key_type=group_by_key))\n",
    "    reorg = dict(pop_items_from_dictofdicts(reorg, popitms=group_by_key))\n",
    "    \n",
    "    \"\"\"if(group_by_key == 'account_key'):\n",
    "        keys = set([record[group_by_key] for record in data])\n",
    "        print('Debug', len(keys)==len(paid_students))\n",
    "        \n",
    "        for key in keys:\n",
    "        #for key in paid_students:\n",
    "            reorg[key] = list(get_student_records(data, key, key_type=group_by_key))\n",
    "        reorg = dict(pop_items_from_dictofdicts(reorg, popitms=group_by_key))\n",
    "    else:\n",
    "        # assume a key other than 'account_key' and work on it...\n",
    "        # assume group_by_key = 'lessons_completed'\n",
    "        pass\"\"\"\n",
    "    \n",
    "    return dict(reorg)\n",
    "# '429'\n"
   ]
  },
  {
   "cell_type": "code",
   "execution_count": 25,
   "metadata": {},
   "outputs": [
    {
     "name": "stdout",
     "output_type": "stream",
     "text": [
      "Debug True\n",
      "995\n",
      "[{'projects_completed': 0, 'total_minutes_visited': 0.0, 'num_courses_visited': 0, 'utc_date': datetime.datetime(2015, 3, 10, 0, 0), 'lessons_completed': 0}, {'projects_completed': 0, 'total_minutes_visited': 0.0, 'num_courses_visited': 0, 'utc_date': datetime.datetime(2015, 3, 11, 0, 0), 'lessons_completed': 0}, {'projects_completed': 0, 'total_minutes_visited': 0.0, 'num_courses_visited': 0, 'utc_date': datetime.datetime(2015, 3, 12, 0, 0), 'lessons_completed': 0}, {'projects_completed': 0, 'total_minutes_visited': 0.0, 'num_courses_visited': 0, 'utc_date': datetime.datetime(2015, 3, 13, 0, 0), 'lessons_completed': 0}, {'projects_completed': 0, 'total_minutes_visited': 0.0, 'num_courses_visited': 0, 'utc_date': datetime.datetime(2015, 3, 14, 0, 0), 'lessons_completed': 0}, {'projects_completed': 0, 'total_minutes_visited': 0.0, 'num_courses_visited': 0, 'utc_date': datetime.datetime(2015, 3, 15, 0, 0), 'lessons_completed': 0}, {'projects_completed': 0, 'total_minutes_visited': 0.0, 'num_courses_visited': 0, 'utc_date': datetime.datetime(2015, 3, 16, 0, 0), 'lessons_completed': 0}]\n"
     ]
    }
   ],
   "source": [
    "engagements_by_account = regroup_records_by_key(first_week_paid_engagements, group_by_key='account_key')\n",
    "print(len(engagements_by_account.keys()))\n",
    "print(engagements_by_account['429'])"
   ]
  },
  {
   "cell_type": "code",
   "execution_count": 26,
   "metadata": {},
   "outputs": [
    {
     "name": "stdout",
     "output_type": "stream",
     "text": [
      "Debug False\n",
      "5844\n"
     ]
    }
   ],
   "source": [
    "# test for regroup_records_by_key\n",
    "# testing if it works with group_by_key='lessons_completed'\n",
    "print(len(regroup_records_by_key(first_week_paid_engagements, group_by_key='lessons_completed')[0]))"
   ]
  },
  {
   "cell_type": "markdown",
   "metadata": {},
   "source": [
    "## Data Exploration"
   ]
  },
  {
   "cell_type": "code",
   "execution_count": 27,
   "metadata": {},
   "outputs": [],
   "source": [
    "def sum_grouped_data(data: dict, key_type) -> dict:\n",
    "    tot_by_account = dict()\n",
    "    for account_key, engagement_for_student in engagements_by_account.items():\n",
    "        tot = 0\n",
    "        for engagement in engagement_for_student:\n",
    "            tot += engagement[key_type]\n",
    "        tot_by_account[account_key] = tot\n",
    "    return tot_by_account"
   ]
  },
  {
   "cell_type": "code",
   "execution_count": 28,
   "metadata": {},
   "outputs": [
    {
     "name": "stdout",
     "output_type": "stream",
     "text": [
      "995\n"
     ]
    }
   ],
   "source": [
    "total_minutes_by_account_first_week = dict(sum_grouped_data(engagements_by_account, 'total_minutes_visited'))\n",
    "\n",
    "\"\"\"for account_key, engagement_for_student in engagements_by_account.items():\n",
    "    total_mins = 0\n",
    "    for engagement in engagement_for_student:\n",
    "        total_mins += engagement['total_minutes_visited']\n",
    "    total_minutes_by_account_first_week[account_key] = total_mins\"\"\"\n",
    "    \n",
    "total_mins = list(total_minutes_by_account_first_week.values())\n",
    "print(len(total_minutes_by_account_first_week))"
   ]
  },
  {
   "cell_type": "code",
   "execution_count": 29,
   "metadata": {},
   "outputs": [],
   "source": [
    "import numpy as np\n",
    "\n",
    "def describe_data_stats(data):\n",
    "    print('Mean', np.mean(data))\n",
    "    print('Standard Deviation', np.std(data))\n",
    "    print('Max', np.max(data))\n",
    "    print('Min', np.min(data))"
   ]
  },
  {
   "cell_type": "code",
   "execution_count": 30,
   "metadata": {},
   "outputs": [
    {
     "name": "stdout",
     "output_type": "stream",
     "text": [
      "Mean 306.708326753\n",
      "Standard Deviation 412.996933409\n",
      "Max 3564.7332645\n",
      "Min 0.0\n",
      "Minutes in a week : 10080\n"
     ]
    }
   ],
   "source": [
    "describe_data_stats(total_mins)\n",
    "print('Minutes in a week :',7*24*60)"
   ]
  },
  {
   "cell_type": "code",
   "execution_count": 33,
   "metadata": {
    "scrolled": true
   },
   "outputs": [
    {
     "name": "stdout",
     "output_type": "stream",
     "text": [
      "995\n"
     ]
    }
   ],
   "source": [
    "total_lessons_by_account_first_week = dict(sum_grouped_data(engagements_by_account, 'lessons_completed'))\n",
    "\n",
    "\"\"\"for account_key, engagement_for_student in engagements_by_account.items():\n",
    "    total_lessons = 0\n",
    "    for engagement in engagement_for_student:\n",
    "        total_lessons += engagement['lessons_completed']\n",
    "    total_lessons_by_account_first_week[account_key] = total_lessons\"\"\"\n",
    "    \n",
    "total_lessons = list(total_lessons_by_account_first_week.values())\n",
    "print(len(total_lessons_by_account_first_week))"
   ]
  },
  {
   "cell_type": "code",
   "execution_count": 34,
   "metadata": {},
   "outputs": [
    {
     "name": "stdout",
     "output_type": "stream",
     "text": [
      "Mean 1.63618090452\n",
      "Standard Deviation 3.00256129983\n",
      "Max 36\n",
      "Min 0\n"
     ]
    }
   ],
   "source": [
    "describe_data_stats(total_lessons)"
   ]
  },
  {
   "cell_type": "code",
   "execution_count": null,
   "metadata": {},
   "outputs": [],
   "source": []
  }
 ],
 "metadata": {
  "kernelspec": {
   "display_name": "Python 3",
   "language": "python",
   "name": "python3"
  },
  "language_info": {
   "codemirror_mode": {
    "name": "ipython",
    "version": 3
   },
   "file_extension": ".py",
   "mimetype": "text/x-python",
   "name": "python",
   "nbconvert_exporter": "python",
   "pygments_lexer": "ipython3",
   "version": "3.5.5"
  }
 },
 "nbformat": 4,
 "nbformat_minor": 2
}
