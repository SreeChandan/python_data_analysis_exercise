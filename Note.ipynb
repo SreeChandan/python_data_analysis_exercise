{
 "cells": [
  {
   "cell_type": "markdown",
   "metadata": {},
   "source": [
    "Udacity Student Data Analysis\n",
    "=========================\n",
    "## Preparing data for Analysis  \n",
    "### Load Data from CSVs"
   ]
  },
  {
   "cell_type": "code",
   "execution_count": 1,
   "metadata": {},
   "outputs": [
    {
     "name": "stdout",
     "output_type": "stream",
     "text": [
      "F:\\JupyterProjects\\Github_repo\\python_data_analysis_exercise\n"
     ]
    },
    {
     "data": {
      "text/plain": [
       "'F:\\\\JupyterProjects\\\\Github_repo\\\\python_data_analysis_exercise'"
      ]
     },
     "execution_count": 1,
     "metadata": {},
     "output_type": "execute_result"
    }
   ],
   "source": [
    "import unicodecsv\n",
    "import os\n",
    "print(os.getcwd())\n",
    "%pwd"
   ]
  },
  {
   "cell_type": "code",
   "execution_count": 2,
   "metadata": {},
   "outputs": [],
   "source": [
    "def csv_to_list(filename: str) -> list:\n",
    "    \"\"\"\n",
    "\n",
    "    :type filename: str\n",
    "    \"\"\"\n",
    "    # takes a string filename to a csv and returns its data as a list\n",
    "    #with open('F:/JupyterProjects/untitled/'+filename, 'rb') as f_in:\n",
    "    with open(filename, 'rb') as f_in:\n",
    "        reader = unicodecsv.DictReader(f_in)\n",
    "        return list(reader)"
   ]
  },
  {
   "cell_type": "code",
   "execution_count": 3,
   "metadata": {},
   "outputs": [
    {
     "name": "stdout",
     "output_type": "stream",
     "text": [
      "1 F:\\JupyterProjects\\Github_repo\\python_data_analysis_exercise\n",
      "2 F:\\JupyterProjects\\Github_repo\\python_data_analysis_exercise\\Note.ipynb\n",
      "3 \n"
     ]
    }
   ],
   "source": [
    "print('1', os.path.abspath(os.path.dirname('')))\n",
    "print('2', os.path.abspath('Note.ipynb'))\n",
    "print('3', os.path.dirname('Note.ipynb'))\n",
    "\n",
    "\n",
    "engagement_filename = 'data/daily_engagement.csv'\n",
    "enrollments_filename = 'data/enrollments.csv'\n",
    "submissions_filename = 'data/project_submissions.csv'\n",
    "\n",
    "engagements = csv_to_list(engagement_filename)\n",
    "enrollments = csv_to_list(enrollments_filename)\n",
    "submissions = csv_to_list(submissions_filename)"
   ]
  },
  {
   "cell_type": "code",
   "execution_count": 4,
   "metadata": {
    "scrolled": true
   },
   "outputs": [
    {
     "name": "stdout",
     "output_type": "stream",
     "text": [
      "Engagements : {'acct': '0', 'utc_date': '2015-01-09', 'projects_completed': '0.0', 'lessons_completed': '0.0', 'total_minutes_visited': '11.6793745', 'num_courses_visited': '1.0'}\n",
      "\n",
      "Enrollments : {'status': 'canceled', 'is_canceled': 'True', 'days_to_cancel': '65', 'account_key': '448', 'cancel_date': '2015-01-14', 'join_date': '2014-11-10', 'is_udacity': 'True'}\n",
      "\n",
      "Submissions : {'assigned_rating': 'UNGRADED', 'account_key': '256', 'completion_date': '2015-01-16', 'lesson_key': '3176718735', 'creation_date': '2015-01-14', 'processing_state': 'EVALUATED'}\n"
     ]
    }
   ],
   "source": [
    "def print_lists(ele=0):\n",
    "    print(\"Engagements :\", engagements[ele])\n",
    "    print()\n",
    "    print(\"Enrollments :\", enrollments[ele])\n",
    "    print()\n",
    "    print(\"Submissions :\", submissions[ele])\n",
    "\n",
    "\n",
    "print_lists()"
   ]
  },
  {
   "cell_type": "markdown",
   "metadata": {},
   "source": [
    "### Convert Ordered dict to dict"
   ]
  },
  {
   "cell_type": "code",
   "execution_count": 5,
   "metadata": {},
   "outputs": [],
   "source": [
    "def convert_to_dict():\n",
    "    for ele in range(len(engagements)):\n",
    "        engagements[ele] = dict(engagements[ele])\n",
    "    for ele in range(len(enrollments)):\n",
    "        enrollments[ele] = dict(enrollments[ele])\n",
    "    for ele in range(len(submissions)):\n",
    "        submissions[ele] = dict(submissions[ele])\n",
    "\n",
    "\n",
    "convert_to_dict()"
   ]
  },
  {
   "cell_type": "code",
   "execution_count": 6,
   "metadata": {},
   "outputs": [
    {
     "name": "stdout",
     "output_type": "stream",
     "text": [
      "Engagements : {'acct': '0', 'utc_date': '2015-01-09', 'projects_completed': '0.0', 'lessons_completed': '0.0', 'total_minutes_visited': '11.6793745', 'num_courses_visited': '1.0'}\n",
      "\n",
      "Enrollments : {'status': 'canceled', 'is_canceled': 'True', 'days_to_cancel': '65', 'account_key': '448', 'cancel_date': '2015-01-14', 'join_date': '2014-11-10', 'is_udacity': 'True'}\n",
      "\n",
      "Submissions : {'assigned_rating': 'UNGRADED', 'account_key': '256', 'completion_date': '2015-01-16', 'lesson_key': '3176718735', 'creation_date': '2015-01-14', 'processing_state': 'EVALUATED'}\n"
     ]
    }
   ],
   "source": [
    "print_lists()"
   ]
  },
  {
   "cell_type": "markdown",
   "metadata": {},
   "source": [
    "### Fix Datatypes"
   ]
  },
  {
   "cell_type": "code",
   "execution_count": 7,
   "metadata": {},
   "outputs": [],
   "source": [
    "from datetime import datetime as dt"
   ]
  },
  {
   "cell_type": "code",
   "execution_count": 8,
   "metadata": {},
   "outputs": [
    {
     "name": "stdout",
     "output_type": "stream",
     "text": [
      "Parsed\n"
     ]
    }
   ],
   "source": [
    "if type(enrollments[0]['status']) == str:\n",
    "    for enrollment in enrollments:\n",
    "        enrollment['status'] = enrollment['status']=='current'\n",
    "        enrollment['join_date'] = None if enrollment['join_date']=='' else dt.strptime(enrollment['join_date'], '%Y-%m-%d')\n",
    "        enrollment['cancel_date'] = None if enrollment['cancel_date']=='' else dt.strptime(enrollment['cancel_date'], '%Y-%m-%d')\n",
    "        enrollment['days_to_cancel'] = None if enrollment['days_to_cancel']=='' else int(enrollment['days_to_cancel'])\n",
    "        enrollment['is_udacity'] = enrollment['is_udacity']=='True'\n",
    "        enrollment['is_canceled'] = enrollment['is_canceled']=='True'\n",
    "    print(\"Parsed\")\n",
    "else:\n",
    "    print(\"Already Parsed\")"
   ]
  },
  {
   "cell_type": "code",
   "execution_count": 9,
   "metadata": {},
   "outputs": [
    {
     "name": "stdout",
     "output_type": "stream",
     "text": [
      "Parsed\n"
     ]
    }
   ],
   "source": [
    "if type(engagements[0]['utc_date']) == str:\n",
    "    for engagement in engagements:\n",
    "        engagement['utc_date'] = None if engagement['utc_date']=='' else dt.strptime(engagement['utc_date'], '%Y-%m-%d')\n",
    "        engagement['num_courses_visited'] = int(float(engagement['num_courses_visited']))\n",
    "        engagement['total_minutes_visited'] = float(engagement['total_minutes_visited'])\n",
    "        engagement['lessons_completed'] = int(float(engagement['lessons_completed']))\n",
    "        engagement['projects_completed'] = int(float(engagement['projects_completed']))\n",
    "    print(\"Parsed\")\n",
    "else:\n",
    "    print(\"Already Parsed\")"
   ]
  },
  {
   "cell_type": "code",
   "execution_count": 10,
   "metadata": {},
   "outputs": [
    {
     "name": "stdout",
     "output_type": "stream",
     "text": [
      "Parsed\n"
     ]
    }
   ],
   "source": [
    "if type(submissions[0]['creation_date']) == str:\n",
    "    for submission in submissions:\n",
    "        submission['creation_date'] = None if submission['creation_date']=='' else dt.strptime(submission['creation_date'], '%Y-%m-%d')\n",
    "        submission['completion_date'] = None if submission['completion_date']=='' else dt.strptime(submission['completion_date'], '%Y-%m-%d') \n",
    "    print(\"Parsed\")\n",
    "else:\n",
    "    print(\"Already Parsed\")"
   ]
  },
  {
   "cell_type": "code",
   "execution_count": 11,
   "metadata": {
    "scrolled": true
   },
   "outputs": [
    {
     "name": "stdout",
     "output_type": "stream",
     "text": [
      "Engagements : {'acct': '0', 'utc_date': datetime.datetime(2015, 1, 9, 0, 0), 'projects_completed': 0, 'lessons_completed': 0, 'total_minutes_visited': 11.6793745, 'num_courses_visited': 1}\n",
      "\n",
      "Enrollments : {'status': False, 'is_canceled': True, 'days_to_cancel': 65, 'account_key': '448', 'cancel_date': datetime.datetime(2015, 1, 14, 0, 0), 'join_date': datetime.datetime(2014, 11, 10, 0, 0), 'is_udacity': True}\n",
      "\n",
      "Submissions : {'assigned_rating': 'UNGRADED', 'account_key': '256', 'completion_date': datetime.datetime(2015, 1, 16, 0, 0), 'lesson_key': '3176718735', 'creation_date': datetime.datetime(2015, 1, 14, 0, 0), 'processing_state': 'EVALUATED'}\n"
     ]
    }
   ],
   "source": [
    "print_lists(0)"
   ]
  },
  {
   "cell_type": "markdown",
   "metadata": {},
   "source": [
    "## Investigating the  data\n",
    "* Find the total number of rows and the number of unique students (account keys) in each table."
   ]
  },
  {
   "cell_type": "code",
   "execution_count": 12,
   "metadata": {},
   "outputs": [
    {
     "name": "stdout",
     "output_type": "stream",
     "text": [
      "Engagements : 136240\n",
      "Enrollments : 1640\n",
      "Submissions : 3642\n"
     ]
    }
   ],
   "source": [
    "# No of rows\n",
    "print(\"Engagements :\",len(engagements))\n",
    "print(\"Enrollments :\",len(enrollments))\n",
    "print(\"Submissions :\",len(submissions))"
   ]
  },
  {
   "cell_type": "markdown",
   "metadata": {},
   "source": [
    "### Problems in the data\n",
    "#### Rename the \"acct\" column in the `daily_engagement` table to \"account_key\"."
   ]
  },
  {
   "cell_type": "code",
   "execution_count": 13,
   "metadata": {},
   "outputs": [],
   "source": [
    "# Rename the \"acct\" column in the daily_engagement table to \"account_key\".\n",
    "if engagements[0].get('acct'):\n",
    "    for engagement in engagements:\n",
    "        engagement['account_key'] = engagement['acct']\n",
    "        engagement.pop('acct')"
   ]
  },
  {
   "cell_type": "markdown",
   "metadata": {},
   "source": [
    "#### get_unique_students `Function`\n",
    "Takes in data (a list of dicts) and returns a set of unique student's account numbers"
   ]
  },
  {
   "cell_type": "code",
   "execution_count": 14,
   "metadata": {},
   "outputs": [],
   "source": [
    "def get_unique_students(data: list) -> set:\n",
    "    \"\"\"\n",
    "\n",
    "    :type data: list\n",
    "    \"\"\"\n",
    "    unique_students_set = set()\n",
    "    for ele in data:\n",
    "        unique_students_set.add(str(ele['account_key']))\n",
    "    return unique_students_set"
   ]
  },
  {
   "cell_type": "markdown",
   "metadata": {},
   "source": [
    "#### get_student_records `Function`\n",
    "Takes in data(a list of dicts), account_key(string) and returns a list of records of that student"
   ]
  },
  {
   "cell_type": "code",
   "execution_count": 56,
   "metadata": {},
   "outputs": [],
   "source": [
    "def get_student_records(data: list, key: str, key_type: str = 'account_key') -> list:\n",
    "    student_records = list()\n",
    "    for ele in data:\n",
    "        if ele[key_type] == key:\n",
    "            student_records.append(dict(ele))\n",
    "    return student_records"
   ]
  },
  {
   "cell_type": "markdown",
   "metadata": {},
   "source": [
    "#### pop_items_from_dictofdicts `Function`\n",
    "Takes in:  \n",
    "* data(a dict where each value is a list of dicts)\n",
    "* popitms(a set of keys(string) ) \n",
    "\n",
    "returns:  \n",
    "* data( same type as the input data) with "
   ]
  },
  {
   "cell_type": "code",
   "execution_count": 16,
   "metadata": {},
   "outputs": [],
   "source": [
    "def pop_items_from_dictofdicts(data: dict, popitms: set = None):\n",
    "    returnData = dict()\n",
    "    for key in data:\n",
    "        # data[key] here is a list of records corresponding to one key('account_key')\n",
    "        returnData[key] = list()\n",
    "        for record in data[key]:\n",
    "            #print(record)\n",
    "            poped_ele = dict(record)\n",
    "            poped_ele.pop(popitms)\n",
    "            returnData[key].append(poped_ele)\n",
    "    return returnData"
   ]
  },
  {
   "cell_type": "markdown",
   "metadata": {},
   "source": [
    "#### Find students who are reported in enrollment but not in engagement\n",
    "#### run_unique_test `Function`\n",
    "Takes in two lists. First List is enrollments. Second is Engagements.\n",
    "Each list is a list of dicts."
   ]
  },
  {
   "cell_type": "code",
   "execution_count": 17,
   "metadata": {},
   "outputs": [
    {
     "name": "stdout",
     "output_type": "stream",
     "text": [
      "students who are reported in enrollment but not in engagement\n",
      "{'789', '875', '802', '878', '914', '1191', '817', '819', '1213', '739', '664', '870', '964', '1237', '1186', '1171', '1063', '1218', '1304', '1222', '728', '1025', '1101', '717', '1238', '766', '1273', '1010', '968', '799', '1145', '884', '1291', '1125', '981', '1148', '1241', '1069', '1155', '737', '1044', '654', '1190', '996', '1079', '803', '711', '750', '926', '1086', '841', '1219', '889', '871', '707', '997', '1270', '727', '725', '733', '1129', '1120', '749', '902', '1284'} \n",
      "\n",
      "No of Enrollment records: 1640, No of Engagement records: 136240\n",
      "No of Unique Students in Enrollment records: 1302\n",
      "No of Unique Students in Engagement records: 1237\n",
      "No of non engaging students: 65\n",
      "\n",
      "Check to see if there are any engaging students that are not reported in Enrollment records:\n",
      "None\n"
     ]
    }
   ],
   "source": [
    "def run_unique_test(enrollments, engagements):\n",
    "    enrollment_students = get_unique_students(enrollments)\n",
    "    engagement_students = get_unique_students(engagements)\n",
    "\n",
    "    non_engaging_stds = enrollment_students - engagement_students\n",
    "\n",
    "    print(\"students who are reported in enrollment but not in engagement\")\n",
    "    print(non_engaging_stds, \"\\n\")\n",
    "    print(\"No of Enrollment records: {}, No of Engagement records: {}\".format(len(enrollments), len(engagements)))\n",
    "    print(\"No of Unique Students in Enrollment records: {}\\nNo of Unique Students in Engagement records: {}\".\n",
    "          format(len(enrollment_students), len(engagement_students)))\n",
    "    print(\"No of non engaging students:\", len(non_engaging_stds))\n",
    "    print(\"\\nCheck to see if there are any engaging students that are not reported in Enrollment records:\")\n",
    "    if not len(engagement_students - enrollment_students):\n",
    "        print(\"None\")\n",
    "    else:\n",
    "        print(\"There are any engaging students that are not reported in Enrollment records\")\n",
    "    return non_engaging_stds\n",
    "\n",
    "\n",
    "non_engaging_students = run_unique_test(enrollments, engagements)\n"
   ]
  },
  {
   "cell_type": "markdown",
   "metadata": {},
   "source": [
    "#### Observe the data of these students in enrollment data\n",
    "\n",
    "**`Observations :`**\n",
    "* Udacity test accounts were found to be part of problem. Need to remove those accounts from analysis."
   ]
  },
  {
   "cell_type": "code",
   "execution_count": 18,
   "metadata": {},
   "outputs": [
    {
     "name": "stdout",
     "output_type": "stream",
     "text": [
      "{'status': False, 'is_canceled': True, 'days_to_cancel': 0, 'account_key': '789', 'cancel_date': datetime.datetime(2015, 2, 6, 0, 0), 'join_date': datetime.datetime(2015, 2, 6, 0, 0), 'is_udacity': False}\n",
      "{'status': False, 'is_canceled': True, 'days_to_cancel': 0, 'account_key': '875', 'cancel_date': datetime.datetime(2014, 11, 17, 0, 0), 'join_date': datetime.datetime(2014, 11, 17, 0, 0), 'is_udacity': False}\n",
      "{'status': False, 'is_canceled': True, 'days_to_cancel': 0, 'account_key': '802', 'cancel_date': datetime.datetime(2015, 1, 8, 0, 0), 'join_date': datetime.datetime(2015, 1, 8, 0, 0), 'is_udacity': False}\n",
      "{'status': False, 'is_canceled': True, 'days_to_cancel': 0, 'account_key': '878', 'cancel_date': datetime.datetime(2014, 11, 10, 0, 0), 'join_date': datetime.datetime(2014, 11, 10, 0, 0), 'is_udacity': False}\n",
      "{'status': False, 'is_canceled': True, 'days_to_cancel': 0, 'account_key': '914', 'cancel_date': datetime.datetime(2015, 4, 2, 0, 0), 'join_date': datetime.datetime(2015, 4, 2, 0, 0), 'is_udacity': False}\n",
      "{'status': False, 'is_canceled': True, 'days_to_cancel': 0, 'account_key': '914', 'cancel_date': datetime.datetime(2015, 7, 17, 0, 0), 'join_date': datetime.datetime(2015, 7, 17, 0, 0), 'is_udacity': False}\n",
      "{'status': False, 'is_canceled': True, 'days_to_cancel': 0, 'account_key': '1191', 'cancel_date': datetime.datetime(2015, 1, 11, 0, 0), 'join_date': datetime.datetime(2015, 1, 11, 0, 0), 'is_udacity': False}\n",
      "{'status': False, 'is_canceled': True, 'days_to_cancel': 0, 'account_key': '817', 'cancel_date': datetime.datetime(2014, 12, 9, 0, 0), 'join_date': datetime.datetime(2014, 12, 9, 0, 0), 'is_udacity': False}\n",
      "{'status': False, 'is_canceled': True, 'days_to_cancel': 0, 'account_key': '819', 'cancel_date': datetime.datetime(2015, 3, 4, 0, 0), 'join_date': datetime.datetime(2015, 3, 4, 0, 0), 'is_udacity': False}\n",
      "{'status': False, 'is_canceled': True, 'days_to_cancel': 0, 'account_key': '819', 'cancel_date': datetime.datetime(2015, 3, 4, 0, 0), 'join_date': datetime.datetime(2015, 3, 4, 0, 0), 'is_udacity': False}\n",
      "{'status': False, 'is_canceled': True, 'days_to_cancel': 0, 'account_key': '1213', 'cancel_date': datetime.datetime(2015, 1, 12, 0, 0), 'join_date': datetime.datetime(2015, 1, 12, 0, 0), 'is_udacity': False}\n",
      "{'status': False, 'is_canceled': True, 'days_to_cancel': 0, 'account_key': '739', 'cancel_date': datetime.datetime(2015, 4, 5, 0, 0), 'join_date': datetime.datetime(2015, 4, 5, 0, 0), 'is_udacity': False}\n",
      "{'status': False, 'is_canceled': True, 'days_to_cancel': 0, 'account_key': '664', 'cancel_date': datetime.datetime(2015, 1, 8, 0, 0), 'join_date': datetime.datetime(2015, 1, 8, 0, 0), 'is_udacity': False}\n",
      "{'status': False, 'is_canceled': True, 'days_to_cancel': 0, 'account_key': '870', 'cancel_date': datetime.datetime(2015, 5, 12, 0, 0), 'join_date': datetime.datetime(2015, 5, 12, 0, 0), 'is_udacity': False}\n",
      "{'status': False, 'is_canceled': True, 'days_to_cancel': 0, 'account_key': '964', 'cancel_date': datetime.datetime(2014, 12, 4, 0, 0), 'join_date': datetime.datetime(2014, 12, 4, 0, 0), 'is_udacity': False}\n",
      "{'status': False, 'is_canceled': True, 'days_to_cancel': 0, 'account_key': '1237', 'cancel_date': datetime.datetime(2015, 5, 28, 0, 0), 'join_date': datetime.datetime(2015, 5, 28, 0, 0), 'is_udacity': False}\n",
      "{'status': False, 'is_canceled': True, 'days_to_cancel': 0, 'account_key': '1186', 'cancel_date': datetime.datetime(2015, 3, 11, 0, 0), 'join_date': datetime.datetime(2015, 3, 11, 0, 0), 'is_udacity': False}\n",
      "{'status': False, 'is_canceled': True, 'days_to_cancel': 0, 'account_key': '1171', 'cancel_date': datetime.datetime(2015, 1, 7, 0, 0), 'join_date': datetime.datetime(2015, 1, 7, 0, 0), 'is_udacity': False}\n",
      "{'status': False, 'is_canceled': True, 'days_to_cancel': 0, 'account_key': '1063', 'cancel_date': datetime.datetime(2015, 7, 14, 0, 0), 'join_date': datetime.datetime(2015, 7, 14, 0, 0), 'is_udacity': False}\n",
      "{'status': False, 'is_canceled': True, 'days_to_cancel': 0, 'account_key': '1218', 'cancel_date': datetime.datetime(2014, 11, 15, 0, 0), 'join_date': datetime.datetime(2014, 11, 15, 0, 0), 'is_udacity': False}\n",
      "{'status': False, 'is_canceled': True, 'days_to_cancel': 59, 'account_key': '1304', 'cancel_date': datetime.datetime(2015, 3, 10, 0, 0), 'join_date': datetime.datetime(2015, 1, 10, 0, 0), 'is_udacity': True}\n",
      "{'status': False, 'is_canceled': True, 'days_to_cancel': 99, 'account_key': '1304', 'cancel_date': datetime.datetime(2015, 6, 17, 0, 0), 'join_date': datetime.datetime(2015, 3, 10, 0, 0), 'is_udacity': True}\n",
      "{'status': False, 'is_canceled': True, 'days_to_cancel': 0, 'account_key': '1222', 'cancel_date': datetime.datetime(2015, 4, 7, 0, 0), 'join_date': datetime.datetime(2015, 4, 7, 0, 0), 'is_udacity': False}\n",
      "{'status': False, 'is_canceled': True, 'days_to_cancel': 0, 'account_key': '728', 'cancel_date': datetime.datetime(2014, 12, 5, 0, 0), 'join_date': datetime.datetime(2014, 12, 5, 0, 0), 'is_udacity': False}\n",
      "{'status': False, 'is_canceled': True, 'days_to_cancel': 0, 'account_key': '1025', 'cancel_date': datetime.datetime(2015, 6, 7, 0, 0), 'join_date': datetime.datetime(2015, 6, 7, 0, 0), 'is_udacity': False}\n",
      "{'status': True, 'is_canceled': False, 'days_to_cancel': None, 'account_key': '1101', 'cancel_date': None, 'join_date': datetime.datetime(2015, 2, 25, 0, 0), 'is_udacity': True}\n",
      "{'status': False, 'is_canceled': True, 'days_to_cancel': 0, 'account_key': '717', 'cancel_date': datetime.datetime(2014, 12, 4, 0, 0), 'join_date': datetime.datetime(2014, 12, 4, 0, 0), 'is_udacity': False}\n",
      "{'status': False, 'is_canceled': True, 'days_to_cancel': 0, 'account_key': '1238', 'cancel_date': datetime.datetime(2014, 11, 10, 0, 0), 'join_date': datetime.datetime(2014, 11, 10, 0, 0), 'is_udacity': False}\n",
      "{'status': False, 'is_canceled': True, 'days_to_cancel': 0, 'account_key': '766', 'cancel_date': datetime.datetime(2015, 5, 10, 0, 0), 'join_date': datetime.datetime(2015, 5, 10, 0, 0), 'is_udacity': False}\n",
      "{'status': False, 'is_canceled': True, 'days_to_cancel': 0, 'account_key': '1273', 'cancel_date': datetime.datetime(2015, 1, 12, 0, 0), 'join_date': datetime.datetime(2015, 1, 12, 0, 0), 'is_udacity': False}\n",
      "{'status': False, 'is_canceled': True, 'days_to_cancel': 0, 'account_key': '1010', 'cancel_date': datetime.datetime(2015, 1, 11, 0, 0), 'join_date': datetime.datetime(2015, 1, 11, 0, 0), 'is_udacity': False}\n",
      "{'status': False, 'is_canceled': True, 'days_to_cancel': 0, 'account_key': '968', 'cancel_date': datetime.datetime(2015, 7, 17, 0, 0), 'join_date': datetime.datetime(2015, 7, 17, 0, 0), 'is_udacity': False}\n",
      "{'status': False, 'is_canceled': True, 'days_to_cancel': 0, 'account_key': '799', 'cancel_date': datetime.datetime(2015, 2, 6, 0, 0), 'join_date': datetime.datetime(2015, 2, 6, 0, 0), 'is_udacity': False}\n",
      "{'status': False, 'is_canceled': True, 'days_to_cancel': 0, 'account_key': '1145', 'cancel_date': datetime.datetime(2015, 4, 4, 0, 0), 'join_date': datetime.datetime(2015, 4, 4, 0, 0), 'is_udacity': False}\n",
      "{'status': False, 'is_canceled': True, 'days_to_cancel': 0, 'account_key': '884', 'cancel_date': datetime.datetime(2015, 1, 8, 0, 0), 'join_date': datetime.datetime(2015, 1, 8, 0, 0), 'is_udacity': False}\n",
      "{'status': False, 'is_canceled': True, 'days_to_cancel': 0, 'account_key': '1291', 'cancel_date': datetime.datetime(2015, 6, 3, 0, 0), 'join_date': datetime.datetime(2015, 6, 3, 0, 0), 'is_udacity': False}\n",
      "{'status': False, 'is_canceled': True, 'days_to_cancel': 0, 'account_key': '1125', 'cancel_date': datetime.datetime(2015, 5, 31, 0, 0), 'join_date': datetime.datetime(2015, 5, 31, 0, 0), 'is_udacity': False}\n",
      "{'status': False, 'is_canceled': True, 'days_to_cancel': 0, 'account_key': '981', 'cancel_date': datetime.datetime(2015, 2, 7, 0, 0), 'join_date': datetime.datetime(2015, 2, 7, 0, 0), 'is_udacity': False}\n",
      "{'status': False, 'is_canceled': True, 'days_to_cancel': 0, 'account_key': '1148', 'cancel_date': datetime.datetime(2015, 3, 9, 0, 0), 'join_date': datetime.datetime(2015, 3, 9, 0, 0), 'is_udacity': False}\n",
      "{'status': False, 'is_canceled': True, 'days_to_cancel': 0, 'account_key': '1241', 'cancel_date': datetime.datetime(2015, 6, 9, 0, 0), 'join_date': datetime.datetime(2015, 6, 9, 0, 0), 'is_udacity': False}\n",
      "{'status': False, 'is_canceled': True, 'days_to_cancel': 0, 'account_key': '1069', 'cancel_date': datetime.datetime(2015, 6, 1, 0, 0), 'join_date': datetime.datetime(2015, 6, 1, 0, 0), 'is_udacity': True}\n",
      "{'status': False, 'is_canceled': True, 'days_to_cancel': 0, 'account_key': '1155', 'cancel_date': datetime.datetime(2015, 7, 17, 0, 0), 'join_date': datetime.datetime(2015, 7, 17, 0, 0), 'is_udacity': False}\n",
      "{'status': False, 'is_canceled': True, 'days_to_cancel': 0, 'account_key': '737', 'cancel_date': datetime.datetime(2014, 11, 10, 0, 0), 'join_date': datetime.datetime(2014, 11, 10, 0, 0), 'is_udacity': False}\n",
      "{'status': False, 'is_canceled': True, 'days_to_cancel': 0, 'account_key': '1044', 'cancel_date': datetime.datetime(2015, 2, 8, 0, 0), 'join_date': datetime.datetime(2015, 2, 8, 0, 0), 'is_udacity': False}\n",
      "{'status': False, 'is_canceled': True, 'days_to_cancel': 0, 'account_key': '654', 'cancel_date': datetime.datetime(2014, 12, 4, 0, 0), 'join_date': datetime.datetime(2014, 12, 4, 0, 0), 'is_udacity': False}\n",
      "{'status': False, 'is_canceled': True, 'days_to_cancel': 0, 'account_key': '654', 'cancel_date': datetime.datetime(2014, 12, 4, 0, 0), 'join_date': datetime.datetime(2014, 12, 4, 0, 0), 'is_udacity': False}\n",
      "{'status': False, 'is_canceled': True, 'days_to_cancel': 0, 'account_key': '654', 'cancel_date': datetime.datetime(2014, 12, 3, 0, 0), 'join_date': datetime.datetime(2014, 12, 3, 0, 0), 'is_udacity': False}\n",
      "{'status': False, 'is_canceled': True, 'days_to_cancel': 0, 'account_key': '1190', 'cancel_date': datetime.datetime(2015, 3, 6, 0, 0), 'join_date': datetime.datetime(2015, 3, 6, 0, 0), 'is_udacity': False}\n",
      "{'status': False, 'is_canceled': True, 'days_to_cancel': 0, 'account_key': '996', 'cancel_date': datetime.datetime(2015, 5, 29, 0, 0), 'join_date': datetime.datetime(2015, 5, 29, 0, 0), 'is_udacity': False}\n",
      "{'status': False, 'is_canceled': True, 'days_to_cancel': 0, 'account_key': '1079', 'cancel_date': datetime.datetime(2015, 2, 9, 0, 0), 'join_date': datetime.datetime(2015, 2, 9, 0, 0), 'is_udacity': False}\n",
      "{'status': False, 'is_canceled': True, 'days_to_cancel': 0, 'account_key': '803', 'cancel_date': datetime.datetime(2015, 1, 8, 0, 0), 'join_date': datetime.datetime(2015, 1, 8, 0, 0), 'is_udacity': False}\n",
      "{'status': False, 'is_canceled': True, 'days_to_cancel': 0, 'account_key': '711', 'cancel_date': datetime.datetime(2015, 5, 8, 0, 0), 'join_date': datetime.datetime(2015, 5, 8, 0, 0), 'is_udacity': False}\n",
      "{'status': False, 'is_canceled': True, 'days_to_cancel': 0, 'account_key': '750', 'cancel_date': datetime.datetime(2015, 6, 6, 0, 0), 'join_date': datetime.datetime(2015, 6, 6, 0, 0), 'is_udacity': False}\n",
      "{'status': False, 'is_canceled': True, 'days_to_cancel': 0, 'account_key': '926', 'cancel_date': datetime.datetime(2015, 4, 6, 0, 0), 'join_date': datetime.datetime(2015, 4, 6, 0, 0), 'is_udacity': False}\n",
      "{'status': False, 'is_canceled': True, 'days_to_cancel': 0, 'account_key': '1086', 'cancel_date': datetime.datetime(2015, 6, 9, 0, 0), 'join_date': datetime.datetime(2015, 6, 9, 0, 0), 'is_udacity': False}\n",
      "{'status': False, 'is_canceled': True, 'days_to_cancel': 0, 'account_key': '841', 'cancel_date': datetime.datetime(2014, 11, 12, 0, 0), 'join_date': datetime.datetime(2014, 11, 12, 0, 0), 'is_udacity': False}\n",
      "{'status': False, 'is_canceled': True, 'days_to_cancel': 0, 'account_key': '1219', 'cancel_date': datetime.datetime(2014, 11, 12, 0, 0), 'join_date': datetime.datetime(2014, 11, 12, 0, 0), 'is_udacity': False}\n",
      "{'status': False, 'is_canceled': True, 'days_to_cancel': 0, 'account_key': '889', 'cancel_date': datetime.datetime(2015, 8, 11, 0, 0), 'join_date': datetime.datetime(2015, 8, 11, 0, 0), 'is_udacity': False}\n",
      "{'status': False, 'is_canceled': True, 'days_to_cancel': 0, 'account_key': '871', 'cancel_date': datetime.datetime(2014, 11, 13, 0, 0), 'join_date': datetime.datetime(2014, 11, 13, 0, 0), 'is_udacity': False}\n",
      "{'status': False, 'is_canceled': True, 'days_to_cancel': 0, 'account_key': '707', 'cancel_date': datetime.datetime(2014, 12, 3, 0, 0), 'join_date': datetime.datetime(2014, 12, 3, 0, 0), 'is_udacity': False}\n",
      "{'status': False, 'is_canceled': True, 'days_to_cancel': 0, 'account_key': '997', 'cancel_date': datetime.datetime(2015, 1, 12, 0, 0), 'join_date': datetime.datetime(2015, 1, 12, 0, 0), 'is_udacity': False}\n",
      "{'status': False, 'is_canceled': True, 'days_to_cancel': 0, 'account_key': '1270', 'cancel_date': datetime.datetime(2015, 7, 20, 0, 0), 'join_date': datetime.datetime(2015, 7, 20, 0, 0), 'is_udacity': False}\n",
      "{'status': False, 'is_canceled': True, 'days_to_cancel': 0, 'account_key': '727', 'cancel_date': datetime.datetime(2014, 12, 7, 0, 0), 'join_date': datetime.datetime(2014, 12, 7, 0, 0), 'is_udacity': False}\n",
      "{'status': False, 'is_canceled': True, 'days_to_cancel': 0, 'account_key': '725', 'cancel_date': datetime.datetime(2014, 12, 6, 0, 0), 'join_date': datetime.datetime(2014, 12, 6, 0, 0), 'is_udacity': False}\n",
      "{'status': False, 'is_canceled': True, 'days_to_cancel': 0, 'account_key': '733', 'cancel_date': datetime.datetime(2015, 1, 12, 0, 0), 'join_date': datetime.datetime(2015, 1, 12, 0, 0), 'is_udacity': False}\n",
      "{'status': False, 'is_canceled': True, 'days_to_cancel': 0, 'account_key': '1129', 'cancel_date': datetime.datetime(2015, 3, 7, 0, 0), 'join_date': datetime.datetime(2015, 3, 7, 0, 0), 'is_udacity': False}\n",
      "{'status': False, 'is_canceled': True, 'days_to_cancel': 0, 'account_key': '1129', 'cancel_date': datetime.datetime(2015, 2, 11, 0, 0), 'join_date': datetime.datetime(2015, 2, 11, 0, 0), 'is_udacity': False}\n",
      "{'status': False, 'is_canceled': True, 'days_to_cancel': 0, 'account_key': '1120', 'cancel_date': datetime.datetime(2014, 12, 4, 0, 0), 'join_date': datetime.datetime(2014, 12, 4, 0, 0), 'is_udacity': False}\n",
      "{'status': False, 'is_canceled': True, 'days_to_cancel': 0, 'account_key': '749', 'cancel_date': datetime.datetime(2015, 3, 5, 0, 0), 'join_date': datetime.datetime(2015, 3, 5, 0, 0), 'is_udacity': False}\n",
      "{'status': False, 'is_canceled': True, 'days_to_cancel': 0, 'account_key': '902', 'cancel_date': datetime.datetime(2015, 5, 29, 0, 0), 'join_date': datetime.datetime(2015, 5, 29, 0, 0), 'is_udacity': False}\n",
      "{'status': False, 'is_canceled': True, 'days_to_cancel': 0, 'account_key': '1284', 'cancel_date': datetime.datetime(2015, 1, 13, 0, 0), 'join_date': datetime.datetime(2015, 1, 13, 0, 0), 'is_udacity': False}\n"
     ]
    }
   ],
   "source": [
    "# Observe the data of these students in enrollment data\n",
    "# 1010\n",
    "\n",
    "# Step 1: output datapoints of a user by the account_key\n",
    "\n",
    "for student in non_engaging_students:\n",
    "#student = '1219'\n",
    "    for enrollment in enrollments:\n",
    "        if enrollment['account_key'] == student:\n",
    "            print(enrollment)\n"
   ]
  },
  {
   "cell_type": "code",
   "execution_count": 101,
   "metadata": {},
   "outputs": [],
   "source": [
    "# Step 2: Find a solution to remove Udacity test accounts from further analysis\n",
    "udacity_test_accounts = set()\n",
    "non_udacity_enrollments = list()\n",
    "non_udacity_engagements = list()\n",
    "non_udacity_submissions = list()\n",
    "for enrollment in enrollments:\n",
    "    if enrollment['is_udacity']:\n",
    "        udacity_test_accounts.add(enrollment['account_key'])\n",
    "    else:\n",
    "        temp = dict()\n",
    "        temp.update(enrollment)\n",
    "        temp.pop('is_udacity')\n",
    "        non_udacity_enrollments.append(temp)\n",
    "        \n",
    "for engagement in engagements:\n",
    "    if engagement['account_key'] not in udacity_test_accounts:\n",
    "        non_udacity_engagements.append(engagement)\n",
    "        \n",
    "for submission in submissions:\n",
    "    if submission['account_key'] not in udacity_test_accounts:\n",
    "        non_udacity_submissions.append(submission)"
   ]
  },
  {
   "cell_type": "code",
   "execution_count": 111,
   "metadata": {},
   "outputs": [
    {
     "name": "stdout",
     "output_type": "stream",
     "text": [
      "6\n",
      "1622\n",
      "135656\n",
      "3634\n",
      "1296\n",
      "1234\n",
      "741\n",
      "{'638', '95', '470', '247'}\n",
      "students who are reported in enrollment but not in engagement\n",
      "{'789', '875', '802', '878', '914', '1191', '817', '819', '1213', '739', '664', '870', '964', '1237', '1186', '1171', '1063', '1218', '1222', '728', '1025', '717', '1238', '766', '1273', '1010', '968', '799', '1145', '884', '1291', '1125', '981', '1148', '1241', '1155', '737', '1044', '654', '1190', '996', '1079', '803', '711', '750', '926', '1086', '841', '1219', '889', '871', '707', '997', '1270', '727', '725', '733', '1129', '1120', '749', '902', '1284'} \n",
      "\n",
      "No of Enrollment records: 1622, No of Engagement records: 135656\n",
      "No of Unique Students in Enrollment records: 1296\n",
      "No of Unique Students in Engagement records: 1234\n",
      "No of non engaging students: 62\n",
      "\n",
      "Check to see if there are any engaging students that are not reported in Enrollment records:\n",
      "None\n"
     ]
    }
   ],
   "source": [
    "print(len(udacity_test_accounts))\n",
    "print(len(non_udacity_enrollments)) # not number of unique students. This is just number of records\n",
    "print(len(non_udacity_engagements))\n",
    "print(len(non_udacity_submissions))\n",
    "print(len(get_unique_students(non_udacity_enrollments)))\n",
    "print(len(get_unique_students(non_udacity_engagements)))\n",
    "print(len(get_unique_students(non_udacity_submissions)))\n",
    "print(get_unique_students(non_udacity_submissions) - get_unique_students(non_udacity_enrollments))\n",
    "non_engaging_students = run_unique_test(non_udacity_enrollments,non_udacity_engagements)"
   ]
  },
  {
   "cell_type": "markdown",
   "metadata": {},
   "source": [
    "#### Datasets to work on from here\n",
    "These data excludes Udacity test account records.  \n",
    "`Var Names`\n",
    "* non_udacity_enrollments\n",
    "* non_udacity_engagements\n",
    "* non_udacity_submissions  \n",
    "\n",
    "All `keys` are same as the data sets they are derived from except:\n",
    "* `'is_udacity'` is not in non_udacity_enrollments\n",
    "* `'acct'` is renamed to 'account_key'"
   ]
  },
  {
   "cell_type": "markdown",
   "metadata": {},
   "source": [
    "## Analysis 1:\n",
    "Create a dictionary named `paid_students` containing all students who either\n",
    "haven't canceled yet or who remained enrolled for more than 7 days. The keys\n",
    "should be account keys, and the values should be the date the student enrolled."
   ]
  },
  {
   "cell_type": "code",
   "execution_count": 20,
   "metadata": {},
   "outputs": [
    {
     "name": "stdout",
     "output_type": "stream",
     "text": [
      "995\n",
      "584 2015-03-10 00:00:00\n",
      "-------------------------------------------\n",
      "{'status': False, 'is_canceled': True, 'days_to_cancel': 65, 'account_key': '584', 'cancel_date': datetime.datetime(2015, 1, 14, 0, 0), 'join_date': datetime.datetime(2014, 11, 10, 0, 0)}\n",
      "{'status': False, 'is_canceled': True, 'days_to_cancel': 55, 'account_key': '584', 'cancel_date': datetime.datetime(2015, 3, 10, 0, 0), 'join_date': datetime.datetime(2015, 1, 14, 0, 0)}\n",
      "{'status': True, 'is_canceled': False, 'days_to_cancel': None, 'account_key': '584', 'cancel_date': None, 'join_date': datetime.datetime(2015, 3, 10, 0, 0)}\n",
      "\n"
     ]
    }
   ],
   "source": [
    "# paid_students is a dict: key- 'account_key' , value- list of enrollment dates\n",
    "paid_students = dict()\n",
    "for enrollment in non_udacity_enrollments:\n",
    "    if not enrollment['is_canceled'] or enrollment['days_to_cancel']>7:\n",
    "        if enrollment['account_key'] not in paid_students:\n",
    "            paid_students[enrollment['account_key']] = list()\n",
    "        paid_students[enrollment['account_key']].append(enrollment['join_date'])\n",
    "        \n",
    "print(len(paid_students))\n",
    "\n",
    "#for std in paid_students:\n",
    "print('584', max(paid_students['584']))\n",
    "print(\"-------------------------------------------\")\n",
    "for record in get_student_records(non_udacity_enrollments, '584'):\n",
    "    print(record)\n",
    "print()"
   ]
  },
  {
   "cell_type": "markdown",
   "metadata": {},
   "source": [
    "Create a list of engagement records containing only data for paid students during their first week\n",
    "\n",
    "#### ndays_engagement `Function`"
   ]
  },
  {
   "cell_type": "code",
   "execution_count": 21,
   "metadata": {},
   "outputs": [],
   "source": [
    "from datetime import timedelta\n",
    "\n",
    "\n",
    "def ndays_engagement(engagement_data, n=7) -> list:\n",
    "    ndays_engagement_records = list()\n",
    "    for data in engagement_data:\n",
    "        working_key = data['account_key']\n",
    "        if working_key in paid_students:\n",
    "            from_date = max(paid_students[working_key])\n",
    "            if from_date + timedelta(days=n) > data['utc_date'] >= from_date:\n",
    "                ndays_engagement_records.append(data)\n",
    "    return ndays_engagement_records\n",
    "# first_week_paid_engagements is a list or dicts(records)\n",
    "\n",
    "\n",
    "first_week_paid_engagements = ndays_engagement(non_udacity_engagements)"
   ]
  },
  {
   "cell_type": "code",
   "execution_count": 22,
   "metadata": {},
   "outputs": [
    {
     "data": {
      "text/plain": [
       "995"
      ]
     },
     "execution_count": 22,
     "metadata": {},
     "output_type": "execute_result"
    }
   ],
   "source": [
    "len(get_unique_students(first_week_paid_engagements))"
   ]
  },
  {
   "cell_type": "markdown",
   "metadata": {},
   "source": [
    "#### reorganize `first_week_paid_engagements`  \n",
    "reorganize the data in first_week_paid_engagements **from**  \n",
    "a list of dicts - each dict is a record of engagement **to**  \n",
    "a dict of dicts - each key of the main dict contains all the records corresponding to that key"
   ]
  },
  {
   "cell_type": "code",
   "execution_count": 23,
   "metadata": {},
   "outputs": [],
   "source": [
    "def regroup_records_by_key(data: list, group_by_key: str = 'account_key'):\n",
    "    # step 1 : do a key check. The key must be a valid key of the given data but cant ...\n",
    "    reorg = dict()\n",
    "    \n",
    "    keys = set([record[group_by_key] for record in data])\n",
    "    print('Debug', len(keys)==len(paid_students))\n",
    "    for key in keys:\n",
    "        reorg[key] = list(get_student_records(data, key, key_type=group_by_key))\n",
    "    reorg = dict(pop_items_from_dictofdicts(reorg, popitms=group_by_key))\n",
    "    return dict(reorg)\n",
    "\n",
    "# '429'\n"
   ]
  },
  {
   "cell_type": "code",
   "execution_count": 25,
   "metadata": {},
   "outputs": [
    {
     "name": "stdout",
     "output_type": "stream",
     "text": [
      "Debug True\n",
      "995\n",
      "[{'lessons_completed': 0, 'utc_date': datetime.datetime(2015, 3, 10, 0, 0), 'projects_completed': 0, 'total_minutes_visited': 0.0, 'num_courses_visited': 0}, {'lessons_completed': 0, 'utc_date': datetime.datetime(2015, 3, 11, 0, 0), 'projects_completed': 0, 'total_minutes_visited': 0.0, 'num_courses_visited': 0}, {'lessons_completed': 0, 'utc_date': datetime.datetime(2015, 3, 12, 0, 0), 'projects_completed': 0, 'total_minutes_visited': 0.0, 'num_courses_visited': 0}, {'lessons_completed': 0, 'utc_date': datetime.datetime(2015, 3, 13, 0, 0), 'projects_completed': 0, 'total_minutes_visited': 0.0, 'num_courses_visited': 0}, {'lessons_completed': 0, 'utc_date': datetime.datetime(2015, 3, 14, 0, 0), 'projects_completed': 0, 'total_minutes_visited': 0.0, 'num_courses_visited': 0}, {'lessons_completed': 0, 'utc_date': datetime.datetime(2015, 3, 15, 0, 0), 'projects_completed': 0, 'total_minutes_visited': 0.0, 'num_courses_visited': 0}, {'lessons_completed': 0, 'utc_date': datetime.datetime(2015, 3, 16, 0, 0), 'projects_completed': 0, 'total_minutes_visited': 0.0, 'num_courses_visited': 0}]\n"
     ]
    }
   ],
   "source": [
    "first_week_engagements_by_account = regroup_records_by_key(first_week_paid_engagements, group_by_key='account_key')\n",
    "print(len(first_week_engagements_by_account.keys()))\n",
    "print(first_week_engagements_by_account['429'])"
   ]
  },
  {
   "cell_type": "code",
   "execution_count": 26,
   "metadata": {},
   "outputs": [
    {
     "name": "stdout",
     "output_type": "stream",
     "text": [
      "Debug False\n",
      "5844\n"
     ]
    }
   ],
   "source": [
    "# test for regroup_records_by_key\n",
    "# testing if it works with group_by_key='lessons_completed'\n",
    "print(len(regroup_records_by_key(first_week_paid_engagements, group_by_key='lessons_completed')[0]))"
   ]
  },
  {
   "cell_type": "markdown",
   "metadata": {},
   "source": [
    "## Data Exploration"
   ]
  },
  {
   "cell_type": "code",
   "execution_count": 27,
   "metadata": {},
   "outputs": [],
   "source": [
    "def sum_grouped_data(data: dict, key_type) -> dict:\n",
    "    tot_by_account = dict()\n",
    "    for account_key, engagement_for_student in first_week_engagements_by_account.items():\n",
    "        tot = 0\n",
    "        for engagement in engagement_for_student:\n",
    "            tot += engagement[key_type]\n",
    "        tot_by_account[account_key] = tot\n",
    "    return tot_by_account"
   ]
  },
  {
   "cell_type": "code",
   "execution_count": 28,
   "metadata": {},
   "outputs": [
    {
     "name": "stdout",
     "output_type": "stream",
     "text": [
      "995\n"
     ]
    }
   ],
   "source": [
    "total_minutes_by_account_first_week = dict(sum_grouped_data(first_week_engagements_by_account, 'total_minutes_visited'))\n",
    "\n",
    "\"\"\"for account_key, engagement_for_student in engagements_by_account.items():\n",
    "    total_mins = 0\n",
    "    for engagement in engagement_for_student:\n",
    "        total_mins += engagement['total_minutes_visited']\n",
    "    total_minutes_by_account_first_week[account_key] = total_mins\"\"\"\n",
    "    \n",
    "total_mins = list(total_minutes_by_account_first_week.values())\n",
    "print(len(total_minutes_by_account_first_week))"
   ]
  },
  {
   "cell_type": "code",
   "execution_count": 29,
   "metadata": {},
   "outputs": [],
   "source": [
    "import numpy as np\n",
    "\n",
    "def describe_data_stats(data):\n",
    "    print('Mean', np.mean(data))\n",
    "    print('Standard Deviation', np.std(data))\n",
    "    print('Max', np.max(data))\n",
    "    print('Min', np.min(data))"
   ]
  },
  {
   "cell_type": "code",
   "execution_count": 30,
   "metadata": {},
   "outputs": [
    {
     "name": "stdout",
     "output_type": "stream",
     "text": [
      "Mean 306.708326753\n",
      "Standard Deviation 412.996933409\n",
      "Max 3564.7332645\n",
      "Min 0.0\n",
      "Minutes in a week : 10080\n"
     ]
    }
   ],
   "source": [
    "describe_data_stats(total_mins)\n",
    "print('Minutes in a week :',7*24*60)"
   ]
  },
  {
   "cell_type": "code",
   "execution_count": 45,
   "metadata": {
    "scrolled": true
   },
   "outputs": [],
   "source": [
    "total_lessons_by_account_first_week = dict(sum_grouped_data(first_week_engagements_by_account, 'lessons_completed'))\n",
    "\n",
    "\"\"\"for account_key, engagement_for_student in first_week_engagements_by_account.items():\n",
    "    total_lessons = 0\n",
    "    for engagement in engagement_for_student:\n",
    "        total_lessons += engagement['lessons_completed']\n",
    "    total_lessons_by_account_first_week[account_key] = total_lessons\"\"\"\n",
    "    \n",
    "total_lessons = list(total_lessons_by_account_first_week.values())"
   ]
  },
  {
   "cell_type": "code",
   "execution_count": 46,
   "metadata": {},
   "outputs": [
    {
     "name": "stdout",
     "output_type": "stream",
     "text": [
      "Mean 1.63618090452\n",
      "Standard Deviation 3.00256129983\n",
      "Max 36\n",
      "Min 0\n",
      "995\n",
      "[('325', 1), ('746', 3), ('844', 6), ('570', 0), ('796', 0), ('167', 0), ('80', 1), ('1002', 0), ('1', 0), ('901', 0), ('732', 0), ('222', 1), ('163', 20), ('213', 6), ('755', 0), ('588', 0), ('439', 2), ('398', 0), ('257', 0), ('195', 4), ('706', 9), ('348', 0), ('1212', 0), ('327', 1), ('451', 1), ('1287', 0), ('302', 2), ('729', 0), ('44', 0), ('249', 5), ('637', 0), ('1013', 0), ('88', 0), ('258', 3), ('108', 0), ('135', 2), ('440', 0), ('1175', 0), ('43', 0), ('38', 0), ('805', 0), ('651', 8), ('70', 2), ('401', 0), ('852', 1), ('873', 0), ('495', 3), ('1031', 0), ('689', 0), ('722', 1)]\n"
     ]
    }
   ],
   "source": [
    "describe_data_stats(total_lessons)\n",
    "print(len(total_lessons_by_account_first_week))\n",
    "print(list(total_lessons_by_account_first_week.items())[:50])"
   ]
  },
  {
   "cell_type": "code",
   "execution_count": 33,
   "metadata": {},
   "outputs": [],
   "source": [
    "for key, records in first_week_engagements_by_account.items():\n",
    "    for record in records:\n",
    "        record['has_visited'] = 1 if record['num_courses_visited'] else 0"
   ]
  },
  {
   "cell_type": "code",
   "execution_count": 34,
   "metadata": {},
   "outputs": [],
   "source": [
    "total_days_visited_by_account_first_week = dict(sum_grouped_data(first_week_engagements_by_account, 'has_visited'))\n",
    "\n",
    "total_days = list(total_days_visited_by_account_first_week.values())"
   ]
  },
  {
   "cell_type": "code",
   "execution_count": 43,
   "metadata": {
    "scrolled": true
   },
   "outputs": [
    {
     "name": "stdout",
     "output_type": "stream",
     "text": [
      "Mean 2.86733668342\n",
      "Standard Deviation 2.25519800292\n",
      "Max 7\n",
      "Min 0\n",
      "995\n",
      "[('325', 4), ('746', 5), ('844', 5), ('570', 2), ('796', 0), ('167', 0), ('80', 2), ('1002', 2), ('1', 2), ('901', 1), ('732', 3), ('222', 3), ('163', 6), ('213', 4), ('755', 1), ('588', 2), ('439', 7), ('398', 2), ('257', 3), ('195', 6), ('706', 7), ('348', 0), ('1212', 0), ('327', 3), ('451', 1), ('1287', 0), ('302', 3), ('729', 0), ('44', 0), ('249', 4), ('637', 2), ('1013', 1), ('88', 0), ('258', 6), ('108', 4), ('135', 5), ('440', 2), ('1175', 1), ('43', 2), ('38', 0), ('805', 2), ('651', 7), ('70', 3), ('401', 0), ('852', 5), ('873', 1), ('495', 5), ('1031', 2), ('689', 0), ('722', 3)]\n"
     ]
    }
   ],
   "source": [
    "describe_data_stats(total_days)\n",
    "print(len(total_days_visited_by_account_first_week))\n",
    "print(list(total_days_visited_by_account_first_week.items())[:50])"
   ]
  },
  {
   "cell_type": "markdown",
   "metadata": {},
   "source": [
    "## Analyse *`Submissions`*\n",
    "______\n",
    "data set to anaylse:   \n",
    "   **non_udacity_submissions**: *a list of dicts - each dict is a record *\n",
    "*`non_udacity_submissions* is *paid_submissions`*. There cant be any submissions from non paid students."
   ]
  },
  {
   "cell_type": "code",
   "execution_count": 79,
   "metadata": {},
   "outputs": [
    {
     "name": "stdout",
     "output_type": "stream",
     "text": [
      "{'assigned_rating': 'UNGRADED', 'account_key': '256', 'completion_date': datetime.datetime(2015, 1, 16, 0, 0), 'lesson_key': '3176718735', 'creation_date': datetime.datetime(2015, 1, 14, 0, 0), 'processing_state': 'EVALUATED'}\n"
     ]
    }
   ],
   "source": [
    "subway_project_lesson_keys = ['746169184', '3176718735']\n",
    "\n",
    "#list of Records\n",
    "passing_engagements = list()\n",
    "non_passing_engagements = list()\n",
    "print(non_udacity_submissions[0])"
   ]
  },
  {
   "cell_type": "code",
   "execution_count": 81,
   "metadata": {},
   "outputs": [
    {
     "name": "stdout",
     "output_type": "stream",
     "text": [
      "Debug False\n"
     ]
    }
   ],
   "source": [
    "non_udacity_submissions_by_account = regroup_records_by_key(non_udacity_submissions, group_by_key= 'account_key')"
   ]
  },
  {
   "cell_type": "code",
   "execution_count": 98,
   "metadata": {},
   "outputs": [
    {
     "name": "stdout",
     "output_type": "stream",
     "text": [
      "True\n",
      "741\n",
      "995\n",
      "{'1133', '247', '947', '1116', '470', '1169', '638', '95', '1279', '701'}\n",
      "{'844', '1257', '720', '1212', '729', '1251', '1282', '1175', '873', '1031', '689', '1188', '671', '1170', '673', '1030', '1303', '975', '1157', '778', '1207', '757', '1220', '1268', '1147', '1211', '872', '781', '932', '692', '832', '1117', '836', '888', '1266', '1259', '702', '1285', '1118', '1289', '719', '923', '934', '912', '655', '1161', '969', '726', '1242', '665', '730', '1054', '931', '927', '1205', '856', '1178', '1094', '913', '1067', '857', '859', '1142', '686', '834', '1214', '916', '966', '972', '956', '1036', '1107', '1102', '1009', '682', '864', '793', '1128', '1053', '780', '1200', '801', '992', '954', '764', '779', '877', '674', '833', '853', '705', '1290', '874', '1049', '1001', '660', '1060', '746', '796', '1022', '797', '1124', '1277', '806', '718', '1019', '1174', '1204', '1103', '800', '1082', '1072', '900', '804', '669', '1201', '756', '1052', '696', '1136', '773', '1015', '661', '1149', '1096', '1077', '1088', '1249', '1305', '887', '1144', '868', '1040', '1226', '656', '1227', '811', '985', '1267', '747', '1074', '1095', '687', '941', '1248', '989', '946', '1160', '1189', '867', '1177', '1090', '854', '1153', '1075', '1260', '786', '769', '808', '1163', '866', '840', '762', '761', '1302', '1182', '1151', '1066', '880', '822', '666', '1062', '1038', '1050', '744', '1089', '1202', '823', '855', '1121', '693', '657', '754', '896', '1287', '1244', '977', '1042', '676', '1071', '776', '882', '958', '1236', '787', '825', '1265', '839', '1254', '710', '828', '1243', '704', '846', '1123', '672', '1276', '1278', '920', '1130', '1253', '1228', '831', '1299', '698', '1115', '937', '897', '1264', '752', '829', '983', '1262', '1167', '952', '1140', '1250', '759', '976', '988', '1208', '893', '713', '1146', '1011', '1055', '824', '1199', '835', '697', '1080', '1099', '678', '709', '667', '1113', '1007', '753', '1194', '1181', '743', '1029', '785', '909', '918', '816', '1198', '948', '735', '1269', '1028', '1032', '939', '1210'}\n"
     ]
    }
   ],
   "source": [
    "print(non_udacity_submissions_by_account.keys()==get_unique_students(non_udacity_submissions))\n",
    "\n",
    "print(len(non_udacity_submissions_by_account))\n",
    "print(len(non_udacity_paid_engagements_by_account))\n",
    "print(non_udacity_submissions_by_account.keys()-non_udacity_paid_engagements_by_account.keys())\n",
    "print(non_udacity_paid_engagements_by_account.keys()-non_udacity_submissions_by_account.keys())"
   ]
  },
  {
   "cell_type": "code",
   "execution_count": 65,
   "metadata": {},
   "outputs": [],
   "source": [
    "non_udacity_paid_engagements_by_account = dict()\n",
    "for key in paid_students:\n",
    "    #print(get_student_records(non_udacity_engagements, key))\n",
    "    non_udacity_paid_engagements_by_account[key] = list(get_student_records(non_udacity_engagements, key))\n",
    "non_udacity_paid_engagements_by_account = \\\n",
    "    pop_items_from_dictofdicts(non_udacity_paid_engagements_by_account, popitms='account_key')"
   ]
  },
  {
   "cell_type": "code",
   "execution_count": 77,
   "metadata": {
    "scrolled": true
   },
   "outputs": [
    {
     "name": "stdout",
     "output_type": "stream",
     "text": [
      "False\n",
      "True\n",
      "['325', '261', '844', '570', '796', '167', '80', '1002', '1', '901', '732', '222', '163', '213', '1098', '439', '398', '720', '501', '195', '715', '706', '648', '896', '1212', '327', '451', '302', '729', '44', '526', '249', '637', '371', '88', '108', '135', '440', '1282', '43', '38', '443', '651', '70', '401', '852', '873', '495', '1031', '689', '64', '100', '99', '497', '671', '413', '1170', '392', '62', '408', '642', '323', '1030', '293', '91', '975', '7', '260', '554', '90', '1154', '274', '634', '362', '477', '27', '237', '129', '410', '757', '619', '610', '270', '1220', '562', '567', '1147', '771', '694', '1211', '792', '2', '232', '550', '1259', '173', '872', '1183', '189', '152', '589', '96', '1143', '781', '48', '1224', '207', '198', '516', '427', '197', '932', '104', '375', '1115', '560', '630', '511', '397', '486', '351', '581', '49', '1150', '119', '229', '653', '376', '291', '310', '299', '832', '1117', '612', '415', '151', '316', '494', '836', '888', '115', '1266', '990', '1128', '569', '26', '307', '702', '1236', '811', '1285', '193', '1118', '161', '287', '196', '143', '417', '631', '719', '1055', '23', '923', '137', '206', '134', '934', '912', '655', '1161', '969', '68', '616', '712', '726', '1242', '55', '309', '521', '665', '5', '82', '782', '480', '510', '199', '367', '69', '924', '203', '1054', '407', '611', '931', '21', '1131', '338', '158', '164', '65', '30', '927', '1205', '204', '856', '187', '1011', '492', '1178', '202', '883', '1094', '475', '913', '1289', '4', '175', '447', '1067', '1111', '857', '209', '433', '165', '179', '1142', '686', '34', '885', '541', '450', '736', '363', '120', '834', '644', '1214', '51', '254', '916', '614', '331', '509', '966', '599', '144', '972', '224', '12', '114', '242', '1199', '342', '956', '1107', '517', '1102', '1009', '805', '682', '356', '308', '154', '184', '864', '793', '32', '350', '75', '1053', '233', '780', '370', '905', '280', '508', '218', '794', '1174', '373', '406', '801', '787', '603', '1153', '436', '177', '954', '1081', '416', '938', '559', '877', '669', '301', '650', '833', '393', '529', '449', '853', '976', '212', '1188', '1276', '103', '9', '705', '87', '1290', '722', '24', '225', '965', '1049', '858', '1001', '660', '1060', '746', '381', '1022', '281', '1013', '266', '454', '317', '524', '106', '102', '1124', '473', '128', '1082', '39', '490', '423', '425', '40', '98', '812', '138', '628', '485', '673', '1072', '1277', '463', '1080', '806', '11', '546', '238', '1058', '718', '652', '253', '262', '1019', '1251', '693', '584', '1071', '552', '354', '928', '948', '643', '56', '380', '434', '593', '1209', '1204', '359', '1103', '800', '292', '214', '63', '391', '1303', '466', '528', '502', '268', '670', '178', '900', '366', '192', '461', '645', '1201', '514', '580', '457', '600', '1157', '217', '211', '168', '756', '226', '252', '157', '430', '321', '437', '1052', '314', '601', '300', '647', '148', '696', '558', '572', '778', '361', '1173', '297', '1136', '773', '640', '78', '123', '488', '874', '379', '394', '859', '294', '620', '1015', '131', '360', '840', '31', '124', '474', '1207', '435', '661', '272', '1149', '22', '1260', '259', '1096', '1077', '1206', '1216', '1088', '1249', '296', '500', '1250', '621', '271', '243', '453', '887', '1200', '385', '478', '979', '384', '45', '973', '455', '566', '751', '530', '868', '1040', '594', '355', '615', '97', '1073', '587', '1226', '446', '1175', '843', '656', '304', '1227', '16', '414', '985', '1267', '747', '1074', '329', '525', '279', '1274', '1095', '378', '687', '188', '941', '515', '403', '1248', '989', '946', '340', '17', '1160', '84', '1268', '336', '0', '1189', '527', '586', '867', '424', '1177', '1176', '1036', '358', '493', '172', '72', '200', '1090', '854', '489', '46', '469', '94', '583', '563', '468', '1113', '577', '352', '149', '132', '649', '8', '786', '986', '1007', '604', '846', '160', '769', '1292', '1123', '808', '183', '585', '1163', '277', '866', '332', '273', '431', '762', '605', '1048', '409', '349', '568', '535', '1033', '215', '140', '286', '57', '622', '761', '1151', '1302', '1182', '306', '142', '498', '282', '445', '19', '1231', '646', '608', '522', '311', '372', '639', '777', '76', '28', '880', '822', '220', '955', '629', '1263', '855', '345', '419', '185', '388', '666', '1062', '804', '235', '130', '182', '110', '83', '539', '150', '52', '520', '171', '533', '221', '744', '81', '1217', '591', '1089', '555', '1202', '823', '145', '245', '1121', '444', '166', '107', '452', '456', '496', '125', '404', '657', '170', '536', '42', '239', '383', '754', '748', '618', '54', '919', '458', '176', '348', '1287', '755', '798', '258', '1244', '977', '382', '506', '255', '269', '15', '1087', '251', '1014', '20', '111', '462', '1056', '3', '595', '318', '438', '606', '519', '1042', '573', '60', '432', '547', '67', '241', '426', '390', '162', '1257', '324', '1235', '248', '590', '71', '467', '174', '208', '851', '13', '776', '882', '692', '344', '216', '825', '797', '1265', '257', '236', '636', '369', '504', '1254', '1298', '507', '487', '484', '35', '322', '326', '1253', '66', '223', '1228', '89', '548', '276', '37', '710', '538', '234', '828', '641', '1243', '10', '791', '374', '420', '346', '422', '607', '290', '598', '609', '704', '155', '592', '582', '1050', '50', '505', '357', '113', '672', '635', '442', '127', '79', '36', '335', '395', '283', '429', '47', '625', '632', '544', '14', '1278', '920', '906', '633', '602', '411', '1130', '181', '85', '958', '831', '1299', '698', '186', '58', '59', '897', '244', '937', '353', '574', '364', '992', '86', '117', '1264', '61', '613', '512', '829', '537', '320', '983', '1262', '561', '472', '952', '1140', '596', '984', '1185', '295', '1038', '1070', '499', '267', '210', '121', '575', '759', '565', '101', '1215', '53', '779', '1305', '118', '147', '764', '950', '988', '1144', '141', '191', '491', '298', '275', '481', '752', '1208', '387', '893', '482', '18', '617', '627', '479', '201', '159', '513', '246', '713', '624', '551', '399', '676', '333', '940', '531', '518', '1146', '588', '571', '377', '41', '730', '824', '313', '674', '240', '264', '334', '305', '835', '542', '1167', '343', '315', '73', '386', '228', '697', '557', '169', '116', '503', '576', '265', '219', '465', '441', '74', '1099', '285', '6', '553', '597', '532', '678', '709', '77', '549', '25', '205', '337', '319', '564', '284', '122', '396', '289', '556', '464', '288', '278', '785', '667', '231', '534', '540', '784', '428', '227', '543', '1139', '471', '753', '139', '1181', '460', '365', '136', '109', '29', '1247', '743', '523', '742', '690', '1028', '1029', '303', '153', '578', '263', '1000', '156', '330', '341', '339', '909', '1110', '347', '250', '459', '368', '1194', '483', '579', '918', '146', '816', '389', '190', '626', '1198', '967', '400', '623', '180', '92', '133', '735', '418', '1269', '328', '93', '545', '421', '230', '256', '1075', '194', '405', '839', '33', '105', '476', '412', '402', '112', '1032', '1066', '126', '939', '1210']\n"
     ]
    }
   ],
   "source": [
    "#print(non_udacity_paid_engagements_by_account['1116'][0])\n",
    "# TODO find y this key is not in paid students but in non_udacity_submissions\n",
    "print('1116' in paid_students)\n",
    "print('1116' in get_unique_students(non_udacity_submissions))\n",
    "print(list(non_udacity_paid_engagements_by_account.keys()))"
   ]
  },
  {
   "cell_type": "code",
   "execution_count": 87,
   "metadata": {},
   "outputs": [
    {
     "ename": "KeyError",
     "evalue": "'470'",
     "output_type": "error",
     "traceback": [
      "\u001b[1;31m---------------------------------------------------------------------------\u001b[0m",
      "\u001b[1;31mKeyError\u001b[0m                                  Traceback (most recent call last)",
      "\u001b[1;32m<ipython-input-87-e5ae7fe2c20d>\u001b[0m in \u001b[0;36m<module>\u001b[1;34m()\u001b[0m\n\u001b[0;32m     10\u001b[0m             \u001b[1;32mif\u001b[0m \u001b[0mrecord\u001b[0m\u001b[1;33m[\u001b[0m\u001b[1;34m'assigned_rating'\u001b[0m\u001b[1;33m]\u001b[0m \u001b[1;33m==\u001b[0m \u001b[1;34m'PASSED'\u001b[0m\u001b[1;33m:\u001b[0m\u001b[1;33m\u001b[0m\u001b[0m\n\u001b[0;32m     11\u001b[0m                 \u001b[1;31m# TODO : Create non_udacity_paid_engagements a list of records\u001b[0m\u001b[1;33m\u001b[0m\u001b[1;33m\u001b[0m\u001b[0m\n\u001b[1;32m---> 12\u001b[1;33m                 \u001b[0mpassing_engagements\u001b[0m\u001b[1;33m.\u001b[0m\u001b[0mextend\u001b[0m\u001b[1;33m(\u001b[0m\u001b[0mnon_udacity_paid_engagements_by_account\u001b[0m\u001b[1;33m[\u001b[0m\u001b[0mkey\u001b[0m\u001b[1;33m]\u001b[0m\u001b[1;33m)\u001b[0m\u001b[1;33m\u001b[0m\u001b[0m\n\u001b[0m\u001b[0;32m     13\u001b[0m \u001b[0mprint\u001b[0m\u001b[1;33m(\u001b[0m\u001b[0mpassing_engagements\u001b[0m\u001b[1;33m[\u001b[0m\u001b[1;33m:\u001b[0m\u001b[1;36m10\u001b[0m\u001b[1;33m]\u001b[0m\u001b[1;33m)\u001b[0m\u001b[1;33m\u001b[0m\u001b[0m\n",
      "\u001b[1;31mKeyError\u001b[0m: '470'"
     ]
    }
   ],
   "source": [
    "passing_engagements = list()\n",
    "non_passing_engagements = list()\n",
    "\n",
    "for key in get_unique_students(non_udacity_submissions):\n",
    "    #print(non_udacity_submissions_by_account[key][0]['lesson_key'])\n",
    "    if non_udacity_submissions_by_account[key][0]['lesson_key'] in subway_project_lesson_keys:\n",
    "        records = non_udacity_submissions_by_account[key]\n",
    "        # find if this student has passed or not\n",
    "        for record in records:\n",
    "            if record['assigned_rating'] == 'PASSED':\n",
    "                # TODO : Create non_udacity_paid_engagements a list of records\n",
    "                passing_engagements.extend(non_udacity_paid_engagements_by_account[key])\n",
    "print(passing_engagements[:10])"
   ]
  },
  {
   "cell_type": "code",
   "execution_count": 74,
   "metadata": {},
   "outputs": [],
   "source": [
    "# check if any account from passing_engagements has records in non_passing_engagements\n",
    "for key in get_unique_students(passing_engagements):\n",
    "    if key in get_unique_students(non_passing_engagements):\n",
    "        print('Check code')"
   ]
  }
 ],
 "metadata": {
  "kernelspec": {
   "display_name": "Python 3",
   "language": "python",
   "name": "python3"
  },
  "language_info": {
   "codemirror_mode": {
    "name": "ipython",
    "version": 3
   },
   "file_extension": ".py",
   "mimetype": "text/x-python",
   "name": "python",
   "nbconvert_exporter": "python",
   "pygments_lexer": "ipython3",
   "version": "3.5.5"
  }
 },
 "nbformat": 4,
 "nbformat_minor": 2
}
